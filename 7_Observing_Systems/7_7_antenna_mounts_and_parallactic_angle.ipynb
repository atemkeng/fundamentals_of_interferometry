{
 "cells": [
  {
   "cell_type": "markdown",
   "metadata": {},
   "source": [
    "***\n",
    "\n",
    "* [Outline](../0_Introduction/0_introduction.ipynb)\n",
    "* [Glossary](../0_Introduction/1_glossary.ipynb)\n",
    "* [7. Observing Systems](7_0_introduction.ipynb)  \n",
    "    * Previous: [7.6 Feeds: Polarization and leakage](7_6_feeds.ipynb)\n",
    "    * Next: [7.8 Propagation Effects](7_8_propagation_effects.ipynb)\n",
    "    \n",
    "***"
   ]
  },
  {
   "cell_type": "code",
   "execution_count": null,
   "metadata": {
    "collapsed": true
   },
   "outputs": [],
   "source": [
    "import numpy as np\n",
    "import matplotlib.pyplot as plt"
   ]
  },
  {
   "cell_type": "code",
   "execution_count": null,
   "metadata": {
    "collapsed": true
   },
   "outputs": [],
   "source": [
    "from IPython.display import Image"
   ]
  },
  {
   "cell_type": "markdown",
   "metadata": {
    "collapsed": true
   },
   "source": [
    "## 7.7 Antenna mounts and parallactic angle <a id='instrum:sec:mounts_and_pa'></a>"
   ]
  },
  {
   "cell_type": "markdown",
   "metadata": {},
   "source": [
    "### 7.7.1 Antenna mounts <a id='instrum:sec:ant_mounts'></a>"
   ]
  },
  {
   "cell_type": "markdown",
   "metadata": {},
   "source": [
    "Antenna mounts can be of two types:\n",
    "1. Alt-azimuth mount\n",
    "1. Equatorial mount"
   ]
  },
  {
   "cell_type": "markdown",
   "metadata": {},
   "source": [
    "An antenna with an *alt-azimuth mount* tracks a source in the sky by rotating along two axes - altitude (vertical) and azimuth (vertical). \n",
    "\n",
    "An antenna with an *equatorial mount* tracks a source by rotating about the polar axis (i.e., an axis which points towards the celestial pole)."
   ]
  },
  {
   "cell_type": "code",
   "execution_count": null,
   "metadata": {
    "collapsed": false
   },
   "outputs": [],
   "source": [
    "Image(filename='figures/antenna_mounts.png', width=600) "
   ]
  },
  {
   "cell_type": "markdown",
   "metadata": {},
   "source": [
    "***Figure 7.7.1***: *Alt-azimuth and equatorial mounts illustrated for the case of an optical telescope (Image taken from http://www.oasi.org.uk/Telescopes/CFTOB/Mounts.gif).* <a id='instrum:fig:ant_mounts'></a>"
   ]
  },
  {
   "cell_type": "markdown",
   "metadata": {},
   "source": [
    "For an antenna with an alt-azimuth mount, the antenna [primary beam]() rotates relative to the sky during the course of an observation. For an equatorially-mounted antenna, the relative orientation of the antenna primary beam and the sky remains unchanged throughout the course of an observation."
   ]
  },
  {
   "cell_type": "code",
   "execution_count": null,
   "metadata": {
    "collapsed": false
   },
   "outputs": [],
   "source": [
    "Image(filename='figures/AltAzAntennaRotation.png', width=700) "
   ]
  },
  {
   "cell_type": "markdown",
   "metadata": {},
   "source": [
    "***Figure 7.7.2***: *Relative rotation of the beam and the sky during the course of an observation, for an antenna with an alt-azimuth mount.* <a id='instrum:fig:altaz'></a>"
   ]
  },
  {
   "cell_type": "code",
   "execution_count": null,
   "metadata": {
    "collapsed": false
   },
   "outputs": [],
   "source": [
    "Image(filename='figures/EquatorialAntennaRotation.png', width=700) "
   ]
  },
  {
   "cell_type": "markdown",
   "metadata": {},
   "source": [
    "***Figure 7.7.3***: *Relative rotation of the beam and the sky during the course of an observation, for an antenna with an equatorial mount.* <a id='instrum:fig:equatorial'></a>"
   ]
  },
  {
   "cell_type": "markdown",
   "metadata": {},
   "source": [
    "### 7.7.2 Parallactic angle <a id='instrum:sec:pa'></a>"
   ]
  },
  {
   "cell_type": "markdown",
   "metadata": {},
   "source": [
    "The *parallactic angle* is the spherical angle between two great circles on the celestial sphere - one passing through the source and the zenith, and the other passing through the source and the north celestial pole."
   ]
  },
  {
   "cell_type": "code",
   "execution_count": null,
   "metadata": {
    "collapsed": false
   },
   "outputs": [],
   "source": [
    "Image(filename='figures/ParallacticAngle.png', width=500) "
   ]
  },
  {
   "cell_type": "markdown",
   "metadata": {},
   "source": [
    "***Figure 7.7.4***: Parallactic angle <a id='instrum:fig:pa'></a>"
   ]
  },
  {
   "cell_type": "markdown",
   "metadata": {},
   "source": [
    "The parallactic angle is given by"
   ]
  },
  {
   "cell_type": "markdown",
   "metadata": {},
   "source": [
    "$$\n",
    "q = \\arctan \\bigg( \\frac{\\sin(HA)}{\\tan(L_a)\\cos(\\delta)-\\sin(\\delta)\\cos(HA)} \\bigg) \n",
    "$$"
   ]
  },
  {
   "cell_type": "markdown",
   "metadata": {},
   "source": [
    "where \n",
    "\n",
    "$q$ is the parallactic angle,\n",
    "\n",
    "$HA$ is the hour angle of the source,\n",
    "\n",
    "$\\delta$ is the declination of the source,\n",
    "\n",
    "$L_a$ is the latitude of the observer.\n"
   ]
  },
  {
   "cell_type": "markdown",
   "metadata": {},
   "source": [
    "***\n",
    "\n",
    "* Next: [7.8 Propagation Effects](7_8_propagation_effects.ipynb)"
   ]
  }
 ],
 "metadata": {
  "kernelspec": {
   "display_name": "Python 2",
   "language": "python",
   "name": "python2"
  },
  "language_info": {
   "codemirror_mode": {
    "name": "ipython",
    "version": 2
   },
   "file_extension": ".py",
   "mimetype": "text/x-python",
   "name": "python",
   "nbconvert_exporter": "python",
   "pygments_lexer": "ipython2",
   "version": "2.7.6"
  }
 },
 "nbformat": 4,
 "nbformat_minor": 0
}
