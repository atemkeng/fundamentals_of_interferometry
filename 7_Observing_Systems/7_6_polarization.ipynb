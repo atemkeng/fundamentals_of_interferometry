{
 "cells": [
  {
   "cell_type": "markdown",
   "metadata": {},
   "source": [
    "***\n",
    "\n",
    "* [Outline](../0_Introduction/0_introduction.ipynb)\n",
    "* [Glossary](../0_Introduction/1_glossary.ipynb)\n",
    "* [7. Observing Systems](0_introduction.ipynb)  \n",
    "    * Previous: [7.6 The Primary Beam](#)  \n",
    "    * Next: [7.7 Antenna Mounts and Parallactic Angle](#)\n",
    "\n",
    "***"
   ]
  },
  {
   "cell_type": "markdown",
   "metadata": {},
   "source": [
    "Import standard modules:"
   ]
  },
  {
   "cell_type": "code",
   "execution_count": null,
   "metadata": {
    "collapsed": true
   },
   "outputs": [],
   "source": [
    "import numpy as np\n",
    "import matplotlib.pyplot as plt\n",
    "%matplotlib inline"
   ]
  },
  {
   "cell_type": "markdown",
   "metadata": {},
   "source": [
    "***"
   ]
  },
  {
   "cell_type": "markdown",
   "metadata": {},
   "source": [
    "## 7.6 Polarization and Feed Leakage"
   ]
  },
  {
   "cell_type": "markdown",
   "metadata": {},
   "source": [
    "**TODO**\n",
    "\n",
    "* electric fields to stokes: what are stokes parameters (stokes and coherency matrices)\n",
    "* full measurement of the electric field requires two orthogonal modes\n",
    "* types of feeds: linear and circular; dipole, log dipole, horn\n",
    "* optimization for paramters: freq response, gain, directivity, leakage, all similar to primary beam\n",
    "* leakage between feeds: non-orthogonal, design, direction ; IXR\n",
    "* C and D matrices, relation to primary beam E matrix\n",
    "* example: PAPER dipole\n",
    "    * voltage beam\n",
    "    * power beam\n",
    "    * freq variation\n",
    "    * ixr"
   ]
  },
  {
   "cell_type": "markdown",
   "metadata": {},
   "source": [
    "The antenna feed, like the primary beam, has a complex time, frequency, and direction response based on its design. The receptor converts EM waves to a current. Optimizing for parameters such as gain, bandwidth, polarization leakage, impedance matching, and the smoothness lead to different feed designs. A *$\\lambda/4$ (quarter-wavelength) dipole*, a classical design, is a simple dipole made up of two monopoles of length $\\lambda/4$ connected to a *balun*, which is an electronic device which converts an EM signal to a current. This design is very broad spatially, close to isotropic, with a peak sensitivity at $\\lambda$ with a smooth roll-off to other frequencies, but is not broadband or directive. Other feeds, such as log-periodic dipoles, Vivaldi, horns, etc. are optimized for different parameters depending on their use. Many books and lifetimes have been spent on designing antenna feeds."
   ]
  },
  {
   "cell_type": "markdown",
   "metadata": {},
   "source": [
    "### 7.6.1 Representing Polarized Light with Jones Vectors"
   ]
  },
  {
   "cell_type": "markdown",
   "metadata": {},
   "source": [
    "Any state of polarization can be described using a two-element vector, *Jones vector*. Consider a light ray, with an instantanous vector as shown:\n",
    "![Geometric representation of a complex number](figures/7_6_linear.jpg)\n",
    "The $2\\times 1$ Jones vector is equal to\n",
    "\\begin{equation}\n",
    "{\\bf{e}} = \\begin{bmatrix}E_x\\\\E_y \\end{bmatrix} = \\begin{bmatrix} E_{0x}e^{\\imath \\phi_x}\\\\ E_{0y}e^{\\imath \\phi_y}\\end{bmatrix},\n",
    "\\end{equation}\n",
    "\n",
    "where $E_x$ and $E_y$ are the amplitudes and $\\phi_x$ and $\\phi_y$ are the respective phases.\n",
    "\n",
    "Linear polarized light can be either horizontally, vertically or diangonally (linear at an angle) polarized.\n",
    "\n",
    "**Horizontally polarized light**\n",
    "\n",
    "Suppose the electric field is oscillating along the $x$-axis. Then the Jones vector can be written as:\n",
    "\\begin{equation}\n",
    "{\\bf{e}} = \\begin{bmatrix} E_x\\\\E_y\\end{bmatrix} = \\begin{bmatrix} E_{0x}e^{\\imath \\phi_x}\\\\ E_{0y}e^{\\imath \\phi_y}\\end{bmatrix} = A\\begin{bmatrix} 1\\\\0\\end{bmatrix}\n",
    "\\end{equation}\n",
    "\n",
    "**Vertically polarized light**\n",
    "\n",
    "Suppose the electric field is oscillating along the $y$-axis. Then the Jones vector can be written as:\n",
    "\\begin{equation}\n",
    "{\\bf{e}} = \\begin{bmatrix} E_x\\\\E_y\\end{bmatrix} = \\begin{bmatrix} E_{0x}e^{\\imath \\phi_x}\\\\ E_{0y}e^{\\imath \\phi_y}\\end{bmatrix} = A\\begin{bmatrix} 0\\\\1\\end{bmatrix}\n",
    "\\end{equation}\n",
    "\n",
    "**Linearly polarized light at an angle**\n",
    "\n",
    "Consider the phases such that $\\phi=m\\pi$, $m=0,\\pm1,2,...$. \n",
    "Then, \n",
    "\\begin{equation}\n",
    "\\frac{E_x}{E_y} = (-1)^m\\frac{E_{0x}}{E_{0y}}\n",
    "\\end{equation}\n",
    "\n",
    "and the angle of inclination, $\\phi = tan^{-1}\\Big( \\frac{E_{0y}}{E_{0x}}\\Big)$.\n",
    "\n",
    "Hence, the Jones vector is given by\n",
    "\\begin{equation}\n",
    "{\\bf{e}} = \\begin{bmatrix} E_x\\\\E_y\\end{bmatrix} =A(-1)^m\\begin{bmatrix}cos\\phi\\\\ sin \\phi \\end{bmatrix}\n",
    "\\end{equation}\n",
    "\n",
    "**Circular polarized light**\n",
    "\n",
    "If $E_x$ is leading $E_y$ by $\\frac{\\pi}{2}$ (Left hand polarization),then\n",
    "Hence, the Jones vector is given by\n",
    "\\begin{equation}\n",
    "{\\bf{e}} = \\begin{bmatrix} E_x\\\\E_y\\end{bmatrix}=\\begin{bmatrix} E_{0x}e^{\\imath \\phi_x}\\\\ E_{0y}e^{\\imath \\phi_y}\\end{bmatrix} \n",
    "=A(-1)^m\\begin{bmatrix}A\\\\Ae^{\\imath \\frac{\\pi}{2}}\\end{bmatrix}=A\\begin{bmatrix} 1\\\\\\imath\\end{bmatrix}.\n",
    "\\end{equation}\n",
    "\n",
    "If $E_x$ is leading $E_y$ by $-\\frac{\\pi}{2}$ (Right hand polarization),then\n",
    "Hence, the Jones vector is given by\n",
    "\\begin{equation}\n",
    "{\\bf{e}} = \\begin{bmatrix} E_x\\\\E_y\\end{bmatrix}=\\begin{bmatrix} E_{0x}e^{\\imath \\phi_x}\\\\ E_{0y}e^{\\imath \\phi_y}\\end{bmatrix} \n",
    "=A(-1)^m\\begin{bmatrix}A\\\\Ae^{-\\imath \\frac{\\pi}{2}}{2}\\end{bmatrix}=A\\begin{bmatrix} 1\\\\-\\imath\\end{bmatrix}\n",
    "\\end{equation}"
   ]
  },
  {
   "cell_type": "markdown",
   "metadata": {},
   "source": [
    "### 7.6.2 Representing Polarizers with Jones Matrices "
   ]
  },
  {
   "cell_type": "markdown",
   "metadata": {},
   "source": [
    "Consider an incident beam of light denoted by the Jones vector\n",
    "\n",
    "\\begin{equation}\n",
    "{\\bf{e}}_i = \\begin{bmatrix} E_{ix}\\\\E_{iy}\\end{bmatrix}.\n",
    "\\end{equation}\n",
    "\n",
    "The light with interact with the device and the new polarization state can be represented \n",
    "\\begin{equation}\n",
    "{\\bf{e}}_t = \\begin{bmatrix} E_{tx}\\\\E_{ty}\\end{bmatrix}.\n",
    "\\end{equation}\n",
    "\n",
    "The coupling of these two vectors can be described by the following pair of linear equations:\n",
    "\\begin{align}\n",
    "E_{tx} &= j_{11}E_{ix} + j_{12}E_{iy}\\\\\n",
    "E_{ty} & = j_{21}E_{ix} + j_{22}E_{iy}\n",
    "\\end{align}\n",
    "\n",
    "The two equation can be represented in matrix notation as follows:\n",
    "\\begin{equation}\n",
    "{\\bf{e}}_t = {\\bf{J}}{\\bf{e}}_i,\n",
    "\\end{equation}\n",
    "\n",
    "where ${\\bf{J}} = \\begin{bmatrix}j_{11}&j_{12}\\\\j_{21}&j_{22}\\end{bmatrix}$.\n",
    "\n",
    "**Jones matrices for some common polarizers**\n",
    "\n",
    "* Vertical Linear Polarizer: ${\\bf{J}} = \\begin{bmatrix}0&0\\\\0&1\\ \\end{bmatrix}$\n",
    "\n",
    "* Horizontal Linear Polarizer: ${\\bf{J}} = \\begin{bmatrix} 1&0\\\\0&0\\end{bmatrix}$\n",
    "\n",
    "* Linear Polarizer at $45^{\\circ}$: ${\\bf{J}} =\\frac{1}{2} \\begin{bmatrix} 1&1\\\\1&1\\end{bmatrix}$\n",
    "\n",
    "* Right Circular Polarizer: ${\\bf{J}} =\\frac{1}{2} \\begin{bmatrix} 1&\\imath\\\\-\\imath&1\\end{bmatrix}$\n",
    "\n",
    "* Right Circular Polarizer: ${\\bf{J}} =\\frac{1}{2} \\begin{bmatrix} 1&-\\imath\\\\-\\imath&1\\end{bmatrix}$\n",
    "\n",
    "In radio astronomy, the correlated voltages or visibilities recorded by antennas $p$ and $q$ of a radio interferometer\n",
    "is given by\n",
    "\\begin{equation}\n",
    "{\\bf{V}}_{pq} = \\sum_{i=1}^k {\\bf{J}}_{pi}{\\bf{C}}_i{\\bf{J}}_{qi}^H + {\\bf{N}}_{pq},\n",
    "\\end{equation}\n",
    "where the coherency matrix ${\\bf{C}}_i={\\bf{e}}_i\\otimes{\\bf{e}}_i^H$ and ${\\bf{N}}_{pq}$ is the noise. The visibilities can be rewritten in a vectorized form using equalities defined in 2.10.2 such that\n",
    "\\begin{equation}\n",
    "{\\bf{v}}_{pq} = \\text{vec}({\\bf{V}}_{pq}) = \\sum^k_{i=1}{\\bf{J}}_{qi}^H\\otimes {\\bf{J}}_{pi}\\text{vec}({\\bf{C}}_i) + {\\bf{n}}_{pq}.\n",
    "\\end{equation}"
   ]
  },
  {
   "cell_type": "markdown",
   "metadata": {},
   "source": [
    "### 7.6.3 Stokes Parameters "
   ]
  },
  {
   "cell_type": "markdown",
   "metadata": {},
   "source": [
    "Let us consider a plane monochromatic wave of frequency $\\nu$ propagating along the line of sight (z-axis of a cartesain coordinate system). Since electromagnetic waves are transverse, the electric field lie in x-y plane and is given by (as discussed in Section 7.1)\n",
    "\\begin{equation}\n",
    "{\\bf{e}} = \\begin{bmatrix}\n",
    "e_xcos(2\\pi\\nu t)\\\\\n",
    "e_ycos(2\\pi\\nu t +\\delta)\n",
    "\\end{bmatrix}.\n",
    "\\end{equation}\n",
    "\n",
    "The $x$ and $y$ components differ by a time-indepenent phase factor $\\delta$. If $\\delta=0$, then the waves are said to be linearly polarized. When $e_x=e_y$ and $\\delta=\\pm \\frac{\\pi}{2}$, the wave is said to either left circular polarized (anticlockwise direction) right circular polarized (clockwise direction).\n",
    "\n",
    "In radio astronomy, the  radio interferometer measures the Fourier transform of the signal, i.e a correlation function of the field that has the units of the square voltage. Hence, the polarization properties of an incoming signal is usually denoted using *Stokes* parameters. \n",
    "\n",
    "The Stokes parameters for linear feeds (or linear polarization) are defined as\n",
    "\n",
    "\\begin{align}\n",
    "I &= \\langle e_x e_x^* \\rangle + \\langle e_y e_y^* \\rangle\\\\\n",
    "Q &= \\langle e_x e_x^* \\rangle - \\langle e_y e_y^* \\rangle\\\\\n",
    "U &= 2\\text{Re}\\langle e_x e_y^* \\rangle \\\\\n",
    "V &= 2\\text{Im}\\langle e_x e_x^* \\rangle.\n",
    "\\end{align}\n",
    "\n",
    "or\n",
    "\n",
    "\\begin{align}\n",
    "\\langle e_xe_x^*\\rangle &= I+Q\\\\\n",
    "\\langle e_ye_y^*\\rangle &= I-Q\\\\\n",
    "\\langle e_xe_y^*\\rangle &= U+iV\\\\\n",
    "\\langle e_x^*e_y\\rangle &= U-iV\n",
    "\\end{align}\n",
    "\n",
    "where the angle brackets represent the average value.\n",
    "\n",
    "Given that the electric field is composed of two circular feeds, left, $e_l$, and right, $e_r$, the Stokes parameters are defined as\n",
    "\n",
    "\\begin{align}\n",
    "I &= \\langle e_r e_r^* \\rangle + \\langle e_l e_l^* \\rangle\\\\\n",
    "Q &= \\langle e_r e_l^* \\rangle + \\langle e_r^* e_l \\rangle\\\\\n",
    "U &= \\text{Im}\\big(\\langle e_r e_l^* \\rangle - \\langle e_r^* e_l\n",
    "\\rangle\\big)\\\\\n",
    "V &= \\langle e_re_r^*\\rangle - \\langle e_le_l^*\\rangle\n",
    "\\end{align}\n",
    "\n",
    "or\n",
    "\n",
    "\\begin{align}\n",
    "\\langle e_re_r^*\\rangle &= I+V\\\\\n",
    "\\langle e_le_l^*\\rangle &= I-V\\\\\n",
    "\\langle e_re_l^*\\rangle &= Q+iU\\\\\n",
    "\\langle e_r^*e_l\\rangle &= Q-iU.\n",
    "\\end{align}\n",
    "\n",
    "The degree of polarization is given by\n",
    "\\begin{equation}\n",
    "P=\\frac{\\sqrt(Q^2+U^2+V^2)}{I}.\n",
    "\\end{equation}\n",
    "\n",
    "From the defintion of Stokes parameters for linear feeds, we have,\n",
    "\\begin{equation}\n",
    "I^2-Q^2-U^2-V^2 = \\big(\\langle e_x^2\\rangle \\langle e_y^2\\rangle -\\langle e_xe_y\\rangle^2\\big).\n",
    "\\end{equation}\n",
    "\n",
    "If $P=1$, then $I^2=Q^2+U^2+V^2$ and the wave is said to be fully polarized. If $P<1$, then the wave is partially polarized."
   ]
  },
  {
   "cell_type": "markdown",
   "metadata": {},
   "source": [
    "### 7.6.4 Mueller Matrices "
   ]
  },
  {
   "cell_type": "markdown",
   "metadata": {},
   "source": [
    "A polarized beam propagates through one or more polarizing elements, thus resulting into a new polarized beam as shown below:\n",
    "\n",
    "![Geometric representation of a complex number](figures/7_6_linear_2.jpg)\n",
    "![Geometric representation of a complex number](figures/7_6_linear_3.jpg)\n",
    "The input light ray or beam is generally denoted by a Stokes brigntness vector ${\\bf{s}}$ and the output beam by ${\\bf{B}}'$. ${\\bf{B}}'$ is linearly related to ${\\bf{s}}$ by $4\\times 4$ matrix such that\n",
    "\n",
    "\\begin{align}\n",
    "{\\bf{s}}^{'}&={\\bf{M}}.{\\bf{s}}\\\\\n",
    "\\begin{bmatrix} S_0^{'}\\\\S_1^{'}\\\\S_2^{'}\\\\S_3^{'}\\end{bmatrix}&=\n",
    "\\begin{bmatrix}m_{00}&m_{01}&m_{02}&m_{03}\\\\m_{10}&m_{11}&m_{12}&m_{13}\\\\m_{20}&m_{21}&m_{22}&m_{23}\\\\m_{20}&m_{21}&m_{22}&m_{23}\\end{bmatrix}\n",
    "\\begin{bmatrix} S_0\\\\S_1\\\\S_2\\\\S_3\\end{bmatrix}.\n",
    "\\end{align}\n",
    "\n",
    "From the vectorized visibility equation in section 2.10.4, ${\\bf{M}}$ is given by ${\\bf{J}} \\otimes {\\bf{J}}^H$\n",
    "\\begin{align}\n",
    "{\\bf{J}} \\otimes {\\bf{J}}^H  &= \n",
    "\\begin{bmatrix}\n",
    "J_{00} & J_{01} & J_{02} & J_{03} \\\\\n",
    "J_{10} & J_{11} & J_{12} & J_{13} \\\\\n",
    "J_{00} & J_{21} & J_{22} & J_{23} \\\\\n",
    "J_{00} & J_{31} & J_{32} & J_{33} \n",
    "\\end{bmatrix}\\otimes\n",
    "\\begin{bmatrix}\n",
    "J_{00}^* & J_{10}^* & J_{20}^* & J_{30}^* \\\\\n",
    "J_{01}^* & J_{11}^* & J_{21}^* & J_{31}^* \\\\\n",
    "J_{02}^* & J_{12}^* & J_{22}^* & J_{32}^* \\\\\n",
    "J_{03}^* & J_{13}^* & J_{23}^* & J_{33}^* \n",
    "\\end{bmatrix} \n",
    "\\\\\n",
    "& = \\begin{bmatrix}\n",
    "J_{00} J_{00}^*& J_{01}J_{10}^* & J_{02}J_{20}^* & J_{03}J_{30}^*\\\\\n",
    "J_{10} J_{01}^*& J_{11}J_{11}^* & J_{12}J_{21}^* & J_{13}J_{31}^*\\\\\n",
    "J_{20} J_{02}^*& J_{21}J_{12}^* & J_{22}J_{22}^* & J_{23}J_{32}^*\\\\\n",
    "J_{30} J_{03}^*& J_{31}J_{13}^* & J_{32}J_{23}^* & J_{33}J_{33}^*\n",
    "\\end{bmatrix}.\n",
    "\\end{align}"
   ]
  },
  {
   "cell_type": "markdown",
   "metadata": {},
   "source": [
    "### 7.6.5 Coherency Matrix"
   ]
  },
  {
   "cell_type": "markdown",
   "metadata": {},
   "source": [
    "Now we will develop a mathematical formulation for polarimetric interferometry, i.e we will reconstruct the Radio Interferometric Measurement equation (RIME) described in Section 7.2. To begin with, we assume a two-element interferometer with two antennas, $p$ and $q$. Each antenna has two feeds, $a$ and $b$. Then the coherency vector measured by baseline $pq$ is given by\n",
    "\\begin{equation}\n",
    "\\begin{bmatrix}\n",
    "\\langle e_{ap}e_{bp}^*\\rangle\\\\\n",
    "\\langle e_{ap}e_{bq}^*\\rangle\\\\\n",
    "\\langle e_{aq}e_{bp}^*\\rangle\\\\\n",
    "\\langle e_{aq}e_{bq}^*\\rangle\n",
    "\\end{bmatrix} = \\Bigg \\langle \\begin{bmatrix} e_{ap}\\\\e_{aq}\\end{bmatrix}\\otimes \\begin{bmatrix} e_{bp}^*\\\\e_{bq}^*\\end{bmatrix} \\Bigg \\rangle\n",
    "\\end{equation}\n",
    "\n",
    "We then multiply the Stokes vector by the Stokes matrix, ${\\bf{S}}$. The Stokes matrix differs for different polarized coordinate systems. In a linear system, the Stokes vector is equal to\n",
    "\\begin{equation}\n",
    "\\begin{bmatrix}I\\\\Q\\\\U\\\\V\\end{bmatrix} = \\frac{1}{2}\\begin{bmatrix}\n",
    "1&0&0&1\\\\1&0&0&-1\\\\0&1&1&0\\\\0&-i&i&0\\end{bmatrix}\\begin{bmatrix}\n",
    "\\langle e_{ax}e_{bx}^*\\rangle\\\\\n",
    "\\langle e_{ax}e_{by}^*\\rangle\\\\\n",
    "\\langle e_{ay}e_{bx}^*\\rangle\\\\\n",
    "\\langle e_{ay}e_{by}^*\\rangle\\end{bmatrix}.\n",
    "\\end{equation}\n",
    "\n",
    "In the case of circular polarization, the Stokes components are\n",
    "\\begin{equation}\n",
    "\\begin{bmatrix}I\\\\Q\\\\U\\\\V\\end{bmatrix} = \\frac{1}{2}\\begin{bmatrix}\n",
    "1&0&0&1\\\\0&1&1&0\\\\0&-i&i&0\\\\1&0&0&-1\\end{bmatrix}\\begin{bmatrix}\n",
    "\\langle e_{ar}e_{br}^*\\rangle\\\\\n",
    "\\langle e_{ar}e_{bl}^*\\rangle\\\\\n",
    "\\langle e_{al}e_{br}^*\\rangle\\\\\n",
    "\\langle e_{al}e_{bl}^*\\rangle\\end{bmatrix}.\n",
    "\\end{equation}"
   ]
  },
  {
   "cell_type": "markdown",
   "metadata": {},
   "source": [
    "### 7.6.6 Leakage between feeds"
   ]
  },
  {
   "cell_type": "markdown",
   "metadata": {},
   "source": [
    "![Polarization](figures/7_6_polarization1.jpg)\n",
    "\n",
    "*Figure 2. Schematic illustration of the coordinate and vector transformation of an incoming signal (credit to Hamaker et al., 1996)*\n",
    "\n",
    "We can observed the following transformations from Figure 2:\n",
    "\n",
    "1. Faraday rotation in the Earth's ionosphere, ${\\bf{F}}$ and parallactic rotation, ${\\bf{P}}$ at a paralletic angle of the feed system with respect to the incident ray. The Faraday and parallactic rotations are roatation along the line of sight and are represented by the rotation matrix\n",
    "\\begin{equation}\n",
    "\\begin{bmatrix}\n",
    "cos\\phi& -sin \\phi\\\\\n",
    "sin \\phi & cos \\phi\n",
    "\\end{bmatrix}\n",
    "\\end{equation}\n",
    " where $\\phi$ is the Faraday rotation.\n",
    "3. Complex design of the feed: The nominal feed is denoted by ${\\bf{C}}$. The nominal feed includes additional rotations, ${\\bf{D}}$ in addition to the features of the feed design (linear of circular). The deviations of the true one from its design is given by the off-diagonal terms\n",
    "\\begin{equation}\n",
    "{\\bf{D}}=\n",
    "\\begin{bmatrix}\n",
    "1&d_p\\\\\n",
    "d_q&1\n",
    "\\end{bmatrix}\n",
    "\\end{equation}\n",
    " where $d_p$ is the spurious sensitivity of feed $p$ with respect to $q$ and vice-versa. For an error-free feed, there are no deviations, therefore, ${\\bf{D}}={\\bf{I}}$.\n",
    "3. Primary-beam polarization or assymmetry in the primary beam, ${\\bf{E}}$. Considering that the incoming signal is contaminates solely by the primary beam effects, the Stokes parameters measured by the\n",
    "interferometer ${\\bf{s}}^{'}=(I+Q,U+iV,U-iV,I-Q)^T$ is given by\n",
    "\\begin{equation}\n",
    "{\\bf{s}}^{'} = \\big({\\bf{E}}(l,m)\\otimes {\\bf{E}}^H(l,m)\\big)  {\\bf{S}}^{-1} {\\bf{s}},\n",
    "\\end{equation}\n",
    "where ${\\bf{s}}=(I,Q,U,V)^T$  defines the intrinsic Stokes\n",
    "parameters as a function of frequency $\\nu$ and the direction cosines of the clestial sphere $(l,m)$ and ${\\bf{S}}$ is\n",
    "the convertion matrix that converts the Stokes parameters into the brightness vector.\n",
    "The leakage terms between the different Stokes parameters are given by the Mueller matrix which is equal to \n",
    "\\begin{align}\n",
    "{\\bf{S}}({\\bf{E}}\\otimes{\\bf{E}}^H){\\bf{S}}^{-1}&= \n",
    "{\\bf{S}}\n",
    "\\begin{pmatrix}\n",
    "\\begin{bmatrix}\n",
    "e_{00} & e_{01} & e_{02} & e_{03} \\\\\n",
    "e_{10} & e_{11} & e_{12} & e_{13} \\\\\n",
    "e_{00} & e_{21} & e_{22} & e_{23} \\\\\n",
    "e_{00} & e_{31} & e_{32} & e_{33} \n",
    "\\end{bmatrix}\\otimes\n",
    "\\begin{bmatrix}\n",
    "e_{00}^* & e_{10}^* & e_{20}^* & e_{30}^* \\\\\n",
    "e_{01}^* & e_{11}^* & e_{21}^* & e_{31}^* \\\\\n",
    "e_{02}^* & e_{12}^* & e_{22}^* & e_{32}^* \\\\\n",
    "e_{03}^* & e_{13}^* & e_{23}^* & e_{33}^* \n",
    "\\end{bmatrix} \n",
    "\\end{pmatrix}{\\bf{S}}^{-1}\\\\\n",
    "& = \\begin{bmatrix} I\\leftarrow I & I\\leftarrow Q & I\\leftarrow U & I\\leftarrow V \\\\ Q\\leftarrow I & Q\\leftarrow Q & Q\\leftarrow U & Q\\leftarrow V\\\\ U\\leftarrow I & U\\leftarrow Q & U\\leftarrow U & U\\leftarrow V\\\\ V\\leftarrow I & V\\leftarrow Q & V\\leftarrow U & V\\leftarrow V \\end{bmatrix}\n",
    "\\end{align}\n"
   ]
  },
  {
   "cell_type": "markdown",
   "metadata": {},
   "source": [
    "***\n",
    "\n",
    "Next: [7.7 Antenna Mounts and Parallactic Angle](#)"
   ]
  }
 ],
 "metadata": {
  "kernelspec": {
   "display_name": "Python 2",
   "language": "python",
   "name": "python2"
  },
  "language_info": {
   "codemirror_mode": {
    "name": "ipython",
    "version": 2
   },
   "file_extension": ".py",
   "mimetype": "text/x-python",
   "name": "python",
   "nbconvert_exporter": "python",
   "pygments_lexer": "ipython2",
   "version": "2.7.6"
  }
 },
 "nbformat": 4,
 "nbformat_minor": 0
}
