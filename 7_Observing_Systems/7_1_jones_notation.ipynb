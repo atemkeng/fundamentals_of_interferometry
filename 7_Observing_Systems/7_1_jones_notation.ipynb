{
 "cells": [
  {
   "cell_type": "markdown",
   "metadata": {},
   "source": [
    "***\n",
    "\n",
    "* [Outline](../0_Introduction/0_introduction.ipynb)\n",
    "* [Glossary](../0_Introduction/1_glossary.ipynb)\n",
    "* [7. Observing Systems](7_0_introduction.ipynb)  \n",
    "    * Next: [7.2 The Radio Interferometer Measurement Equation (RIME)](7_2_rime.ipynb)\n",
    "\n",
    "***"
   ]
  },
  {
   "cell_type": "markdown",
   "metadata": {},
   "source": [
    "## 7.1. Jones Notation<a id='instrum:sec:jones'></a>\n",
    "Jones notation, or ***Jones calculus***, forms the foundation of the radio interferometer measurement equation (RIME). Jones calculus is a mathematical description of the propagation of electromagnetic plane waves. The signal measured by any telescope not a perfect representation of the original astrophysical signal, but is rather contaminated by successive layers of propagation effects as the signal makes its way from the astrophysical source to an actual measurement on our instrument. Jones notation gives us a mathematical way of describing these corruptions. The business of estimating and removing the corruptions is called **calibration** and is dealt with in Chapter 8. In this section we simply introduce Jones notation and show how it can be used to describe propagation effects."
   ]
  },
  {
   "cell_type": "markdown",
   "metadata": {},
   "source": [
    "### 7.1.1. Electromagnetic plane waves & polarization\n",
    "For starters, we need to understand that the EM radiation we are measuring comes in the form of plane waves (since the sources of radiation are sufficiently distant). Mathematically, this means the following. Pick a coordinate frame $xyz$, where $z$ points along the direction of propagation. In general, any electric field at point $(x,y,z)$ and time $t$ can be described by a complex 3-vector:"
   ]
  },
  {
   "cell_type": "markdown",
   "metadata": {},
   "source": [
    "$$\\mathbf{e}(x,y,z,t) = \\left[ \\begin{array}{c}e_x\\\\e_y\\\\e_z\\end{array} \\right].$$"
   ]
  },
  {
   "cell_type": "markdown",
   "metadata": {},
   "source": [
    "This is the general case. If we have a plane wave, then the EM field vector has two specific properties:\n",
    "\n",
    "* the field vector is the same across the entire $xy$ plane, $\\mathbf{e}(x,y,z,t)\\equiv\\mathbf{e}(0,0,z,t)$\n",
    "* its component along the direction of propagation is null, $e_z=0.$\n",
    "\n",
    "In this case we can describe the entire plane wave (as a function of time) by a single complex 2-vector\n",
    "$$\\mathbf{e}(z,t) = \\left[ \\begin{array}{c}e_x\\\\e_y\\end{array} \\right].$$\n",
    " "
   ]
  },
  {
   "cell_type": "markdown",
   "metadata": {},
   "source": [
    "The images below (courtesy of https://en.wikipedia.org/wiki/Plane_wave) schematically show two very special kinds of ***coherent*** plane waves: perfectly ***linearly*** and ***circularly*** polarized, and both ***monochromatic***. Note that this only shows the complex amplitude of the $e_x$ and $e_y$ components.\n",
    "<TABLE>\n",
    "<TR><TD><img width=400 src=\"figures/7_1_1_planewave_linear.png\"></TD><TD><img width=400 src=\"figures/7_1_1_planewave_circular.png\"></TD></TR>\n",
    "<TR><TD>linearly polarized plane wave</TD><TD>circularly polarized plane wave</TD></TR>\n",
    "</TABLE>"
   ]
  },
  {
   "cell_type": "markdown",
   "metadata": {},
   "source": [
    "The E-vector of these two plane waves follows some very specific equations.\n",
    "\n",
    "For a linearly polarized [along the $x$ axis] plane wave: $$e_x = A_0 \\cos( 2\\pi z/\\lambda + \\omega t),~~~e_y=0.$$\n",
    "\n",
    "For a cicularly polarized plane wave: $$e_x = A_0 \\cos( 2\\pi z/\\lambda + \\omega t),~~~e_y = A_0 \\sin( 2\\pi z/\\lambda + \\omega t).$$\n",
    "\n"
   ]
  },
  {
   "cell_type": "markdown",
   "metadata": {},
   "source": [
    "### 7.1.2. Incoherent radiation and Stokes parameters<a id='instrum:sec:jones:stokes'></a>\n",
    "\n",
    "The above shows *coherent* radiation; the radiation from astrophysical sources is, by its nature, *incoherent* and broad-spectrum. In other words, it is essentially noise-like -- you can think of the $\\vec{e}$ vector as \"waving around\" more or less randomly, so the neat figures above do not really apply.\n",
    "\n",
    "We can avoid the broad spectrum issue for now by considering radiation within a narrow frequency bin $[\\nu-\\Delta\\nu/2,\\nu+\\Delta\\nu/2]$. As we'll see elsewhere in this chapter, most instruments measure signals within such narrow frequency bins; we can think of the full broad-spectrum signal as being a superposition of near-monochromatic signals.\n",
    "\n",
    "As for polariation, it is still possible to describe the polarization state of the signal in a statistical sense. This is done in terms of the ***Stokes parameters***, which are defined in terms of the ***coherency*** of the E-vector components (the $\\langle\\cdot\\rangle$ operator indicates averaging over time):"
   ]
  },
  {
   "cell_type": "markdown",
   "metadata": {},
   "source": [
    "$$\\begin{eqnarray}\n",
    "I&=&\\langle e_x e_x^*\\rangle + \\langle e_y e_y^*\\rangle\\\\\n",
    "Q&=&\\langle e_x e_x^*\\rangle - \\langle e_y e_y^*\\rangle\\\\\n",
    "U&=&\\langle e_x e_y^*\\rangle+\\langle e_y e_x^*\\rangle = 2 \\Re \\langle e_x e_y^*\\rangle \\\\\n",
    "V&=&-\\imath(\\langle e_x e_y^*\\rangle-\\langle e_y e_x^*\\rangle) = 2 \\Im \\langle e_x e_y^*\\rangle\n",
    "\\end{eqnarray}\n",
    "$$"
   ]
  },
  {
   "cell_type": "markdown",
   "metadata": {},
   "source": [
    "$I$ is the total power (flux) in the signal. $Q$ and $U$ correspond to linearly polarized flux, while $V$ corresponds to circularly polarized flux. A signal with $I=1, Q=0.01, U=0, V=0$ is said to be 1% linearly polarized; this simply means that the E-vector tends to \"wave around\" in the $x$ direction a little bit (or exactly 1%) more than in the $y$ direction; a signal with $Q=-0.01$ \"waves around\" the $y$ direction more than the $x$ direction; a signal with $Q=0,U=0.01$ tends to \"wave around\" the $45^\\circ$ axis. It is easy to see that the two perfectly polarized plane waves above are 100% polarized, corresponding to $I=A_0, Q=A_0, U=0, V=0$ and $I=A_0, Q=0, U=0, V=A_0$ respectively."
   ]
  },
  {
   "cell_type": "markdown",
   "metadata": {},
   "source": [
    "### 7.1.3. Propagation and Jones matrices\n",
    "Jones calculus answers the following question: how do we mathematically describe what happens to the signal as it interacts with some medium on it way to us, for example:\n",
    "\n",
    "* propagation through free space\n",
    "* propagation through a cloud or layer of electrons (i.e. the ionosphere)\n",
    "* reflection off the dish surface\n",
    "* propagation through the receiver electronics\n",
    "\n",
    "The fundamental (and only) assumption of Jones calculus is that all propagation effects are linear. That is, if the  original signal vector is $\\vec{e}$, and the propagated vector is given by $\\mathbf{e}'=\\mathbf{f}(\\mathbf{e})$, then\n",
    "$$\n",
    "\\mathbf{f}(a\\mathbf{e}_1+b\\mathbf{e}_2) = a\\mathbf{f}(\\mathbf{e}_1)+b\\mathbf{f}(\\mathbf{e}_2).\n",
    "$$\n",
    "\n",
    "Fortunately for us, almost all  [with a few very exotic exceptions] reasonable physics of signal propagation **are** linear. Now, from linear algebra we know that any linear function on 2-vectors can be described by multiplication with a $2\\times2$ matrix:\n",
    "\n",
    "$$\n",
    "\\mathbf{e}' = \\left[ \\begin{array}{c}e'_x\\\\e'_y\\end{array} \\right] = \n",
    "\\left[ \\begin{array}{cc}j_{11} & j_{12} \\\\ j_{21} & j_{22} \\end{array} \\right] \n",
    "\\left[ \\begin{array}{c}e_x\\\\e_y\\end{array} \\right] = \\mathbf{J} \\mathbf{e}.\n",
    "$$\n",
    "\n",
    "$\\mathbf{J}$ is called a ***Jones matrix***. Any [linear] propagation effect can thus be described by its own particular kind of Jones matrix. \n",
    "\n",
    "As a generalization, we may also consider the two complex voltages measured by our (dual-element) receiver as a voltage 2-vector, and also treat it as a linear function of the input EM vector. The receiver can then also be described by a Jones matrix:\n",
    "\n",
    "$$\n",
    "\\mathbf{v} = \\left[ \\begin{array}{c}v_1\\\\v_2\\end{array} \\right] = \n",
    "\\left[ \\begin{array}{cc}j_{11} & j_{12} \\\\ j_{21} & j_{22} \\end{array} \\right] \n",
    "\\left[ \\begin{array}{c}e_x\\\\e_y\\end{array} \\right] = \\mathbf{J} \\mathbf{e}.\n",
    "$$"
   ]
  },
  {
   "cell_type": "markdown",
   "metadata": {},
   "source": [
    "### 7.1.4. Examples of specific Jones matrices\n",
    "In radio interferometry, Jones matrices are conventionally designated by a capital letter, with different letters corresponding to different propagation effects. Some examples are:\n",
    "\n",
    "* K-Jones or geometric delay, describing propagation through a path in free space of length $\\tau$. As we'll see later, in some sense the K-Jones matrix is at the heart of all interferometry. K-Jones is an example of a *scalar matrix* (i.e. a diagonal matrix with the same element on the diagonal). We'll use normal-weight Roman font (e.g. $K$) to emphasize scalar matrices, as opposed to boldface ($\\mathbf{K}$) for general matrices:\n",
    "\n",
    "$$\n",
    "\\mathbf{K} = K = \\left[ \\begin{array}{cc}\\mathrm{e}^{-2\\pi \\imath \\tau / \\lambda} & 0 \\\\ 0 & \\mathrm{e}^{-2\\pi \\imath \\tau / \\lambda} \\end{array} \\right] = \\mathrm{e}^{-2\\pi \\imath \\tau / \\lambda}\n",
    "$$\n",
    "\n",
    "* P-Jones, describing parallactic angle rotation (i.e. the rotation of the reference frame of the telescope w.r.t. the frame of the signal/sky). This is an example of a *rotation matrix*:\n",
    "\n",
    "$$\n",
    "\\mathbf{P} = \\left[ \\begin{array}{cc}\\cos\\gamma & -\\sin\\gamma \\\\ \\sin\\gamma & \\cos\\gamma\\end{array} \\right] = \\mathrm{Rot}\\,\\gamma\n",
    "$$\n",
    "\n",
    "* Z-Jones is another scalar matrix describing phase delay due to propagation through the ionosphere, which is proportional to the ionospheric *total electron content* (TEC), and inversely proportional to frequency:\n",
    "\n",
    "$$\n",
    "\\mathbf{Z} = \\mathrm{e}^{-\\imath \\kappa \\mathrm{TEC} / \\nu}\n",
    "$$\n",
    "\n",
    "* F-Jones describes *Faraday rotation* in the ionosphere. The angle of rotation is proprotional to a quantity called the *rotation measure* (RM), and invesely proportional to frequency squared:\n",
    "\n",
    "$$\n",
    "\\mathbf{F} = \\mathrm{Rot}(\\mathrm{RM}/\\nu^2)\n",
    "$$\n",
    "\n",
    "\n",
    "* G-Jones describes the *complex gain* of the dual-element receiver:\n",
    "\n",
    "$$\n",
    "\\mathbf{G} = \\left[ \\begin{array}{cc} g_x & 0 \\\\ 0 & g_y \\end{array} \\right ]\n",
    "$$\n",
    "\n",
    "* In real life situations (see Chapter 8 on calibration) it may be useful to take advantage of the fact that the receiver gain has a frequency-dependent component that varies only slowly with time (the **bandpass**), and a time-variable component that is only weakly dependent on frequency (the gain per se). To emphasize this, the complex gain can then be split into two separate diagonal matrices:\n",
    "\n",
    "$$\n",
    "\\mathbf{G} = \\left[ \\begin{array}{cc} g_x(t) & 0 \\\\ 0 & g_y(t) \\end{array} \\right],~~~\n",
    "\\mathbf{B} = \\left[ \\begin{array}{cc} b_x(\\nu) & 0 \\\\ 0 & b_y(\\nu)  \\end{array} \\right]\n",
    "$$\n",
    "\n",
    "\n",
    "* E-Jones describes the *primary beam gain*. This is further discussed in [7.5. Primary Beam](7_5_primary_beam.ipynb).\n",
    "\n",
    "* D-Jones describes the *polarization leakage* due to cross-talk between the two receiver elements. It typically looks like\n",
    "\n",
    "$$\n",
    "\\mathbf{D} = \\left[ \\begin{array}{cc} 1 & d \\\\ -d & 1 \\end{array} \\right],~~d\\ll 1\n",
    "$$\n",
    "\n",
    "Note that the above are only examples. In particular, depending on our instrumental model, the G-, B-, E-, and D-Jones terms may take a different form, or may be rolled into a single Jones matrix.\n"
   ]
  },
  {
   "cell_type": "markdown",
   "metadata": {},
   "source": [
    "### 7.1.5. Jones chains<a id='instrum:sec:jones:chains'></a>\n",
    "A sequence of propagation effects can thus be described by a chain of Jones matrix multiplications. We can thus describe the voltage vector measured by our instrument as\n",
    "$$\n",
    "\\mathbf{v} = \\mathbf{J}_n \\mathbf{J}_{n-1} ... \\mathbf{J}_1 \\mathbf{e} = \\mathbf{Je},\n",
    "$$\n",
    "\n",
    "where the individual Jones terms describe the different effects in sequence. The system then has an overall Jones matrix of \n",
    "$\\mathbf{J} = \\mathbf{J}_n \\mathbf{J}_{n-1} ... \\mathbf{J}_1\n",
    "$.\n",
    "\n",
    "In a real-life observation, some of the effects in the chain are known perfectly in advance (e.g. K-Jones, P-Jones), some may have a reasonable prior model (E-Jones), and must be estimated through calibration (e.g. G-Jons, B-Jones, see Chapter 8),\n",
    "\n",
    "From linear algebra we know that matrix multiplication in general does not commute, so the chaining of Jones matrices **must** correspond to the physical order of the effects experienced by the signal. However, some kinds of matrices **do** commute, for example:\n",
    "\n",
    "* a scalar matrix commutes with any matrix (thus, for example, the K- and Z-Jones matrices can be moved to anywhere in the the chain without changing the result)\n",
    "\n",
    "* diagonal matrices commute among themselves (thus the B- and G-Jones terms may be swapped around without changing the result)\n",
    "\n",
    "* rotation matrices commute among themselves (thus the P- and F-Jones terms may be swapped around)\n",
    "\n",
    "The combination of Jones chains and linear algebra constitutes the real power and utility of Jones calculus. In a nutshell:\n",
    "\n",
    "* To determine the true underlying astrophysical signal, we must model all the propagation effects\n",
    "\n",
    "* Jones calclus allows us to construct a notionally perfect description of signal propagation, with individual effects described by elements of the Jones chain\n",
    "\n",
    "* We can then use our prior knowledge to fix some of the Jones terms in the chain\n",
    "\n",
    "* We can use calibration (Chapter 8) to estimate others\n",
    "\n",
    "* We can use the rules of linear algebra to reorder the Jones terms where allowed, in order to simplify our calculations. \n",
    "\n",
    "We will see all this come together in the next section on the RIME, and in the next chapter on calibration.\n",
    "\n",
    "\n"
   ]
  },
  {
   "cell_type": "markdown",
   "metadata": {},
   "source": [
    "***\n",
    "* Next: [7.2 The Radio Interferometer Measurement Equation (RIME)](7_2_rime.ipynb)\n",
    "\n",
    "***"
   ]
  }
 ],
 "metadata": {
  "kernelspec": {
   "display_name": "Python 2",
   "language": "python",
   "name": "python2"
  },
  "language_info": {
   "codemirror_mode": {
    "name": "ipython",
    "version": 2
   },
   "file_extension": ".py",
   "mimetype": "text/x-python",
   "name": "python",
   "nbconvert_exporter": "python",
   "pygments_lexer": "ipython2",
   "version": "2.7.6"
  }
 },
 "nbformat": 4,
 "nbformat_minor": 0
}
