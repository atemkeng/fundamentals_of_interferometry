{
 "cells": [
  {
   "cell_type": "markdown",
   "metadata": {},
   "source": [
    "***\n",
    "<a id='beginning'></a> <!--\\label{beginning}-->\n",
    "* [Outline](../0_Introduction/0_introduction.ipynb)\n",
    "* [Glossary](../0_Introduction/1_glossary.ipynb)\n",
    "* [4. The Visibility space](#)\n",
    "    * Previous Chapter: [3. Positional Astronomy](../3_Positional_Astronomy/3_0_introduction.ipynb)\n",
    "\n",
    "    * Next: [4.1 The Baseline and its representations in space](4_1_The_Baseline.ipynb)\n",
    "\n",
    "***"
   ]
  },
  {
   "cell_type": "code",
   "execution_count": 1,
   "metadata": {
    "collapsed": false
   },
   "outputs": [
    {
     "data": {
      "text/html": [
       "<style>\n",
       "\n",
       "p.prerequisites {\n",
       "    border:5px;\n",
       "    border-style:none;\n",
       "    background-color:#F0F0F0;\n",
       "    box-shadow: 5px 5px 2px #888888;\n",
       "    border-color:#FF0000;\n",
       "    padding: 1em;\n",
       "}\n",
       "\n",
       "p.conclusion {\n",
       "    border:5px;\n",
       "    border-style:none;\n",
       "    background-color:#c8ebca;\n",
       "    box-shadow: 5px 5px 2px #888888;\n",
       "    border-color:#c8ebca;\n",
       "    padding: 1em;\n",
       "}\n",
       "\n",
       "div.warn {    \n",
       "    background-color: #fcf2f2;\n",
       "    border-color: #dFb5b4;\n",
       "    border-left: 5px solid #dfb5b4;\n",
       "    padding: 0.5em;\n",
       "    }\n",
       "\n",
       "div.advice {    \n",
       "    background-color: #ecf8ed;\n",
       "    border-color: #a2dda5;\n",
       "    border-left: 5px solid #a2dda5;\n",
       "    padding: 0.5em;\n",
       "    }\n",
       " </style>\n",
       "\n",
       "\n"
      ],
      "text/plain": [
       "<IPython.core.display.HTML object>"
      ]
     },
     "execution_count": 1,
     "metadata": {},
     "output_type": "execute_result"
    }
   ],
   "source": [
    "from IPython.core.display import HTML\n",
    "import numpy as np\n",
    "from ipywidgets import interact\n",
    "import matplotlib.pyplot as plt\n",
    "%matplotlib inline\n",
    "styles = open(\"../style/course.css\", \"r\").read()\n",
    "HTML(styles)"
   ]
  },
  {
   "cell_type": "markdown",
   "metadata": {},
   "source": [
    "Main author: Julien Girard"
   ]
  },
  {
   "cell_type": "markdown",
   "metadata": {},
   "source": [
    "# Chapter 4: The visibility space<a id='visibility:sec:intro'></a>"
   ]
  },
  {
   "cell_type": "markdown",
   "metadata": {},
   "source": [
    "Radio interferometry relies on a specific combination of measurements from single antennas.\n",
    "In this chapter, we will address the core of this course, the measurement with an interferometer. \n",
    "In the first section, we will give a short introduction on the motivations and advantages for using interferometers.\n",
    "Before addressing more complex cases, we introduce in [$\\S$4.2](4_2_The_2-element_Interferometer.ipynb), the concept of baseline and its representations in space, given the various reference frames defined in the previous chapter.\n",
    "The notion of baseline is necessary to address the simple case of a 2-element interferometer in [$\\S$4.3](4_3_The_Visibility_Function.ipynb).\n",
    "This simple interferometer can be seen as a probing tool that samples the visibility function, associated with the intensity distribution of the sky. Depending on the location of the interferometer on Earth, this function can be probed along $uv$ tracks defined in [$\\S$4.4.1](4_4_1_UV_Coverage_UV_Tracks.ipynb). We will then in [$\\S$4.4.2](4_4_2_UV_Coverage_Improving_Your_Coverage.ipynb), investigate how can be enriched the sampling of the visibility function.\n",
    "In the concluding [$\\S$5](4_5_The_Fourier_Approximation_VanCittert-Zernike_Theorem.ipynb), we will express the Van Cittert-Zernike theorem, which, under a series of approximation, links the intensity distribution of the sky to the interfemetric measurements by a Fourier relationship. Based on this relationship, imaging by aperture synthesis is possible."
   ]
  },
  {
   "cell_type": "markdown",
   "metadata": {},
   "source": [
    "#### Chapter Outline\n",
    "\n",
    "0. [Introduction](4_0_introduction.ipynb)\n",
    "1. [The_Baseline](4_1_The_Baseline.ipynb)\n",
    "2. [The_2-element_Interferometer](4_2_The_2-element_Interferometer.ipynb)\n",
    "3. [The_Visibility_Function:](4_3_The_Visibility_Function.ipynb)<br>\n",
    "4.1. [UV Coverage: UV Tracks](4_4_1_UV_Coverage_UV_Tracks.ipynb)<br>\n",
    "4.2. [UV Coverage: Improving Your Coverage](4_4_2_UV_Coverage_Improving_Your_Coverage.ipynb)\n",
    "    \n",
    "5. [The Fourier Approximation Van Cittert-Zernike Theorem](4_5_The_Fourier_Approximation_VanCittert-Zernike_Theorem.ipynb)\n",
    "\n",
    "6. [Further Reading and References](5_x_further_reading_and_references.ipynb)\n",
    "7. [Appendix](4_Appendix.ipynb)"
   ]
  },
  {
   "cell_type": "markdown",
   "metadata": {},
   "source": [
    "#### Chapter Editors\n",
    "* Landman Bester\n",
    "\n",
    "#### Chapter Contributors\n",
    "\n",
    "* Julien Girard"
   ]
  },
  {
   "cell_type": "markdown",
   "metadata": {},
   "source": [
    "---"
   ]
  },
  {
   "cell_type": "markdown",
   "metadata": {},
   "source": [
    "## Sect. 4.0 $-$ Introduction: Why Interferometry ?\n",
    "\n",
    "### 4.0.1 Limits of a single dish telescope \n",
    "#### 4.0.1.A Aperture diameter and angular resolution\n",
    "#### 4.0.1.B Physical limitations of reflectors\n",
    "\n",
    "### 4.0.2 From a single optical parabolic telescope to a radio interferometer with multiple elements\n",
    "#### 4.0.2.A Optical conjugation / Parabolic reflector\n",
    "#### 4.0.2.B Step-by-step construction of an interferometer\n",
    "#### 4.0.2.C Ever larger instruments\n"
   ]
  },
  {
   "cell_type": "markdown",
   "metadata": {},
   "source": [
    "____\n",
    "____\n",
    "____"
   ]
  },
  {
   "cell_type": "markdown",
   "metadata": {
    "collapsed": true
   },
   "source": [
    "## Section 4.0 $-$ Introduction: Why Interferometry ?"
   ]
  },
  {
   "cell_type": "markdown",
   "metadata": {},
   "source": [
    "### 4.0.1 Limits of a single dish telescope \n",
    "\n",
    "#### 4.0.1.A Aperture diameter and angular resolution"
   ]
  },
  {
   "cell_type": "markdown",
   "metadata": {},
   "source": [
    "As you have seen in [$\\S$1.2](../1_Radio_Science/1_2_0_definitions.ipynb), the basic properties of a radio antenna can be summarized in the two following quantities:\n",
    "if $D$ is the diameter of the primary reflector (by making the approximation that it has a disk aperture).\n",
    "\n",
    "- The collecting area: $A_\\text{eff} \\propto D^2$\n",
    "- The angular resolution: $ \\delta \\theta \\propto \\frac{\\lambda}{D} $\n",
    "\n",
    "The *sensitivity* of an antenna is directly inversely proportional to the collecting area, and the angular separability of the instrument is inversely proportional to the reflector diameter.\n",
    "\n",
    "To improve both the sensitivity and angular resolution of a single telescope, a natural way is to increase the size of the collecting dish by simply increasing its diameter."
   ]
  },
  {
   "cell_type": "markdown",
   "metadata": {},
   "source": [
    "The following table shows the angular resolution as a function of diameter $D$ for single piece optical telescope used in the amateur and professional observing astronomy. We also show for Infrared, high frequency (HF) Radio wavelength and Low frequency (LF) radio wavelengths, what should be the value of $D$ to achieve the same angular resolution as that in visible."
   ]
  },
  {
   "cell_type": "markdown",
   "metadata": {},
   "source": [
    "<table width=\"100%\" border=\"0\">\n",
    "<col width=\"200\">\n",
    "<col width=\"100\">\n",
    "<tr >\n",
    "<td> </td>\n",
    "<td style=\"text-align:center\"> <b> Diameter $D$ </b> </td>\n",
    "<td style=\"text-align:center\"> <b> Visible </b> <br>($\\lambda$ = 500 nm)</td>\n",
    "<td style=\"text-align:center\"> <b> Infrared </b><br> ($\\lambda$ = 10 $\\mu$m) </td>\n",
    "<td style=\"text-align:center\"> <b> Radio HF </b><br>($\\lambda$ = 10 mm) </td>\n",
    "<td style=\"text-align:center\"> <b> Radio LF </b><br> ($\\lambda$ = 1 m) </td>\n",
    "</tr>\n",
    "<tr>\n",
    "<td><img src=\"figures/meade.png\" width=\"50%\"/> </td>\n",
    "<td style=\"text-align:center\"> 15 cm </td>\n",
    "<td style=\"text-align:center\"> 0,8'' </td>\n",
    "<td style=\"text-align:center\"> $D=3$ m </td>\n",
    "<td style=\"text-align:center\"> $D=3$ km </td>\n",
    "<td style=\"text-align:center\"> $D=300$ km </td>\n",
    "</tr>\n",
    "<tr>\n",
    "<td><img src=\"figures/dobson.png\" width=\"50%\"/> </td>\n",
    "<td style=\"text-align:center\"> 50 cm  </td>\n",
    "<td style=\"text-align:center\"> 0,25'' </td>\n",
    "<td style=\"text-align:center\"> $D=10$ m </td>\n",
    "<td style=\"text-align:center\"> $D=10$ km </td>\n",
    "<td style=\"text-align:center\"> $D=1000$ km </td>\n",
    "</tr>\n",
    "<tr>\n",
    "<td><img src=\"figures/meudon.png\" width=\"50%\"/> </td>\n",
    "<td style=\"text-align:center\"> 1 m</td>\n",
    "<td style=\"text-align:center\"> 0,12'' </td>\n",
    "<td style=\"text-align:center\"> $D=21$ m </td>\n",
    "<td style=\"text-align:center\"> $D=21$ km </td>\n",
    "<td style=\"text-align:center\"> $D=2100$ km </td>\n",
    "\n",
    "</tr>\n",
    "<tr>\n",
    "<td><img src=\"figures/subaru.png\" width=\"30%\"/> </td>\n",
    "<td style=\"text-align:center\"> 8 m</td>\n",
    "<td style=\"text-align:center\"> 0,015'' (15 mas) </td>\n",
    "<td style=\"text-align:center\"> $D=168$ m </td>\n",
    "<td style=\"text-align:center\"> $D=168$ km </td>\n",
    "<td style=\"text-align:center\"> $D=16800$ km </td>\n",
    "</tr>\n",
    "\n",
    "<tr>\n",
    "\n",
    "</table>"
   ]
  },
  {
   "cell_type": "markdown",
   "metadata": {
    "collapsed": true
   },
   "source": [
    "<div align=\"center\">**Table 1** $-$ Angular resolution and aperture diameter as a function of the diameter $D$. <br>\n",
    "</div>"
   ]
  },
  {
   "cell_type": "markdown",
   "metadata": {},
   "source": [
    "One can easily understand that, because $\\delta \\theta \\propto \\frac{\\lambda}{D}$, a increase of $\\lambda$ should come with an increase of $D$ to keep the same angular resolution. In the radio wavelength, it is easy to see that a 3 km single dish is impossible to build in one piece without giving more information than a 15 cm visible telescope. The following interactive example helps to understand who big the reflector diameter must be, at a specific frequency, to achieve a particular angular resolution."
   ]
  },
  {
   "cell_type": "code",
   "execution_count": 6,
   "metadata": {
    "collapsed": false
   },
   "outputs": [
    {
     "name": "stdout",
     "output_type": "stream",
     "text": [
      "# Wavelength in meters\n",
      "# Angres in degrees\n",
      "\n",
      "At a frequency of 299.792458 MHz (Lambda=1.0 m)\n",
      "the collector diameter should be ~D=16776204.2414 m\n",
      "to achieve an angular resolution of 4.16666666667e-06 degrees / 0.00025 arcmin / 0.015 arcsec\n"
     ]
    }
   ],
   "source": [
    "from ipywidgets import interact\n",
    "\n",
    "def WhichDiameter(wavelength=1,angres=(15e-3/3600)):\n",
    "\n",
    "    c=299792458.\n",
    "    freq=c/(wavelength)/1e6\n",
    "    \n",
    "    D=1.22*wavelength/np.radians(angres) # assuming a circular aperture\n",
    "\n",
    "    print \"# Wavelength in meters\"\n",
    "    print \"# Angres in degrees\"\n",
    "    print\n",
    "    print \"At a frequency of \"+str(freq)+\" MHz (Lambda=\"+str(wavelength)+\" m)\"\n",
    "    print \"the collector diameter should be ~D=\"+str(D)+\" m\"\n",
    "    print \"to achieve an angular resolution of \"+str(angres)+\" degrees / \"+str(angres*60)+\" arcmin / \"+str(angres*3600)+\" arcsec\"\n",
    "\n",
    "\n",
    "\n",
    "w=interact(WhichDiameter,angres=((15e-3/3600),10,1e-5),wavelength=(0.5e-6,1,1e-7))"
   ]
  },
  {
   "cell_type": "markdown",
   "metadata": {},
   "source": [
    "#### 4.0.1.B Physical limitations of reflectors"
   ]
  },
  {
   "cell_type": "markdown",
   "metadata": {},
   "source": [
    "Radio antennas are mostly built from metallic material. Due to the limited Field of View of the antenna, it should track as source on the sky as the Earth rotate, to maintain a constant sensitivity toward the source.\n",
    "\n",
    "These antenna pointing are done mechanically and required slow engines to carry the mass from one direction to the other. The physical constraints mostly operate on the mechanical joints will constitute a critical design point on the engineering side.\n",
    "\n",
    "\n",
    "\n",
    "The fall of the early Green Bank Telescope in 1988 mark the physical limits of steerable telescopes. Larger aperture can be reached if the reflector is maintained fixed and if the receiver at the prime focus move along the focal plane (or along the caustic) of the instrument to mimic a slowly varying pointing in the sky.\n",
    "\n",
    "(ref: http://adsabs.harvard.edu/abs/2008ASPC..395..323C)\n",
    "\n",
    "**Figure 1** and **Figure 2** presents examples of the largest steerable telescopes that can be made:\n",
    "\n",
    "- steerable dishes ($D\\leq 100m$) e.g. Green Bank (zapped), Effelsberg radiotelescopes\n",
    "- steerable focus ($D\\sim 300m$) e.g. Arecibo, Nançay Radio Telescope"
   ]
  },
  {
   "cell_type": "markdown",
   "metadata": {},
   "source": [
    "<img src=\"figures/GBTcollapse.jpg\" width=\"80%\"/>"
   ]
  },
  {
   "cell_type": "markdown",
   "metadata": {
    "collapsed": true
   },
   "source": [
    "<div align=\"center\">**Figure 1** $-$ 100 m Green Bank Telescope <br>\n",
    "Before (left) & after (middle) collapsing and (right) tabloid article<br>\n",
    "</div>"
   ]
  },
  {
   "cell_type": "markdown",
   "metadata": {},
   "source": [
    "<img src=\"figures/arecibo.png\" width=\"60%\"/>"
   ]
  },
  {
   "cell_type": "markdown",
   "metadata": {
    "collapsed": true
   },
   "source": [
    "<div align=\"center\">**Figure 2** $-$ 300 m Arecibo lying in a natural cavity <br>\n",
    "The received is located at the center of the three poles and can move freely to point various direction of the sky<br>\n",
    "</div>"
   ]
  },
  {
   "cell_type": "markdown",
   "metadata": {},
   "source": [
    "### 4.0.2 From a single optical parabolic telescope to a radio interferometer with multiple elements"
   ]
  },
  {
   "cell_type": "markdown",
   "metadata": {},
   "source": [
    "#### 4.0.2.A Optical conjugation / Parabolic reflector\n",
    "\n",
    "In the following, we will give you a first intuitive feeling of what an interferometer is. Without any calculus (yet) and knowning the basic properties about an optical telescope, we can build an interferometer.\n",
    "\n",
    "A single optical telescope generally comes as a combination of a main reflector (primary mirror which will define the aperture of the telescope) and a receiver (a collecting device such as a CCD). The purpose of this mirror is to gather light over some aperture and focus it in a focal plane.\n",
    "\n",
    "Basic optics say that there exist some apparatii enabling to form locally the image of a source located at an infinite distance (good approximation for the sources up in the sky). Lenses were the prior examples of such systems. They manage to conjugate a point source at the infinite with a focal point, which location is completely determined by the shape of the lens (under the \"thin lens\" approximation and gauss conditions).\n",
    "\n",
    "Later, concave mirrors were used in the same way to build telescope as it was easier to control their physical and optical properties (curvature, surface quality...) than that of lenses.\n",
    "\n",
    "Large telescopes ($D \\sim 8m$) now exclusively use mirrors for their easier single piece design.\n",
    "\n",
    "Geometry says that the ideal curve which conjugate one incoming plane wave coming on-axis from the infinite into a single locus (the focal point) has to be a parabola. As the main principle of an telescope is to be pointed towards a source (for now), a circular paraboloids seemed to be a good shape for a collector. \n",
    "\n",
    "In the everyday life of radio instrumentation, one defines a \"parabola\", as a synecdoche to name the full receiving system (i.e. {primary reflector + focal receiver + mount}) that is commonly used for satellite transmission/reception.\n",
    "\n",
    "We will assume for the sake of the analogy that we start from an optical telescope equipped with a paraboloid primary mirror. And we will start to deconstruct this optical telescope to form an interferometer."
   ]
  },
  {
   "cell_type": "markdown",
   "metadata": {},
   "source": [
    "<table width=\"100%\" border=\"0\">\n",
    "<tr>\n",
    "<td> <img src='figures/im1-n.png' width=75%> </td>\n",
    "<td> <img src='figures/im2-n.png' width=75%> </td>\n",
    "</tr>\n",
    "<tr>\n",
    "<td> <img src='figures/im3-n.png' width=75%> </td>\n",
    "<td> <img src='figures/im4-n.png' width=75%> </td>\n",
    "</tr>\n",
    "<tr>\n",
    "<td> <img src='figures/im5-n.png' width=75%> </td>\n",
    "<td> <img src='figures/im6-n.png' width=75%> </td>\n",
    "</tr>\n",
    "</table>"
   ]
  },
  {
   "cell_type": "markdown",
   "metadata": {},
   "source": [
    "<div align=\"center\">**Figure 3** $-$ How to build an interferometer\n",
    "</div>"
   ]
  },
  {
   "cell_type": "markdown",
   "metadata": {},
   "source": [
    "#### 4.0.2.B Step-by-step construction of an interferometer\n",
    "\n",
    "**Figure 3** shows the 6-steps transition to go from an optical telescope to a radio interferometer. Some assumptions are made implicitely but will be cleary defined in subsequent section of this course (see [$\\S$4.3](4_3_The_Visibility_Function.ipynb)). For the moment, the main idea is that the sequence of transformations applied to the instrument maintain the properties of the measurement.\n",
    "\n",
    "**Step 1: The visible case**\n",
    "\n",
    "We start with a parabolic optical telescope which receive light from various direction. Assuming perfect optical components, the signal coming from source at an infinite distance are conjugate of image point lying in the focal plane, where we put the receiver (i.e. a CCD (Charged-Coupled Device) that collects photons in the visible case).\n",
    "\n",
    "**Step 2: Breaking the mirror**\n",
    "\n",
    "By breaking the mirror into pieces, we do not change the main properties of the telescope. Only some portion of the primary reflector are missing. (we could also have obstructed or colored in black the mirror surface at different locations. In this case, we will still be able to recover an image but sligthly distorted due to the loss of continuity of the aperture.\n",
    "\n",
    "**Step 3: Change of wavelength**\n",
    "\n",
    "The telescope working with visible electro-magnetic waves, we can extrapolate it to the lower frequencies of the radio domain, by adapting both the reflective parts and the receiving part to match the wavelenght. (i.e. metal reflector are sufficient to replace polished mirror, and a small radio feed can capture the EM wave instead of collecting photons on a CCD).\n",
    "\n",
    "**Step 4: Conversion into electronics**\n",
    "\n",
    "Pushing it further, we can replace the radio reflective parts by sensitive parts which will directly measure the EM wave arriving at each portion of the surface and transmit it to the receiver. The conversion between the EM wave and electrical signal is performed by an antenna (which is defined as a EM transducer, to convert Electric field (in $V.m^{-1}$ into $V$).\n",
    "\n",
    "Each piece of the former reflector acting as antennas, therefore the incoming signal propagates into wires. We can therefore move freely the receiver as long as we maintain the connection with the pieces and synchronicity by adding cable length wisely (we will come back to that fact later). The antennas are still arranged in a paraboloid fashion.\n",
    "\n",
    "**Step 5 & 6: Deconstructing the parabola**\n",
    "\n",
    "As in the previous steps, by adding more cable, we can reproduce the different in arrival times between all the pieces. As for the receiver, we are now free to move the receiving pieces in a more manageable fashion (e.g. on the ground). We can do that for every pieces."
   ]
  },
  {
   "cell_type": "markdown",
   "metadata": {},
   "source": [
    "<img src='figures/im7-n.png' width=45%> "
   ]
  },
  {
   "cell_type": "markdown",
   "metadata": {},
   "source": [
    "<div align=\"center\">**Figure 4** $-$ Schematic of a radio interferometer made from identical elements disposed on the ground.<br>\n",
    "All signals are smartly combined before entering the receiver.<br>\n",
    "</div>"
   ]
  },
  {
   "cell_type": "markdown",
   "metadata": {},
   "source": [
    "As in **Figure 4**, we can now enhance the properties of each pieces on the ground by replacing them with proper smaller telescopes, more easily manageable and sensitive to radio wavelengths. With corrected combinations of the telescope signals, the receiver will record a compound incoming signal as if it were recorded by an unique telescope which collecting area is the sum of all collecting area of the pieces. \n",
    "\n",
    "In other words, we can assert that a collection of signals, coming from identical antennas distributed on the ground can mimic the measurement (if smartly combined) of a compound antenna which properties if is roughly the sum of the properties of the individual antennas.\n",
    "\n",
    "As a consequence, if you can find cheap and manageable small antennas, you can build a larger instrument that would be impossible to produce in one piece. This is a solution to the physical and technical limitations of large telescope such as the GBT presented in **Figure 1**.\n"
   ]
  },
  {
   "cell_type": "markdown",
   "metadata": {},
   "source": [
    "<div class=warn>\n",
    "**Warning:** The optical path is replaced by electrical cables to convey the electrical signals. The properties of the telescope are kept only if the additional delays mimic the reception time as the various pieces as if it were still place on a paraboloid surface. The cable delay scheme therefore follow a distribution of delays which is also parabolic as a function of the location of the receiving piece on the parabola.\n",
    "</div>"
   ]
  },
  {
   "cell_type": "markdown",
   "metadata": {},
   "source": [
    "<div class=advice>\n",
    "**Note:** Conversely, we can interpret a single reflector telescope (visible or radio) as a *continuous interferometer* by applying the Wiener-Khinchin theorem. (see Perley white book $\\S$ [EXREF])\n",
    "</div>"
   ]
  },
  {
   "cell_type": "markdown",
   "metadata": {},
   "source": [
    "#### 4.0.2.C Ever larger instruments..."
   ]
  },
  {
   "cell_type": "markdown",
   "metadata": {
    "collapsed": true
   },
   "source": [
    "With the next generation interferometer such as **LOFAR** (Low Frequency ARray) and **SKA** (Square Kilometre Array) (**Figure 5**), the equivalent aperture reaches to continental scale, but the sensitivity remains proportional to the sum of the surfaces of all elements.\n",
    "\n",
    "e.g. The Square Kilometre Array has an equivalent collecting area of a 1 km$^2$. It brings a tremendous sensitivity to weak radio signals.\n",
    "\n",
    "(see more details in [$\\S$1](../1_Radio_Science/1_3_arrays_diversity_and_uses.ipynb) & [$\\S$7](../7_Observing_Systems/7_0_introduction.ipynb))"
   ]
  },
  {
   "cell_type": "markdown",
   "metadata": {},
   "source": [
    "<img src='figures/skalofar.png' width=100%> "
   ]
  },
  {
   "cell_type": "markdown",
   "metadata": {},
   "source": [
    "<div align=\"center\">**Figure 5** $-$ Current continental-scale interferometers <br>\n",
    "LOFAR combines antenna elements in the 30-90 MHz & 110-250 MHz window<br>\n",
    "SKA will cover almost all the radio window from 50 MHz to $\\sim$10-30 GHz<br>\n",
    "</div>"
   ]
  },
  {
   "cell_type": "markdown",
   "metadata": {
    "collapsed": true
   },
   "source": [
    "We highlighted in this introductory section, why we need multi-element instrumentation to increase the sensitivity and the angular resolution of radio observations. \n",
    "\n",
    "In the next sections, we will describe:\n",
    "\n",
    "    - 1) How interferometers works\n",
    "    - 2) How they are sensitive to the sky radiation\n",
    "    - 3) How they can be used to measure astrophysical quantities\n",
    "    \n",
    "We will also see that some simplifications can be taken to prepare imaging by aperture synthesis [$\\S$5](../5_Imaging/5_0_introduction.ipynb) [EXREF]."
   ]
  },
  {
   "cell_type": "markdown",
   "metadata": {
    "collapsed": true
   },
   "source": [
    "<p class=conclusion>\n",
    "  <font size=4> **Important things to remember**</font>\n",
    "  <br>\n",
    "  <br>\n",
    "\n",
    "&bull; A **paraboloid reflector** insures that any incoming direction from the infinite is conjugated with the focal plane.<br><br>\n",
    "&bull; The mirror is an easier optical system to build and maintain compared to a transmitting lens.<br><br>\n",
    "&bull; As we are dealing with EM waves, their is a *direct analogy between the properties of visible and radio telescopes*.<br><br>\n",
    "&bull; On the principle, an interferometer can be built by *decomposing a single reflector instrument into smaller manageable pieces* and by *combining their signals in a specific manner* (using delay cables).<br><br>\n",
    "&bull; Conversely, a single reflector telescope can be interpreted as a *continuous* interferometer.\n",
    "</p>\n"
   ]
  },
  {
   "cell_type": "markdown",
   "metadata": {},
   "source": [
    "---\n",
    "* [Go back up](#beginning) <!--\\ref{beginning}--> \n",
    "* Or continue to next section: [4.1 The Baseline and its representations in space](4_1_The_Baseline.ipynb)\n",
    "---"
   ]
  }
 ],
 "metadata": {
  "kernelspec": {
   "display_name": "Python 2",
   "language": "python",
   "name": "python2"
  },
  "language_info": {
   "codemirror_mode": {
    "name": "ipython",
    "version": 2
   },
   "file_extension": ".py",
   "mimetype": "text/x-python",
   "name": "python",
   "nbconvert_exporter": "python",
   "pygments_lexer": "ipython2",
   "version": "2.7.6"
  }
 },
 "nbformat": 4,
 "nbformat_minor": 0
}
