{
 "cells": [
  {
   "cell_type": "markdown",
   "metadata": {},
   "source": [
    "***\n",
    "<a id='beginning'></a> <!--\\label{beginning}-->\n",
    "\n",
    "* [Outline](../0_Introduction/0_introduction.ipynb)\n",
    "* [Glossary](../0_Introduction/1_glossary.ipynb)\n",
    "* [4. The Visibility space](4_0_introduction.ipynb)\n",
    "    * Previous: [4.0 Introduction: Why Interferometry ?](4_0_introduction_Why_Interferometry.ipynb)\n",
    "    * Next: [4.2 The 2-element Interferometer](4_2_The_2-element_Interferometer.ipynb)\n",
    "\n",
    "***"
   ]
  },
  {
   "cell_type": "code",
   "execution_count": 1,
   "metadata": {
    "collapsed": false
   },
   "outputs": [
    {
     "data": {
      "text/html": [
       "<style>\n",
       "\n",
       "p.prerequisites {\n",
       "    border:5px;\n",
       "    border-style:none;\n",
       "    background-color:#F0F0F0;\n",
       "    box-shadow: 5px 5px 2px #888888;\n",
       "    border-color:#FF0000;\n",
       "    padding: 1em;\n",
       "}\n",
       "\n",
       "p.conclusion {\n",
       "    border:5px;\n",
       "    border-style:none;\n",
       "    background-color:#c8ebca;\n",
       "    box-shadow: 5px 5px 2px #888888;\n",
       "    border-color:#c8ebca;\n",
       "    padding: 1em;\n",
       "}\n",
       "\n",
       "div.warn {    \n",
       "    background-color: #fcf2f2;\n",
       "    border-color: #dFb5b4;\n",
       "    border-left: 5px solid #dfb5b4;\n",
       "    padding: 0.5em;\n",
       "    }\n",
       "\n",
       "div.advice {    \n",
       "    background-color: #ecf8ed;\n",
       "    border-color: #a2dda5;\n",
       "    border-left: 5px solid #a2dda5;\n",
       "    padding: 0.5em;\n",
       "    }\n",
       " </style>\n",
       "\n",
       "\n"
      ],
      "text/plain": [
       "<IPython.core.display.HTML object>"
      ]
     },
     "execution_count": 1,
     "metadata": {},
     "output_type": "execute_result"
    }
   ],
   "source": [
    "from IPython.core.display import HTML\n",
    "styles = open(\"../style/course.css\", \"r\").read()\n",
    "HTML(styles)"
   ]
  },
  {
   "cell_type": "markdown",
   "metadata": {},
   "source": [
    "Main author: Julien Girard"
   ]
  },
  {
   "cell_type": "markdown",
   "metadata": {},
   "source": [
    "___\n",
    "# Outline\n",
    "## Section 4.1 The baseline and its representations in space\n",
    "\n",
    "### Intro\n",
    "\n",
    "### 4.1.1 The physical baseline\n",
    "   * 4.1.1.A Local definition of the baseline vector\n",
    " \n",
    "   * 4.1.1.B The (East, North, Up) reference frame: a global definition of the baseline vector\n",
    " \n",
    "   * 4.1.1.C Expression in the Horizontal coordinates ($A$,$E$)\n",
    "   \n",
    "   * 4.1.1.D Expression in the Equatorial (X,Y,Z) frame\n",
    "\n",
    "### 4.1.2 The concept of projected baseline\n",
    "   \n",
    "   * 4.1.2.A Direction of observation - Concept of phase center\n",
    "       \n",
    "   * 4.1.2.B The ($u$,$v$,$w$) space\n",
    "\n",
    "___\n",
    "___\n",
    "___"
   ]
  },
  {
   "cell_type": "markdown",
   "metadata": {},
   "source": [
    "### Introduction"
   ]
  },
  {
   "cell_type": "markdown",
   "metadata": {},
   "source": [
    "In order to understand how an interferometer works, we first have to spend some time defining the *baseline* which is a proxy of the measurement of the astronomical information.\n",
    "As seen in the introduction, the concept of baseline really matters as a **relative** quantity as it constrains both the *physical configuration* of the instrument as well as the *physical quantity* that is measured by it (see. [$\\S$4.3](4_3_The_Visibility_Function.ipynb)).\n",
    "\n",
    "An important concept will be introduced, the concept of **baseline projection** which is a quantity that is observer dependent, time/frequency dependent and direction dependent.\n",
    "\n",
    "By linking [$\\S$2](../2_Mathematical_Groundwork/2_11_Vectors_and_Matrices.ipynb) and [$\\S$3](../3_Positional_Astronomy/3_0_Introduction.ipynb), the entire section is an interlude devoted to the manipulation and expression of the baseline in the various reference frames.\n",
    "\n",
    "One could also see interactive plot by going here [EXREF] http://astro.unl.edu/animationsLinks.html."
   ]
  },
  {
   "cell_type": "markdown",
   "metadata": {},
   "source": [
    "<div class=advice>\n",
    "**Note:** The derivation of some expressions that are presented can be found in appendix [INREF].\n",
    "</div>"
   ]
  },
  {
   "cell_type": "markdown",
   "metadata": {},
   "source": [
    "We will start by defining the notations along with the vector definition we will use in the entire course. The progression is designed to go from the **local** & **instantaneous** space of the observer (local $x$,$y$, $z$ on Earth) to the sky coordinates in the equatorial frame ($H$, $\\delta$) by a series of four transforms:\n",
    "\n",
    "* 1) From local ($x$,$y$,$z$) to the (**E**ast, **N**orth, **U**p) \n",
    "* 2) From local  **E**, **N**, **U** to local azimuth/elevation ($A$, $E$) \n",
    "* 3) From local ($A$,$E$) to equatorial ($X$, $Y$, $Z$) \n",
    "* 4) From the equatorial ($X$, $Y$, $Z$) to the ($u$, $v$, $w$)-space\n",
    "\n",
    "The physical use of the baseline will be addressed in the next [$\\S4.2$](4_2_The_2-element_Interferometer.ipynb) [EXREF]."
   ]
  },
  {
   "cell_type": "markdown",
   "metadata": {},
   "source": [
    "### 4.1.1 The physical baseline"
   ]
  },
  {
   "cell_type": "markdown",
   "metadata": {},
   "source": [
    "#### 4.1.1.A Local definition of the baseline vector"
   ]
  },
  {
   "cell_type": "markdown",
   "metadata": {},
   "source": [
    "Let's assume:\n",
    "\n",
    "* A local Cartesian reference frame attached to the local ground defined as $\\mathcal{R}$ ($O$, $\\mathcal{B}$($\\mathbf{\\hat{e}_x}, \\mathbf{\\hat{e}_y}, \\mathbf{\\hat{e}_z}$))\n",
    "\n",
    "* A set of two antennas defined by their position vector in basis $\\mathcal{B}$:\n",
    "\n",
    "$$\\textbf{a}_1=\\vec{OA}_1=x_1 \\mathbf{\\hat{e}_x} + y_1 \\mathbf{\\hat{e}_y} + z_1 \\mathbf{\\hat{e}_z}$$\n",
    "\n",
    "$$\\textbf{a}_2=\\vec{OA}_2=x_2\\mathbf{\\hat{e}_x} + y_2 \\mathbf{\\hat{e}_y} + z_2 \\mathbf{\\hat{e}_z}$$\n",
    "\n",
    "and defined by their components ($x_1$,$y_1$,$z_1$) and ($x_2$,$y_2$,$z_2$) in $\\mathcal{B}$.\n",
    "\n",
    "We assume that the distance between the antennas is small enough to consider the ground to be a ground plane on which the basis vectors can be translated without any rotation.\n",
    "\n",
    "The **local physical baseline** in cartesian coordinates is defined as the difference vector $\\mathbf{b}$ = $\\mathbf{a}_2 - \\mathbf{a}_1$ = $\\vec{A_1A_2}$"
   ]
  },
  {
   "cell_type": "markdown",
   "metadata": {},
   "source": [
    "<img src='figures/vectorxyz.png' width=40%>"
   ]
  },
  {
   "cell_type": "markdown",
   "metadata": {},
   "source": [
    "<div align=\"center\">**Figure 1**: Definition of a vector in a local cartesian coordinate system.<br>\n",
    "</div> "
   ]
  },
  {
   "cell_type": "markdown",
   "metadata": {},
   "source": [
    "<div class=warn>\n",
    "**Warning:** The baseline is a *relative quantity* which is *independent of the origin* of the reference frame. This will be important in the following.\n",
    "</div>"
   ]
  },
  {
   "cell_type": "markdown",
   "metadata": {},
   "source": [
    "#### 4.1.1.B The (East, North, Up) reference frame: a global definition of the baseline vector"
   ]
  },
  {
   "cell_type": "markdown",
   "metadata": {},
   "source": [
    "The problem with the previous formulation is that directions of $\\mathbf{\\hat{e}_x}, \\mathbf{\\hat{e}_y}, \\mathbf{\\hat{e}_z}$ are arbitrary. For convenience, it should be attached to an *absolute* reference on Earth. This can be unambiguously achieved by defining a new cartesian basis defined by the cardinal points.\n",
    "\n",
    "* We define the origin $O$ at an arbitrary center (e.g. center of the  antenna layout)\n",
    "* A *global* right-handed orthonormal basis $\\mathcal{B}'$($\\mathbf{\\hat{e}_E}, \\mathbf{\\hat{e}_N}, \\mathbf{\\hat{e}_U}$) pointing respectively towards the **East**, the geographical **North** and towards the local vertical (pointing the Zenith, e.g. **Up**).\n",
    "\n",
    "The baseline vector is still expressed in a local reference frame but is coincidental with the geographical North and East (see **Figure 2**)."
   ]
  },
  {
   "cell_type": "markdown",
   "metadata": {},
   "source": [
    "#### 4.1.1.C Expression in the Horizontal coordinates ($\\mathcal{A}$, $\\mathcal{E}$)"
   ]
  },
  {
   "cell_type": "markdown",
   "metadata": {},
   "source": [
    "As seen in [$\\S3$](../3_Positional_Astronomy/3_4_Horizontal_Coordinates.ipynb) [EXREF], an observer located somewhere on Earth can define a direction in the sky in terms of local *azimuth* and *elevation*.\n",
    "\n",
    "Similarly, a baseline can also be expressed with these two coordinates.\n",
    "\n",
    "We define now:\n",
    "\n",
    "* Antenna 1 as the origin of the reference frame on the ground.\n",
    "* The North, East and Up axes (see $\\S$4.1.1.B [INREF])\n",
    "\n",
    "\n",
    "The *azimuth* $A$ is the angle contained in the plane of the local ground counted positively clock-wise from North to East.\n",
    "\n",
    "The *elevation* $E$ is the angle counted positively from the horizon to the local zenith."
   ]
  },
  {
   "cell_type": "markdown",
   "metadata": {},
   "source": [
    "<img src='figures/enu_alt_az.png' width=40%>"
   ]
  },
  {
   "cell_type": "markdown",
   "metadata": {},
   "source": [
    "<div align=\"center\">**Figure 2**: Relation between the horizontal frame ($\\mathcal{A}$, $\\mathcal{E}$) and the ($E$, $N$, $U$) cartesian frame.<br>\n",
    "</div>"
   ]
  },
  {
   "cell_type": "markdown",
   "metadata": {},
   "source": [
    "The baseline vector expressed as follows in the $\\mathcal{B}'$ basis:\n",
    "\n",
    "\\begin{equation}\n",
    "\\mathbf{b}_{\\text{ENU}}\n",
    "=\n",
    "|\\mathbf{b}|\n",
    "\\begin{bmatrix}\n",
    "\\sin \\mathcal{A} \\cos \\mathcal{E}\\\\\n",
    "\\cos \\mathcal{A} \\cos \\mathcal{E}\\\\\n",
    "\\sin \\mathcal{E}\n",
    "\\end{bmatrix}\n",
    "\\end{equation}"
   ]
  },
  {
   "cell_type": "markdown",
   "metadata": {},
   "source": [
    "<div class=advice>\n",
    "**Note:** If Antenna 2 and Antenna 1 share the same component along $\\mathbf{\\hat{e}_U}$ (e.g. Antenna 1 and Antenna 2 lying on the ground plane), then the elevation of the baseline is $\\mathcal{E}=0^\\circ$.\n",
    "</div>"
   ]
  },
  {
   "cell_type": "markdown",
   "metadata": {},
   "source": [
    "<div class=warn>\n",
    "**Warnings:** <br>\n",
    "- The geographer and the radioastronomer use different conventions for the origin and variation of the azimuth. We will use the radioastronomer convention as defined previously in Chap. 2 [EXREF]. <br>\n",
    "- The horizontal coordinate system looks like a 2D spherical coordinates system with different conventions in terms of angle origin and direction of variation. <br>\n",
    "- The latitude $L_a$ was not expressed here but will be required in the following.\n",
    "</div>"
   ]
  },
  {
   "cell_type": "markdown",
   "metadata": {},
   "source": [
    "#### 4.1.1.D Expression in the Equatorial (X,Y,Z) frame"
   ]
  },
  {
   "cell_type": "markdown",
   "metadata": {},
   "source": [
    "The baseline is fully described in the $ENU$ system using the **azimuth** $\\mathbf{A}$, the **elevation** $\\mathbf{E}$.\n",
    "\n",
    "As seen from [$\\S3$](../3_Positional_Astronomy/3_2_Equatorial_Coordinates.ipynb) [EXREF], at the observer location at latitude $L_a$, the extension of the direction of the baseline defines a position on the sky, which can be associated with equatorial coordinates ($H$,$\\delta$), with $H$ being the hour angle and $\\delta$ the declination [EXREF].\n",
    "\n",
    "To give the baseline a more general sense (and to ease the subsequent derivations), we need to find a set of reference frames which will associate the baseline definition to sky coordinates on the celestial sphere."
   ]
  },
  {
   "cell_type": "markdown",
   "metadata": {},
   "source": [
    "For that purpose, we will define a new set of axes $XYZ$ (defined by the basis ($\\mathbf{\\hat{e}_X}$,$\\mathbf{\\hat{e}_Y}$,$\\mathbf{\\hat{e}_Z}$), attached to the Earth, as an intermediate reference frame. We can position these axis with respect to the equatorial coordinates $(H; \\delta)$.\n",
    "\n",
    "We defined the axes of the $XYZ$ frame as:\n",
    "\n",
    "* the $X$-axis points towards $(H=0^\\textrm{h}; \\delta=0^{\\circ})$ ($\\gamma$ the point where the vernal equinox crosses the local meridian)\n",
    "* the $Y$-axis towards $(H=-6^\\textrm{h}; \\delta=0^{\\circ})$ (East)\n",
    "* the $Z$-axis towards the North Celestial Pole (NCP). "
   ]
  },
  {
   "cell_type": "markdown",
   "metadata": {},
   "source": [
    "<img src='figures/xyz_XYZ.png' width=50%>\n",
    "\n",
    "<div align=\"center\">**Figure 3**: The (X,Y,Z) Reference frame <br>\n",
    "$T$: local zenith<br>\n",
    "($X$,$Y$) = Celestial plane (blue) $\\perp$ to the NCP<br>\n",
    "($N$,$S$,$E$,$W$) Antenna plane (red) $\\perp$ to the local zenith (T)<br> </div>"
   ]
  },
  {
   "cell_type": "markdown",
   "metadata": {},
   "source": [
    "<br />\n",
    "\n",
    "<div class=warn>\n",
    "**Warning:** <br>\n",
    "- Although we use equatorial coordinates to define the $XYZ$-coordinate system, it represents a **terrestrial** reference frame, as the $X$, $Y$ and $Z$ axes never change orientation for a local observer on Earth. <br>\n",
    "- However, as the declination refered to the celestial equation, the latitude of the observer $L_a$ is required.\n",
    "</div>\n",
    "  \n",
    "\n",
    "We then need to convert ($\\mathcal{A}$, $\\mathcal{E}$, $L_a$) into $(H, \\delta)$ in this new frame:\n",
    "\n",
    "<br />\n",
    "\\begin{equation}\n",
    "\\begin{bmatrix}\n",
    "X\\\\\n",
    "Y\\\\\n",
    "Z\n",
    "\\end{bmatrix}\n",
    "=\n",
    "\\begin{bmatrix}\n",
    "|\\mathbf{b}|\\cos \\delta \\cos H\\\\\n",
    "-|\\mathbf{b}|\\cos \\delta \\sin H\\\\\n",
    "|\\mathbf{b}|\\sin \\delta\n",
    "\\end{bmatrix}\n",
    "=|\\mathbf{b}|\n",
    "\\begin{bmatrix}\n",
    "\\cos L_a \\sin \\mathcal{E} - \\sin L_a \\cos \\mathcal{E} \\cos \\mathcal{A}\\nonumber\\\\ \n",
    "\\cos E \\sin \\mathcal{A} \\nonumber\\\\\n",
    "\\sin L_a \\sin \\mathcal{E} + \\cos L_a \\cos \\mathcal{E} \\cos \\mathcal{A}\\\\\n",
    "\\end{bmatrix}\n",
    "\\end{equation}\n",
    "\n",
    "<br />\n",
    "\n",
    "<div align=\"center\">**Equation A**: Conversion from baseline difference vector $s,\\mathcal{E},\\mathcal{A}$ to $XYZ$ <br>\n",
    "$\\mathbf{b}$: amplitude of baseline difference vector <br>$H$: Hour angle, $\\delta$: Declination, $L_a$ latitude of the array<br></div>\n",
    "\n",
    "<br />\n",
    "\n",
    "<div class=advice>\n",
    "**Note:** The complete derivation of Eq. A from the spherical triangle **ZTS** can be found in Appendix A.1 [INREF]\n",
    "</div>"
   ]
  },
  {
   "cell_type": "markdown",
   "metadata": {},
   "source": [
    "The baseline is now defined in a cartesian frame compatible but expressed using coordinates in the equatorial system ($\\alpha$,$\\delta$) (or ($H$,$\\delta$) corresponding to a direction on the celestial sphere."
   ]
  },
  {
   "cell_type": "markdown",
   "metadata": {},
   "source": [
    "### 4.1.2 The concept of projected baseline"
   ]
  },
  {
   "cell_type": "markdown",
   "metadata": {},
   "source": [
    "#### 4.1.2.A Direction of observation - Concept of phase center  "
   ]
  },
  {
   "cell_type": "markdown",
   "metadata": {},
   "source": [
    "In the previous section, we have defined the components of the physical baseline using sky coordinates in cartesian reference frames.\n",
    "\n",
    "As seen from a source lying on the celestial sphere and looking down towards the baseline rotating with Earth, we will only see a *projection* of the baseline, depending on the instantaneous geographical configuration of the baseline. Later on, we will see that the projection of the baseline is the important quantity consider in radio interferometry, rather than the length of the physical baseline."
   ]
  },
  {
   "cell_type": "markdown",
   "metadata": {},
   "source": [
    "Our ultimate goal is to observe sources that are lying on the *celestial sphere* (see [$\\S$3.2](../3_Positional_Astronomy/3_2_Equatorial_Coordinates.ipynb))[EXREF] (at an $\\sim$ infinite distance). As in [$\\S$1.2](../1_Radio_Science/1_2_1_electromagnetic_radiation.ipynb) [EXREF], we will consider that we are receiving an electromagnetic (EM) plane wave coming from a direction $\\mathbf{s_0}$. \n",
    "\n",
    "We define the *phase center* as the tip of the vector $\\mathbf{s_0}$ on the celestial sphere as a reference for the measurement with an interferometer. We will come back to this definition on the 2-element interferometer in [$\\S$4.2](4_2_The_2-element_Interferometer.ipynb)[EXREF]."
   ]
  },
  {
   "cell_type": "markdown",
   "metadata": {},
   "source": [
    "<img src='figures/interferencereceivers.png' width=40%>"
   ]
  },
  {
   "cell_type": "markdown",
   "metadata": {},
   "source": [
    "<div align=\"center\">**Figure 4** $-$ The projection of baseline $\\mathbf{b}$ towards the direction $\\theta$ along $\\mathbf{s}_0$.</div>"
   ]
  },
  {
   "cell_type": "markdown",
   "metadata": {},
   "source": [
    "We will now derive the relation necessary to compute the projection of the baseline with respect to any direction $\\mathbf{s_0}$ on the celestial sphere. The components of this projection will evolve in a new reference frame, the ($u$,$v$,$w$) space."
   ]
  },
  {
   "cell_type": "markdown",
   "metadata": {},
   "source": [
    "#### 4.1.2.B The ($u$,$v$,$w$) space"
   ]
  },
  {
   "cell_type": "markdown",
   "metadata": {},
   "source": [
    "Using the direction of $\\mathbf{s_0}$ as a reference direction of coordinates ($H_0$,$\\delta_0$), we will define a new set of axes:\n",
    "\n",
    "* the $u$-axis contained in the celestial equator and pointing toward the hour angle $H_0-6^\\text{h}$\n",
    "* the $v$-axis contained in the hour circle $H_0$ and pointing toward the declination $\\frac{\\pi}{2}-\\delta_0$\n",
    "* the $w$-axis towards the direction $\\mathbf{s_0}$\n",
    "\n",
    "The ($u$,$v$) axes form a 2D plane perpendicular to $\\mathbf{s_0}$.\n",
    "\n"
   ]
  },
  {
   "cell_type": "markdown",
   "metadata": {},
   "source": [
    "The transformation from the ($X$,$Y$,$Z$) axes to the ($u$, $v$, $w$) axes require two succesives rotations applied to the equatorial coordinates of the baseline.\n",
    "\n",
    "- $\\mathcal{R}_\\text{Z}^{\\frac{\\pi}{2}-H_0}$:  the rotation of the $X$,$Y$ axes around the $Z=Z'$ axis of angle $\\frac{\\pi}{2}-H_0$ making the new axes $X'$, $Y'$ (Green axes in Fig. 2)\n",
    "\n",
    "- $\\mathcal{R}_\\text{X'}^{\\frac{\\pi}{2}-\\delta_0}$:  the rotation of the $Y'$,$Z'$ axes around the $X'=u$ axis of angle $\\frac{\\pi}{2}-\\delta_0$ making the new axes $u$, $v$ (red axes in Fig. 2).\n",
    "\n"
   ]
  },
  {
   "cell_type": "markdown",
   "metadata": {},
   "source": [
    "<img src='figures/coordinates2b.png' width=50%>"
   ]
  },
  {
   "cell_type": "markdown",
   "metadata": {},
   "source": [
    "<div align=\"center\">**Figure 5**: The (X,Y,Z) to ($u$,$v$,$w$) <br>\n",
    "$Z$: local zenith<br>\n",
    "($X$,$Y$) = Celestial plane $\\perp$ to the NCP<br>\n",
    "</div>"
   ]
  },
  {
   "cell_type": "markdown",
   "metadata": {},
   "source": [
    "The conversion from $XYZ$ to $uvw$ is expressed as following:\n",
    "\\begin{equation}\n",
    "\\begin{pmatrix}\n",
    "u\\\\\n",
    "v\\\\\n",
    "w\n",
    "\\end{pmatrix}\n",
    "=\n",
    "\\mathcal{R}_\\text{X'}^{\\frac{\\pi}{2}-\\delta_0}\n",
    "\\mathcal{R}_\\text{Z}^{\\frac{\\pi}{2}-H_0}\n",
    "\\begin{pmatrix}\n",
    "X\\\\\n",
    "Y\\\\\n",
    "Z\n",
    "\\end{pmatrix}\n",
    "\\end{equation}\n",
    "\n"
   ]
  },
  {
   "cell_type": "markdown",
   "metadata": {},
   "source": [
    "where\n",
    "\\begin{equation}\n",
    "\\mathcal{R}_\\text{X'}^{\\frac{\\pi}{2}-\\delta_0}\n",
    "=\n",
    "\\begin{pmatrix}\n",
    "1& 0& 0\\\\\n",
    "0 & \\cos (\\frac{\\pi}{2}- \\delta_0) & \\sin (\\frac{\\pi}{2}- \\delta_0)  \\\\\n",
    "0 &-\\sin (\\frac{\\pi}{2}- \\delta_0) & \\cos (\\frac{\\pi}{2}- \\delta_0) \\\\\n",
    "\\end{pmatrix} \n",
    "=\n",
    "\\begin{pmatrix}\n",
    "1& 0& 0\\\\\n",
    "0 & \\sin \\delta_0 & \\cos \\delta_0  \\\\\n",
    "0 &-\\cos \\delta_0 & \\sin \\delta_0 \\\\\n",
    "\\end{pmatrix} \n",
    "\\end{equation}"
   ]
  },
  {
   "cell_type": "markdown",
   "metadata": {},
   "source": [
    "and \\begin{equation}\n",
    "\\mathcal{R}_\\text{Z}^{\\frac{\\pi}{2}-H_0}\n",
    "=\n",
    "\\begin{pmatrix}\n",
    "\\cos (\\frac{\\pi}{2}- H_0) & \\sin (\\frac{\\pi}{2}- H_0) & 0 \\\\\n",
    "-\\sin (\\frac{\\pi}{2}- H_0) & \\cos (\\frac{\\pi}{2}- H_0) & 0 \\\\\n",
    "0 & 0 & 1\n",
    "\\end{pmatrix} \n",
    "=\n",
    "\\begin{pmatrix}\n",
    "\\sin H_0 & \\cos H_0 & 0 \\\\\n",
    "-\\cos H_0 & \\sin H_0 & 0 \\\\\n",
    "0 & 0 & 1\n",
    "\\end{pmatrix} \n",
    "\\end{equation}"
   ]
  },
  {
   "cell_type": "markdown",
   "metadata": {},
   "source": [
    "<div class=warn>\n",
    "**Warning:** The sequence of operations applied to vectors should be read from right to left.\n",
    "</div>"
   ]
  },
  {
   "cell_type": "markdown",
   "metadata": {},
   "source": [
    "Resulting in the transformation matrix:\n",
    "\\begin{equation}\n",
    "\\begin{pmatrix}\n",
    "u\\\\\n",
    "v\\\\\n",
    "w\n",
    "\\end{pmatrix}\n",
    "=\n",
    "\\begin{pmatrix}\n",
    "\\sin H_0 & \\cos H_0 & 0\\\\ \n",
    "-\\sin \\delta_0 \\cos H_0 & \\sin\\delta_0\\sin H_0 & \\cos\\delta_0\\\\\n",
    "\\cos \\delta_0 \\cos H_0 & -\\cos\\delta_0\\sin H_0 & \\sin\\delta_0\\\\\n",
    "\\end{pmatrix} \n",
    "\\begin{pmatrix}\n",
    "X\\\\\n",
    "Y\\\\\n",
    "Z\n",
    "\\end{pmatrix}\n",
    "\\end{equation}\n",
    "\n"
   ]
  },
  {
   "cell_type": "markdown",
   "metadata": {},
   "source": [
    "The ($u$, $v$, $w$) frame will define the commonly known $uvw$ space (and $uv$ plane in certain cases) where the baseline will have different projections. This space is always meant to be understood as the collection of the projections of the baselines *as seen from the observed source* located at $\\mathbf{s_0}$.\n",
    "\n",
    "Later on, we will see that these baseline projections are associated with a particular characteristic quantity of the source that is been observed. Therefore, it is the relevant quantity to keep in mind.\n",
    "\n"
   ]
  },
  {
   "cell_type": "markdown",
   "metadata": {},
   "source": [
    "<div class=warn>\n",
    "**Warning:** <br>\n",
    "We usually express the components ($u$, $v$, $w$) in units of wavelength (of the observation) by dividing the baseline vector by $\\lambda$:<br>\n",
    "\n",
    "\\begin{equation}\n",
    "\\mathbf{b_\\lambda}\n",
    "= \n",
    "\\frac{\\mathbf{b}}{\\lambda}\n",
    "= \n",
    "\\begin{pmatrix}\n",
    "u\\\\\n",
    "v\\\\\n",
    "w\n",
    "\\end{pmatrix}\n",
    "=\n",
    "\\frac{1}{\\lambda}\n",
    "\\begin{pmatrix}\n",
    "\\sin H_0 & \\cos H_0 & 0\\\\ \n",
    "-\\sin \\delta_0 \\cos H_0 & \\sin\\delta_0\\sin H_0 & \\cos\\delta_0\\\\\n",
    "\\cos \\delta_0 \\cos H_0 & -\\cos\\delta_0\\sin H_0 & \\sin\\delta_0\\\\\n",
    "\\end{pmatrix} \n",
    "\\begin{pmatrix}\n",
    "X\\\\\n",
    "Y\\\\\n",
    "Z\n",
    "\\end{pmatrix}\n",
    "\\end{equation}\n",
    "\n",
    "In the following sections and chapters, we will drop the $\\lambda$ underscript, as we will always assume that the $u$, $v$, $w$ components are in wavelength unit.\n",
    "</div>"
   ]
  },
  {
   "cell_type": "markdown",
   "metadata": {},
   "source": [
    "<p class=conclusion>\n",
    "  <font size=4> **Important things to remember**</font>\n",
    "<br>\n",
    "&bull; In radio interferometry, the important quantity to consider is the **projected baseline** length *as seen from the source*, rather than the physical baseline length. <br><br>\n",
    "&bull; The projected baseline depends on the **latitude** of the observer, the **declination** and the **hour angle** of observation. One physical baseline can therefore provide a large range of various projected baselines.\n",
    "</p>\n"
   ]
  },
  {
   "cell_type": "markdown",
   "metadata": {},
   "source": [
    "---\n",
    "* [Go back up](#beginning) <!--\\ref{beginning}--> \n",
    "* Or continue to next section: [4.2 The 2-element Interferometer -->](4_2_The_2-element_Interferometer.ipynb)\n",
    "---"
   ]
  }
 ],
 "metadata": {
  "kernelspec": {
   "display_name": "Python 2",
   "language": "python",
   "name": "python2"
  },
  "language_info": {
   "codemirror_mode": {
    "name": "ipython",
    "version": 2
   },
   "file_extension": ".py",
   "mimetype": "text/x-python",
   "name": "python",
   "nbconvert_exporter": "python",
   "pygments_lexer": "ipython2",
   "version": "2.7.6"
  }
 },
 "nbformat": 4,
 "nbformat_minor": 0
}
