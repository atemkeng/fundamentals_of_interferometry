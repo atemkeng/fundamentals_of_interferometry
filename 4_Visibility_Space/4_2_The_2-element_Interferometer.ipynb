{
 "cells": [
  {
   "cell_type": "markdown",
   "metadata": {
    "collapsed": true
   },
   "source": [
    "***\n",
    "<a id='beginning'></a> <!--\\label{beginning}-->\n",
    "* [Outline](../0_Introduction/0_introduction.ipynb)\n",
    "* [Glossary](../0_Introduction/1_glossary.ipynb)\n",
    "* [4. The Visibility space](4_0_introduction.ipynb)\n",
    "    * Previous: [4.1 The Baseline and its representations in space](4_1_The_Baseline_and_its_representations_in_space.ipynb)\n",
    "    * Next: [4.3 The Visibility Function](4_3_The_Visibility_Function.ipynb)\n",
    "\n",
    "***"
   ]
  },
  {
   "cell_type": "markdown",
   "metadata": {},
   "source": [
    "Main author: Julien Girard"
   ]
  },
  {
   "cell_type": "code",
   "execution_count": 4,
   "metadata": {
    "collapsed": false
   },
   "outputs": [
    {
     "data": {
      "text/html": [
       "<style>\n",
       "\n",
       "p.prerequisites {\n",
       "    border:5px;\n",
       "    border-style:none;\n",
       "    background-color:#F0F0F0;\n",
       "    box-shadow: 5px 5px 2px #888888;\n",
       "    border-color:#FF0000;\n",
       "    padding: 1em;\n",
       "}\n",
       "\n",
       "p.conclusion {\n",
       "    border:5px;\n",
       "    border-style:none;\n",
       "    background-color:#c8ebca;\n",
       "    box-shadow: 5px 5px 2px #888888;\n",
       "    border-color:#c8ebca;\n",
       "    padding: 1em;\n",
       "}\n",
       "\n",
       "div.warn {    \n",
       "    background-color: #fcf2f2;\n",
       "    border-color: #dFb5b4;\n",
       "    border-left: 5px solid #dfb5b4;\n",
       "    padding: 0.5em;\n",
       "    }\n",
       "\n",
       "div.advice {    \n",
       "    background-color: #ecf8ed;\n",
       "    border-color: #a2dda5;\n",
       "    border-left: 5px solid #a2dda5;\n",
       "    padding: 0.5em;\n",
       "    }\n",
       " </style>\n",
       "\n",
       "\n"
      ],
      "text/plain": [
       "<IPython.core.display.HTML object>"
      ]
     },
     "execution_count": 4,
     "metadata": {},
     "output_type": "execute_result"
    }
   ],
   "source": [
    "from IPython.core.display import HTML\n",
    "import numpy as np\n",
    "import matplotlib.pyplot as plt\n",
    "%matplotlib inline\n",
    "styles = open(\"../style/course.css\", \"r\").read()\n",
    "HTML(styles)"
   ]
  },
  {
   "cell_type": "markdown",
   "metadata": {},
   "source": [
    "---\n",
    "# Outline\n",
    "\n",
    "## Section 4.2 The 2-element interferometer\n",
    "\n",
    "### 4.2.1 From optical to radio interferometry\n",
    "\n",
    "* 4.2.1.A Back to the basics: Physical Optics Interferometry\n",
    "\n",
    "* 4.2.1.B General considerations in the receiving case\n",
    "\n",
    "* 4.2.1.C First approach to radio interferometry\n",
    "    \n",
    "### 4.2.2 First approach to radio interferometry\n",
    "\n",
    "* 4.2.2.A About the $\\sum$-interferometer\n",
    "\n",
    "* 4.2.2.B The $\\prod$-interferometer with a $\\cos$ correlator\n",
    "\n",
    "* 4.2.2.C The $\\prod$-interferometer with a $\\sin$ correlator\n",
    "\n",
    "* 4.2.2.D The Complex interferometer\n",
    "\n",
    "___\n",
    "___\n",
    "___"
   ]
  },
  {
   "cell_type": "markdown",
   "metadata": {},
   "source": [
    "### 4.2.1 From optical to radio interferometry"
   ]
  },
  {
   "cell_type": "markdown",
   "metadata": {},
   "source": [
    "Before addressing the \"interferometry\" part of the course, we will start by quickly recalling the basic results of optical interferometry. As we will see, one should not confuse the \"interferometry\" technique used in optical in general with what is done in the radio, even though a lot of similarities emerge."
   ]
  },
  {
   "cell_type": "markdown",
   "metadata": {},
   "source": [
    "#### 4.2.1.A Back to the basics: Physical Optics Interferometry"
   ]
  },
  {
   "cell_type": "markdown",
   "metadata": {},
   "source": [
    "**Wave superposition theorem**"
   ]
  },
  {
   "cell_type": "markdown",
   "metadata": {},
   "source": [
    "Let $S_1$ and $S_2$ be two point sources, *coherent* and *in phase* emitting two progressive waves $s_1(r,t)$ and $s_2(r,t)$ propagating in space at celerity c. As in figure 1, at point $P$ will received the linear superposition of the waves:\n",
    "\n",
    "$$\\underline{s}(r,t)=\\underline{s_1}(r,t)+\\underline{s_2}(r,t)$$"
   ]
  },
  {
   "cell_type": "markdown",
   "metadata": {},
   "source": [
    "\\begin{eqnarray}\n",
    "\\underline{s}(r,t) &=& \\underline{s_1}(r,t)+\\underline{s_2}(r,t) \\\\\n",
    "\\underline{s}(r,t) &=& s_{01} e^{\\imath (\\omega_1 t - k_1 r +\\varphi_1)}+s_{02} e^{\\imath (\\omega_2 t - k_2 r + \\varphi_2)}\n",
    "\\end{eqnarray}"
   ]
  },
  {
   "cell_type": "markdown",
   "metadata": {},
   "source": [
    "If the source are in phase ($\\varphi_1=\\varphi_2=\\varphi_0$) and have the same amplitude ($s_{01}=s_{02}=s_{0}$) and are synchronous ($\\omega_1=\\omega_2=\\omega$, $k_1=k_2=k$)."
   ]
  },
  {
   "cell_type": "markdown",
   "metadata": {},
   "source": [
    "$s_1(0,t)=s_2(0,t)=s_0 e^{\\imath \\omega t}$. We choose the origin of time to so that the initial phase $\\varphi_0 = 0$."
   ]
  },
  {
   "cell_type": "markdown",
   "metadata": {},
   "source": [
    "At point $P$, the two waves can be written:\n",
    "\n",
    "\\begin{eqnarray}\n",
    "\\underline{s_{1P}}(r_1,t) &=& s_0 e^{\\imath \\left[ \\omega (t - \\frac{r_1}{c}) \\right]} \\\\\n",
    "\\underline{s_{2P}}(r_2,t) &=& s_0 e^{\\imath \\left[ \\omega (t - \\frac{r_2}{c}) \\right]} \\\\\n",
    "\\end{eqnarray}"
   ]
  },
  {
   "cell_type": "markdown",
   "metadata": {},
   "source": [
    "We can therefore rewrite the initial phase of these signals at point $P$,\n",
    "$$\\varphi_1=-\\omega \\frac{r_1}{c} \\quad \\underline{s_{1P}}(r_1,t)=s_0 e^{\\imath (\\omega t + \\varphi_1)}$$\n",
    "\n",
    "$$\\varphi_2=-\\omega \\frac{r_2}{c} \\quad \\underline{s_{2P}}(r_2,t)=s_0 e^{\\imath (\\omega t + \\varphi_2)}$$"
   ]
  },
  {
   "cell_type": "markdown",
   "metadata": {},
   "source": [
    "One can notice that the two signals are out of phase at point $P$ by the quantity $\\Delta \\Phi=\\varphi_2-\\varphi_1$. We define the *Optical path difference* (OPD) $\\delta$ as the physical difference length from $S_1$ (resp. $S_2$) to $P$:\n",
    "\n",
    "$$ \\delta = r_1-r_2 \\quad \\Delta \\Phi = \\varphi_2-\\varphi_1 = 2 \\pi \\frac{\\delta}{\\lambda}$$"
   ]
  },
  {
   "cell_type": "markdown",
   "metadata": {},
   "source": [
    "<img src='figures/interferences.png' width=50%>"
   ]
  },
  {
   "cell_type": "markdown",
   "metadata": {},
   "source": [
    "<div align=\"center\">**Figure 1**: Interference region between two emitting sources $S_1$ and $S_2$. At position P, we received the superposition of the two waves.\n",
    "</div>"
   ]
  },
  {
   "cell_type": "markdown",
   "metadata": {},
   "source": [
    "The phase $\\Delta \\Phi$ depends on $\\delta=r_1-r_2$ and depends on the position of $P$ w.r.t. the sources."
   ]
  },
  {
   "cell_type": "markdown",
   "metadata": {},
   "source": [
    "As seen previously, the incoming waves at $P$ are summed. We assume the same hypothesis on $S_1$ and $S_2$, the resulting signal beats at $\\omega$ but have the amplitude $S_{0P}$ which depends on the relative amplitude and phase of the wave at the location $P$:\n",
    "\n",
    "$$s_P(t)=S_{0P} \\cos( \\omega t + \\phi_{0P})$$\n",
    "\n",
    "$$\\text{ with } S_{0P}=\\sqrt{\\underline{s_P} \\underline{s_P}^*}=\\sqrt{S_{01}^2+S_{02}^2+2 S_{01} S_{02} \\cos \\Delta \\Phi} = \\sqrt{2 S_0^2(1+ \\cos\\Delta \\Phi)} = 2 S_0 \\bigl\\lvert \\cos \\Delta \\Phi \\bigr\\rvert $$"
   ]
  },
  {
   "cell_type": "markdown",
   "metadata": {},
   "source": [
    "The amplitude $S_{0P}$ depends on the location of $P$ in space."
   ]
  },
  {
   "cell_type": "markdown",
   "metadata": {},
   "source": [
    "**Interfering conditions**"
   ]
  },
  {
   "cell_type": "markdown",
   "metadata": {},
   "source": [
    "the $\\cos$ term will modulate the amplitude of the wave. We can define two regimes depending on the value of $S_{0P}$:\n",
    "\n",
    "* $S_{0P}$ is maximal when $\\Delta \\Phi = 2 m \\pi$ with $m \\in \\mathbb{Z}$, meaning that $\\delta = m \\lambda$. The two waves add in phase. We say that we have *constructive interferences*.\n",
    "* $S_{0P}$ is null when $\\Delta \\Phi = (2m+1) \\pi$ with $m \\in \\mathbb{Z}$, meaning that $\\delta = (m+\\frac{1}{2}) \\lambda$. The two wave are in phase opposition. We have have *destructive interferences*."
   ]
  },
  {
   "cell_type": "markdown",
   "metadata": {},
   "source": [
    "Spatially, it creates an interference pattern in amplitude which depends on the location in space. This pattern is composed of fringes (bright or dark) which denotes of location of constant phase in the space. One fringe is defined as the location of points where $S_1 P - S_2 P = cte$.\n",
    "In the 3D space, the fringes are defined by sets of hyperboloids with axial symmetry around the axis ($S_1$,$S_2$) (see Figure. 2). Each hyperboloid correspond to a particular constant. \n",
    "\n",
    "- In the perpendicular plane to the axis ($S_1$,$S_2$), located mid-way between the source, $\\delta =0$ therefore we have a bright fringe.\n",
    "- Conversely, in the planes containing the axis ($S_1$,$S_2$), the fringes are hyperbolas.\n",
    "- Far from the sources, any plane perpendicular to the axis will collect circular fringes.\n",
    "- Far from the sources, any plane parallel to the axis will collect linear fringes."
   ]
  },
  {
   "cell_type": "markdown",
   "metadata": {},
   "source": [
    "<img src='figures/interferences3D.png' width=70%>"
   ]
  },
  {
   "cell_type": "markdown",
   "metadata": {},
   "source": [
    "<div align=\"center\">**Figure 2**: Interference region between two emitting sources in 3D. The amplitude of the interference pattern take the shape of circular hyperboloids. The axis $S_1S_2$ is a characteristic direction of symmetry in the system. In a plane perpendicular to this axis, we collect circular fringes in the far field and in a plane parallel to this axis, we collect linear fringes.\n",
    "</div>"
   ]
  },
  {
   "cell_type": "markdown",
   "metadata": {},
   "source": [
    "<div class=warn>\n",
    "**Warning:** There is a continuous distortion between the linear fringes and the circular fringes. The shape depends on the location of the plane where the hyperboloids are intersected.\n",
    "</div>\n"
   ]
  },
  {
   "cell_type": "markdown",
   "metadata": {},
   "source": [
    "<div class=warn>\n",
    "**Warning:** The interference fringes are visible when:<br>\n",
    "&bull; the two waves share the same physical nature <br>\n",
    "&bull; if the sources are synchronous and emitting at the same frequency <br>\n",
    "&bull; the amplitude of the two sources are approximately of the same amplitude\n",
    "</div>\n"
   ]
  },
  {
   "cell_type": "markdown",
   "metadata": {},
   "source": [
    "#### 4.2.1.B General considerations in the receiving case"
   ]
  },
  {
   "cell_type": "markdown",
   "metadata": {},
   "source": [
    "##### Notion of temporal/spatial coherency"
   ]
  },
  {
   "cell_type": "markdown",
   "metadata": {},
   "source": [
    "A bit hard for this course ?"
   ]
  },
  {
   "cell_type": "markdown",
   "metadata": {},
   "source": [
    "##### The return of the OPD"
   ]
  },
  {
   "cell_type": "markdown",
   "metadata": {},
   "source": [
    "Let's now consider: \n",
    "* two isotropic receiving systems $R_1$ and $R_2$, located on the ground.\n",
    "* a monochromatic Electromagnetic (EM) plane wave, coming from a point source at the infinite towards the direction $\\theta$."
   ]
  },
  {
   "cell_type": "markdown",
   "metadata": {},
   "source": [
    "<img src='figures/interferencereceivers.png' width=40%>"
   ]
  },
  {
   "cell_type": "markdown",
   "metadata": {},
   "source": [
    "<div align=\"center\">**Figure 3**: two receivers receiving a plane wave from direction $\\theta$.\n",
    "</div>"
   ]
  },
  {
   "cell_type": "markdown",
   "metadata": {},
   "source": [
    "If this incoming direction is not the local zenith, then the plane wave will attain $R_1$ and $R_2$ at different times $t_1$ and $t_2$ (**Figure 3**), introducing a *propagation delay* difference $\\Delta t=t_2-t_1$ between the reception of the EM signal.\n",
    "\n",
    "Given the speed of the light ($c$ in the vacuum), this time delay is related to the *Optical Path Difference* (OPD) $\\delta$ with $\\delta = c \\Delta t$.\n",
    "\n",
    "This OPD can be trivialy derived from the projection of $\\mathbf{b}$ on $\\mathbf{s_0}$ via: \n",
    "$$\\delta = \\mathbf{b} \\cdot \\mathbf{s_0}$$\n",
    "\n",
    "Later on, we will combine the signals measured by $R_1$ and $R_2$ from this direction, we have to take into account this delay and correct for it (see Delay tracking section below [INREF]). Assuming that this delay was corrected properly with the hardware, the direction $\\mathbf{s_0}$ will define the *phase center*.\n",
    "\n",
    "Let's consider two planes waves coming from $\\theta$ and $\\theta'$, therefore, coming from two unrelated point sources."
   ]
  },
  {
   "cell_type": "markdown",
   "metadata": {},
   "source": [
    "<img src='figures/interferencereceivers2.png' width=40%>"
   ]
  },
  {
   "cell_type": "markdown",
   "metadata": {},
   "source": [
    "<div align=\"center\">**Figure 4**: Two receivers receiving two plane waves from directions $\\theta$ and $\\theta'$.\n",
    "</div>"
   ]
  },
  {
   "cell_type": "markdown",
   "metadata": {},
   "source": [
    "Any arbitrary direction $\\mathbf{s}$ will relate to $\\mathbf{s_0}$ through the difference vector $\\boldsymbol{\\sigma}=\\mathbf{s}-\\mathbf{s_0}$ (as illustrated on **Figure 4**).  At first approximation (i.e. small $|\\boldsymbol{\\sigma}|$), this vector $\\boldsymbol{\\sigma}$ lies on the plane orthogonal to $\\mathbf{s_0}$ and is tangent to the celestial sphere. It locates the position of a point in the sky, relative to the reference direction $\\mathbf{s_0}$.\n",
    "\n",
    "Later on, $\\boldsymbol{\\sigma}$ will be used to derive the response of an interferometer at any position in the place.\n",
    "\n",
    "Given the directions ($\\mathbf{s}, \\mathbf{s_0}$), the OPDs are obtained via a scalar product with $\\mathbf{b}$. \n",
    "We can compute directly them with the scalar product between $\\mathbf{b}$ and $\\boldsymbol{\\sigma}$.\n",
    "\n",
    "$$\\mathbf{b} \\cdot \\boldsymbol{\\sigma} = \\mathbf{b} \\cdot (\\mathbf{s} - \\mathbf{s_0}) = \\text{OPD}_{\\mathbf{s}}-\\text{OPD}_{\\mathbf{s_0}}$$"
   ]
  },
  {
   "cell_type": "markdown",
   "metadata": {},
   "source": [
    "<div class=warn>\n",
    "**Warning:** Unlike the two coherent/in phase sources case, the total signal received by $R_1$ or $R_2$ **DOES NOT INTERFERE** at $R_1$ or at $R_2$ as they come from **different and incoherent** sources of the sky. It is critical to understand that there is no equivalence between the emitting case and the receiving case.<br> This should not be confused with the reciprocity theorem which is valid when considering the beam pattern of a emitting/receiving antenna.</div>\n"
   ]
  },
  {
   "cell_type": "markdown",
   "metadata": {},
   "source": [
    "<div class=warn>\n",
    "**Warning:** For the moment, the vector $\\mathbf{s}$ and $\\mathbf{s_0}$ are unitary and defined with angles only. Therefore, the length of $\\boldsymbol{\\sigma}$ is a projected angular distance on the sky (defined in terms of direction cosines ($l$, $m$, $n$) defined in the previous chapter).</div>\n"
   ]
  },
  {
   "cell_type": "markdown",
   "metadata": {},
   "source": [
    "#### 4.2.2 First approach to radio interferometry"
   ]
  },
  {
   "cell_type": "markdown",
   "metadata": {},
   "source": [
    "From the configuration presented in **Figure 3** and **Figure 4**, we now try to understand what can be extracted from the different combination of the signals. The reception delay between the antenna induces a phase delay.\n",
    "\n",
    "* We can either add those signals together, and form a *sum* interferometer, or $\\sum$-interferometer\n",
    "* or multiply those signals, to form a *product* interferometer, or $\\prod$-interferometer.\n",
    "\n",
    "Let's define the measured voltages, at the same pulsation $\\omega$:\n",
    "$$V_1=V_{01} \\cos (\\omega t + \\varphi_1)  \\quad V_2 = V_{01} \\cos (\\omega t + \\varphi_1)$$\n",
    "\n",
    "Using the direction $\\mathbf{s}$ as a reference direction of the incoming wave and $R_2$ as the reference antenna (for the origin of the time), we can recast the expression of the signal as a function of OPD:\n",
    "\n",
    "$$V_1=V_{01} \\cos (\\omega t + \\varphi_1 - \\varphi_2)  \\quad V_2 = V_{02} \\cos (\\omega t)$$\n",
    "$$V_1=V_{01} \\cos (\\omega (t + \\frac{\\delta}{c}))  \\quad V_2 = V_{02} \\cos (\\omega t)$$\n",
    "\n",
    "We will assume that $V_{01}=V_{02}=V_0$."
   ]
  },
  {
   "cell_type": "markdown",
   "metadata": {},
   "source": [
    "#####  4.2.2.A About the $\\sum$-interferometer"
   ]
  },
  {
   "cell_type": "markdown",
   "metadata": {},
   "source": [
    "Similarly to $\\S$4.2.1.A, we can derive the result of the summation of the two signals."
   ]
  },
  {
   "cell_type": "markdown",
   "metadata": {},
   "source": [
    "\n",
    "or in complex notation:\n",
    "\n",
    "$$\\underline{V}_\\sum = \\underline{V_1} + \\underline{V_2} = V_{01} e^{\\imath (\\omega t + \\varphi_1)} + V_{02} e^{\\imath (\\omega t + \\varphi_2)}$$\n",
    "\n",
    "As in $\\S$4.2.1.A, we can compute the amplitude of the sum by computing \n",
    "$$A=\\sqrt{(\\underline{V_1} + \\underline{V_2})^2}= (\\underline{V_1} + \\underline{V_2})(\\underline{V_1} + \\underline{V_2})^*$$\n",
    "resulting in\n",
    "\n",
    "$$A=\\sqrt{2 V_0^2(1+ \\cos\\Delta \\Phi)} \\text{ with } \\Delta\\Phi = \\varphi_2-\\varphi_1$$\n",
    "\n",
    "The amplitude of the sum does not depend on the time but only on the delay of reception between $R_1$ and $R_2$.\n",
    "\n",
    "The problem with the summation interferometer is that the additive constant term $2 V_0^2$ is not known and cannot be easily removed. It represents the product of the average level of the voltage product between $R_1$ and $R_2$.\n",
    "We will see that in the $\\prod$-interferometer, this is no longer a problem as this unknown factor will be a multiplying factor which can easily be normalized. In the following, we will focus more on the second case which is the most commonly addressed case in the litterature. \n",
    "\n",
    "The reader interested in more development of the $\\sum$-interferometer can report to (Kraus, $\\S$6.20)[EXREF]."
   ]
  },
  {
   "cell_type": "markdown",
   "metadata": {},
   "source": [
    "#####  4.2.2.B The $\\prod$-interferometer with a $\\cos$ correlator"
   ]
  },
  {
   "cell_type": "markdown",
   "metadata": {},
   "source": [
    "The product of two signals can be implemented through the correlation operation. The correlator is the device which performs the multiplication between the two measured voltages. To reduce the level of noise, the correlator performs some averaging in time. We will assume that the averaging time is long enough so that the quick temporal oscillation in $\\omega t$ in the phasors can be filtered away as in a low-pass filter."
   ]
  },
  {
   "cell_type": "markdown",
   "metadata": {},
   "source": [
    "In our simple case, we will represent the correlation of the signal can be expressed as:\n",
    "\n",
    "$$C= \\langle V_1 V_2 \\rangle_t$$ with $\\langle \\cdot \\rangle_t$ the time averaging operator.\n",
    "\n",
    "\\begin{eqnarray}\n",
    "C&=&\\langle V_{01} V_{02} \\cos{\\omega t} \\cos{[\\omega (t + \\frac{\\delta}{c}) ]} \\rangle_t=&\\langle V_{01} V_{02} \\cos{\\omega t} \\cos{[\\omega (t + \\tau) ]} \\rangle_t\\\\\n",
    "C &=& V_0^2 \\frac{\\langle \\cos(2 \\omega t + \\tau)+\\cos (\\omega \\tau)\\rangle_t}{2}\n",
    "\\end{eqnarray}\n",
    "$$\\boxed{C =\\frac{V_0^2}{2}\\cos{\\omega \\tau}=\\frac{V_0^2}{2}\\cos{(2 \\pi \\frac{\\delta}{\\lambda}})}$$"
   ]
  },
  {
   "cell_type": "markdown",
   "metadata": {},
   "source": [
    "In 4.2.1.A, we have highlighted the fact that the interference fringe pattern depends on the location in space. We also found a condition on the phase to describe individual fringe.\n",
    "Similarly, we see here that the strengh of the correlation between the two measured signals will depends on the OPD, i.e. the delay of reception between the antenna. As it depends on the relative orientation of the baseline $\\mathbf{b}$ with respect to the direction $\\mathbf{s_0}$, we will also create a fringe pattern which will depend spatially on the direction of the source.\n",
    "\n",
    "The fringe phase $\\phi=\\omega \\tau=\\frac{\\omega}{c} |\\mathbf{b}| \\cos \\theta$\n",
    "\n",
    "The fringe rate is the derivative w.r.t. $\\theta$: $ \\frac{d\\phi}{d\\theta}=2\\pi\\frac{|\\mathbf{b}|\\sin\\theta}{\\lambda}$\n",
    "\n",
    "the quantity $\\frac{|\\mathbf{b}| \\sin \\theta}{\\lambda}$ is the fringe period. "
   ]
  },
  {
   "cell_type": "markdown",
   "metadata": {},
   "source": [
    "First result:\n",
    "\n",
    "* The correlation of two measured signals can be associated with the angular position of the source with respect to the baseline.\n",
    "\n",
    "* If $\\lambda$ is small enough compared to the projected baseline $|\\mathbf{b}|\\sin\\theta$, the phase of the correlation can precisely track the position of a source.\n",
    "\n",
    "* As a consequence, the correlation is sensitive to spatial variations of spatial period $\\frac{\\lambda}{|\\mathcal{b}|\\sin \\theta}$ which means that a 2-D element interferometer acts as **spatial filter** for this spatial frequency."
   ]
  },
  {
   "cell_type": "markdown",
   "metadata": {},
   "source": [
    "The sky is composed of spatially incoherent sources (point and/or extended sources) which can be described with a continuous function $I_\\nu(\\boldsymbol{\\mathbf{s}})$, the sky brightness distribution.\n",
    "\n",
    "By linearity of this \"sky-term\", we can compute the total correlation between $R_1$ and $R_2$ by summing over all the observable directions:\n",
    "\n",
    "$$ C_{\\cos}= \\int_\\Omega C(\\mathbf{s}) \\cos(2 \\pi \\frac{\\delta_{\\mathbf{s}}}{\\lambda})d \\Omega$$\n",
    "\n",
    "One limiting property of this correlator is that it is only sensitive to the *even* part of the sky brigthness function (see the note). To be able to measure the *odd* part of the sky brigthness function, we should build a *sine* correlator.\n",
    "\n"
   ]
  },
  {
   "cell_type": "markdown",
   "metadata": {},
   "source": [
    "<div class=advice>\n",
    "**Note:** Indeed, if we imagine that the sky brightness is an odd function composed of two sources of opposite brightness. <br>\n",
    "i.e. $I_\\nu(\\mathbf{s}_+)=+1$ and $I_\\nu(\\mathbf{s}_-)=-1$, $\\delta_+ = - \\delta_-$, $C_+=-C_-$) then\n",
    "\n",
    "$$C_{\\cos}= C_+ \\cos{2 \\pi \\frac{\\delta_{+}}{\\lambda}} + C_- \\cos{2 \\pi \\frac{\\delta_{-}}{\\lambda}}= C_+ \\cos{2 \\pi \\frac{\\delta_{+}}{\\lambda}} - C_+ \\cos{2 \\pi \\frac{\\delta_{+}}{\\lambda}}=0$$\n",
    "\n",
    "The *odd* part of the sky brightness will not measured through the correlation with a *cosine* correlator.</div>"
   ]
  },
  {
   "cell_type": "markdown",
   "metadata": {},
   "source": [
    "**What is coefficient $C(\\mathbf{s})$ ?**"
   ]
  },
  {
   "cell_type": "markdown",
   "metadata": {},
   "source": [
    "By linearity, the voltage measured by each antenna is the integral of the contribution from all directions over their respective field of view.\n",
    "\n",
    "$$V_1= \\int_{\\Omega_1} V_{1_\\Omega} d \\Omega_1 \\quad V_2= \\int_{\\Omega_2} V_{2_\\Omega} d\\Omega_2$$\n",
    "\n"
   ]
  },
  {
   "cell_type": "markdown",
   "metadata": {},
   "source": [
    "$V_{i_\\Omega}$ will be proportional to the received power in direction $\\mathbf{s}$: \n",
    "$V_{i_\\Omega} \\propto \\frac{1}{2} A_{\\text{eff}}(\\mathbf{s}) I_\\nu(\\mathbf{s})\\Delta\\nu d\\Omega$\n",
    "\n",
    "therefore,\n",
    "$$C_{\\cos}= \\langle V_1 V_2 \\rangle_t= \\langle \\int_{\\Omega_1} V_{1_\\Omega} d \\Omega_1 \\int_{\\Omega_2} V_{2_\\Omega} d \\Omega_2 \\rangle_t$$\n",
    "\n",
    "We assume that all the emission from the sky is spatially incoherent, meaning that only the correlation between two signal coming from the same direction will be non-zero. We can therefore swap the the integrals with the time averaging:\n",
    "\n",
    "$$C_{\\cos}= \\langle V_1 V_2 \\rangle_t= \\int_{\\Omega} \\langle V_{1_\\Omega} V_{2_\\Omega} \\rangle_t d \\Omega \\propto \\Delta \\nu \\int_\\Omega A(\\mathbf{s}) I_\\nu(\\mathbf{s}) \\cos(2 \\pi \\nu \\frac{\\delta}{c})d \\Omega$$\n",
    "\n",
    "For simplification, we can assume for now that $C(\\mathbf{s}) \\propto \\Delta \\nu A(\\mathbf{s}) I_\\nu (\\mathbf{s}) $.\n"
   ]
  },
  {
   "cell_type": "markdown",
   "metadata": {},
   "source": [
    "##### 4.2.2.C The $\\prod$-interferometer with a $\\sin$ correlator"
   ]
  },
  {
   "cell_type": "markdown",
   "metadata": {},
   "source": [
    "A straightforward way to do that is by introducing an artificial phase delay of $\\frac{\\pi}{2}$ in one of the two signal path.\n",
    "If we introduce supplementary phase delay to the antenna path of signal $V_2$, we obtain the following:\n",
    "\n",
    "\n",
    "$$V_1=V_{01} \\cos (\\omega (t + \\tau))  \\quad V_2 = V_{02} \\cos (\\omega t + \\frac{\\pi}{2} )$$\n",
    "\\begin{eqnarray}\n",
    "C&=&\\langle V_{01} V_{02} \\cos{(\\omega t + \\frac{\\pi}{2})} \\cos{[\\omega (t + \\tau) ]} \\rangle_t\\\\\n",
    "C&=& V_0^2 \\frac{\\langle \\cos(2 \\omega t + \\tau + \\frac{\\pi}{2})+\\cos (\\omega \\tau - \\frac{\\pi}{2})\\rangle_t}{2}\n",
    "\\end{eqnarray}\n",
    "$$\\boxed{C_{\\sin} =\\frac{V_0^2}{2}\\sin{\\omega \\tau}}$$\n",
    "\n",
    "It is easy to verify that this correlator will only be sensitive to the odd part of the sky brightness."
   ]
  },
  {
   "cell_type": "markdown",
   "metadata": {},
   "source": [
    "By implementing two parallel correlators ($\\cos$ & $\\sin$), one can measures the correlation of both the *even* and *odd* part of the sky brightness.\n",
    "\n",
    "$$\\boxed{C_{\\cos} =\\frac{V_0^2}{2}\\cos{\\omega \\tau}} \\quad \\boxed{C_{\\sin} =\\frac{V_0^2}{2}\\sin{\\omega \\tau}}$$"
   ]
  },
  {
   "cell_type": "markdown",
   "metadata": {},
   "source": [
    "<div class=advice>\n",
    "**Note:** The practical implementation of this supplementary delay can be performed in analogic or in digital by inserting the correct dephasors in the signal path.</div>\n"
   ]
  },
  {
   "cell_type": "markdown",
   "metadata": {},
   "source": [
    "##### 4.2.2.D The complex correlator"
   ]
  },
  {
   "cell_type": "markdown",
   "metadata": {},
   "source": [
    "The previous section addressed *practical* implementation of an interferometer observing an arbitrary sky. As we derived two interferometers with $\\cos$ and $\\sin$ correlators, there is scope to recast these relationship into a *complex* notation."
   ]
  },
  {
   "cell_type": "markdown",
   "metadata": {},
   "source": [
    "We build the complex correlation function as:\n",
    "\\begin{eqnarray}\n",
    "\\underline{C}&=& \\Re{(\\underline{C})}-\\imath\\Im{(\\underline{C})}=C_{\\cos} - \\imath C_{\\sin}\\\\\n",
    "\\underline{C}&=& \\sum_{n_{\\text{dir}}=0}^{\\infty} I_n \\cos(2 \\pi \\frac{\\delta_n}{\\lambda})- \\imath \\sum_{n_{\\text{dir}}=0}^{\\infty} I_n \\sin(2 \\pi \\frac{\\delta_n}{\\lambda})\\\\\n",
    "\\underline{C}&=&\\sum_{n_{\\text{dir}}=0}^{\\infty} I_n \\left[ \\cos(2 \\pi \\frac{\\delta_n}{\\lambda}) - \\imath \\sin(2 \\pi \\frac{\\delta_n}{\\lambda}) \\right] \\\\\n",
    "\\underline{C}&=&\\sum_{n_{\\text{dir}}=0}^{\\infty} I_n e^{-\\imath 2\\pi \\frac{\\delta_n}{\\lambda}}\n",
    "\\end{eqnarray}\n",
    "And in the continuous case,\n",
    "\n",
    "$$\\boxed{\\underline{C}=\\Delta \\nu \\int_{\\Omega} A(\\mathbf{s}) I_\\nu(\\mathbf{s}) e^{-\\imath 2\\pi \\frac{\\mathbf{b}\\cdot\\mathbf{s}}{\\lambda}} d\\Omega}$$\n"
   ]
  },
  {
   "cell_type": "markdown",
   "metadata": {},
   "source": [
    "<div class=warn>\n",
    "**Warning:** The minus sign in the definition of the complex correlation is a matter of convention for the rest of the course.<br>\n",
    "$\\Omega$ is a solid angle which describe the full-sky or the Field of View of the receiver.\n",
    "</div>\n"
   ]
  },
  {
   "cell_type": "markdown",
   "metadata": {},
   "source": [
    "#### Introducing the phase center"
   ]
  },
  {
   "cell_type": "markdown",
   "metadata": {},
   "source": [
    "We have defined the response of a correlator towards any direction $\\mathbf{s}$. We will now introduce the particular direction $\\mathbf{s_0}$ of the phase center into the previous equation by introducing $\\boldsymbol{\\sigma}$: \n",
    "\n",
    "$\\mathbf{s}=\\mathbf{s_0}+\\boldsymbol{\\sigma}$\n",
    "\n",
    "\\begin{eqnarray}\n",
    "\\underline{C}&=& \\Delta \\nu e^{-\\imath 2\\pi \\frac{\\mathbf{b}\\cdot\\mathbf{s_0}}{\\lambda}} \\int_{\\Omega}  A(\\mathbf{s}) I_\\nu(\\mathbf{s}) e^{-\\imath 2\\pi \\frac{\\mathbf{b}\\cdot \\boldsymbol{\\sigma}}{\\lambda}} d\\Omega\n",
    "\\end{eqnarray}"
   ]
  },
  {
   "cell_type": "markdown",
   "metadata": {},
   "source": [
    "We will defined the *visibility* as a complex quantity as follows:\n",
    "$$\\underline{V}=|V|e^{\\imath\\phi_V}=\\int_{\\Omega}A(\\boldsymbol{\\sigma}) I_\\nu(\\boldsymbol{\\sigma})   e^{-\\imath 2\\pi \\frac{\\mathbf{b}\\cdot \\boldsymbol{\\sigma}}{\\lambda}} d\\Omega$$"
   ]
  },
  {
   "cell_type": "markdown",
   "metadata": {},
   "source": [
    "<div class=warn>\n",
    "**Warning:** The position vector is now $\\boldsymbol{\\sigma}$ which depends on the definition of $\\mathbf{s_0}$. The visibility is a quantity which depends on the definition of the phase center and will vary for any other phase center definition.</div>\n"
   ]
  },
  {
   "cell_type": "markdown",
   "metadata": {},
   "source": [
    "\n",
    "$$\\underline{C}= \\Delta \\nu e^{-\\imath 2\\pi \\frac{\\mathbf{b}\\cdot\\mathbf{s_0}}{\\lambda}} |V|e^{\\imath \\phi_V} = \\Delta \\nu |V| e^{\\imath (\\phi_V - 2\\pi \\frac{\\mathbf{b}\\cdot\\mathbf{s_0}}{\\lambda})}$$\n"
   ]
  },
  {
   "cell_type": "markdown",
   "metadata": {},
   "source": [
    "From the measurements by the correlator, the amplitude $|V|$ and phase $\\phi_V$ are given by the calibration step."
   ]
  },
  {
   "cell_type": "markdown",
   "metadata": {},
   "source": [
    "#### Effect of the bandwidth, necessity of delay tracking"
   ]
  },
  {
   "cell_type": "markdown",
   "metadata": {},
   "source": [
    "Measuring a correlation over a finite bandwidth $\\Delta\\nu$ will introduce a decorrelation of the two signals as the fringe term depends on $\\nu$. Multiple fringes with nearly identical spatial frequency will interact and create a beating effet. This will have an effect of tempering the contract of the fringe pattern and therefore on the strength of the correlation. We will now see how much the decorrelation impacts the fringe pattern and how to correct for it.\n",
    "\n",
    "At a frequency $\\nu$, in a elementary bandwith $d \\nu$, the correlator will give:\n",
    "\n",
    "$$dC= |V| e^{\\imath (\\phi_V - 2\\pi \\nu \\tau)} d \\nu$$ with $\\tau= \\frac{\\mathbf{b}\\cdot \\mathbf{s_0}}{c}$\n",
    "\n",
    "\n",
    "If we sum the response over a finite band $\\Delta \\nu$ centered at $\\nu_0$:\n",
    "\n",
    "$$C= |V| \\int_{\\nu_0-\\Delta \\nu /2}^{\\nu_0+\\Delta \\nu /2}e^{\\imath (\\phi_V - 2\\pi \\nu \\tau)} d\\nu= |V| \\int_{\\nu_0-\\Delta \\nu /2}^{\\nu_0+\\Delta \\nu /2} \\cos (\\phi_V - 2\\pi \\nu \\tau)d\\nu + \\imath  |V| \\int_{\\nu_0-\\Delta \\nu /2}^{\\nu_0+\\Delta \\nu /2} \\sin (\\phi_V - 2\\pi \\nu \\tau)d\\nu$$\n",
    "\n",
    "$$C=  |V| \\left[\\frac{\\sin (\\phi_V - 2\\pi \\nu \\tau)}{-2\\pi \\tau}\\right]_{\\nu_0-\\Delta \\nu /2}^{\\nu_0+\\Delta \\nu /2} + \\imath  |V| \\left[\\frac{-\\cos (\\phi_V - 2\\pi \\nu \\tau)}{-2\\pi \\tau}\\right]_{\\nu_0-\\Delta \\nu /2}^{\\nu_0+\\Delta \\nu /2} $$\n",
    "\n",
    "$$C=  \\frac{|V|}{-2\\pi \\tau} \\left[ \\sin (\\phi_V - 2\\pi (\\nu_0 +\\frac{\\Delta \\nu}{2}) \\tau) - \\sin (\\phi_V - 2\\pi (\\nu_0 -\\frac{\\Delta \\nu}{2}) \\tau)\\right] + \\imath  |V| \\left[ \\dots\\right]_{\\nu_0-\\Delta \\nu /2}^{\\nu_0+\\Delta \\nu /2} $$\n",
    "\n",
    "$$C=  \\frac{|V|}{2\\pi \\tau} \\left[ 2 \\cos{(\\phi_V - 2\\pi \\nu_0  \\tau) \\sin{\\pi\\Delta\\nu \\tau}} \\right] + \\imath  \\frac{|V|}{2\\pi\\tau} \\left[ 2 \\sin{(\\phi_V - 2\\pi \\nu_0  \\tau) \\sin{\\pi\\Delta\\nu \\tau}}\\right] $$\n",
    "\n",
    "$$C=  |V|\\Delta\\nu \\frac{\\sin{\\pi\\Delta\\nu \\tau}}{\\pi \\Delta\\nu \\tau}  e^{\\imath (\\phi_V - 2\\pi \\nu_0 \\tau)}=|V|\\Delta \\nu \\; \\text{sinc}(\\pi\\Delta\\nu \\tau) e^{\\imath (\\phi_V - 2\\pi \\nu_0 \\tau)} $$"
   ]
  },
  {
   "cell_type": "markdown",
   "metadata": {},
   "source": [
    "We see that a new modulation term will apply to the amplitude of the correlation. It takes a form of a cardinal sine depending on the bandwidth $\\Delta\\nu$ and of the delay $\\tau$. As we still want to observe radio signals is some bandwidth, a way to *kill* this dampening factor is to cancel $\\tau$, which is the delay between the two signals. \n",
    "The was to do this is to inject an arbitrary delay $\\tau_c=\\tau$ in the signal path of the receiver which measure the signal first. \n",
    "\n",
    "As the direction $\\mathbf{s_0}$ will slowly move with the sky, the phase center should be tracked by imposing a time dependent delay $\\tau_c$ into the correct signal path to compensate for $\\tau$.\n",
    "\n",
    "As a result, the fringes and the fringe enveloppe maximum will always follow the phase center."
   ]
  },
  {
   "cell_type": "markdown",
   "metadata": {},
   "source": [
    "<div class=advice>\n",
    "**Note:** This delay tracking is the core principle of *phased arrays*, which will point electronically the maximum of the response of the array toward the direction of interest, by introducing delays between the receivers.</div>\n"
   ]
  },
  {
   "cell_type": "markdown",
   "metadata": {},
   "source": [
    "<img src='figures/spatialfiltering.png' width=100%>"
   ]
  },
  {
   "cell_type": "markdown",
   "metadata": {},
   "source": [
    "<div align=\"center\">**Figure 6**: Relationship between the projected baseline, the ($u$,$v$,$w$) space and the ($l$,$m$,$n$) space.\n",
    "</div>"
   ]
  },
  {
   "cell_type": "markdown",
   "metadata": {},
   "source": [
    "In the next section, dedicated to the study of the complex visibility function, we will see what information we can retrieve about the source, thanks to the correlation of the signals measured by the two receivers."
   ]
  },
  {
   "cell_type": "markdown",
   "metadata": {},
   "source": [
    "A 2-element interferometer is defined by a unique physical baseline. Considering the direction $\\mathbf{b}$, the projected baseline is defined as the scalar product $\\mathbf{b} \\cdot \\boldsymbol{\\sigma}$.\n",
    "\n",
    "The equation can be interpreted as the summation of the sky brightness *as seen* through a fringe pattern defined by\n",
    "$ e^{-\\imath 2\\pi \\frac{\\textbf{b}\\cdot\\boldsymbol{\\sigma}}{\\lambda}}$.\n",
    "\n",
    "In a 1 dimension case, it simplifies as $ e^{-\\imath \\frac{2\\pi}{\\lambda} |\\mathbf{b}|\\sin{\\theta}}$\n",
    "\n",
    "The amplitude of the complex visibility function can be interpreted as the *fringe contrast* or *fringe visibility*. We will see that it has interesting consequence on the measurement of a source shape.\n"
   ]
  },
  {
   "cell_type": "markdown",
   "metadata": {},
   "source": [
    "<p class=conclusion>\n",
    "  <font size=4> **Important things to remember**</font>\n",
    "  <br>\n",
    "\n",
    "&bull; Different portions of the sky are **incoherent**, they do not interfere at the antenna level.<br>\n",
    "&bull; The interference pattern is \"created\" by a special combination of the antenna signals.\n",
    "</p>"
   ]
  },
  {
   "cell_type": "markdown",
   "metadata": {
    "collapsed": true
   },
   "source": [
    "---\n",
    "* [Go back up](#beginning) <!--\\ref{beginning}--> \n",
    "* Or continue to next section: [4.3 The Visibility Function -->](4_3_The_Visibility_Function.ipynb)\n",
    "---"
   ]
  }
 ],
 "metadata": {
  "kernelspec": {
   "display_name": "Python 2",
   "language": "python",
   "name": "python2"
  },
  "language_info": {
   "codemirror_mode": {
    "name": "ipython",
    "version": 2
   },
   "file_extension": ".py",
   "mimetype": "text/x-python",
   "name": "python",
   "nbconvert_exporter": "python",
   "pygments_lexer": "ipython2",
   "version": "2.7.6"
  }
 },
 "nbformat": 4,
 "nbformat_minor": 0
}
