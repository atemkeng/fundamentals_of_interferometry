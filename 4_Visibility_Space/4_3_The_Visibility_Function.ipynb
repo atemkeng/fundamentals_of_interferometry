{
 "cells": [
  {
   "cell_type": "markdown",
   "metadata": {},
   "source": [
    "***\n",
    "<a id='beginning'></a> <!--\\label{beginning}-->\n",
    "* [Outline](../0_Introduction/0_introduction.ipynb)\n",
    "* [Glossary](../0_Introduction/1_glossary.ipynb)\n",
    "* [4. The Visibility space](4_0_introduction.ipynb)\n",
    "    * Previous: [4.2 The 2-Element Interferometer](4_2_The_2-element_Interferometer.ipynb)\n",
    "    * Next: [4.4.1 UV Coverage: UV Tracks](4_4_1_UV_Coverage_UV_Tracks.ipynb)\n",
    "\n",
    "***"
   ]
  },
  {
   "cell_type": "code",
   "execution_count": 14,
   "metadata": {
    "collapsed": false
   },
   "outputs": [
    {
     "data": {
      "text/html": [
       "<style>\n",
       "\n",
       "p.prerequisites {\n",
       "    border:5px;\n",
       "    border-style:none;\n",
       "    background-color:#F0F0F0;\n",
       "    box-shadow: 5px 5px 2px #888888;\n",
       "    border-color:#FF0000;\n",
       "    padding: 1em;\n",
       "}\n",
       "\n",
       "p.conclusion {\n",
       "    border:5px;\n",
       "    border-style:none;\n",
       "    background-color:#c8ebca;\n",
       "    box-shadow: 5px 5px 2px #888888;\n",
       "    border-color:#c8ebca;\n",
       "    padding: 1em;\n",
       "}\n",
       "\n",
       "div.warn {    \n",
       "    background-color: #fcf2f2;\n",
       "    border-color: #dFb5b4;\n",
       "    border-left: 5px solid #dfb5b4;\n",
       "    padding: 0.5em;\n",
       "    }\n",
       "\n",
       "div.advice {    \n",
       "    background-color: #ecf8ed;\n",
       "    border-color: #a2dda5;\n",
       "    border-left: 5px solid #a2dda5;\n",
       "    padding: 0.5em;\n",
       "    }\n",
       " </style>\n",
       "\n",
       "\n"
      ],
      "text/plain": [
       "<IPython.core.display.HTML object>"
      ]
     },
     "execution_count": 14,
     "metadata": {},
     "output_type": "execute_result"
    }
   ],
   "source": [
    "from IPython.core.display import HTML\n",
    "import numpy as np\n",
    "import matplotlib.pyplot as plt\n",
    "%matplotlib inline\n",
    "styles = open(\"../style/course.css\", \"r\").read()\n",
    "HTML(styles)"
   ]
  },
  {
   "cell_type": "markdown",
   "metadata": {},
   "source": [
    "Main author: Julien Girard"
   ]
  },
  {
   "cell_type": "markdown",
   "metadata": {},
   "source": [
    "---\n",
    "# Outline\n",
    "\n",
    "## Section 4.3 The Visibility Function\n",
    "\n",
    "### Intro\n",
    "\n",
    "### 4.3.1 Mathematical definition of the complex visibility\n",
    "* 4.3.1.A Specific intensity / Brigthness temperature\n",
    "\n",
    "* 4.3.1.B Expression of the fringe pattern\n",
    "\n",
    "* 4.3.1.C Link with the Fourier Transform\n",
    "\n",
    "### 4.3.2 Understanding & Working with Visibility Functions\n",
    "\n",
    "\n",
    "*  4.3.2.A Representation of the visibility function\n",
    "\n",
    "*  4.3.2.B Using the visibility phase: location of the source\n",
    "\n",
    "* 4.3.2.C Ilustration: guessing the properties of a source without imaging\n",
    "\n",
    "___\n",
    "___\n",
    "___"
   ]
  },
  {
   "cell_type": "markdown",
   "metadata": {},
   "source": [
    "### Intro\n",
    "\n",
    "The visibility function is the relevant measured quantity by any interferometer. It is linked to the constrast of the fringe pattern created by the combination of the antenna signals in each baseline.\n",
    "\n",
    "Real-life signals will suffer from (non-)instrumental and direction-(in)dependent effects which need to be corrected for to retrieve a reliable information on the sky brightness.\n",
    "This can be exhaustively described by the mathematical framework of the **Radio Interferometer Measurement Equation** (RIME)[EXREF OLEG] which enables the expression of the distortions applied to the electrical fields, from their emissions to their receptions by unperfect elements of the interferometer. In this linear description, each event occuring on the signal (distortions along the direction of observation, non-uniformity of antenna elements, etc.) is modeled as a 2$\\times$2 *Jones* operators which alter consecutively the signal. These Jones operators can be solved for and corrected for in the calibration step [EXREF TRIENKO].\n",
    "\n",
    "For the sake of understanding the physical properties of the visibility function, we will take a series of assumptions to simplify the calculus."
   ]
  },
  {
   "cell_type": "markdown",
   "metadata": {},
   "source": [
    "Assuming as steady and slowly rotating sky above the interferometer, the collection of visibilities from all the baselines, is a collection of samples of the *continuous* visibility function $\\mathcal{V}$. Under certain assuptions, we will see how this visibility function is related to the Fourier transform of the sky intensity distribution.\n"
   ]
  },
  {
   "cell_type": "markdown",
   "metadata": {
    "collapsed": true
   },
   "source": [
    "Assuming no instrumental distortion (i.e. perfectly calibrated data), we established in the previous section, a simple formula giving the contribution of all portions of the sky within $\\Omega$ (and located at $\\boldsymbol{\\sigma}$ from the phase center) to the visibility measured $\\mathcal{V}_b$ accessible with the baseline $\\mathbf{b}$."
   ]
  },
  {
   "cell_type": "markdown",
   "metadata": {},
   "source": [
    "### 4.3.1 Mathematical definition of the complex visibility\n"
   ]
  },
  {
   "cell_type": "markdown",
   "metadata": {},
   "source": [
    "#### 4.3.1.A specific intensity / surface brigthness"
   ]
  },
  {
   "cell_type": "markdown",
   "metadata": {},
   "source": [
    "As seen on Chap. 1, the *specific intensity* $I_\\nu$ (or the *surface brightness* $\\mathcal{B}_\\nu$) can be related to the received power by unit of solid angle, frequency and collecting area:\n",
    "$$ dP_{\\nu} = I_{\\nu} d\\Omega d\\nu d A_{\\text{eff}} $$\n",
    "with $dP$ in Watt, $I_{\\nu}$ in $W.m^{-2}.sr^{-1}.Hz^{-1}$\n",
    "\n",
    "In the integrated form, the received power $P_{\\text{rec}}$ from the source of flux density $S$ in the bandwidth $\\Delta \\nu$, flowing through a collecting area $A$ is:\n",
    "$$P_{\\text{rec}}=\\frac{1}{2} A S \\Delta \\nu$$\n",
    "\n"
   ]
  },
  {
   "cell_type": "markdown",
   "metadata": {},
   "source": [
    "At a location $\\boldsymbol{\\sigma}$ from the phase center $\\mathbf{s_0}$, the portion of the sky defined by $d\\Omega$ will contribute to the received power over the bandwidth $\\Delta \\nu$ and the collecting surface $A_{\\text{eff}}$ as:\n",
    "$$dP(\\boldsymbol{\\sigma})= \\frac{1}{2} A_{\\text{eff}}(\\boldsymbol{\\sigma})I_\\nu(\\boldsymbol{\\sigma})\\Delta\\nu d\\Omega$$"
   ]
  },
  {
   "cell_type": "markdown",
   "metadata": {},
   "source": [
    "<div class=advice>\n",
    "**Recall of definition:** <br>\n",
    "\n",
    "- the flux density : $S_{\\nu} = \\int I_{\\nu} d\\Omega$ in Jansky (Jy)<br>\n",
    "- the flux : F=$\\int_{\\Delta \\nu} \\int_\\Omega I_\\nu d \\Omega d\\nu$ in W.m$^{-2}$<br>\n",
    "- the received power:  P= $\\int_{A_\\text{eff}}\\int_{\\nu} \\int_\\Omega I_\\nu d \\Omega d\\nu d A_{\\text{eff}}$ in W<br>\n",
    "where $\\Omega$ is the solid angle subtended by the source in steradians.\n",
    "</div>"
   ]
  },
  {
   "cell_type": "markdown",
   "metadata": {},
   "source": [
    "<div class=warn>\n",
    "**Warning:** The specific intensity $I_{\\nu}$ does not vary in vacuum by propagation and is independent of the distance to the source. However, the flux density $S_{\\nu}$ vary with the distance as $\\Omega$ as a $r^{-2}$ dependency.</div>\n"
   ]
  },
  {
   "cell_type": "markdown",
   "metadata": {},
   "source": [
    "<div class=warn>\n",
    "**Warning:** the $\\frac{1}{2}$ coefficient accounts for the fact that most antenna feeds are polarized (circularly or linearly) and therefore are only sensitive to half of the power of an unpolarized source. Note that if the source and the antenna share the same polarization, the full power is measured by the antenna.</div>\n"
   ]
  },
  {
   "cell_type": "markdown",
   "metadata": {},
   "source": [
    "We have seen that the measured quantity by an interferometer is the integral of the contribution from different portions of the sky $\\Omega$. The compound complex visibility associate the measurement of the *odd* part and of the *even* part of the specific intensity $I_\\nu$, modulated by the antenna response, assumed to be identical for all receivers.\n",
    "\n",
    "$$\\boxed{\\boxed{\\mathcal{ V_{\\mathbf{b}} } = \\int_{\\Omega} A_\\text{eff}(\\boldsymbol{\\sigma})I_\\nu(\\boldsymbol{\\sigma}) e^{-\\imath 2\\pi \\frac{\\textbf{b}\\cdot \\boldsymbol{\\sigma}}{\\lambda}} d\\Omega}}$$\n",
    "\n",
    "We will use a normalized expression of the effective area to give $\\mathcal{V}_{\\mathbf{b}}$ the dimension of a flux density."
   ]
  },
  {
   "cell_type": "markdown",
   "metadata": {},
   "source": [
    "$$\\boxed{\\boxed{\\mathcal{ V_{\\mathbf{b}} } = \\int_{\\Omega}I_\\nu(\\boldsymbol{\\sigma}) e^{-\\imath 2\\pi \\frac{\\textbf{b}\\cdot \\boldsymbol{\\sigma}}{\\lambda}} d\\Omega}} \\text{ in Jy}$$"
   ]
  },
  {
   "cell_type": "markdown",
   "metadata": {},
   "source": [
    "#### 4.3.1.B Expression of the fringe pattern\n"
   ]
  },
  {
   "cell_type": "markdown",
   "metadata": {},
   "source": [
    "In section 4.1, we defined various coordinates systems to represent the baseline in a sky-friendly frame. We will now use them to have an explicit expression of the visibility $\\mathcal{V}_{\\mathbf{b}}$.\n",
    "\n",
    "\n",
    "$\\boldsymbol{\\sigma}$ is the direction difference vector defined as $\\boldsymbol{\\sigma}= \\mathbf{s} - \\mathbf{s_0}$.\n",
    "\n",
    "In the ($u$,$v$,$w$) coordinate system, we have\n",
    "\n",
    "\\begin{eqnarray}\n",
    "\\mathbf{s_0}&=&\n",
    "\\begin{pmatrix}\n",
    "0 \\\\\n",
    "0 \\\\\n",
    "1 \\\\\n",
    "\\end{pmatrix}\n",
    "\\end{eqnarray}\n",
    "\n",
    "\\begin{eqnarray}\n",
    "\\mathbf{s} \n",
    "&=&\n",
    "\\begin{pmatrix}\n",
    "l \\\\\n",
    "m \\\\\n",
    "n \\\\\n",
    "\\end{pmatrix}\n",
    "\\end{eqnarray}\n",
    "\n",
    "\\begin{eqnarray}\n",
    "\\mathbf{b}_{\\lambda} \n",
    "&=&\n",
    "\\mathbf{ \\frac{\\mathbf{b}}{\\lambda}}\n",
    "=\n",
    "\\begin{pmatrix}\n",
    "u \\\\\n",
    "v \\\\\n",
    "w \\\\\n",
    "\\end{pmatrix}\n",
    "\\end{eqnarray}\n"
   ]
  },
  {
   "cell_type": "markdown",
   "metadata": {},
   "source": [
    "The scalar product $\\mathbf{b} \\cdot \\boldsymbol{\\sigma}$ can therefore be expressed as a function of ($u$,$v$,$w$) and ($l$,$m$,$n$):"
   ]
  },
  {
   "cell_type": "markdown",
   "metadata": {},
   "source": [
    "\n",
    "$$ \\mathbf{b_\\lambda} \\cdot \\boldsymbol{\\sigma}= ul + vm + (n-1)w $$"
   ]
  },
  {
   "cell_type": "markdown",
   "metadata": {},
   "source": [
    "We will describe the quantity $d\\Omega$ in term of ($l$,$m$,$n$) coordinates. This quantity describes an element of solid angle on the celestial sphere.\n",
    "As $d \\Omega = d\\theta \\sin \\theta d\\phi$, we may also express the surface element in terms of ($l$,$m$,$n$). By computing the Jacobian determinent (See Appendix A...) [INREF], we end up with:\n",
    "\n",
    "$$d \\Omega = \\frac{dl dm}{n} = \\frac{dl dm}{\\sqrt{1 - l^2 - m^2}}$$"
   ]
  },
  {
   "cell_type": "markdown",
   "metadata": {},
   "source": [
    "$$\\boxed{\\boxed{\\mathcal{ V }(u,v,w) = \\int_{-\\infty}^{\\infty}\\int_{-\\infty}^{\\infty} A(l,m)I_\\nu(l,m) \\exp \\left[ {-\\imath 2\\pi (ul+vm+w(\\sqrt{1-l^2-m^2}-1)) }\\right] \\frac{dl dm}{\\sqrt{1 - l^2 - m^2}}}}$$"
   ]
  },
  {
   "cell_type": "markdown",
   "metadata": {},
   "source": [
    "<div class=warn>\n",
    "**Warning:** The bounds of the integral can be infinite as we know that the integrand in bounded ($A$ and $I_\\nu$ are null when $l^2+m^2 \\geq 1$).</div>\n"
   ]
  },
  {
   "cell_type": "markdown",
   "metadata": {},
   "source": [
    "If the following conditions are met:\n",
    "\n",
    "- the field of view $\\Omega$ is small\n",
    "- the beam pattern $A(l,m)$ goes quickly to zero\n",
    "- the source are grouped close to the phase center at (l=0,m=0)\n",
    "- w is small\n",
    "\n",
    "i.e.  $l,m << 1$\n",
    "then we can take simplify the expression of $\\mathcal{V}$ by keeping the first order development of the argument of the exponential:\n",
    "\n",
    "$w(\\sqrt{1-l^2-m^2}-1) \\sim -\\frac{1}{2}(l^2+m^2) \\sim \\mathcal{O}(l,m) $\n",
    "\n",
    "The integral becomes:\n",
    "\n",
    "\n",
    "$$ \\mathcal{V}(u,v,w \\sim 0) = \\int_{-\\infty}^{\\infty} \\int_{-\\infty}^{\\infty} \\frac{A(l,m) I_\\nu (l,m)}{\\sqrt{1 - l^2 - m^2}}  e^{ -\\imath 2\\pi (ul+vm)}dl dm$$\n"
   ]
  },
  {
   "cell_type": "markdown",
   "metadata": {},
   "source": [
    "#### 4.3.1.C Link with the Fourier Transform"
   ]
  },
  {
   "cell_type": "markdown",
   "metadata": {},
   "source": [
    "The Eq. is no longer a function of $w$, and it now takes the shape of a 2-D Fourier transform (see Chap 2.) with (u,v) being the fourier pairs of (l,m).\n",
    "\n",
    "The inverse transform can be written:\n",
    "\n",
    "$$ \\frac{A(l,m) I_\\nu}{\\sqrt{1 - l^2 - m^2}} = \\int_{-\\infty}^{\\infty} \\int_{-\\infty}^{\\infty} \\mathcal{V}(u,v) e^{ +\\imath 2\\pi (ul+vm)}du dv$$\n",
    "\n",
    "We will come back to the consequences of this form later, in section 4.5.(INREF  Van CITTERT-ZERNIKE)."
   ]
  },
  {
   "cell_type": "markdown",
   "metadata": {},
   "source": [
    "### 4.3.2 Understanding the visibility function"
   ]
  },
  {
   "cell_type": "markdown",
   "metadata": {},
   "source": [
    "####  4.3.2.A Representations of the visibility function"
   ]
  },
  {
   "cell_type": "markdown",
   "metadata": {},
   "source": [
    "The Fourier relationship existing between $I_\\nu$ and $\\mathcal{V}$ if of primary interest as it is the latter that is sampled by an interferometer. The interferometer is not sensitive to the sky but to the Fourier transform of the sky.\n",
    "To recover some knowledge of the sky through $I_\\nu$, one needs to understand the general shape of the visibility function.\n",
    "We will consider it as a continuous complex function.\n",
    "\n",
    "$\\mathcal{V}_\\nu$ is a 2D function lying in the Fourier space. At a time $t$ and frequency $\\nu$, one baseline and one direction $\\mathbf{s_0}$, will provide a unique ($u$,$v$) point in the fourier space, which corresponds to one complex sample of the visibility function.\n",
    "\n",
    "In the earlier days of interferometry, only few samples where available and the inspection of the samples in a 2D plane was unpractical. We usually inspect the amplitude of the visibility samples as a function of the *uv distance* $r_{uv}$ defined:\n",
    "\n",
    "$ r_{uv} = \\sqrt{u^2+v^2}$\n",
    "\n",
    "\n",
    "Instead of exploiting the FT properties linking the visibility function to the brightness distribution, we will simply approach this integral on a simple case.\n",
    "\n",
    "The FT will be used in the next chapter for imaging.\n",
    "\n",
    "#### interpretation of the integral as a spatial filtering"
   ]
  },
  {
   "cell_type": "markdown",
   "metadata": {},
   "source": [
    "The visibility is expressed as the integral of the intensity distribution with a complex exponential which is the Fourier kernel. Using a vector definition of the intensity distribution as a function of direction, this integral can be interpreted as the scalar product between the intensity distribution vector, and the Fourier basis kernel function:\n",
    "\n",
    "$$ \\mathcal{V}= \\langle \\mathbf{I_\\nu} \\cdot \\mathbf{f}_{u,v}^{l,m}\\rangle$$ with $\\mathbf{f}_{u,v}^{l,m}= e^{-2j\\pi (ul+vm)}$\n",
    "\n",
    "This can be seen as the projection of $\\mathbf{I_\\nu}$ on the basis vector $\\mathbf{f}_{u,v}^{l,m}$. The complex visibility of the baseline with $u$,$v$ coordinates, is therefore the coefficient of the intensity distribution of the the basis Fourier vector of Fourier of frequency ($u$,$v$). This operation therefore filters the magnitude of spatial frequency ($u$,$v$) contained in the intensity distribution.\n",
    "\n",
    "The Fourier vector can be seen as a fringe pattern projected on the sky (**Figure 1**), through which the content of the sky is seen."
   ]
  },
  {
   "cell_type": "markdown",
   "metadata": {},
   "source": [
    "<img src='figures/uvfreq.png' width=50%>"
   ]
  },
  {
   "cell_type": "markdown",
   "metadata": {},
   "source": [
    "<div align=\"center\">**Figure 1**: a single spatial frequency located at ($u$,$v$) and its associated fringe pattern on the sky<br>\n",
    "</div>"
   ]
  },
  {
   "cell_type": "markdown",
   "metadata": {},
   "source": [
    "##### 4.3.2.B Using the visibility amplitude: shape of the source"
   ]
  },
  {
   "cell_type": "markdown",
   "metadata": {},
   "source": [
    "Consider a 2-element interferometer projecting a baseline ($u$,$v=0$,$w=0$) associated with a set of fringes along the $m$ axis (for simplification). This is possible with a East-West baseline (see section 4.4). \n",
    "\n",
    "This interferometer will observe instantaneously a single extended source (represented by a disk of unit brigthness) at the phase center and during the transit.\n",
    "\n",
    "We assume that the sky is only composed of this source, that the effect of the antenna pattern is negligible and that $w=0$.\n",
    "\n",
    "The integral of Eq. therefore reduces to computing the integral of the fringe pattern over the source:\n",
    "$$ \\mathcal{V} = \\int_{\\text{disk}} e^{-2j\\pi ul}dl$$\n"
   ]
  },
  {
   "cell_type": "code",
   "execution_count": 25,
   "metadata": {
    "collapsed": false
   },
   "outputs": [],
   "source": [
    "# 1 East-West baseline observing a disk at the phase center\n",
    "from matplotlib.patches import Circle\n",
    "def plotfringe(u=4,rad=0.2):\n",
    "    global radius\n",
    "    radius=rad\n",
    "    # preparing (l,m,n) space\n",
    "    Npointsl=1001\n",
    "    ll=np.linspace(-1.,1.,Npointsl)\n",
    "    l,m=np.meshgrid(ll,ll)\n",
    "\n",
    "    # Definition of the disk\n",
    "    #radius=0.1234 # angular radius of the object in l,m coordinates\n",
    "\n",
    "    # projected baseline length on the u axis\n",
    "    #u=4\n",
    "\n",
    "    # generate fringe pattern\n",
    "    tabcos=np.real(np.exp(-2j*np.pi*u*l))\n",
    "\n",
    "    # plotting the fringe pattern and the source\n",
    "    pxrad=radius*Npointsl/2\n",
    "    circle=Circle((500,500),pxrad,color='r',alpha=0.5,fill=True)\n",
    "    fig,ax =plt.subplots(figsize=(6,6))\n",
    "    im=plt.imshow(np.abs(tabcos),interpolation=None,cmap=\"winter\")\n",
    "    ax.add_patch(circle)\n",
    "    #center=l[(Npoints-1)/2,(Npoints-1)/2]\n",
    "\n",
    "    # Compute the absolute value of the integral of the fringe over the source\n",
    "    w=np.where(np.sqrt(l**2+m**2) <= radius)\n",
    "    integral=np.sum(tabcos[w])\n",
    "    print \"Integral=\"+str(integral)\n"
   ]
  },
  {
   "cell_type": "code",
   "execution_count": 26,
   "metadata": {
    "collapsed": false
   },
   "outputs": [
    {
     "name": "stdout",
     "output_type": "stream",
     "text": [
      "Integral=12341.4705686\n"
     ]
    },
    {
     "data": {
      "image/png": "[encoded data removed]",
      "text/plain": [
       "<matplotlib.figure.Figure at 0x7f1cab320d10>"
      ]
     },
     "metadata": {},
     "output_type": "display_data"
    }
   ],
   "source": [
    "plotfringe(u=2,rad=0.2)"
   ]
  },
  {
   "cell_type": "markdown",
   "metadata": {},
   "source": [
    "The source is represented with the red circle on top of which the fringe pattern is super imposed. We see that an uneven fraction of the bright fringes is crossing the source. The resulting integral is positive in this case. Let's try to increase the projected baseline size by increasing the value of $u$."
   ]
  },
  {
   "cell_type": "code",
   "execution_count": 27,
   "metadata": {
    "collapsed": false
   },
   "outputs": [
    {
     "name": "stdout",
     "output_type": "stream",
     "text": [
      "Integral=-2140.96170232\n"
     ]
    },
    {
     "data": {
      "image/png": "[encoded data removed]",
      "text/plain": [
       "<matplotlib.figure.Figure at 0x7f1cab261290>"
      ]
     },
     "metadata": {},
     "output_type": "display_data"
    }
   ],
   "source": [
    "plotfringe(u=5,rad=0.2)"
   ]
  },
  {
   "cell_type": "markdown",
   "metadata": {},
   "source": [
    "In this case, the absolute value of the integral is $\\sim$10 times lower than before, suggesting a more balanced contribution of dark and white fringes to the integral. The latter being slightly dominated by the dark fringes.\n",
    "\n",
    "We can understand that, as the width of the fringes decreases, the integral will ultimately converge towards 0. Indeed the probability of evenly covering the source with the same fraction of bright and dark fringes increases.\n",
    "\n",
    "Let's focus on the variation of the absolute value of the integral, as a function of increasing $u$."
   ]
  },
  {
   "cell_type": "code",
   "execution_count": 29,
   "metadata": {
    "collapsed": false
   },
   "outputs": [],
   "source": [
    "def plotintegral(UMAX=15):\n",
    "    %matplotlib inline\n",
    "    global u\n",
    "    from matplotlib.patches import Circle\n",
    "\n",
    "    #UMAX=5. # adjust it to larger values if no zeroes is encountered in next plot\n",
    "\n",
    "    Npointsl=1001\n",
    "    Npointsu=500\n",
    "    ll=np.linspace(-1.,1.,Npointsl)\n",
    "    l,m=np.meshgrid(ll,ll)\n",
    "    u=np.arange(Npointsu)*UMAX*1./Npointsu\n",
    "    w=np.where(np.sqrt(l**2+m**2) <= radius)\n",
    "    \n",
    "    integral=np.array([])\n",
    "    for du in u:\n",
    "        tabcos=np.real(np.exp(2j*np.pi*du*l))\n",
    "        integral=np.append(integral,np.abs(np.sum(tabcos[w])))\n",
    "\n",
    "    normintegral=integral/np.max(integral)\n",
    "    plt.xlabel('Spatial frequency')\n",
    "    plt.ylabel('Normalized integral over source')\n",
    "    plt.plot(u,normintegral,\".-\")\n",
    "    return normintegral\n"
   ]
  },
  {
   "cell_type": "code",
   "execution_count": 30,
   "metadata": {
    "collapsed": false
   },
   "outputs": [
    {
     "data": {
      "image/png": "[encoded data removed]",
      "text/plain": [
       "<matplotlib.figure.Figure at 0x7f1cab5c5e10>"
      ]
     },
     "metadata": {},
     "output_type": "display_data"
    }
   ],
   "source": [
    "integral=plotintegral(UMAX=25.)"
   ]
  },
  {
   "cell_type": "markdown",
   "metadata": {},
   "source": [
    "From $u=0$ to $u=25$, we can notice that the integral is close to zero at specific values of $u$ (denoted $u_\\text{min}^{(n)}$). This corresponds to the fringe spacing where the integral of the source over the dark fringes is equal to the integral over the bright fringes.\n",
    "\n",
    "Namely, when\n",
    "\n",
    "$$ \\int_{\\text{bright }\\cap\\text{ source}} e^{-2j\\pi ul}dl \\approx \\int_{\\text{dark }\\cap\\text{ source}} e^{-2j\\pi ul}dl$$\n",
    "\n",
    "A null of the integral (i.e. of the visibility function) corresponds to the case where the contrast of the fringe (over the source) is zero. In this particular case, we say that the source is *resolved*.\n",
    "The first value $u_\\text{min}^{(1)}$, where the integral is minimum, has therefore a strong relationship with the geometry of the source we are observing.\n",
    "\n",
    "Let's determine an approximate value $u_\\text{min}^{(1)}$."
   ]
  },
  {
   "cell_type": "code",
   "execution_count": 31,
   "metadata": {
    "collapsed": false
   },
   "outputs": [],
   "source": [
    "def findumin(normintegral,ulim=5):############\n",
    "    # Adjust ulim to search for the first minimum of the integral\n",
    "    # \n",
    "    #ulim=5 # should be an value larger than the first minimum\n",
    "    wloc=np.where(u <= ulim)\n",
    "    ############\n",
    "\n",
    "    locmin=np.where(normintegral[0:wloc[0][-1]] == np.min(normintegral[0:wloc[0][-1]]))\n",
    "    print \"Index first minimum = \"+str(locmin[0][0])\n",
    "    print \"Normalized integral value at first min = \"+str(normintegral[locmin][0])\n",
    "    print \"Spatial frequency at first min = \"+str(u[locmin][0])\n",
    "\n",
    "    umin=u[locmin][0]\n",
    "\n",
    "    deltal=1.22/(2*umin) # Bessel function :  J1(3.83)=0=J1(2*pi*f*r)\n",
    "    print\n",
    "    print \"Spatial scale at first min = \"+str(deltal)\n",
    "    print \"True object radius = \"+str(radius)"
   ]
  },
  {
   "cell_type": "code",
   "execution_count": 32,
   "metadata": {
    "collapsed": false
   },
   "outputs": [
    {
     "name": "stdout",
     "output_type": "stream",
     "text": [
      "Index first minimum = 61\n",
      "Normalized integral value at first min = 0.000554288516599\n",
      "Spatial frequency at first min = 3.05\n",
      "\n",
      "Spatial scale at first min = 0.2\n",
      "True object radius = 0.2\n"
     ]
    }
   ],
   "source": [
    "findumin(integral,ulim=5)"
   ]
  },
  {
   "cell_type": "markdown",
   "metadata": {
    "collapsed": false
   },
   "source": [
    "We identified the value of $u_\\text{min}^{1}$ to be 3.05.\n",
    "As the object is a disk, its visibility function will be described by the first order Bessel function $\\mathcal{J}_1$.\n",
    "We know that $\\mathcal{J}_1(2\\pi u l)=\\mathcal{J}_1(3.8317) \\approx 0$.\n",
    "We encounter a first null when:\n",
    "\n",
    "\\begin{eqnarray}\n",
    "2 \\pi u l &\\approx& 3.8317 \\\\\n",
    "l&\\approx&\\frac{1.22}{2 u} \\\\\n",
    "l&\\approx&0.2\n",
    "\\end{eqnarray}\n",
    "\n",
    "As we set in this example, the *true* object radius in unit of $l$ was 0.2."
   ]
  },
  {
   "cell_type": "markdown",
   "metadata": {
    "collapsed": false
   },
   "source": [
    "With this small example, your performed the measurement of the radius of an object along the projected baseline. If you were observing a remote star with a sufficiently good system and a relatively long baseline at a short wavelength, you would be able to measure the radius of this star, without any imaging.\n",
    "\n",
    "This example illustrate how interferometrists were (and still are!) able to resolve far-away objects with high angular resolution by combining the signals from low-angular resolutions instruments.\n",
    "\n",
    "Let's move on to use of the visibility to determine the location of the source."
   ]
  },
  {
   "cell_type": "markdown",
   "metadata": {},
   "source": [
    "##### 4.3.2.C Using the visibility phase: location of the source"
   ]
  },
  {
   "cell_type": "markdown",
   "metadata": {},
   "source": [
    "##### 4.3.2.C.1 Transiting source"
   ]
  },
  {
   "cell_type": "markdown",
   "metadata": {},
   "source": [
    "In order to reduce the effect of the bandwidth on the fringe (i.e. causing the fringe pattern to be tampered by an sinc), the interferometer compensates for the delay $\\tau$ by inserting a supplementary delay $\\tau_c$ resulting in the shifting of center of the fringe pattern in the sky to follow the direction of the phase center.\n",
    "\n",
    "Let's remove this tracking for the moment and let's assume that the phase center is directed towards a constant direction in local coordinates ($A$,$E$) (e.g. toward the South, as some elevation).\n",
    "A source on the celestial sphere will cross the projected fringe pattern and will create a variation in the interferometer response as the source will pass in bright and dark fringes.\n",
    "\n",
    "\n"
   ]
  },
  {
   "cell_type": "markdown",
   "metadata": {},
   "source": [
    "MISSING PART"
   ]
  },
  {
   "cell_type": "markdown",
   "metadata": {},
   "source": [
    "##### 4.3.2.C.2 Fringe rate mapping"
   ]
  },
  {
   "cell_type": "markdown",
   "metadata": {},
   "source": [
    "A technique, called *fringe rate mapping* (EX KOGAN) exploit the information of the fringe rate offset compared to that of the phase center.\n",
    "In a two-dimensional reference frame, the fringe rate offset can be writtent as:\n",
    "\n",
    "$$ \\omega_{frm}= 2\\pi (\\frac{du}{dt}l+\\frac{dv}{dt}m)$$\n",
    "\n",
    "where ($u$,$v$) are the coordinate of the projected baseline and ($l$,$m$) the direction cosine coordinates from the phase center.\n"
   ]
  },
  {
   "cell_type": "markdown",
   "metadata": {},
   "source": [
    "Eq. is an equation of a straight line in the of the from $m=f(l)$.\n",
    "\n",
    "Each baseline produce a set of fringes on the sky. This set of fringes rotates on the sky (as a result of the rotation of the baseline as seen from the source) and each source will modulate the visibility depending on its distance to the phase center. Far away sources will have a faster fringe rate contribution to the visibilities.\n",
    "\n",
    "If the sky is composed of only one source at an unknown position, the visibility amplitude will have a periodic behavior given the fringe rate.\n",
    "\n",
    "If we can measure the periodic behavior in the visibility plane as a function of time (i.e. measuring $\\frac{du}{dt}$ and $\\frac{dv}{dt}$) we can then draw the straight line $m=f(l)$, giving all the locii where the source can be to produce the same observed fringe rate.\n",
    "\n",
    "If we have a second baseline, giving another measure of the visibility as a function of time, we will measure different ($\\frac{du}{dt}$,$\\frac{dv}{dt}$) giving another equation of a straight line. \n",
    "\n",
    "The intersection of the two line gives the locus of the source responsible for the variation.\n",
    "\n",
    "If we have multiple bright source, one must study the main peaks in the spectrum of the visibility (by taking the FFT of the visibility with time) and derive a line for each peak.\n",
    "\n",
    "Ultimately, the collection of straight line equation can help locate (in the l,m plane) the main sources without having to image the source.\n",
    "\n",
    "DrawMS/FRMAP/Aips principle? Astrometry of a source with different baselines, ref: [link](http://adsabs.harvard.edu/full/1996ASPC..101..175K)"
   ]
  },
  {
   "cell_type": "markdown",
   "metadata": {},
   "source": [
    "EXAMPLE !"
   ]
  },
  {
   "cell_type": "markdown",
   "metadata": {},
   "source": [
    "Now that the properties of the visibility function have been described, we will address the sampling of the visibility function by focusing on the variation of the measured ($u$,$v$,$w$) frequency, as a function of instrumental and observational parameters."
   ]
  },
  {
   "cell_type": "markdown",
   "metadata": {},
   "source": [
    "<p class=conclusion>\n",
    "  <font size=4> **Important things to remember**</font>\n",
    "  <br>\n",
    "  \n",
    "&bull; The visibility function reduces to the **2D Fourier transform** of the intensity distribution under simplyfing assuptions.<br>\n",
    "&bull; The visibility integral at ($u$,$v$) can be seen as an operator which returns the **coefficient of the spatial frequency** ($u$,$v$).<br>\n",
    "&bull; By studying the properties of this integral, one can derive the **angular size and position** of a source without imaging.\n",
    "</p>"
   ]
  },
  {
   "cell_type": "markdown",
   "metadata": {
    "collapsed": true
   },
   "source": [
    "---\n",
    "* [Go back up](#beginning) <!--\\ref{beginning}--> \n",
    "* Or continue to next section: [4.4.1 UV Coverage: UV Tracks -->](4_4_1_UV_Coverage_UV_Tracks.ipynb)\n",
    "---"
   ]
  }
 ],
 "metadata": {
  "kernelspec": {
   "display_name": "Python 2",
   "language": "python",
   "name": "python2"
  },
  "language_info": {
   "codemirror_mode": {
    "name": "ipython",
    "version": 2
   },
   "file_extension": ".py",
   "mimetype": "text/x-python",
   "name": "python",
   "nbconvert_exporter": "python",
   "pygments_lexer": "ipython2",
   "version": "2.7.6"
  }
 },
 "nbformat": 4,
 "nbformat_minor": 0
}
