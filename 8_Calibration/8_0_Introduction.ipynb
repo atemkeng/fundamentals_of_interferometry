{
 "cells": [
  {
   "cell_type": "markdown",
   "metadata": {},
   "source": [
    "***\n",
    "\n",
    "* [Outline](../0_Introduction/0_introduction.ipynb)\n",
    "* [Glossary](../0_Introduction/1_glossary.ipynb)\n",
    "* 8. Calibration \n",
    "    * Next: [8.1 Calibration as a Least Squares Problem](8_1_Calibration_Least_Squares_Problem.ipynb)\n",
    "\n",
    "***"
   ]
  },
  {
   "cell_type": "markdown",
   "metadata": {},
   "source": [
    "## Chapter 8: Calibration<a id='calibration:sec:intro'></a>"
   ]
  },
  {
   "cell_type": "markdown",
   "metadata": {},
   "source": [
    "Calibration is an important, as yet undiscussed, part of radio interferometry. As some of the previous chapters have shown, there are many effects which can introduce errors into the signal measured by a radio interferometer. While some of these effects can be corrected by electronics and a priori information, some effects require explicit calibration. Calibration involes the determination of a number of parameters which can be used to correct the recieved signal. The numerical method most commonly used for this purpose is discussed in [Sec. 8.1 &#10142;](../8_Calibration/8_1_Calibration_Least_Squares_Problem.ipynb).\n",
    "\n",
    "Calibation is often divided into three generations: first, second and third generation calibration (1GC, 2GC and 3GC respectively). 1GC is the oldest method of calibration and is still in common use. It exploits observations of sources with known paramters to calibrate for a variety of effects. The basic idea behind 1GC is to observe a known calibrator source (it need not be in the target field); we then use this calibrator observation to obtain calibration solutions which we then use to correct our target field observation, i.e. we transfer the solutions to the target field. This is discussed further in [Sec. 8.2 &#10142;](../8_Calibration/8_2_1GC.ipynb). This section also introduces the notion of closure quantities, which are useful diagnostics of the performance of an interferometer.\n",
    "\n",
    "2GC is used to describe the method of self-calibration. This is an iterative procedure which makes use of successive sky model updates to calibrate using the target field. This is particularly useful as it accounts for effects unique to the target field rather than relying solely on the calibrator observations of 1GC. 2GC is the subject of [Sec. 8.3 &#10142;](../8_Calibration/8_3_2GC.ipynb) and is one of the single most inportant advances in the field of radio interferometry.\n",
    "\n",
    "The final section of the chapter, [Sec. 8.4 &#10142;](../8_Calibration/8_3_3GC.ipynb) deals with the most recent advances of calibration and the methods of third generation calibration. 3GC deals specifically with the calibration of direction-dependent effects. As these effects are not uniform across the field of view, special care needs to be taken to remove them. Many of these methods are extensions of the self-calibration idea. "
   ]
  },
  {
   "cell_type": "markdown",
   "metadata": {},
   "source": [
    "#### Chapter Sections\n",
    "\n",
    "1. [Calibration as a Least Squares Problem](8_1_Calibration_Least_Squares_Problem.ipynb)\n",
    "2. [First Generation Calibration (1GC)](8_2_1GC.ipynb)\n",
    "2. [Second Generation Calibration (2GC)](8_3_2GC.ipynb)\n",
    "3. [Third Generation Calibration (3GC)](8_4_3GC.ipynb)"
   ]
  },
  {
   "cell_type": "markdown",
   "metadata": {},
   "source": [
    "#### Chapter Editors\n",
    "\n",
    "#### Chapter Contributors\n",
    "\n",
    "* Trienko Grobler (8.1, 8.3, 8.4)\n",
    "* Jonathan Kenyon (8.2)"
   ]
  },
  {
   "cell_type": "markdown",
   "metadata": {},
   "source": [
    "***\n",
    "\n",
    "Next: [8.1 Calibration as a Least Squares Problem](8_1_Calibration_Least_Squares_Problem.ipynb)"
   ]
  }
 ],
 "metadata": {
  "kernelspec": {
   "display_name": "Python 2",
   "language": "python",
   "name": "python2"
  },
  "language_info": {
   "codemirror_mode": {
    "name": "ipython",
    "version": 2
   },
   "file_extension": ".py",
   "mimetype": "text/x-python",
   "name": "python",
   "nbconvert_exporter": "python",
   "pygments_lexer": "ipython2",
   "version": "2.7.3"
  }
 },
 "nbformat": 4,
 "nbformat_minor": 0
}
