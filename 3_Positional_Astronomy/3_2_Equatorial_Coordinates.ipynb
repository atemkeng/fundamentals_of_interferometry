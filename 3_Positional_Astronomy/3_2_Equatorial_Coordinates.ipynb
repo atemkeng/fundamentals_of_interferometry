{
 "cells": [
  {
   "cell_type": "markdown",
   "metadata": {},
   "source": [
    "***\n",
    "\n",
    "* [Outline](../0_Introduction/0_introduction.ipynb)\n",
    "* [Glossary](../0_Introduction/1_glossary.ipynb)\n",
    "* 3. Positional Astronomy  \n",
    "    * Previous: [3.1 Spherical Trigonometry](../3_Positional_Astronomy/3_1_Spherical_Trigonometry.ipynb) \n",
    "    * Next: [3.3 Hour Angle (HA) and Local Sidereal Time (LST)](../3_Positional_Astronomy/3_3_Hour_Angle.ipynb)\n",
    "\n",
    "***"
   ]
  },
  {
   "cell_type": "markdown",
   "metadata": {},
   "source": [
    "Import standard modules:"
   ]
  },
  {
   "cell_type": "code",
   "execution_count": 3,
   "metadata": {
    "collapsed": false
   },
   "outputs": [],
   "source": [
    "import numpy as np\n",
    "import matplotlib.pyplot as plt\n",
    "%matplotlib inline"
   ]
  },
  {
   "cell_type": "markdown",
   "metadata": {},
   "source": [
    "Import section specific modules:"
   ]
  },
  {
   "cell_type": "code",
   "execution_count": 1,
   "metadata": {
    "collapsed": false
   },
   "outputs": [
    {
     "data": {
      "text/html": [
       "<style>\n",
       "\n",
       "p.prerequisites {\n",
       "    border:5px;\n",
       "    border-style:none;\n",
       "    background-color:#F0F0F0;\n",
       "    box-shadow: 5px 5px 2px #888888;\n",
       "    border-color:#FF0000;\n",
       "    padding: 1em;\n",
       "}\n",
       "\n",
       "p.conclusion {\n",
       "    border:5px;\n",
       "    border-style:none;\n",
       "    background-color:#c8ebca;\n",
       "    box-shadow: 5px 5px 2px #888888;\n",
       "    border-color:#c8ebca;\n",
       "    padding: 1em;\n",
       "}\n",
       "\n",
       "div.warn {    \n",
       "    background-color: #fcf2f2;\n",
       "    border-color: #dFb5b4;\n",
       "    border-left: 5px solid #dfb5b4;\n",
       "    padding: 0.5em;\n",
       "    }\n",
       "\n",
       "div.advice {    \n",
       "    background-color: #ecf8ed;\n",
       "    border-color: #a2dda5;\n",
       "    border-left: 5px solid #a2dda5;\n",
       "    padding: 0.5em;\n",
       "    }\n",
       " </style>\n",
       "\n",
       "\n"
      ],
      "text/plain": [
       "<IPython.core.display.HTML object>"
      ]
     },
     "execution_count": 1,
     "metadata": {},
     "output_type": "execute_result"
    }
   ],
   "source": [
    "from IPython.core.display import HTML\n",
    "styles = open(\"../style/course.css\", \"r\").read()\n",
    "HTML(styles)"
   ]
  },
  {
   "cell_type": "markdown",
   "metadata": {},
   "source": [
    "## 3.2 Equatorial Coordinates (RA,DEC)"
   ]
  },
  {
   "cell_type": "markdown",
   "metadata": {},
   "source": [
    "We can use a geographical coordinate system to uniquely identify a position on earth. We normally use the coordinates *latitude* $L_a$ (to measure north and south) and *longitude* $L_o$ (to measure east and west) to accomplish this. \n",
    "\n",
    "We also require a coordinate system to locate the stars. For practical purposes we may think of our universe as being projected onto a sphere of arbitrary radius. This sphere surrounds the Earth and is known as the *celestial sphere*. This is not a true representation of our universe, but it is a very useful construct that we use to keep track of the stars as they pass by in the night sky.\n",
    "\n",
    "- The *north celestial pole* (NCP) is an important location on the celestial sphere and is obtained by projecting the north pole of the earth onto the celestial sphere. The star *Polaris* is very close to the NCP and serves as a reference when positioning a telescope.\n",
    "\n",
    "- The *south celestial pole* (SCP) is obtained in a similar way. The imaginary circle known as the *celestial equator* is in the same plane as the equator of the earth and is obtained by projecting the equator of the earth onto the celestial sphere.\n",
    "We use a specific point on the celestial equator from which we measure the location of all other celestial objects. This point is known as the *first point of Aries* ($\\gamma$) <!--$\\vernal--> or the *vernal equinox*. The physical significance of this point is discussed in [Sec. 3.3.2 &#10142;](../3_Positional_Astronomy/3_3_Hour_Angle.ipynb#pos:sec:lst) <!--\\ref{pos:sec:lst}-->.  \n",
    "\n",
    "The stars themselves do not move on the celestial sphere and therefore have a unique location on it (at least not much in one generation). We use the *equatorial coordinates*:\n",
    "\n",
    "- the *Right Ascension* $\\alpha$: \n",
    "We define the *hour circle* of an object as the circle on the celestial sphere that crosses the NCP and the object itself, while also perpendicularly intersecting with the celestial equator. The right ascension of an object is the angular distance between the vernal equinox and the hour circle of a celestial object measured along the celestial equator and is measured eastward. It is measured in **Hours Minutes Seconds** (e.g. $\\alpha = 03^\\text{h}13^\\text{m}32.5^\\text{s}$)\n",
    "and spans 360$\\circ$ on the celestial sphere from $\\alpha = 00^\\text{h}00^\\text{m}00^\\text{s}$ (the coordinates of $\\gamma$) to $\\alpha = 23^\\text{h}59^\\text{m}59^\\text{s}$. \n",
    "\n",
    "\n",
    "- the *Declination* $\\delta$:\n",
    "the declination of an object is the angular distance from the celestial equator measured along its hour circle (it is positive in the northern celestial hemisphere and negative in the southern celestial hemisphere). \n",
    "It is measured in **Degrees Arcmin Arcsec** (e.g. $\\delta = -15^\\circ23'44''$) which spans from $\\delta = -90^\\circ00'00''$ (SCP) to $+\\delta = 90^\\circ00'00''$ (NCP)\n",
    "\n",
    "These two coordinates uniquely identify the location of celestial objects rotating with the celestial sphere around the SCP/NCP axis. The equatorial coordinates are presented graphically in [Fig. 3.2 &#10549;](#pos:fig:equatorial_coordinates) <!--\\ref{pos:fig:equatorial_coordinates}-->. "
   ]
  },
  {
   "cell_type": "markdown",
   "metadata": {},
   "source": [
    "<div class=warn>\n",
    "**Warning:** As for any spherical system, the Right Ascension of the NCP ($\\delta=+90^ \\circ$) and the SCP ($\\delta=-90^ \\circ$) are ill-defined. And a source close to the any CP can have an unintuitive Right Ascension.\n",
    "</div>"
   ]
  },
  {
   "cell_type": "markdown",
   "metadata": {},
   "source": [
    "<img src='figures/equatorial.png' width=40%>"
   ]
  },
  {
   "cell_type": "markdown",
   "metadata": {},
   "source": [
    "<div align=\"center\">**Figure 3.2**: The equatorial coordinates.</div> </a> <!--\\label{fig:equatorial_coordinates}-->"
   ]
  },
  {
   "cell_type": "markdown",
   "metadata": {},
   "source": [
    "<div class=warn>\n",
    "**Warning:** One arcminute of the declination axis (e.g. $00^\\circ01'00''$) is not equal to one *minute* in right ascension axis (e.g. $00^\\text{h}01^\\text{m}00^\\text{s}$). <br>\n",
    "Indeed, in RA, the 24$^\\text{h}$ circle is mapped to a 360$^\\circ$ circle meaning that 1 hour spans over a section of 15$^\\circ$. And as 1$^\\text{h}$ is 60$^\\text{m}$, therefore 1$^\\text{m}$ in RA correspond to $1^\\text{m} = \\frac{1^\\text{h}}{60}=\\frac{15^\\circ}{60}=0.25'$. <br>\n",
    "You should be careful about this **factor of 4 difference between RA min and DEC arcmin** (i.e. $\\text{RA} \\; 00^\\text{h}01^\\text{m}00^\\text{s}\\neq \\text{DEC} \\; 00^\\circ01'00''$)\n",
    "</div>"
   ]
  },
  {
   "cell_type": "markdown",
   "metadata": {},
   "source": [
    "***\n",
    "\n",
    "Next: [3.3 Hour Angle (HA) and Local Sidereal Time (LST)](../3_Positional_Astronomy/3_3_Hour_Angle.ipynb)"
   ]
  }
 ],
 "metadata": {
  "kernelspec": {
   "display_name": "Python 2",
   "language": "python",
   "name": "python2"
  },
  "language_info": {
   "codemirror_mode": {
    "name": "ipython",
    "version": 2
   },
   "file_extension": ".py",
   "mimetype": "text/x-python",
   "name": "python",
   "nbconvert_exporter": "python",
   "pygments_lexer": "ipython2",
   "version": "2.7.3"
  }
 },
 "nbformat": 4,
 "nbformat_minor": 0
}
