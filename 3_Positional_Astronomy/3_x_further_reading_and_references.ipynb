{
 "cells": [
  {
   "cell_type": "markdown",
   "metadata": {
    "collapsed": true
   },
   "source": [
    "***\n",
    "\n",
    "* [Outline](../0_Introduction/0_introduction.ipynb)\n",
    "* [Glossary](../0_Introduction/1_glossary.ipynb)\n",
    "* [3. Positional Astronomy](../3_Positional_Astronomy/3_0_introduction.ipynb)  \n",
    "    * Previous: [3.5 Direction Cosine Coordinates ($l$,$m$,$n$)](../3_Positional_Astronomy/3_5_Direction_Cosine_Coordinates.ipynb)  \n",
    "    * Next: [Chapter 4: Visibility Space]()\n",
    "\n",
    "***"
   ]
  },
  {
   "cell_type": "markdown",
   "metadata": {},
   "source": [
    "## 3.6 Further Reading and References <a id='pos:sec:refs'></a>"
   ]
  },
  {
   "cell_type": "markdown",
   "metadata": {},
   "source": [
    "We would like to suggest two different further reading avenues. The first is to deepen\n",
    "the readers understanding of positional astronomy. For this we recommend reading:\n",
    "\n",
    "1. [<cite data-cite='Duffett2011'>Practical Astronomy with your calculator or spreadsheet </cite> &#10548;](https://books.google.co.za/books?hl=en&lr=&id=MTGYxQyW998C&oi=fnd&pg=PR11&dq=astronomy+with+your+calculator+or+spreadsheet&ots=UMdQUtKo_H&sig=_mzKBeqEF4IJOEoVcvU2fC50Wug#v=onepage&q=astronomy%20with%20your%20calculator%20or%20spreadsheet&f=false) : forms the backbone of this chapter and is its main reference.\n",
    "\n",
    "The second avenue is to get the reader more excited about astronomy in general. We recommend two books to accomplish this:\n",
    "\n",
    "1. [<cite data-cite='Seeds2015'>Foundations of Astronomy</cite> &#10548;](https://books.google.co.za/books/about/Foundations_of_Astronomy.html?id=77YwOLGzth8C&redir_esc=y) : a light easy to read introduction to astronomy.\n",
    "2. [<cite data-cite='Zeilik1998'>Introductory Astronomy and Astrophysics</cite> &#10548;](https://books.google.co.za/books?id=iH7vAAAAMAAJ&q=Introductory+Astronomy+and+Astrophysics&dq=Introductory+Astronomy+and+Astrophysics&hl=en&sa=X&ved=0ahUKEwi_r_K_ovzKAhXBPxoKHUQXDIwQ6AEIGzAA) : a more in depth and technical introduction to astronomy.\n",
    "\n",
    "We also highly recommend doing the online course: [Introduction to Astronomy &#10548;](https://www.coursera.org/course/introastro)"
   ]
  },
  {
   "cell_type": "markdown",
   "metadata": {},
   "source": [
    "***\n",
    "\n",
    "Next: [Chapter 4: Visibility Space]()"
   ]
  }
 ],
 "metadata": {
  "kernelspec": {
   "display_name": "Python 2",
   "language": "python",
   "name": "python2"
  },
  "language_info": {
   "codemirror_mode": {
    "name": "ipython",
    "version": 2
   },
   "file_extension": ".py",
   "mimetype": "text/x-python",
   "name": "python",
   "nbconvert_exporter": "python",
   "pygments_lexer": "ipython2",
   "version": "2.7.3"
  }
 },
 "nbformat": 4,
 "nbformat_minor": 0
}
