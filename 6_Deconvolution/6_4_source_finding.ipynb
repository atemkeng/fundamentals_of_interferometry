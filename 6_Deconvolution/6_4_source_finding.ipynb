{
 "cells": [
  {
   "cell_type": "markdown",
   "metadata": {},
   "source": [
    "***\n",
    "\n",
    "* [Outline](../0_Introduction/0_introduction.ipynb)\n",
    "* [Glossary](../0_Introduction/1_glossary.ipynb)\n",
    "* [6. Deconvolution in Imaging](6_0_introduction.ipynb)  \n",
    "    * Previous: [6.3 Residuals and Image Quality](6_3_residuals_and_iqa.ipynb)  \n",
    "    * Next: [6.x Further Reading and References](6_x_further_reading_and_references.ipynb)\n",
    "\n",
    "***"
   ]
  },
  {
   "cell_type": "code",
   "execution_count": null,
   "metadata": {
    "collapsed": false
   },
   "outputs": [],
   "source": [
    "import numpy as np\n",
    "import matplotlib.pyplot as plt\n",
    "%matplotlib inline"
   ]
  },
  {
   "cell_type": "code",
   "execution_count": null,
   "metadata": {
    "collapsed": false
   },
   "outputs": [],
   "source": [
    "import matplotlib\n",
    "from scipy import optimize\n",
    "#from lofar import bdsm\n",
    "import astropy.io.fits\n",
    "\n",
    "matplotlib.rcParams.update({'font.size': 18})\n",
    "matplotlib.rcParams.update({'figure.figsize': [12,8]} )"
   ]
  },
  {
   "cell_type": "markdown",
   "metadata": {},
   "source": [
    "# Introduction\n",
    "In radio astronomy, *source finding* is the process through which the attributes of radio sources -- such as flux density and mophorlogy -- are measured from data. This lecture will only cover source finding in the image plane.\n",
    "\n",
    "\n",
    "Source finding techniques usually involve four steps, i) charecterizing the noise (or background estimation), ii) thresholding the data based on knowledge of the noise, iii) fidinding regions in the thresholded image which neighbouring pixels are \"similar\" (this process is often called *blob detection*), and iv) parameterizing these blobs through a carefully chosen function (usually a 2D Gaussian). The source attribues are then estimated from the parameterization of the blobs.\n",
    "\n",
    "## Noise charecterization\n",
    "As mentioned before, the radio data we process with source finders is noisy. In fact, radio images are generally dominated by noise. To charecterise this noise we need to make a few assumptions about its nature, namely we assume that the niose results from some stochastic process and that it can be described by a normal distribution\n",
    "\n",
    "$$ G(x| \\mu,\\sigma^2) = \\frac{1}{\\sigma \\sqrt{2\\pi}}\\text{exp}\\left( \\frac{-(x-\\mu)^2}{2\\sigma^2}\\right) $$  \n",
    "\n",
    "where, $\\mu$ is the mean (or expected value) of the varaible $x$, and $\\sigma^2$ is the varience of the distribution; $\\sigma$ is the standard deviation. Hence, the noise can be parameterized through the mean and the standard deviation. Let us illustrate this with an example. Bellow is a noise image from a MeerKAT simulation, along with a histogram of of the pixels (in log space)."
   ]
  },
  {
   "cell_type": "code",
   "execution_count": null,
   "metadata": {
    "collapsed": false
   },
   "outputs": [],
   "source": [
    "noise_image = \"../data/fits/noise_image.fits\"\n",
    "with astropy.io.fits.open(noise_image) as hdu:\n",
    "    data = hdu[0].data[0,0,...]\n",
    "\n",
    "fig, (image, hist) = plt.subplots(1, 2, figsize=(18,6))\n",
    "histogram, bins = np.histogram(data.flatten(), bins=401)\n",
    "\n",
    "dmin = data.min()\n",
    "dmax = data.max()\n",
    "x = np.linspace(dmin, dmax, 401)\n",
    "\n",
    "im = image.imshow(data)\n",
    "hist.plot(x, histogram)\n",
    "hist.set_yscale('log')\n"
   ]
  },
  {
   "cell_type": "code",
   "execution_count": null,
   "metadata": {
    "collapsed": false
   },
   "outputs": [],
   "source": [
    "mean = data.mean()\n",
    "sigma = data.std()\n",
    "peak = histogram.max()\n",
    "\n",
    "gauss = lambda x, amp, mean, sigma: amp*np.exp( -(x-mean)**2/(2*sigma**2))\n",
    "\n",
    "fitdata = gauss(x, peak, mean, sigma)\n",
    "\n",
    "plt.plot(x, fitdata)\n",
    "plt.plot(x, histogram, \"o\")\n",
    "plt.yscale('log')\n",
    "plt.ylim(1)"
   ]
  },
  {
   "cell_type": "markdown",
   "metadata": {},
   "source": [
    "Now, in reality the noise has to measured in the presence of astrophysical emission. Futhermore, radio iamges are also contaminated by various instrumental effects which manifest as spurious emission in radio images. blah blah ... All these factors make it difficult to charercterize the noise in a radio image. However, since the noise generally dominates the images, the mean and standard deviation of the entire image are still fairly good approximations of the noise. Let us now insert a few sources in the noise image from earlier and then try to estimate noise."
   ]
  },
  {
   "cell_type": "code",
   "execution_count": null,
   "metadata": {
    "collapsed": false
   },
   "outputs": [],
   "source": [
    "noise_image = \"../data/fits/star_model_image.fits\"\n",
    "with astropy.io.fits.open(noise_image) as hdu:\n",
    "    data = hdu[0].data[0,0,...]\n",
    "\n",
    "fig, (image, hist) = plt.subplots(1, 2, figsize=(18,6))\n",
    "histogram, bins = np.histogram(data.flatten(), bins=101)\n",
    "\n",
    "\n",
    "dmin = data.min()\n",
    "dmax = data.max()\n",
    "x = np.linspace(dmin, dmax, 101)\n",
    "\n",
    "im = image.imshow(data)\n",
    "hist.plot(x, histogram)\n",
    "hist.set_yscale('log')\n"
   ]
  },
  {
   "cell_type": "code",
   "execution_count": null,
   "metadata": {
    "collapsed": false
   },
   "outputs": [],
   "source": [
    "mean = data.mean()\n",
    "sigma_std = data.std()\n",
    "sigma_neg = data[data<0].std()*2\n",
    "sigma_mad_median = np.median( abs(data - np.median(data) ))\n",
    "sigma_mad_mean = np.mean( abs(data - np.mean(data) ))\n",
    "\n",
    "peak = histogram.max()\n",
    "\n",
    "gauss = lambda x, amp, mean, sigma: amp*np.exp( -(x-mean)**2/(2*sigma**2))\n",
    "\n",
    "fitdata_std = gauss(x, peak, mean, sigma_std)\n",
    "fitdata_mad_median = gauss(x, peak, mean, sigma_mad_median)\n",
    "fitdata_mad_mean = gauss(x, peak, mean, sigma_mad_mean)\n",
    "fitdata_neg = gauss(x, peak, mean, sigma_neg)\n",
    "\n",
    "plt.plot(x, fitdata_std, label=\"STD DEV\")\n",
    "plt.plot(x, fitdata_mad_median, label=\"MAD Median\")\n",
    "plt.plot(x, fitdata_mad_mean, label=\"MAD Mean\")\n",
    "plt.plot(x, fitdata_neg, label=\"Negative STD DEV\")\n",
    "plt.plot(x, histogram, \"o\", label=\"Data\")\n",
    "plt.legend(loc=1)\n",
    "\n",
    "plt.yscale('log')\n",
    "plt.ylim(1)"
   ]
  },
  {
   "cell_type": "markdown",
   "metadata": {},
   "source": [
    "## Blob Detection and Charercterization\n",
    "\n",
    "Once the noise has been estimated, the next step is to find and charecterize blobs in the image. First, we need a more formal definition of a blob. We define a blob as a group contiguous pixels whose spatial intensity profile can be modelled by a 2D Gaussian function. And, since we are dealing with images from physical instruments which have a finite resolution (at least in the image plane), we further constrain our blobs not to be significantly smaller than the image resolution. Finally, we need to define two last constraints of a blob, the *peak* and *boundary* thresholds. The peak threshold, defined as\n",
    "\n",
    "$$ \n",
    "    \\sigma_\\text{peak} = n * \\sigma,\n",
    "$$\n",
    "\n",
    "is the minimum intensity the maximum pixel in a blob must have. That is, all blobs with peak pixel lower than $\\sigma_\\text{peak}$ will be excluded. And the bouandary threshold,\n",
    "\n",
    "$$\n",
    "    \\sigma_\\text{boundary} = m * \\sigma\n",
    "$$\n",
    "\n",
    "Defines the bounadry of a blob. $\\sigma$ is an estimation of the image noise, and $m$ and $n$ are natural numbers with $m$ < $n$. "
   ]
  },
  {
   "cell_type": "code",
   "execution_count": null,
   "metadata": {
    "collapsed": false
   },
   "outputs": [],
   "source": [
    "def gauss2D(x, y, amp, meanx, meany, sigmax, sigmay):\n",
    "    gx = -(x - meanx)**2/(2*sigmax**2)\n",
    "    gy = -(y - meany)**2/(2*sigmay**2)\n",
    "    \n",
    "    return amp * np.exp( gx + gy)\n",
    "\n",
    "# Generate clean data\n",
    "x = np.linspace(0, 100, 101)\n",
    "xx, yy = np.meshgrid(x, x)\n",
    "\n",
    "data_clean = gauss2D(xx, yy, 5, 50, 50, 10.5, 15.4)\n",
    "\n",
    "# Add noise\n",
    "data = data_clean + np.random.randn(*data_clean.shape)*0.3\n",
    "\n",
    "fig, ax = plt.subplots(1, 1, figsize=(16, 12))\n",
    "im = ax.imshow(data)\n",
    "plt.colorbar(im)"
   ]
  },
  {
   "cell_type": "code",
   "execution_count": null,
   "metadata": {
    "collapsed": false
   },
   "outputs": [],
   "source": [
    "def err(p, xx, yy, data):\n",
    "    return gauss2D(xx.flatten(), yy.flatten(), *p) - data.flatten()\n",
    "\n",
    "# Initial estimate\n",
    "params0 = 4.00, 44, 55, 7.5, 20.0\n",
    "\n",
    "params, pcov, infoDict, errmsg, sucess = optimize.leastsq(err, \n",
    "                        params0, args=(xx.flatten(), yy.flatten(), data.flatten()), full_output=1)\n",
    "\n",
    "fig, ax = plt.subplots(1, 1, figsize=(16,12))\n",
    "im = ax.imshow(data)\n",
    "ax.contour(gauss2D(xx,yy, *params))\n",
    "plt.colorbar(im)\n",
    "\n",
    "perr = abs(np.diagonal(pcov))**0.5\n",
    "\n",
    "text = \"\"\"\n",
    "amp = %.3f $\\pm$ %.3f\n",
    "meanx = %.3f $\\pm$ %.3f\n",
    "meany = %.3f $\\pm$ %.3f\n",
    "sigmax = %.3f $\\pm$ %.3f\n",
    "sigmay = %.3f $\\pm$ %.3f\n",
    "\"\"\"%(params[0], perr[0], params[1], perr[1], params[2], perr[2],\n",
    "     params[3], perr[3], params[4], perr[4])\n",
    "\n",
    "ax.text(3, 23, text,color=\"r\")"
   ]
  },
  {
   "cell_type": "markdown",
   "metadata": {},
   "source": [
    "## Source Finding Packages"
   ]
  },
  {
   "cell_type": "code",
   "execution_count": null,
   "metadata": {
    "collapsed": false
   },
   "outputs": [],
   "source": []
  },
  {
   "cell_type": "markdown",
   "metadata": {
    "collapsed": false
   },
   "source": [
    "***\n",
    "\n",
    "Next: [6.x Further Reading and References](6_x_further_reading_and_references.ipynb)"
   ]
  }
 ],
 "metadata": {
  "kernelspec": {
   "display_name": "Python 2",
   "language": "python",
   "name": "python2"
  },
  "language_info": {
   "codemirror_mode": {
    "name": "ipython",
    "version": 2
   },
   "file_extension": ".py",
   "mimetype": "text/x-python",
   "name": "python",
   "nbconvert_exporter": "python",
   "pygments_lexer": "ipython2",
   "version": "2.7.6"
  }
 },
 "nbformat": 4,
 "nbformat_minor": 0
}
