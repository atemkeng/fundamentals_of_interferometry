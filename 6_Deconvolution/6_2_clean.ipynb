{
 "cells": [
  {
   "cell_type": "markdown",
   "metadata": {},
   "source": [
    "***\n",
    "\n",
    "* [Outline](../0_Introduction/0_introduction.ipynb)\n",
    "* [Glossary](../0_Introduction/1_glossary.ipynb)\n",
    "* [6. Deconvolution in Imaging](6_0_introduction.ipynb)  \n",
    "    * Previous: [6.1 Sky Models](6_1_sky_models.ipynb)  \n",
    "    * Next: [6.3 Residuals and Image Quality](6_3_residuals_and_iqa.ipynb)\n",
    "\n",
    "***"
   ]
  },
  {
   "cell_type": "markdown",
   "metadata": {},
   "source": [
    "Import standard modules:"
   ]
  },
  {
   "cell_type": "code",
   "execution_count": null,
   "metadata": {
    "collapsed": false
   },
   "outputs": [],
   "source": [
    "import numpy as np\n",
    "import matplotlib.pyplot as plt\n",
    "%matplotlib inline"
   ]
  },
  {
   "cell_type": "markdown",
   "metadata": {},
   "source": [
    "Import section specific modules:"
   ]
  },
  {
   "cell_type": "code",
   "execution_count": null,
   "metadata": {
    "collapsed": false
   },
   "outputs": [],
   "source": [
    "from IPython.display import Image\n",
    "from IPython.core.display import clear_output, display\n",
    "\n",
    "from scipy.signal import convolve2d\n",
    "\n",
    "from copy import copy\n",
    "import time\n",
    "\n",
    "import matplotlib\n",
    "matplotlib.rcParams['figure.figsize'] = (10.0, 6.0)\n",
    "import matplotlib.cm as cm"
   ]
  },
  {
   "cell_type": "markdown",
   "metadata": {},
   "source": [
    "***"
   ]
  },
  {
   "cell_type": "markdown",
   "metadata": {},
   "source": [
    "## 6.2 Point Source Assumption (CLEAN)<a id='deconv:sec:clean'></a>"
   ]
  },
  {
   "cell_type": "markdown",
   "metadata": {},
   "source": [
    "**TODO**\n",
    "\n",
    "* naive deconvolution approach: broad threshold\n",
    "* setup the concept of clean: everything is a point source in the image domain, we know what the PSF looks like (approximately), go through the image and find the peak, subtract off the PSF centred on that pixel (just a precentage of the flux), and repeat until happy (ill-defined)\n",
    "* Laura's 2D deconvolution example\n",
    "* imager-based 2D set through example\n",
    "* describe image-domain CLEAN (Hogbom), limits of possible clean region, advantages in speed\n",
    "* extend to gridded vis-domain (Clark), limits in errors due to gridding, advantage in speed and no region issue\n",
    "* extend to ungridded vis-domain (Cotton-Schwab), requires a de-gridder, computationally more expensive, but has the best results\n",
    "* show the effect in the visibility domain, converts the tracks into a Gaussian distribution, introduce the restoring beam\n",
    "* limits of clean: complex sources, large-FOV varying PSF ; current work in compressed sensing and bayesian model selection (don't actually need an image to recover the science)\n",
    "* extra issues: multi-frequency, multi-scale synthesis, list of current imagers\n",
    "* lead into residuals and IQA: what makes a good image?"
   ]
  },
  {
   "cell_type": "markdown",
   "metadata": {},
   "source": [
    "***"
   ]
  },
  {
   "cell_type": "code",
   "execution_count": null,
   "metadata": {
    "collapsed": false
   },
   "outputs": [],
   "source": [
    "from IPython.core.display import HTML \n",
    "styles = open(\"../style/course.css\", \"r\").read() # read course.css file from root dir\n",
    "HTML(styles) # apply style to page"
   ]
  },
  {
   "cell_type": "markdown",
   "metadata": {},
   "source": [
    "## 6.2.1 Sampling, the PSF and the dirty image<a id='deconv:sec:sampling'></a>"
   ]
  },
  {
   "cell_type": "markdown",
   "metadata": {},
   "source": [
    "In Chapter 5.2 we discussed the effects of sampling on our imaging. When we observe with a radio interferometer we collect visibility data at a range of $uv$ coordinates, which we then Fourier Transform into an image. The $uv$ coordniates of the visibility data don't fully cover the $uv$-plane. We saw examples of this in plots of KAT-7 $uv$ converage. For example:"
   ]
  },
  {
   "cell_type": "code",
   "execution_count": null,
   "metadata": {
    "collapsed": false
   },
   "outputs": [],
   "source": [
    "#Image(filename='figures/uvcoverage/KAT-7_6h60s_dec-30_10MHz_10chans.png')"
   ]
  },
  {
   "cell_type": "markdown",
   "metadata": {},
   "source": [
    "Conceptually we can think of this partial $uv$ coverage as the product of the complete visibilities with full $uv$ coverage filling the UV-plane $V(u,v)$, with a sampling function $S(u,v)$ that is unity where we have $uv$ samples and zero where we don't:\n",
    "\n",
    "$$ S(u,v) \\times V(u,v) $$\n",
    "\n",
    "Our image on the sky is the Fourier Transform of the conceptual complete visibility:\n",
    "\n",
    "$$ \\int_{-\\infty}^{\\infty} \\int_{-\\infty}^{\\infty} V(u,v) \\; e^{-2\\pi i(ul+vm)} \\;\\;\\;\\;\\; du \\, dv =  I(l,m)$$\n",
    "\n",
    "But what we get from the interferometer isn't $V(u,v)$, it is the incomplete $uv$ coverage product $S(u,v) \\times V(u,v)$:\n",
    "\n",
    "$$ \\int_{-\\infty}^{\\infty} \\int_{-\\infty}^{\\infty} S(u,v) \\times V(u,v) \\; e^{-2\\pi i(ul+vm)} \\;\\;\\;\\;\\; du \\, dv \\;=\\; ?? $$"
   ]
  },
  {
   "cell_type": "markdown",
   "metadata": {},
   "source": [
    "How do we deal with this? Remember the [Convolution Theorem &#10142;](http://mathworld.wolfram.com/ConvolutionTheorem.html#destination), which tells us that multiplication in one Fourier domain is equivalent to convolution in the other Fourier domain:\n",
    "\n",
    "$$ h \\times g \\;\\; \\rightleftharpoons \\;\\; H \\; . \\; G $$\n",
    "\n",
    "In our incomplete $uv$-coverage situation, we are multiplying for conceptual complete visibilities $V(u,v)$ by the sampling function $S(u,v)$, which equates to a convolution in the image domain:\n",
    "\n",
    "$$ S(u,v) \\times V(u,v) \\;\\; \\rightleftharpoons \\;\\; B(l,m) \\; * \\; I(l,m) $$\n",
    "\n",
    "where $I(l,m)$ is the true sky image, the Fourier Transform of the complete visibility $V(u,v)$, and $B(l,m)$ is the Fourier Transform of the sampling function $S(u,v)$.\n",
    "\n",
    "We term the product $B(l,m) \\; * \\; I(l,m)$ the \"Dirty Image\" $I^D(l,m)$ and we term $B(l,m)$ the \"Dirty Beam\" or point spread function (PSF)."
   ]
  },
  {
   "cell_type": "markdown",
   "metadata": {},
   "source": [
    "<p class=conclusion>\n",
    "  <font size=4> **Summary**</font>\n",
    "  <br>\n",
    "  <br>\n",
    "&bull; \n",
    "The Fourier Transform of our sampled visibility $V(u,v)$ data gives us a dirty image $I^D(l,m)$\n",
    "<br><br>\n",
    "&bull; \n",
    "The dirty image $I^D(l,m)$ is the convolution of the true image $I(l,m)$ with the PSF\n",
    "<br><br>\n",
    "&bull;\n",
    "The PSF (or dirty beam $B(l,m)$) is the Fourier Transform of the sampling function $S(u,v)$\n",
    "</p>"
   ]
  },
  {
   "cell_type": "markdown",
   "metadata": {},
   "source": [
    "So how do we extract the true sky image $I(l,m)$ from the dirty image $I^D(l,m)$? We have to **deconvolve** the PSF and the dirty image."
   ]
  },
  {
   "cell_type": "markdown",
   "metadata": {},
   "source": [
    "***"
   ]
  },
  {
   "cell_type": "markdown",
   "metadata": {},
   "source": [
    "## 6.2.2 Point Source Assumption<a id='deconv:sec:point_source'></a>"
   ]
  },
  {
   "cell_type": "markdown",
   "metadata": {},
   "source": [
    "One convenient feature of radio astronomy images is that they consist *for the most part* of point sources on an empty sky. This is just an approximation of course, but it is an approximation that makes decomvolution much easier, because we can then consider our PSF as a point source response (or impulse response) - every point source on the true image is replaced by a PSF in the dirty image. \n",
    "\n",
    "Let's set up a little example of this.\n",
    "\n",
    "First, set up a toy sky, with three point sources and some noise:"
   ]
  },
  {
   "cell_type": "code",
   "execution_count": null,
   "metadata": {
    "collapsed": false
   },
   "outputs": [],
   "source": [
    "imsize = 50\n",
    "\n",
    "# create noise background\n",
    "noise_rms = 0.1\n",
    "I = noise_rms*(np.random.random([imsize,imsize])-0.5)\n",
    "\n",
    "# add three point sources\n",
    "I[20,20] += 1\n",
    "I[32,15] += 1.45\n",
    "I[30,34] += 1.12\n",
    "\n",
    "plt.imshow(I, cmap=cm.jet)\n",
    "plt.colorbar()\n",
    "plt.title('I(l,m)');"
   ]
  },
  {
   "cell_type": "markdown",
   "metadata": {},
   "source": [
    "Now set up a fake PSF. We will just make up a star shape to be the PSF:"
   ]
  },
  {
   "cell_type": "code",
   "execution_count": null,
   "metadata": {
    "collapsed": false
   },
   "outputs": [],
   "source": [
    "PSFsize = 13\n",
    "PSF = np.zeros([PSFsize,PSFsize])\n",
    "PSFmid = (PSFsize - 1)/2\n",
    "PSF[:,PSFmid] = 0.5\n",
    "PSF[PSFmid,:] = 0.5\n",
    "d1, d2 = np.diag_indices_from(PSF)\n",
    "PSF[d1,d2] = 0.5\n",
    "PSF[d1,d2[::-1]] = 0.5\n",
    "PSF[PSFmid-2:PSFmid+3,PSFmid-2:PSFmid+3] = 0\n",
    "PSF[PSFmid-1:PSFmid+2,PSFmid-1:PSFmid+2] = 0.75\n",
    "PSF[PSFmid,PSFmid] = 1.0\n",
    "\n",
    "plt.imshow(PSF, cmap = cm.jet)\n",
    "plt.colorbar()\n",
    "plt.title('PSF(l,m)');"
   ]
  },
  {
   "cell_type": "markdown",
   "metadata": {},
   "source": [
    "Now we convolve our true sky image $I(l,m)$ with the PSF, to give the dirty image $I^D(l,m)$"
   ]
  },
  {
   "cell_type": "code",
   "execution_count": null,
   "metadata": {
    "collapsed": true
   },
   "outputs": [],
   "source": [
    "I_dirty = convolve2d(I,PSF,mode='same')"
   ]
  },
  {
   "cell_type": "markdown",
   "metadata": {},
   "source": [
    "Lets plot all three together to see what we have just done:"
   ]
  },
  {
   "cell_type": "code",
   "execution_count": null,
   "metadata": {
    "collapsed": false
   },
   "outputs": [],
   "source": [
    "fig, axes = plt.subplots(figsize=(16,16))\n",
    "\n",
    "plt.subplot(131)\n",
    "plt.imshow(I, cmap=cm.jet)\n",
    "plt.title('I(l,m)')\n",
    "\n",
    "plt.subplot(132)\n",
    "plt.imshow(PSF, cmap=cm.jet)\n",
    "plt.xlim(-15,25)\n",
    "plt.ylim(-15,25)\n",
    "plt.title('PSF(l,m)')\n",
    "\n",
    "plt.subplot(133)\n",
    "plt.imshow(I_dirty, cmap=cm.jet)\n",
    "plt.title('Dirty image I^D(l,m)');"
   ]
  },
  {
   "cell_type": "markdown",
   "metadata": {},
   "source": [
    "***"
   ]
  },
  {
   "cell_type": "markdown",
   "metadata": {},
   "source": [
    "## 6.2.3 CLEAN <a id='deconv:sec:clean'></a>"
   ]
  },
  {
   "cell_type": "markdown",
   "metadata": {},
   "source": [
    "CLEAN is an algorithm to deconvolve the dirty image and PSF. The CLEAN algorithm was originally devised by Högbom (1974) and more sophisticated versions were developed later. We will describe the Högbom CLEAN here and discuss more recent CLEAN algorithms in the next section.\n",
    "\n",
    "In the Högbom CLEAN, the deconvolution is performed by iteratively finding peaks in the image and removing scaled versions of the PSF at the peak positions. It is an image-based CLEAN, meaning that the deconvolution is done entirely in the image $lm$ plane (some later CLEAN algorithms also work in part in the visibility $uv$ plane).\n",
    "\n",
    "A summary of the algorithm can be found in The White Book (pg 154).\n",
    "\n",
    "*** Högbom's Algorithm (Image-domain CLEAN): ***\n",
    "\n",
    "1. Make a copy the dirty image $I^D(l,m)$ called the residual image $I^R(l,m)$\n",
    "2. Find the strength and position of the peak in the residual image $I^R(l,m)$\n",
    "3. Subtract from the residual image $I^R(l,m)$, at the position of the peak, the dirty beam $B(l,m)$ multiplied by the peak strength and a gain factor $g$.\n",
    "4. Record the position and magnitude of the point source subtracted in a model\n",
    "5. Go to (2.) unless any remaining peak is below some user-specified threshold or the number of iterations reached some user-specified limit.\n",
    "6. Convolve the accumulated point source model with a restoring beam, termed the CLEAN beam (usually a Gaussian fitted to the main lobe of the dirty beam)\n",
    "7. Add the remainder of the residual image $I^R(l,m)$ to the CLEAN image formed in (6.) to form the final restored image\n",
    "\n",
    "Input: Dirty image, dirty beam (PSF)\n",
    "\n",
    "Parameters: gain, iteration limit, flux threshold\n",
    "\n",
    "Output: Model, residual image, restored image"
   ]
  },
  {
   "cell_type": "markdown",
   "metadata": {},
   "source": [
    "Let us use the algorithm steps above to deconvolve our dirty image from the previous section:"
   ]
  },
  {
   "cell_type": "code",
   "execution_count": null,
   "metadata": {
    "collapsed": true
   },
   "outputs": [],
   "source": [
    "# ------------------------------------------------\n",
    "# Step 1: copy the dirty image to a residual image\n",
    "# ------------------------------------------------\n",
    "I_residual = copy(I_dirty)\n",
    "\n",
    "# set up the input parameters \n",
    "#   (you can change these later to see how they impact the algorithm)\n",
    "gain = 0.2\n",
    "niter = 100\n",
    "threshold = 5.*noise_rms\n",
    "\n",
    "plotmax = np.max(I)\n",
    "plotmin = np.min(I)\n",
    "model = []"
   ]
  },
  {
   "cell_type": "code",
   "execution_count": null,
   "metadata": {
    "collapsed": false
   },
   "outputs": [],
   "source": [
    "# plot dirty image to compare to the residual image as we run the algorithm\n",
    "f, ax = plt.subplots(1,2,figsize=[16,6])\n",
    "ax[0].set_title('I(l,m)')\n",
    "ax[0].imshow(I_dirty, cmap=cm.jet, vmax=plotmax, vmin=plotmin);\n",
    "\n",
    "for i in range(niter):  \n",
    "    print 'Iteration {0}:'.format(i,)\n",
    "    \n",
    "    # ------------------------------------------------\n",
    "    # Step 2. Find the strength and position of the peak in the residual image\n",
    "    # ------------------------------------------------\n",
    "    f_max = np.max(I_residual)\n",
    "    p_max = np.where(I_residual==f_max)\n",
    "    \n",
    "    # ------------------------------------------------\n",
    "    # Step 3. Subtract gain*PSF centred on $p_{max}$ from the residual image\n",
    "    # ------------------------------------------------    \n",
    "    p_x, p_y = p_max\n",
    "    I_residual[p_x-PSFmid:p_x+PSFmid+1,p_y-PSFmid:p_y+PSFmid+1] -= gain*PSF\n",
    "    print 'Peak: {0}    Position: {1},{2}'.format(f_max,p_x[0],p_y[0])\n",
    "    \n",
    "    # ------------------------------------------------\n",
    "    # Step 4. Record the peak position and the magnitude subtracted in the model\n",
    "    # ------------------------------------------------        \n",
    "    model.append([p_x[0], p_y[0], gain*f_max])\n",
    "    \n",
    "    # ------------------------------------------------\n",
    "    # Step 5. Repeat from (2.), unless residual image < threshold\n",
    "    # ------------------------------------------------      \n",
    "    if np.max(I_residual) < threshold: \n",
    "        print 'Residual map peak is less than threshold {0}'.format(threshold,)\n",
    "        break\n",
    "\n",
    "    # plot the new residial next to the original image \n",
    "    ax[1].imshow(I_residual, cmap=cm.jet, vmax=plotmax, vmin=plotmin)\n",
    "    ax[1].set_title('I_residual(l,m)')    \n",
    "    # show the plot, then get ready for the next plot\n",
    "    plt.draw()\n",
    "    clear_output(wait=True)\n",
    "    time.sleep(0.2)\n",
    "    display(f)\n",
    "    ax[1].cla()\n",
    "    plt.close()  "
   ]
  },
  {
   "cell_type": "markdown",
   "metadata": {},
   "source": [
    "Lets plot the original image and the final residual image scaled to see the residuals:"
   ]
  },
  {
   "cell_type": "code",
   "execution_count": null,
   "metadata": {
    "collapsed": false
   },
   "outputs": [],
   "source": [
    "plotmax = np.max(I_residual)\n",
    "plotmin = np.min(I_residual)\n",
    "\n",
    "fig, axes = plt.subplots(figsize=(16,6))\n",
    "\n",
    "plt.subplot(121)\n",
    "plt.imshow(I_dirty, cmap=cm.jet, vmax=plotmax, vmin=plotmin)\n",
    "plt.colorbar()\n",
    "\n",
    "plt.subplot(122)\n",
    "plt.colorbar()\n",
    "plt.imshow(I_residual, cmap=cm.jet, vmax=plotmax, vmin=plotmin);"
   ]
  },
  {
   "cell_type": "code",
   "execution_count": null,
   "metadata": {
    "collapsed": false
   },
   "outputs": [],
   "source": [
    "# now sum the accumulated point source model (\"clean components\") into a model image\n",
    "print 'Clean components:'\n",
    "print 'x  y  flux'\n",
    "\n",
    "I_model = np.zeros([imsize,imsize])\n",
    "for x, y, f in model:\n",
    "    print x, y, f\n",
    "    I_model[x,y] += f"
   ]
  },
  {
   "cell_type": "markdown",
   "metadata": {},
   "source": [
    "And plot the deconvolved model image next to the original true image"
   ]
  },
  {
   "cell_type": "code",
   "execution_count": null,
   "metadata": {
    "collapsed": false
   },
   "outputs": [],
   "source": [
    "plotmax = np.max(I)\n",
    "plotmin = np.min(I)\n",
    "fig, axes = plt.subplots(figsize=(16,6))\n",
    "\n",
    "plt.subplot(121)\n",
    "plt.imshow(I, cmap=cm.jet, vmax=plotmax, vmin=plotmin)\n",
    "plt.colorbar()\n",
    "\n",
    "plt.subplot(122)\n",
    "plt.imshow(I_model, cmap=cm.jet, vmax=plotmax, vmin=plotmin)\n",
    "plt.colorbar();"
   ]
  },
  {
   "cell_type": "markdown",
   "metadata": {},
   "source": [
    "Steps 6 and 7 in the CLEAN algorithm is convolving the model by a restoring beam, and adding back the residual image. The restoring beam is usualy just a Gaussian fit to the main beam. \n",
    "\n",
    "In our toy example here it is hardly worth doing a proper Gaussian fit, but let's do it anyway:"
   ]
  },
  {
   "cell_type": "code",
   "execution_count": null,
   "metadata": {
    "collapsed": false
   },
   "outputs": [],
   "source": [
    "# first get just the main lobe of the star shaped PSF\n",
    "main_lobe = np.zeros([PSFsize,PSFsize])\n",
    "main_lobe[PSFmid-1:PSFmid+2,PSFmid-1:PSFmid+2] = 0.75\n",
    "main_lobe[PSFmid,PSFmid] = 1.0\n",
    "\n",
    "fig, axes = plt.subplots(figsize=(16,6))\n",
    "plt.subplot(121)\n",
    "plt.imshow(PSF, cmap=cm.jet)\n",
    "plt.colorbar()\n",
    "plt.title('PSF(l,m)');\n",
    "\n",
    "plt.subplot(122)\n",
    "plt.imshow(main_lobe, cmap=cm.jet)\n",
    "plt.colorbar()\n",
    "plt.title('main lobe(l,m)');"
   ]
  },
  {
   "cell_type": "code",
   "execution_count": null,
   "metadata": {
    "collapsed": false
   },
   "outputs": [],
   "source": [
    "# now fit a symmetric 2D gaussian to the main lobe\n",
    "import scipy.optimize as opt\n",
    "\n",
    "def gaussian2dsymmetric((x,y),A,x0,y0,sigma):\n",
    "    gauss2d = A*np.exp(-((x-x0)**2.0 + (y-y0)**2.0)/(2.*sigma**2.0))\n",
    "    return gauss2d.ravel()\n",
    "\n",
    "x,y = np.meshgrid(range(PSFsize),range(PSFsize))\n",
    "popt, pcov = opt.curve_fit(gaussian2dsymmetric,(x, y),main_lobe.ravel(), p0=[1.0,6.5,6.5,2.])\n",
    "A, x0, y0, sigma = popt\n",
    "print \"Fit results:\"\n",
    "print \"A: {0},  x0: {1}  y0: {2}  sigma: {3}\".format(A,x0,y0,sigma)\n",
    "\n",
    "# use fitted values to create CLEAN beam (or restoring beam)\n",
    "#   normalise by dividing through by A\n",
    "clean_beam = gaussian2dsymmetric((x,y),A,x0,y0,sigma).reshape(PSFsize,PSFsize)/A"
   ]
  },
  {
   "cell_type": "code",
   "execution_count": null,
   "metadata": {
    "collapsed": false
   },
   "outputs": [],
   "source": [
    "# plot the CLEAN beam\n",
    "plt.imshow(clean_beam, cmap=cm.jet)\n",
    "plt.colorbar()\n",
    "plt.title('CLEAN beam(l,m)');"
   ]
  },
  {
   "cell_type": "markdown",
   "metadata": {},
   "source": [
    "And now the final steps in the CLEAN are to convolve our model by the CLEAN beam and add back the residuals:"
   ]
  },
  {
   "cell_type": "code",
   "execution_count": null,
   "metadata": {
    "collapsed": true
   },
   "outputs": [],
   "source": [
    "# ------------------------------------------------\n",
    "# Step 6: convolve the model with the CLEAN beam\n",
    "# ------------------------------------------------\n",
    "I_restored = convolve2d(I_model,clean_beam,mode='same') \n",
    "\n",
    "# ------------------------------------------------\n",
    "# Step 7: add the residuals back to the restored image\n",
    "# ------------------------------------------------\n",
    "I_restored = I_restored + I_residual"
   ]
  },
  {
   "cell_type": "markdown",
   "metadata": {},
   "source": [
    "Now let us plot the results of the CLEAN:"
   ]
  },
  {
   "cell_type": "code",
   "execution_count": null,
   "metadata": {
    "collapsed": false
   },
   "outputs": [],
   "source": [
    "plotmax = np.max(I_dirty)\n",
    "plotmin = np.min(I_dirty)\n",
    "\n",
    "fig, axes = plt.subplots(figsize=(16,12))\n",
    "\n",
    "plt.subplot(221)\n",
    "plt.imshow(I, cmap=cm.jet, vmax=plotmax, vmin=plotmin)\n",
    "plt.title('I(l,m)')\n",
    "plt.colorbar()\n",
    "\n",
    "plt.subplot(222)\n",
    "plt.colorbar()\n",
    "plt.title('I_dirty(l,m)')\n",
    "plt.imshow(I_dirty, cmap=cm.jet, vmax=plotmax, vmin=plotmin);\n",
    "\n",
    "plt.subplot(223)\n",
    "plt.title('I_model(l,m)')\n",
    "plt.imshow(I_model, cmap=cm.jet, vmax=plotmax, vmin=plotmin)\n",
    "plt.colorbar()\n",
    "\n",
    "plt.subplot(224)\n",
    "plt.colorbar()\n",
    "plt.title('I_restored(l,m)');\n",
    "plt.imshow(I_restored, cmap=cm.jet, vmax=plotmax, vmin=plotmin);"
   ]
  },
  {
   "cell_type": "markdown",
   "metadata": {},
   "source": [
    "Notice how the CLEAN is imperfect!\n",
    "\n",
    "Even in a simple field of distant point sources, with no noise, PSF side lobes can overlap and add up and CLEAN can wrongly identify them as sources. And as soon as we add noise the situation degrades further - when we start CLEANing to close to the noise level the CLEAN can start picking up noise as sources. Also individual point sources can be subtracted in multiple components in adjacent pixels.\n",
    "\n",
    "But having said that - CLEAN usually performs adequately. As long as we are careful to look at the results of our CLEAN, and are aware of image artifacts and noise levels!\n",
    "\n",
    "There are also lots of parameters to fiddle with, even in our simple clean. \n",
    "\n",
    "Try changing the gain and cutoff threshold and re-run this notebook, to see how they effect the CLEAN. Also try changing the noise level of the original map by changing noise_rms - you will see how the CLEAN performs better when the signal to noise ratio is higher."
   ]
  },
  {
   "cell_type": "markdown",
   "metadata": {},
   "source": [
    "***\n",
    "\n",
    "Next: [6.3 Residuals and Image Quality](6_3_residuals_and_iqa.ipynb)"
   ]
  },
  {
   "cell_type": "code",
   "execution_count": null,
   "metadata": {
    "collapsed": true
   },
   "outputs": [],
   "source": []
  }
 ],
 "metadata": {
  "kernelspec": {
   "display_name": "Python 2",
   "language": "python",
   "name": "python2"
  },
  "language_info": {
   "codemirror_mode": {
    "name": "ipython",
    "version": 2
   },
   "file_extension": ".py",
   "mimetype": "text/x-python",
   "name": "python",
   "nbconvert_exporter": "python",
   "pygments_lexer": "ipython2",
   "version": "2.7.6"
  }
 },
 "nbformat": 4,
 "nbformat_minor": 0
}
