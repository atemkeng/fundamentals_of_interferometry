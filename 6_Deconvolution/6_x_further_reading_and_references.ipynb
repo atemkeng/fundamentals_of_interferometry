{
 "cells": [
  {
   "cell_type": "markdown",
   "metadata": {
    "collapsed": true
   },
   "source": [
    "***\n",
    "\n",
    "* [Outline](../0_Introduction/0_introduction.ipynb)\n",
    "* [Glossary](../0_Introduction/1_glossary.ipynb)\n",
    "* [6. Deconvolution in Imaging](6_0_introduction.ipynb)  \n",
    "    * Previous: [6.4 Source Finding and Detection](6_4_source_finding.ipynb)  \n",
    "    * Next: [Chapter 7: Observing Systems](../7_Observing_Systems/7_0_introduction.ipynb)\n",
    "\n",
    "***"
   ]
  },
  {
   "cell_type": "markdown",
   "metadata": {},
   "source": [
    "## 6.5 Further Reading and References <a id='deconv:sec:refs'></a>"
   ]
  },
  {
   "cell_type": "markdown",
   "metadata": {},
   "source": [
    "1. [<cite data-cite='2002ApJ...570..447C'>Shape Reconstruction and Weak Lensing Measurement with Interferometers: A Shapelet Approach</cite> &#10548;](http://arxiv.org/abs/astro-ph/0107085): Shapelet basis set-based sky modeling.\n",
    "2. [<cite data-cite='2008ISTSP...2..793C'>Multiscale CLEAN Deconvolution of Radio Synthesis Images</cite> &#10548;](http://arxiv.org/abs/0806.2228): Multi-scale CLEAN using Gaussian functions for deconvolution.\n",
    "3. [<cite data-cite='python_shapelets'>Python-based Shapelets</cite> &#10548;](https://github.com/griffinfoster/shapelets): Python module for using Shapelets in radio interferometry."
   ]
  },
  {
   "cell_type": "markdown",
   "metadata": {},
   "source": [
    "***\n",
    "\n",
    "Next: [Chapter 7: Observing Systems](../7_Observing_Systems/7_0_introduction.ipynb)"
   ]
  }
 ],
 "metadata": {
  "kernelspec": {
   "display_name": "Python 2",
   "language": "python",
   "name": "python2"
  },
  "language_info": {
   "codemirror_mode": {
    "name": "ipython",
    "version": 2
   },
   "file_extension": ".py",
   "mimetype": "text/x-python",
   "name": "python",
   "nbconvert_exporter": "python",
   "pygments_lexer": "ipython2",
   "version": "2.7.6"
  }
 },
 "nbformat": 4,
 "nbformat_minor": 0
}
