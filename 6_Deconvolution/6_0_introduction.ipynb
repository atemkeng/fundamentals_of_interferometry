{
 "cells": [
  {
   "cell_type": "markdown",
   "metadata": {},
   "source": [
    "***\n",
    "\n",
    "* [Outline](../0_Introduction/0_introduction.ipynb)\n",
    "* [Glossary](../0_Introduction/1_glossary.ipynb)\n",
    "* [6. Deconvolution in Imaging](#)  \n",
    "    * Next: [6.1 Sky Models](6_1_sky_models.ipynb)\n",
    "\n",
    "***"
   ]
  },
  {
   "cell_type": "markdown",
   "metadata": {},
   "source": [
    "# Chapter 6: Deconvolution in Imaging<a id='deconv:sec:intro'></a>"
   ]
  },
  {
   "cell_type": "markdown",
   "metadata": {},
   "source": [
    "When we discuss deconvolution in radio interferometry we are almost always talking about the removal of the PSF structure in an image using prior knowledge of the array being used and the type of sources in the field of interest. Colloquially, one will hear someone talk about creating a 'clean' image from a 'dirty' image. This means that a deconvolution algorithm, typically a variant of the CLEAN algorithm, is used to construct a more 'complete' image based on our knowledge of the array PSF and what types of sources we expect to see in the sky.\n",
    "\n",
    "To understand the motivation for the types of deconvolution algorithms typically used in radio interferometry we will first discuss how sources are typically represented in a sky model. Then we will build up a basic form of the CLEAN algorithms, and increase the complexity of the methods. Then, we will cover the issue of when to halt deconvolution, how image quality is described, and how a final image is constructed. Finally, we will discuss automated source detection for extracting sky source information."
   ]
  },
  {
   "cell_type": "markdown",
   "metadata": {},
   "source": [
    "#### Chapter Outline\n",
    "\n",
    "1. [Sky Models](6_1_sky_models.ipynb)\n",
    "2. [Point Source Assumption (CLEAN)](6_2_clean.ipynb)\n",
    "    1. A simple 1D deconvolution example\n",
    "    2. Image-domain (Hogbom)\n",
    "    3. Gridded Visibility-domain (Clark)\n",
    "    4. Visibility domain (Cotton-Schwab)\n",
    "3. [Residuals and Image Quality](6_3_residuals_and_iqa.ipynb)\n",
    "4. [Source Finding and Detection](6_4_source_finding.ipynb)\n",
    "5. [Further Reading and References](6_x_further_reading_and_references.ipynb)"
   ]
  },
  {
   "cell_type": "markdown",
   "metadata": {},
   "source": [
    "#### Chapter Editors\n",
    "\n",
    "#### Chapter Contributors\n",
    "\n",
    "* Griffin Foster (**6.0**, **6.1**, **6.3**)\n",
    "* Laura Richter (**6.2**)\n",
    "* Sphesihle Makhathini (**6.4**)"
   ]
  },
  {
   "cell_type": "markdown",
   "metadata": {},
   "source": [
    "***\n",
    "\n",
    "Next: [6.1 Sky Models](6_1_sky_models.ipynb)"
   ]
  }
 ],
 "metadata": {
  "kernelspec": {
   "display_name": "Python 2",
   "language": "python",
   "name": "python2"
  },
  "language_info": {
   "codemirror_mode": {
    "name": "ipython",
    "version": 2
   },
   "file_extension": ".py",
   "mimetype": "text/x-python",
   "name": "python",
   "nbconvert_exporter": "python",
   "pygments_lexer": "ipython2",
   "version": "2.7.6"
  }
 },
 "nbformat": 4,
 "nbformat_minor": 0
}
