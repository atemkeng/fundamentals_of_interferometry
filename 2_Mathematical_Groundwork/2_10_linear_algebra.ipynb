{
 "cells": [
  {
   "cell_type": "markdown",
   "metadata": {},
   "source": [
    "***\n",
    "\n",
    "* [Outline](../0_Introduction/0_introduction.ipynb)\n",
    "* [Glossary](../0_Introduction/1_glossary.ipynb)\n",
    "* 2. Mahtematical Background \n",
    "    * Previous: [2.9 Sampling Theory]()\n",
    "    * Next: [2.11 Least-squares Minimization](../2_Mathematical_Background/2_12_least_squares.ipynb)\n",
    "\n",
    "***"
   ]
  },
  {
   "cell_type": "markdown",
   "metadata": {},
   "source": [
    "Import standard modules:"
   ]
  },
  {
   "cell_type": "code",
   "execution_count": 2,
   "metadata": {
    "collapsed": true
   },
   "outputs": [],
   "source": [
    "import numpy as np\n",
    "import matplotlib.pyplot as plt\n",
    "%matplotlib inline"
   ]
  },
  {
   "cell_type": "markdown",
   "metadata": {},
   "source": [
    "## 2.10 Linear Algebra"
   ]
  },
  {
   "cell_type": "markdown",
   "metadata": {},
   "source": [
    "In the sections that follow we will be studying vectors and matrices. We use vectors and matrices quite frequently in radio interferometry which is why it is quite important to have some familiarity with them."
   ]
  },
  {
   "cell_type": "markdown",
   "metadata": {},
   "source": [
    "### 2.10.1 Vectors"
   ]
  },
  {
   "cell_type": "markdown",
   "metadata": {},
   "source": [
    "**Definition**: An $n$-dimensional column vector ${\\bf{v}}\\in\\mathbb{C}^{n\\times 1}$ is an ordered collection of $n$-complex numbers, i.e. $v_1,v_2,....v_n$; stacked in the following manner:\n",
    "\n",
    "\\begin{equation}\n",
    "{\\bf{v}} = \\begin{pmatrix}\n",
    "v_1\\\\\n",
    "v_2\\\\\n",
    "\\vdots\\\\\n",
    "v_n\n",
    "\\end{pmatrix}.\n",
    "\\end{equation}\n",
    "\n",
    "An $n$-dimensional row vector ${\\bf{u}}\\in\\mathbb{C}^{1\\times n}$ is an ordered collection of $n$-complex numbers, i.e. $u_1,u_2,....u_n$; stacked in the following manner:  \n",
    "\n",
    "\\begin{equation}\n",
    "{\\bf{u}}=(u_1,u_2,....u_n)\n",
    "\\end{equation}\n",
    "\n",
    "We will use the shorthand ${\\bf{v}}\\in\\mathbb{C}^{n}$ to denote a column vector. "
   ]
  },
  {
   "cell_type": "markdown",
   "metadata": {},
   "source": [
    "#### 2.10.1.1 Vector Products "
   ]
  },
  {
   "cell_type": "markdown",
   "metadata": {},
   "source": [
    "The following vector products are often used in radio interferometry:\n",
    "\n",
    "1. **Hermitian innerproduct**: \n",
    "   \n",
    "   Let ${\\bf{u}},{\\bf{v}}\\in\\mathbb{C}^{1\\times n}$. The Hermitian innerproduct of\n",
    "   ${\\bf{u}}$ and ${\\bf{v}}$ is given by:  \n",
    "   \\begin{equation}\n",
    "   {\\bf{u}}\\cdot{\\bf{v}} = \\sum_{k=1}^n u_i^*v_i.\n",
    "   \\end{equation}\n",
    "\n",
    "2. **Outer Product**:\n",
    "\n",
    "  Let ${\\bf{u}},{\\bf{v}}\\in \\mathbb{C}^{n}$. The outer product of\n",
    "  ${\\bf{u}}$ and ${\\bf{v}}$ is given by:\n",
    "  \\begin{equation}\n",
    "  {\\bf{u}}*{\\bf{v}} = (u_iv_j^*)_{ij}\n",
    "  \\end{equation}\n",
    "   \n",
    " "
   ]
  },
  {
   "cell_type": "markdown",
   "metadata": {},
   "source": [
    "### 2.10.2 Matrices "
   ]
  },
  {
   "cell_type": "markdown",
   "metadata": {},
   "source": [
    "**Definition**: A matrix ${\\bf{A}}\\in \\mathbb{C}^{m\\times n}$ is defined as an ordered rectangular array of complex numbers, i.e.\n",
    "\\begin{equation}\n",
    "{\\bf{A}} = \\begin{pmatrix} a_{11}&a_{12}&\\dots& a_{1n}\\\\\n",
    "a_{21}&a_{22}&\\dots &a_{2n}\\\\\n",
    "\\vdots&\\vdots&\\ddots &\\vdots\\\\\n",
    "a_{m1}&a_{m2}&\\dots &a_{mn}\n",
    "\\end{pmatrix}\n",
    "\\end{equation}\n",
    "\n",
    "If $m=n$, then ${\\bf{A}}$ is termed as a square matrix. "
   ]
  },
  {
   "cell_type": "markdown",
   "metadata": {},
   "source": [
    "#### 2.10.2.1 Basic Matrix Operations and Properties "
   ]
  },
  {
   "cell_type": "markdown",
   "metadata": {},
   "source": [
    " \n",
    "1. The traspose of ${\\bf{A}}\\in \\mathbb{C}^{m\\times n}$, denoted by ${\\bf{A}}^T$ is given by\n",
    "   \\begin{equation}\n",
    "   {\\bf{A}}^T_{ij} = a_{ji}.\n",
    "   \\end{equation}\n",
    "  \n",
    "2. The Hermition tranpose of ${\\bf{A}}\\in \\mathbb{C}^{m\\times n}$, denoted by ${\\bf{A}}^H$\n",
    "   is given by\n",
    "   \\begin{equation}\n",
    "   {\\bf{A}}^H_{ij} = a_{ji}^*.\n",
    "   \\end{equation}\n",
    "   \n",
    "3. The complex conjugate of ${\\bf{A}}\\in \\mathbb{C}^{m\\times n}$, denoted by ${\\bf{A}}^*$\n",
    "   is given by\n",
    "   \\begin{equation}\n",
    "   {\\bf{A}}^H_{ij} = a_{ij}^*.\n",
    "   \\end{equation}\n",
    "   \n",
    "4. The vectorization of matrix ${\\bf{A}}\\in \\mathbb{C}^{m\\times n}$, denoted by\n",
    "   vec$({\\bf{A}})$, is the $mn \\times 1$ column vector obtained by stacking the columns of\n",
    "   the matrix ${\\bf{A}}$ on top of one another:\n",
    "   \\begin{equation}\n",
    "    \\mathrm{vec}({\\bf{A}}) = [a_{11}, \\ldots, a_{m1}, a_{12}, \\ldots, a_{m2}, \\ldots,\n",
    "    a_{1n},\\ldots, a_{mn}]^T \n",
    "   \\end{equation}\n",
    "   The inverse operation of of vec$({\\bf{A}})$ is denoted by vec$^{-1}({\\bf{A}})$ and \n",
    "   is called matrization. \n",
    "   \n",
    "5. We use diag$(\\bf{u})$ to denote a matrix whose diagonal is equal to $\\bf{u}$, while\n",
    "   all its other entries are equated to zero.\n",
    "   \n",
    "6. A square matrix ${\\bf{A}}\\in \\mathbb{C}^{m\\times m}$ is said to be: \n",
    "    \n",
    "     * **Invertible** if there exists\n",
    "       a matrix ${\\bf{B}}\\in \\mathbb{C}^{m\\times m}$ such that:\n",
    "       \\begin{equation}\n",
    "       {\\bf{B}}{\\bf{A}} = {\\bf{A}}{\\bf{B}} ={\\bf{I}}.\n",
    "       \\end{equation}\n",
    "       We denote the inverse of ${\\bf{A}}$ with ${\\bf{A}}^{-1}$. \n",
    "     * **Hermitian** if ${\\bf{A}} = {\\bf{A}}^H$.\n",
    "     * **Unitary** if ${\\bf{A}}^{-1} = {\\bf{A}}^H$."
   ]
  },
  {
   "cell_type": "markdown",
   "metadata": {},
   "source": [
    "#### 2.10.2.2 Matrix Products "
   ]
  },
  {
   "cell_type": "markdown",
   "metadata": {},
   "source": [
    "There are a few matrix products which are commonly used in radio interferometry.\n",
    "The most used products are defined below (also see [<cite data-cite='Liu2008'>Hadamard, Khatri-Rao, Kronecker and other matrix products</cite> &#10548;](https://www.researchgate.net/profile/Shuangzhe_Liu/publication/251677036_HADAMARD_KHATRI-RAO_KRONECKER_AND_OTHER_MATRIX_PRODUCTS/links/02e7e5375f06540414000000.pdf)):\n",
    " \n",
    "We assume below that ${\\bf{A}},{\\bf{C}}\\in\\mathbb{C}^{m\\times n}$, ${\\bf{B}}\\in\\mathbb{C}^{p\\times q}$ and ${\\bf{D}}\\in\\mathbb{C}^{n\\times r}$. We further assume that ${\\bf{A}}$ and  ${\\bf{B}}$ can be partiotioned as follow: $({\\bf{A}}_{ij})$ and ${(\\bf{B}}_{kl})$; with ${\\bf{A}}_{ij}\\in\\mathbb{C}^{m_i\\times n_j}$ and ${\\bf{B}}_{kl}\\in\\mathbb{C}^{p_k\\times q_l}$. Moreover $\\sum m_i = m, \\sum n_j = n, \\sum p_k = p$ and $\\sum q_l = q$. We can now define the following matrix products: \n",
    "\n",
    "1. **Matrix Product**\n",
    "   The matrix product of ${\\bf{A}}$ and ${\\bf{D}}$ is of order $m\\times r$ and is given by\n",
    "   \\begin{equation}\n",
    "   {\\bf{A}}\\times{\\bf{D}} = \\left (\\sum^m_{k=1} a_{ik}b_{kj} \\right)_{ij}.\n",
    "   \\end{equation}\n",
    "\n",
    "2. **Hadamard Product**\n",
    "\n",
    "   The hadamard product of ${\\bf{A}}$ and ${\\bf{C}}$ is of order $m\\times n$ and is given\n",
    "   by:\n",
    "   \\begin{equation}\n",
    "   {\\bf{A}} \\odot {\\bf{C}} = (a_{ij}c_{ij})_{ij}.\n",
    "   \\end{equation}\n",
    "   \n",
    "3. **Kronecker Product**\n",
    "\n",
    "   The kronecker product of ${\\bf{A}}$ and ${\\bf{B}}$ is of order $mp\\times nq$\n",
    "   and is given by:\n",
    "   \\begin{equation}\n",
    "   {\\bf{A}} \\otimes {\\bf{B}} = (a_{ij}{\\bf{B}})_{ij}.\n",
    "   \\end{equation}   \n",
    "\n",
    "4. **Khatri-Rao Product**\n",
    "\n",
    "   The kronecker product of ${\\bf{A}}$ and ${\\bf{B}}$ is of order $\\big(\\sum m_ip_i\\big)\n",
    "   \\times \\big(\\sum n_jq_j \\big)$ and is given by\n",
    "   \\begin{equation}\n",
    "   {\\bf{A}} \\oplus {\\bf{B}} = ({\\bf{A}}_{ij}\\otimes{\\bf{B}}_{ij})_{ij},\n",
    "   \\end{equation}    \n",
    "   where $({\\bf{A}}_{ij}\\otimes{\\bf{B}}_{ij})$ is of order $m_ip_i \\times n_jq_j$.\n",
    "   \n",
    "You can be sure to encounter most of these products whilst studying the RIME (see Chapter ??)."
   ]
  },
  {
   "cell_type": "markdown",
   "metadata": {},
   "source": [
    "#### 2.10.2.3 Examples"
   ]
  },
  {
   "cell_type": "markdown",
   "metadata": {},
   "source": [
    "Consider the vectors ${\\bf{u}}=\\begin{pmatrix} u_1,u_2,u_3\\end{pmatrix}^T$ and ${\\bf{v}}=\\begin{pmatrix} v_1,v_2,v_3\\end{pmatrix}^T$. \n",
    "\n",
    "Now:\n",
    "\\begin{align}\n",
    "{\\bf{u}}*{\\bf{v}}&= \\begin{pmatrix} u_1\\\\u_2\\\\u_3\\end{pmatrix}\\begin{pmatrix}v_1,v_2,v_3\\end{pmatrix}=\\begin{pmatrix} u_1v_1&u_1v_2&u_1v_3\\\\ u_2v_1&u_2v_2&u_2v_3\\\\u_3v_1&u_3v_2&u_3v_3\\end{pmatrix}.\n",
    "\\end{align}\n",
    "Consider the matrices\n",
    "\\begin{equation}\n",
    "{\\bf{A}} = \\begin{pmatrix} a_{11}&a_{12}\\\\a_{21}&a_{22}\\\\a_{31}&a_{32}\\end{pmatrix} \\hspace{0.5cm} \\text{and} \\hspace{0.5cm} {\\bf{B}} = \\begin{pmatrix}b_{11}&b_{12}\\\\b_{21}&b_{22}\\\\b_{31}&b_{32}\\end{pmatrix}. \n",
    "\\end{equation}\n",
    "Now:\n",
    "\\begin{align}\n",
    "{\\bf{A}} \\odot {\\bf{B}} &= \\begin{pmatrix} a_{11}&a_{12}\\\\a_{21}&a_{22}\\\\a_{31}&a_{32}\\end{pmatrix}\\odot \n",
    "\\begin{pmatrix}b_{11}&b_{12}\\\\b_{21}&b_{22}\\\\b_{31}&b_{32}\\end{pmatrix} = \\begin{pmatrix} a_{11}b_{11}&a_{12}b_{12}\\\\a_{21}b_{21}&a_{22}b_{22}\\\\a_{31}b_{31}&a_{32}b_{32}\\end{pmatrix}\\\\\n",
    "{\\bf{A}} \\otimes {\\bf{B}} &= \\begin{pmatrix} a_{11}&a_{12}\\\\a_{21}&a_{22}\\\\a_{31}&a_{32}\\end{pmatrix}\\otimes\n",
    "\\begin{pmatrix}b_{11}&b_{12}\\\\b_{21}&b_{22}\\\\b_{31}&b_{32}\\end{pmatrix} = \\begin{pmatrix} a_{11}b_{11}&a_{11}b_{12}&a_{12}b_{11}&a_{12}b_{12}\\\\a_{11}a_{21}&a_{11}b_{22}&a_{12}b_{21}&a_{12}b_{22}\\\\a_{11}b_{31}&a_{11}b_{32}&a_{12}b_{31}&a_{12}b_{32}\\\\a_{21}b_{11}&a_{21}b_{12}&a_{22}b_{11}&a_{22}b_{12}\\\\a_{21}a_{21}&a_{21}b_{22}&a_{22}b_{21}&a_{22}b_{22}\\\\a_{21}b_{31}&a_{21}b_{33}&a_{22}b_{33}&a_{22}b_{32}\\\\a_{31}b_{11}&a_{31}b_{12}&a_{32}b_{11}&a_{32}b_{12}\\\\a_{31}a_{21}&a_{31}b_{22}&a_{32}b_{21}&a_{32}b_{22}\\\\a_{31}b_{31}&a_{31}b_{32}&a_{32}b_{31}&a_{32}b_{32}\n",
    "\\end{pmatrix}\\\\\n",
    "{\\bf{A}} \\oplus {\\bf{B}} &= \\begin{pmatrix} a_{11}&a_{12}\\\\a_{21}&a_{22}\\\\a_{31}&a_{32}\\end{pmatrix}\\oplus \n",
    "\\begin{pmatrix}b_{11}&b_{12}\\\\b_{21}&b_{22}\\\\b_{31}&b_{32}\\end{pmatrix} = \\begin{pmatrix} {\\bf{a}}_1\\otimes {\\bf{b}}_1\\\\{\\bf{a}}_2\\otimes {\\bf{b}}_2\\\\{\\bf{a}}_3\\otimes {\\bf{b}}_3 \\end{pmatrix}\\\\\n",
    "&= \\begin{pmatrix} a_{11}b_{11}&a_{11}b_{21}&a_{12}b_{11}&a_{12}b_{12}\\\\a_{21}b_{21}&a_{21}b_{22}&a_{22}b_{21}&a_{22}b_{22}\\\\ a_{31}b_{31}&a_{31}b_{32}&a_{32}b_{31}&a_{32}b_{32}\\end{pmatrix}\n",
    "\\end{align}\n",
    "\n",
    "Ipython implemenations of the above examples are given below:"
   ]
  },
  {
   "cell_type": "code",
   "execution_count": 3,
   "metadata": {
    "collapsed": false
   },
   "outputs": [
    {
     "name": "stdout",
     "output_type": "stream",
     "text": [
      "Outer Product:  [[  6.+0.j   3.+0.j  21.+0.j]\n",
      " [  8.+0.j   4.+0.j  28.+0.j]\n",
      " [  0.+2.j   0.+1.j   0.+7.j]] \n",
      " Hadamard Product:  [[  3.+0.j -32.+0.j]\n",
      " [ 10.+0.j  -3.+0.j]\n",
      " [ 24.+0.j -10.-2.j]] \n",
      " Kronecker Product:  [[  3. +0.j -24. +0.j   4. +0.j -32. +0.j]\n",
      " [  6. +0.j   9. +0.j   8. +0.j  12. +0.j]\n",
      " [ 18. +0.j   3.-15.j  24. +0.j   4.-20.j]\n",
      " [  5. +0.j -40. +0.j  -1. +0.j   8. -0.j]\n",
      " [ 10. +0.j  15. +0.j  -2. +0.j  -3. +0.j]\n",
      " [ 30. +0.j   5.-25.j  -6. +0.j  -1. +5.j]\n",
      " [  4. +0.j -32. +0.j   0. -2.j   0.+16.j]\n",
      " [  8. +0.j  12. +0.j   0. -4.j   0. -6.j]\n",
      " [ 24. +0.j   4.-20.j   0.-12.j -10. -2.j]] \n",
      " Khatri-Rao Product: [[  3. +0.j -24. +0.j   4. +0.j -32. +0.j]\n",
      " [ 10. +0.j  15. +0.j  -2. +0.j  -3. +0.j]\n",
      " [ 24. +0.j   4.-20.j   0.-12.j -10. -2.j]]\n"
     ]
    }
   ],
   "source": [
    "# Defining the vectors and matrices\n",
    "u = np.array((3,4,1j)) # 3x1 vector\n",
    "v = np.array((2,1,7)) # 3x1 vector\n",
    "A = np.array(([3,4],[5,-1],[4,-2j])) #3x2 matrix\n",
    "B = np.array(([1,-8],[2,3],[6,1-5j])) #3x2 matrix\n",
    "\n",
    "# Outer product\n",
    "out_prod = np.outer(u,v)\n",
    "# Hadamard product\n",
    "had_prod = A*B\n",
    "# Kronecker product\n",
    "kron_prod = np.kron(A,B)\n",
    "# Khatri-Rao product\n",
    "kha_prod = np.zeros((3,4),dtype=complex) # create a matrix of order (m x n^2 = 3X4 matrix)\n",
    "for i in range(len(A[:,0])):\n",
    "    kha_prod[i,:] = np.kron(A[i,:],B[i,:])\n",
    "    \n",
    "# Printing the products:\n",
    "print \"Outer Product: \", out_prod, \"\\n Hadamard Product: \", had_prod, \"\\n Kronecker Product: \",kron_prod, \"\\n Khatri-Rao Product:\",kha_prod"
   ]
  },
  {
   "cell_type": "markdown",
   "metadata": {},
   "source": [
    "#### 2.10.2.4 Product Identities"
   ]
  },
  {
   "cell_type": "markdown",
   "metadata": {},
   "source": [
    "We can establish the following product identities (assuming the matrices and vectors below have the appropriate dimensions):\n",
    "\n",
    "1. $({\\bf{A}} \\oplus {\\bf{B}}) \\odot ({\\bf{C}} \\oplus {\\bf{D}})=({\\bf{A}} \\odot {\\bf{C}}) \\oplus({\\bf{B}} \\odot {\\bf{D}}) $\n",
    "\n",
    "2. $({\\bf{A}} \\otimes {\\bf{B}})({\\bf{C}} \\oplus {\\bf{D}}) = {\\bf{A}}{\\bf{C}} \\oplus {\\bf{B}}{\\bf{D}}$\n",
    "\n",
    "3. $({\\bf{A}} \\oplus {\\bf{B}})^H({\\bf{C}} \\oplus {\\bf{D}}) = {\\bf{A}}^H{\\bf{C}} \\odot {\\bf{B}}^H {\\bf{D}}$\n",
    "\n",
    "4. $\\text{vec}({\\bf{A}}{\\bf{X}}{\\bf{B}}) = ({\\bf{B}}^T \\otimes {\\bf{A}})\\text{vec}({\\bf{X}})$ \n",
    "\n",
    "5. $\\text{vec}({\\bf{A}}\\text{diag}({\\bf{x}}){\\bf{B}}) = ({\\bf{B}}^T \\oplus {\\bf{A}}){\\bf{x}}$\n",
    "\n",
    "for more information about these identities the reader is referred to [<cite data-cite='Liu2008'>Hadamard, Khatri-Rao, Kronecker and other matrix products</cite> &#10548;](https://www.researchgate.net/profile/Shuangzhe_Liu/publication/251677036_HADAMARD_KHATRI-RAO_KRONECKER_AND_OTHER_MATRIX_PRODUCTS/links/02e7e5375f06540414000000.pdf) and ([<cite data-cite='Wijnholds2008'>Fundamental imaging limits of radio telescope arrays</cite> &#10548;](http://ieeexplore.ieee.org/xpl/freeabs_all.jsp?arnumber=4703514&abstractAccess=no&userType=inst)). These identities are bound to come up again when the RIME (see Chapter ??) is presented. Let us validate identity four by using an example.\n",
    "\n",
    " Consider the two complex $2\\times 2$ matrices:\n",
    " \\begin{equation}\n",
    "  {\\bf{J}} = \\begin{pmatrix} j_{11} &j_{12}\\\\ j_{21}&j_{22}\\end{pmatrix} \\hspace{0.5cm} \\text{and} \\hspace{0.5cm} \n",
    "  {\\bf{C}} = \\begin{pmatrix} c_{11} &c_{12}\\\\ c_{21}&c_{22}\\end{pmatrix}.\n",
    " \\end{equation}\n",
    "\n",
    " Now:\n",
    "\n",
    " \\begin{eqnarray}\n",
    " \\text{vec}({\\bf{J}}{\\bf{C}}{\\bf{J}}^H) &=& \\begin{pmatrix} j_{11} &j_{12}\\\\ j_{21}&j_{22}\\end{pmatrix} \\begin{pmatrix} c_{11} &c_{12}\\\\ c_{21}&c_{22}\\end{pmatrix} \\begin{pmatrix} j_{11}^* &j_{21}^*\\\\ j_{12}^*&j_{22}^*\\end{pmatrix}\\\\\n",
    " &=& \\begin{pmatrix} j_{11}^*j_{11}c_{11} + j_{11}^*j_{12}c_{21} + j_{12}^*j_{11}c_{12} + j_{12}^*j_{12}c_{22}\\\\\n",
    " j_{11}^*j_{21}c_{11} + j_{11}^*j_{22}c_{21} + j_{12}^*j_{21}c_{12} + j_{12}^*j_{22}c_{22} \\\\\n",
    " j_{21}^*j_{11}c_{11} + j_{21}^*j_{12}c_{21} + j_{22}^*j_{11}c_{12} + j_{22}^*j_{12}c_{22}\\\\\n",
    " j_{21}^*j_{21}c_{11} + j_{21}^*j_{22}c_{21} + j_{22}^*j_{21}c_{12} + j_{22}^*j_{22}c_{22}\n",
    " \\end{pmatrix}\\\\\n",
    " &=& \\Bigg[\\begin{pmatrix} j_{11}^* &j_{12}^*\\\\ j_{21}^*&j_{22}^*\\end{pmatrix} \\otimes \\begin{pmatrix} j_{11} &j_{12}\\\\j_{21}&j_{22}\\end{pmatrix}\\Bigg]\\begin{pmatrix}c_{11}\\\\c_{21}\\\\c_{12}\\\\c_{22} \\end{pmatrix}\\\\\n",
    " &=& \\left ({\\bf{J}}^{*} \\otimes {\\bf{J}}\\right ) \\text{vec}({\\bf{C}})\\\\\n",
    " &=& \\left( \\left ({\\bf{J}}^{H} \\right)^T \\otimes {\\bf{J}} \\right ) \\text{vec}({\\bf{C}})\n",
    " \\end{eqnarray}"
   ]
  },
  {
   "cell_type": "markdown",
   "metadata": {},
   "source": [
    "***\n",
    "\n",
    "Next: [2.11 Least-squares Minimization]()"
   ]
  }
 ],
 "metadata": {
  "kernelspec": {
   "display_name": "Python 2",
   "language": "python",
   "name": "python2"
  },
  "language_info": {
   "codemirror_mode": {
    "name": "ipython",
    "version": 2
   },
   "file_extension": ".py",
   "mimetype": "text/x-python",
   "name": "python",
   "nbconvert_exporter": "python",
   "pygments_lexer": "ipython2",
   "version": "2.7.6"
  }
 },
 "nbformat": 4,
 "nbformat_minor": 0
}
