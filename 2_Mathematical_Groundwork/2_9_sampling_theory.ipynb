{
 "cells": [
  {
   "cell_type": "markdown",
   "metadata": {},
   "source": [
    "***\n",
    "\n",
    "* [Outline](../0_Introduction/0_introduction.ipynb)\n",
    "* [Glossary](../0_Introduction/1_glossary.ipynb)\n",
    "* [2. Mathematical Groundwork](2_0_introduction.ipynb)\n",
    "    * Previous: [2.8 The Discrete Fourier Transform (DFT) and the Fast Fourier Transform (FFT)](2_8_the_discrete_fourier_transform.ipynb)\n",
    "    * Next: [2.10 Linear Algrebra](2_10_linear_algebra.ipynb)\n",
    "\n",
    "***"
   ]
  },
  {
   "cell_type": "markdown",
   "metadata": {},
   "source": [
    "## 2.9 Sampling theory"
   ]
  },
  {
   "cell_type": "markdown",
   "metadata": {},
   "source": [
    "This section describes the concept of sampling, Nyquist rate and aliasing in fundamental signal processing. \n",
    "\n",
    "Some fundamental questions we will be answering throughout this section are:\n",
    "\n",
    "1. What is sampling and  does sampling do?\n",
    "2. What is the best criteria for perfect sampling?\n",
    "3. Does ideal sampling exists in pratice?\n",
    "\n",
    "Basically, sampling is the process  by which continuous  time signals or analog signal (such as voices)  are turned into discrete time signals. We sample a continuous time variant signal so that we could manage to save and process the signal into computers. To reconstruct the continuous time signal,  we apply the Fourier transform to the sampled signal and apply filters theories in other to bandlimit the results of the Fourier transform.\n",
    "\n",
    "Before we start the analysis of sampling, the following definitions are required.\n",
    "\n",
    "1. We will refer to the continuous time variant signal as $\\textbf{physical signal}$.\n",
    "2. The descrete signal as $\\textbf{sampled signal}$.\n",
    "\n",
    "The process of sampling is easy to represent mathematically. Suppose a physical signal $d_r (x)$ and $d_s (x)$ its sampled form i.e the descrete signal, and $\\Delta x$ the sampled interval. According to Shannon the sampled signal is expressed as:\n",
    "\n",
    "$$\n",
    "\\begin{alignat}{2}\n",
    "d_s(x) &= s(x) d_r(x),~~~~ Eq.1\n",
    "\\end{alignat}\n",
    "$$\n",
    "\n",
    "where  $s(x)=\\sum_{k=-\\infty}^{+\\infty}\\delta(x-k\\Delta x)$, is an infinite series of Delta functions known as a Dirac Comb at a regular spacing $\\Delta x$ and  $k$ is the number of  discrete points on the sampling grid. \n",
    "\n",
    "\n",
    "To see how this happens pratically, consider a sine waveform $d_r=sin(2\\pi f n x +cst)$ at a frequency $f=4 Hz$ with a total number of samples $n=100$. Note here that the maximum frequency present in this sine wave is $f_{max}=nf$."
   ]
  },
  {
   "cell_type": "code",
   "execution_count": null,
   "metadata": {
    "collapsed": false
   },
   "outputs": [],
   "source": [
    "import numpy as np\n",
    "import matplotlib.pyplot as plt\n",
    "%matplotlib inline\n",
    "\n",
    "f = 4;   # frequency of the physical signal\n",
    "plt.axhline(y=0,xmin=0,xmax=250,color='r')\n",
    "plt.plot(np.linspace(0,1,100.),np.sin(2*np.pi*f*np.linspace(0,1,100.)), 'k')\n",
    "\n",
    "plt.show()"
   ]
  },
  {
   "cell_type": "markdown",
   "metadata": {},
   "source": [
    "Now supose that this  sine wave is the physical signal i.e the continuous time variant signal. If we sample this signal with sampling intervals of  $\\Delta x=1/80$, $\\Delta x=1/50$ and $\\Delta x=1/25$ then we have the following."
   ]
  },
  {
   "cell_type": "code",
   "execution_count": null,
   "metadata": {
    "collapsed": false
   },
   "outputs": [],
   "source": [
    "y = np.sin(2*np.pi*f*np.linspace(0,1,80.))\n",
    "plt.stem(np.linspace(0,1,80.),y,'-')\n",
    "plt.ylabel(\"Amplitude\")\n",
    "plt.title(\"sampled signal with sampling interval $1/80$\")\n",
    "plt.show()\n",
    "\n",
    "\n",
    "y = np.sin(2*np.pi*f*np.linspace(0,1,50.))\n",
    "plt.stem(np.linspace(0,1,50.),y,'-')\n",
    "plt.ylabel(\"Amplitude\")\n",
    "plt.title(\"sampled signal with sampling interval $1/50$\")\n",
    "plt.show()\n",
    "\n",
    "y = np.sin(2*np.pi*f*np.linspace(0,1,25.))\n",
    "plt.stem(np.linspace(0,1,25.),y,'-')\n",
    "plt.ylabel(\"Amplitude\")\n",
    "plt.title(\"sampled signal with sampling interval $1/20$\")\n",
    "plt.show()"
   ]
  },
  {
   "cell_type": "markdown",
   "metadata": {},
   "source": [
    "There exit between the samples empty gaps. These emplty gaps are points where the physical signal was not sampled. Keep know in mind that these empty gaps represent all the informations lost during the sampling process. Note also that, in the case where the sampling interval is $\\Delta x=\\frac{1}{20}$, we can not spot all the peaks in this sine wave. \n",
    "\n",
    "In general, to preserve all the physical signal peaks, it is necessary to sample at least twice the maximum frequency present in the physical signal. In our case, the maximum frequency of the sine wave is $f_{max}=100\\times 4$, therefore, any sampling interval $\\Delta x$ above $\\frac{1}{2f_{max}}$ will not exactly reconstruct the physical signal. "
   ]
  },
  {
   "cell_type": "markdown",
   "metadata": {},
   "source": [
    "#Nyquist theorem"
   ]
  },
  {
   "cell_type": "markdown",
   "metadata": {},
   "source": [
    "The Nyquist theorem state that the sampling frequency  must be greater than twice the \n",
    "highest frequency contained in the signal i.e $\\Delta x\\leq \\frac{1}{2f_{max}}$. The $2f_{max}$ is known as the  Nyquist rate and any sampling bellow the Nyquist rate introduces sampling artefacts in the recontructed signal. These sampling artefacts are known in signal processing as $\\textbf{aliasing}$."
   ]
  },
  {
   "cell_type": "markdown",
   "metadata": {},
   "source": [
    "# Aliasing and demonstration"
   ]
  },
  {
   "cell_type": "markdown",
   "metadata": {},
   "source": [
    "Let us sopose we want to sample a Gaussian waveform $d_r (x) = e^{\\frac{-(x-\\mu)^2}{2\\sigma^2}}$"
   ]
  },
  {
   "cell_type": "code",
   "execution_count": null,
   "metadata": {
    "collapsed": false
   },
   "outputs": [],
   "source": [
    "\n",
    "def gaussian(x, mu, sig):\n",
    "    return np.exp(-np.power(x - mu, 2.) / (2 * np.power(sig, 2.)))\n",
    "\n",
    "x = np.linspace(-50,50,50)\n",
    "mu = 0.\n",
    "sig = 10.\n",
    "g = gaussian(x,mu,sig)\n",
    "\n",
    "fig = plt.figure()\n",
    "fig.subplots_adjust(hspace=.9)\n",
    "\n",
    "ax1 = fig.add_subplot(311)\n",
    "ax1.plot(x,g)\n",
    "plt.ylim(-0.5,1.5)\n",
    "#ax1.axhline(y=0., xmin=-30., xmax=50., color = 'r')\n",
    "plt.title(\"Physical signal: continuous signal\")\n",
    "\n",
    "\n",
    "## delta dirac comb parameter\n",
    "step = 15 # sampling step\n",
    "deltacom = np.ones(step)\n",
    "x1 = np.linspace(-50,50,step)\n",
    "ax2 = fig.add_subplot(312)\n",
    "markerline, stemlines, baseline = ax2.stem(x1, deltacom, '-')\n",
    "plt.title(\"Delta Dirac Comb: sampling function\")\n",
    "plt.ylim(-0.5,1.5)\n",
    "\n",
    "\n",
    "## sampled Gaussian\n",
    "ax3 = fig.add_subplot(313)\n",
    "markerline, stemlines, baseline = ax3.stem(x1, gaussian(x1,mu,sig), '-')\n",
    "plt.ylim(-0.5,1.5)\n",
    "plt.title(\"Sampled signal\")\n",
    "plt.show()\n"
   ]
  },
  {
   "cell_type": "markdown",
   "metadata": {},
   "source": [
    "The physical signal (top plot) is multiplied by the Dirac Comb function (middle plot) and this result to the observed signal (bottom centre).\n",
    "\n",
    "We can write each discrete point on the sampled signal as \n",
    "$$\n",
    "\\begin{alignat}{2}\n",
    "d_s(x)_k &= d_r(k\\Delta x) ~~~~ Eq.2\n",
    "\\end{alignat}\n",
    "$$\n",
    "\n",
    "Note from the example that, $\\Delta x = 15$ is the sampling interval or the sampling step.\n",
    "\n",
    "Combining Eq.1 and Eq.2, the sampled signal becomes the sum of each discrete \n",
    "point on the sample grid multiplied by a  Dirac delta function. \n",
    "\n",
    "$$\n",
    "\\begin{alignat}{2}\n",
    "d_s(x) &= \\sum_{k=-\\infty}^{+\\infty}\\delta(x)d_s(x)_k. ~~~~ Eq.3\n",
    "\\end{alignat}\n",
    "$$\n",
    "\n",
    "Since we are interested in the Fourier  and the time-domain signal, the Fourier transform is applied to Eq.1. According to the convolution theorem which states that the Fourier transform of the product of two functions  yields to the convolution of their respective Fourier transform. Eq.1 becomes \n",
    "\n",
    "$$\n",
    "\\begin{alignat}{2}\n",
    "\\mathcal{F} \\{d_s \\}(y)  &=\\Big(\\mathcal{F} \\big\\{s\\big\\}\\circ \\mathcal{F} \\big\\{d_r\\big\\}\\Big)(y),~~~~ Eq.4\n",
    "\\end{alignat}\n",
    "$$\n",
    "\n",
    "where $\\mathcal{F}^{}$ denotes the Fourier transform and $\\circ$ is the convolution operation. \n",
    "The Fourier transform of a Dirac Comb of regular spacing $\\Delta x$, is a Dirac Comb of regular spacing $\\Delta y$\n",
    "\n",
    "$$\n",
    "\\begin{alignat}{2}\n",
    "\\mathcal{F}\\big\\{s\\big\\} & =\\Delta y\\sum_{k=-\\infty}^{+\\infty}\\delta(y-k\\Delta y),~~~~ Eq.5\n",
    "\\end{alignat}\n",
    "$$\n",
    "\n",
    "where $\\Delta y= 2\\pi/ \\Delta x$  is the sampling rate. Combining Eq.4 and Eq.5 we obtain the following\n",
    "\n",
    "$$\n",
    "\\begin{alignat}{2}\n",
    "\\mathcal{F}^{}\\big\\{d_s\\big\\}(y) &=\\Big(\\Delta y \\sum_{k=-\\infty}^{+\\infty}\\delta(y-k\\Delta y)\\Big)\\circ\\Big(\\mathcal{F}\\{d_r\\}(y)\\Big)\\\\\n",
    "\t\t\t\t  &=\\Delta y \\sum_{k=-\\infty}^{+\\infty}\\mathcal{F}\\{d_r\\}(y-k\\Delta y).~~~~ Eq.6\n",
    "\\end{alignat}\n",
    "$$\n",
    "\n",
    "See Appendix A for the detailed proof of Eq.5 and Eq.6.\n",
    "\n",
    "For completeness, the spectrum from the point $k=0$ in Eq.6 can be separated \n",
    "\\begin{alignat}{2}\n",
    "\\mathcal{F}^{}\\big\\{d_s\\big\\}(y) &= \\Delta y\\mathcal{F}^{}\\big\\{d_r\\big\\}(y) + \\Delta y\\sum_{k=-\\infty, k\\neq 0}^{+\\infty}\\mathcal{F}^{}\\big\\{d_r\\big\\}(y-k\\Delta y)\\\\\n",
    "\t\t\t\t&\\simeq \\mathcal{F}^{}\\big\\{d_r\\big\\}(y) + \\sum_{k=-\\infty, k\\neq0}^{+\\infty}\\mathcal{F}^{}\\big\\{d_r\\big\\}(y-k\\Delta y) ~~~~ Eq.7\n",
    "\\end{alignat}\n",
    "\n",
    "\n",
    "It is shown in Eq.7 that:\n",
    "\n",
    "\n",
    " 1. The Fourier transform of the sampled signal duplicates the Fourier transform \n",
    " of the physical signal at each point in the Fourier transformed of the Dirac Comb. \n",
    " \n",
    " 2. Sampling and the Fourier transform conserves the physical signal $\\mathcal{F}^{}\\big\\{d_r\\big\\}(y)$ at the point $k=0$  and replicates it at all points $k\\neq0$ with regular spacing $\\Delta y$.\n",
    " \n",
    " 3. The copies for which $k\\neq0$ i.e, $\\sum_{k=-\\infty, k\\neq0}^{+\\infty}\\mathcal{F}^{}\\big\\{d_r\\big\\}(y-k\\Delta y)$ are aliased spectra.\n",
    " \n",
    " These remarks are illustrated on the following:\n"
   ]
  },
  {
   "cell_type": "code",
   "execution_count": null,
   "metadata": {
    "collapsed": false
   },
   "outputs": [],
   "source": [
    "fft_gau = np.fft.fftshift(np.abs(np.fft.fft(g)))\n",
    "fft_gau = fft_gau/fft_gau.max()\n",
    "\n",
    "\n",
    "fig = plt.figure()\n",
    "fig.subplots_adjust(hspace=.9)\n",
    "\n",
    "\n",
    "ax1 = fig.add_subplot(311)\n",
    "ax1.plot(x,fft_gau)\n",
    "plt.ylim(-0.5,fft_gau.max())\n",
    "plt.title(\"Fourrier transform of the Physical signal: Gaussian\")\n",
    "\n",
    "\n",
    "## delta dirac comb parameter\n",
    "nb_sample = 5\n",
    "deltacom = np.ones(nb_sample)\n",
    "x2 = np.linspace(-50,50,nb_sample)\n",
    "ax2 = fig.add_subplot(312)\n",
    "markerline, stemlines, baseline = ax2.stem(x2, deltacom, '-')\n",
    "plt.title(\"Delta Dirac Comb: Fourier transform of the sampling function\")\n",
    "plt.ylim(-0.5,1.5)\n",
    "\n",
    "\n",
    "## sampled Gaussian\n",
    "ax3 = fig.add_subplot(313)\n",
    "ax3.plot(x-0,fft_gau,'b')\n",
    "ax3.plot(x-25.,fft_gau, 'k')\n",
    "ax3.plot(x+25,fft_gau, 'k')\n",
    "ax3.plot(x-50.,fft_gau, 'k')\n",
    "ax3.plot(x+50,fft_gau, 'k')\n",
    "plt.ylim(-0.5,fft_gau.max())\n",
    "plt.title(\"Fourrier tranform of the Sampled signal\")\n",
    "plt.show()\n"
   ]
  },
  {
   "cell_type": "markdown",
   "metadata": {},
   "source": [
    "The Fourier transform of the physical signal (Top plot). The Fourier transform of the Dirac Com (centre plot). The Fourier transform of the observed signal (bottoom plot).\n",
    "\n",
    "The plot shows that, the Fourier tranform of the observed signal is a supperposition of the Fourier tranform of the physical signal at each point in the Dirac Comb. At the point $k=0$ (the blue curve) is the Fourier transform of the physical signal, and all other copies at point $k\\neq 0$ are aliasing copies. Which shows that any reconstruction of $d_r$ from $d_s$ requires the suppression of the aliased spectra i.e all copies of $\\mathcal{F}^{}\\big\\{d_r\\big\\}$ for which $k\\neq 0$.\n",
    "\n",
    "\n",
    "\n",
    "A method to suppress the aliased copies is to multiply $\\mathcal{F}^{}\\big\\{d_s\\big\\}$, by a tophat window, as a tophat window is unity in the pass-band (area of which $k=0$) and zero in the stop-band (area of which $k\\neq 0$).\n",
    "\n",
    "Note that, a complete reconstruction of $d_r$ requires the absence of overlapping copies of the aliased spectra with the Fourier transform of the physical signal i.e $\\mathcal{F}^{}\\big\\{d_r\\big\\}$ for which $k=0$. Otherwise, $d_r$ cannot be uniquely reconstructed. The following conditions must hold for a unique recovery:\n",
    "\n",
    "1. The observed signal must be band-limited in order to avoid that $\\mathcal{F}^{}\\big\\{d_r\\big\\}(y)$ at point $k=0$ extends infinitely and overlaps with its aliasing copies.\n",
    "2. The sampling frequency $\\Delta y$ must be greater than twice the highest frequency $f_s$ contained in the signal ($\\Delta y\\geq 2 f_s$). The quantity $2 f_s$ is the minimum sampling frequency or the  Nyquist rate  required to avoids aliasing.\n",
    "\n",
    "We demonstrate this in the following example:\n"
   ]
  },
  {
   "cell_type": "code",
   "execution_count": null,
   "metadata": {
    "collapsed": false
   },
   "outputs": [],
   "source": [
    "## sampled Gaussian\n",
    "plt.plot(x-0,fft_gau,'b')\n",
    "plt.plot(x-10.,fft_gau, 'k')\n",
    "plt.plot(x+10,fft_gau, 'k')\n",
    "plt.ylim(-0.1,fft_gau.max())\n",
    "plt.title(\"Fourrier tranform of the Sampled signal: aliasing\")\n",
    "plt.show()\n"
   ]
  },
  {
   "cell_type": "markdown",
   "metadata": {},
   "source": [
    "\n",
    "Let us now supose that these conditions are satisfied and that  $\\Pi^{}$ is a tophat window, given by\n",
    "\n",
    "$$\n",
    "\\begin{equation}\n",
    "\\Pi^{}(y) = \\bigg \\{ \\begin{array}{cl}\n",
    "1, &  k=0 \\\\\n",
    "0, & \\mathrm{otherwise}\n",
    "\\end{array}\n",
    "\\end{equation}\n",
    "$$\n",
    "\n",
    "Let us introduce the observed signal $d_o$ and multiply Eq.7 by $\\Pi^{}$. \n",
    "\n",
    "$$\n",
    "\\begin{alignat}{2}\n",
    "\\mathcal{F}\\big\\{d_o\\big\\}(y) &=\\Pi^{}(y)\\mathcal{F}^{}\\big\\{d_s\\big\\}(y),~~~~ Eq.8\n",
    "\\end{alignat}\n",
    "$$\n",
    "\n",
    "which will lead to\n",
    "\n",
    "$$\n",
    "\\begin{alignat}{2}\n",
    "d_o(x) &= \\Bigg(\\mathcal{F}^{-1}\\{ \\Pi^{}\\}\\circ d_s\\Bigg)(x)~~~~ Eq.9\n",
    "\\end{alignat}\n",
    "$$"
   ]
  },
  {
   "cell_type": "code",
   "execution_count": null,
   "metadata": {
    "collapsed": false
   },
   "outputs": [],
   "source": [
    "fft_gau = np.fft.fftshift(np.abs(np.fft.fft(g)))\n",
    "fft_gau = fft_gau/fft_gau.max()\n",
    "\n",
    "\n",
    "fig = plt.figure()\n",
    "fig.subplots_adjust(hspace=.9)\n",
    "\n",
    "\n",
    "## sampled Gaussian\n",
    "ax3 = fig.add_subplot(311)\n",
    "ax3.plot(x-0,fft_gau,'b')\n",
    "ax3.plot(x-25.,fft_gau, 'k')\n",
    "ax3.plot(x+25,fft_gau, 'k')\n",
    "ax3.plot(x-50.,fft_gau, 'k')\n",
    "ax3.plot(x+50,fft_gau, 'k')\n",
    "plt.ylim(-0.5,fft_gau.max())\n",
    "plt.title(\"Fourrier tranform of the Sampled signal\")\n",
    "\n",
    "\n",
    "ax1 = fig.add_subplot(312)\n",
    "boxcar = np.zeros(len(x))\n",
    "boxcar[len(x)/2-2:len(x)/2+2]=1.\n",
    "ax1.plot(x,boxcar)\n",
    "plt.ylim(-0.5,1.1)\n",
    "plt.title(\"Fourrier transform of the Physical signal: Gaussian\")\n",
    "\n",
    "\n",
    "## delta dirac comb parameter\n",
    "ax3 = fig.add_subplot(313)\n",
    "ax3.plot(x-0,fft_gau,'b')\n",
    "plt.ylim(-0.5,fft_gau.max())\n",
    "plt.title(\"Fourrier tranform of the Sampled signal\")\n",
    "\n",
    "plt.show()\n"
   ]
  },
  {
   "cell_type": "markdown",
   "metadata": {},
   "source": [
    "Since there is no overlapping aliasing spectrum with $\\mathcal{F}^{}\\big\\{d_r\\big\\}(y)$ at the point $k=0$, one can still write Eq.8 as follows\n",
    "\n",
    "$$\n",
    "\\begin{alignat}{2}\n",
    "\\mathcal{F}\\big\\{d_o\\big\\}(y)&=\\Pi^{[k]}(y)\\mathcal{F}^{}\\big\\{d_s\\big\\}(y)\\\\\n",
    "\t      &\\simeq \\Pi^{[k]}(y)\\Bigg(\\mathcal{F}^{}\\big\\{d_r\\big\\}(y) + \\sum_{k=-\\infty, k\\neq0}^{+\\infty}\\mathcal{F}^{}\\big\\{d_r\\big\\}(y-k\\Delta y)\\Bigg)\\\\\n",
    "\t    &\\simeq\\Pi^{[k]}(y)\\mathcal{F}^{}\\big\\{d_r\\big\\}(y).~~~~ Eq.10\n",
    "\\end{alignat}\n",
    "$$\n",
    "\n",
    "\n",
    "Note from the subtitution that $\\Pi^{[k]}(y)\\sum_{k=-\\infty, k\\neq0}^{+\\infty}\\mathcal{F}^{}\\big\\{d_r\\big\\}(y-k\\Delta y)=0$. We can\n",
    "rewrite Eq.10 as a convolution\n",
    "\n",
    "$$\n",
    "\\begin{alignat}{2}\n",
    "d_o(x) &\\simeq\\Bigg(\\mathcal{F}^{-1}\\{ \\Pi^{[k]}\\}\\circ d_r\\Bigg)(x).~~~~ Eq.11\n",
    "\\end{alignat}\n",
    "$$\n",
    "\n",
    "Solving  Eq.9 equal to Eq.11 we have\n",
    "\n",
    "$$\n",
    "\\begin{alignat}{2}\n",
    "d_s&\\simeq d_r.\n",
    "\\end{alignat}\n",
    "$$\n",
    "\n",
    "The physical signal can be reconstructed from the observed signal if all conditions are satisfied. However, ideal sampling can not be applicable in real life problems. This is due to the convolution of the physical signal with a low pass taper which is the sinc filter ($\\mathcal{F}^{-1}\\{ \\Pi^{}\\}$) and thereby could only be represented in finite support.\n"
   ]
  },
  {
   "cell_type": "markdown",
   "metadata": {},
   "source": [
    "***\n",
    "* Next: [2.10 Linear Algrebra](2_10_linear_algebra.ipynb)\n",
    "***"
   ]
  }
 ],
 "metadata": {
  "kernelspec": {
   "display_name": "Python 2",
   "language": "python",
   "name": "python2"
  },
  "language_info": {
   "codemirror_mode": {
    "name": "ipython",
    "version": 2
   },
   "file_extension": ".py",
   "mimetype": "text/x-python",
   "name": "python",
   "nbconvert_exporter": "python",
   "pygments_lexer": "ipython2",
   "version": "2.7.6"
  }
 },
 "nbformat": 4,
 "nbformat_minor": 0
}
