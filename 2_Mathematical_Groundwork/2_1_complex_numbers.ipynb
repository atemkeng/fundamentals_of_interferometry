{
 "cells": [
  {
   "cell_type": "markdown",
   "metadata": {},
   "source": [
    "***\n",
    "\n",
    "* [Outline](../0_Introduction/0_introduction.ipynb)\n",
    "* [Glossary](../0_Introduction/1_glossary.ipynb)\n",
    "* [2. Mathematical Groundwork](2_0_introduction.ipynb)  \n",
    "    * Next: [2.2 Important functions](2_2_important_functions.ipynb)\n",
    "\n",
    "***"
   ]
  },
  {
   "cell_type": "markdown",
   "metadata": {},
   "source": [
    "## 2.1. Complex numbers<a id='math:sec:complex_numbers'></a><!--\\label{math:sec:complex_numbers}-->\n",
    "We briefly recap complex numbers. Through Euler's formulae, the usage of complex numbers is a crucial tool to describe periodic functions, e.g. plane waves and harmonic oscillations. Most textbooks spend only a few words on how this is done, while here we want to give an elaborate introduction."
   ]
  },
  {
   "cell_type": "markdown",
   "metadata": {},
   "source": [
    "1. [Complex Numbers](2_1_complex_numbers.ipynb)\n",
    "    1. [The field of complex numbers](2_1_complex_numbers.ipynb#math:sec:the_field_of_complex_numbers)\n",
    "    2. [Euler's formula](2_1_complex_numbers.ipynb#math:sec:eulers_formula)\n",
    "    3. [Periodic functions and complex numbers](2_2_special_functions.ipynb#math:sec:periodic_functions_and_complex_numbers)"
   ]
  },
  {
   "cell_type": "markdown",
   "metadata": {},
   "source": [
    "### 2.1.1. The field of complex numbers<a id='math:sec:the_field_of_complex_numbers'></a><!--\\label{math:sec:the_field_of_complex_numbers}-->"
   ]
  },
  {
   "cell_type": "markdown",
   "metadata": {},
   "source": [
    "The complex numbers are a field $\\mathbb{C}$ of numbers"
   ]
  },
  {
   "cell_type": "markdown",
   "metadata": {},
   "source": [
    "<a id='math:eq:0001'></a><!--\\label{math:eq:0001}-->$$z = x+\\imath y\\qquad \\mathrm,$$"
   ]
  },
  {
   "cell_type": "markdown",
   "metadata": {},
   "source": [
    "where $x \\in \\mathbb{R}$ and $y \\in \\mathbb{R}$ are real numbers, with the following definitions for addition $+$ and multiplication $-$:"
   ]
  },
  {
   "cell_type": "markdown",
   "metadata": {
    "collapsed": true
   },
   "source": [
    "$$\n",
    "\\begin{align}\n",
    "z_i    &= x_i+\\imath y_i\\qquad i=1, 2\\\\\n",
    "z_1+z_2&=(x_1+x_2)+\\imath (y_1+y_2)\\\\\n",
    "z_1\\cdot z_2&= (x_1 x_2-y_1 y_2)+\\imath (x_1 y_2+y_1 x_2) \\qquad .\\\\\n",
    "\\end{align}\n",
    "$$<a id='math:eq:0002'></a><!--\\label{math:eq:0002}-->"
   ]
  },
  {
   "cell_type": "markdown",
   "metadata": {},
   "source": [
    "The *real part* $\\Re z \\in \\mathbb{R}$, *imaginary part* $\\Im z \\in \\mathbb{R}$, *complex conjugate* $z^* \\in \\mathbb{C}$, and *magnitude* or *modulus* $|z| \\in \\mathbb{R}$ of a complex number $z \\in \\mathbb C$ are definded via"
   ]
  },
  {
   "cell_type": "markdown",
   "metadata": {},
   "source": [
    "<a id='math:eq:0003'></a><!--\\label{math:eq:0003}-->$$ \n",
    "\\begin{split}\n",
    "z &=\\, x + \\imath y &\\\\\n",
    "&\\Rightarrow\\\\\n",
    "\\Re z &=\\, x & \\\\\n",
    "\\Im z &=\\, y & \\\\\n",
    "z^*   &=\\, x + \\imath( -y)  &= x - \\imath y \n",
    "\\quad\\left[\\Rightarrow \\, z_1^*\\,{z_2}^* =\\, (z_1\\,z_2)^*\\right]\\\\\n",
    "\\lvert z\\rvert   &=\\, \\sqrt{zz^\\ast}       &=\\, \\sqrt{x^2+y^2} \\in \\mathbb{R}\n",
    "\\end{split}\n",
    "$$"
   ]
  },
  {
   "cell_type": "markdown",
   "metadata": {},
   "source": [
    "The field of real numbers can be interpreted as a subfield of the complex numbers with the definition"
   ]
  },
  {
   "cell_type": "markdown",
   "metadata": {},
   "source": [
    "<a id='math:eq:0004'></a><!--\\label{math:eq:0004}-->\n",
    "$$ x \\in \\mathbb{R}, \\qquad z_x \\in \\mathbb{C}\\\\\n",
    "z_x = x \\Leftrightarrow z_x = x +\\imath 0 $$"
   ]
  },
  {
   "cell_type": "markdown",
   "metadata": {},
   "source": [
    "and the imaginary unit $\\imath$ can be interpreted as a number, the square root of the real number $-1$."
   ]
  },
  {
   "cell_type": "markdown",
   "metadata": {},
   "source": [
    "$$\\imath = \\sqrt{-1} \\qquad .$$<a id='math:eq:0005'></a><!--\\label{math:eq:0005}-->"
   ]
  },
  {
   "cell_type": "markdown",
   "metadata": {},
   "source": [
    "We leave it to the reader to show that with this the complex numbers are a field."
   ]
  },
  {
   "cell_type": "markdown",
   "metadata": {},
   "source": [
    "### 2.1.2. Euler's formula<a id='math:sec:eulers_formula'></a><!--\\label{math:sec:eulers_formula}--><!--\\label{math:sec:eulers_formula}-->\n"
   ]
  },
  {
   "cell_type": "markdown",
   "metadata": {},
   "source": [
    "Euler's formula, named after <cite data-cite='euler'>Leonhard Euler</cite> [CITE](https://en.wikipedia.org/wiki/Leonhard_Euler) (1707-1783), states that, for any real number $\\phi \\in \\mathbb{R}$,"
   ]
  },
  {
   "cell_type": "markdown",
   "metadata": {},
   "source": [
    "<a id='math:eq:001'></a><!--\\label{math:eq:001}-->$$\n",
    "exp(\\imath \\phi) = e^{\\imath \\phi}=\\cos \\phi+\\imath\\sin \\phi\\qquad ,\n",
    "$$"
   ]
  },
  {
   "cell_type": "markdown",
   "metadata": {},
   "source": [
    "where $e$ is the base of the natural logarithm, $\\cos$ and $\\sin$ are the trigonometric functions cosine and sine respectively. Euler's formula can be prooven by simply expanding the terms in the formula into their <cite data-cite='wiki:taylorseries'>Taylor series</cite> [CITE](https://en.wikipedia.org/wiki/Taylor_series)."
   ]
  },
  {
   "cell_type": "markdown",
   "metadata": {},
   "source": [
    "With the function $exp(\\imath \\phi), \\phi \\in \\mathbb{R}$ one hence describes the position of a point on the unit circle in the complex plane:"
   ]
  },
  {
   "cell_type": "markdown",
   "metadata": {},
   "source": [
    "<TABLE>\n",
    "<TR><TD><img width=400 src=\"figures/760px-Euler's_formula.svg.png\"></TD></TR>\n",
    "<TR><TD>Unit circle in the complex plane. From <cite data-cite='wiki:eulersformula'>Wikipedia</cite> [CITE](https://en.wikipedia.org/w/index.php?title=Euler%27s_formula&oldid=700599758)</TD></TR>\n",
    "</TABLE>"
   ]
  },
  {
   "cell_type": "markdown",
   "metadata": {},
   "source": [
    "Remembering that for any angle $\\phi \\in \\mathbb{R}$"
   ]
  },
  {
   "cell_type": "markdown",
   "metadata": {},
   "source": [
    "<a id='math:eq:0011'></a><!--\\label{math:eq:0011}-->$$\n",
    "\\cos^2 \\phi + \\sin^2 \\phi = 1\n",
    "$$"
   ]
  },
  {
   "cell_type": "markdown",
   "metadata": {},
   "source": [
    "this means that any complex number $z \\in \\mathbb{C}$ can be written in the form"
   ]
  },
  {
   "cell_type": "markdown",
   "metadata": {},
   "source": [
    "<a id='math:eq:0012'></a><!--\\label{math:eq:0012}-->\n",
    "$$\n",
    "z = \\lvert z\\rvert\\exp ^{\\imath\\phi} \\qquad ,\n",
    "$$"
   ]
  },
  {
   "cell_type": "markdown",
   "metadata": {},
   "source": [
    "where, as per definition, $\\lvert z \\rvert \\in \\mathbb{R}$, and $\\phi \\in \\mathbb{R}$ is called the *argument* of $z$."
   ]
  },
  {
   "cell_type": "markdown",
   "metadata": {},
   "source": [
    "### 2.1.3 Periodic functions and complex numbers<a id='math:sec:periodic_functions_and_complex_numbers'></a> <!--\\label{math:sec:periodic_functions_and_complex_numbers ss:pacn:pfacn}-->"
   ]
  },
  {
   "cell_type": "markdown",
   "metadata": {},
   "source": [
    "Using Euler's formula (Sect.~[2.1.2](#math:sec:eulers_formula)<!--\\ref{math:sec:eulers_formula}-->), one finds that a (co-)sinusoidal real function ($a, \\omega, \\phi \\in \\mathbb{R}$)"
   ]
  },
  {
   "cell_type": "markdown",
   "metadata": {},
   "source": [
    "<a id='math:eq:002'></a><!--\\label{math:eq:002}-->$$\n",
    "f(t)=a\\,\\cos (\\omega t+\\phi)\n",
    "$$"
   ]
  },
  {
   "cell_type": "markdown",
   "metadata": {},
   "source": [
    "can be re-written as"
   ]
  },
  {
   "cell_type": "markdown",
   "metadata": {},
   "source": [
    "<a id='math:eq:003'></a><!--\\label{math:eq:003}-->$$\n",
    "\\begin{split}\n",
    "f(t) & = a\\,\\cos (\\omega t+\\phi) \\\\\n",
    "     & =  z \\, e^{\\imath\\omega t} + z^* \\, e^{-\\imath\\omega t}\n",
    "\\end{split}\n",
    "\\qquad ,\n",
    "$$"
   ]
  },
  {
   "cell_type": "markdown",
   "metadata": {},
   "source": [
    "where (using the <cite data-cite='wiki:taylorseries'>addition theorem for $\\cos$</cite> [CITE](https://en.wikipedia.org/wiki/Taylor_series))"
   ]
  },
  {
   "cell_type": "markdown",
   "metadata": {},
   "source": [
    "<a id='math:eq:004'></a><!--\\label{math:eq:004}-->$$\n",
    "\\begin{split}\n",
    "z     & = z_1 + \\imath\\,z_2 \\\\\n",
    "z_1 & =  \\frac{a}{2} \\cos \\phi\\\\\n",
    "z_2 & =  \\frac{a}{2} \\sin \\phi\n",
    "\\end{split}\n",
    "\\qquad ,\n",
    "$$"
   ]
  },
  {
   "cell_type": "markdown",
   "metadata": {},
   "source": [
    "with $z_1\\in \\mathbb{R}$ and $z_2 \\in \\mathbb{R}$. Inverting the relation leads to (assuming $a>0$):"
   ]
  },
  {
   "cell_type": "markdown",
   "metadata": {},
   "source": [
    "<a id='math:eq:005'></a><!--\\label{math:eq:005}-->$$\n",
    "\\begin{split}\n",
    "a        & = 2\\sqrt{z_1^2 + z_2^2} \\\\\n",
    "          & = 2\\lvert z \\rvert\\\\\n",
    "\\phi & =  atan2(z_1,z_2) &= \\left \\{\n",
    "  \\begin{array}{lll}\n",
    "    \\arctan{\\frac{z_2}{z_1}}&,&z_1 > 0\\\\\n",
    "    \\arctan{\\frac{z_2}{z_1}} - sign(z_2)\\pi&,&z_1 < 0\\\\\n",
    "    sign(z_2)\\frac{\\pi}{2}&,&z_1 = 0 \\land z_2 \\neq 0\n",
    "\\end{array} \\right.\n",
    "\\end{split}\n",
    "\\qquad .\n",
    "$$"
   ]
  },
  {
   "cell_type": "markdown",
   "metadata": {},
   "source": [
    "We leave it to the reader to calculate this for a sine periodic function.\n",
    "\n",
    "Another possibility to express a real periodic funtion in terms of a product of a complex number and an exponential is to identify $a$ with the complex number $z_a$:"
   ]
  },
  {
   "cell_type": "markdown",
   "metadata": {},
   "source": [
    "<a id='math:eq:006'></a><!--\\label{math:eq:006}-->$$\n",
    "\\begin{split}\n",
    "\\Re z_a & = a\\\\\n",
    "\\Im z_a & = 0\n",
    "\\end{split}\n",
    "\\qquad ,\n",
    "$$"
   ]
  },
  {
   "cell_type": "markdown",
   "metadata": {},
   "source": [
    "and hence (see [definition](#math:eq:0004) <!--\\ref{math:eq:0004}-->)"
   ]
  },
  {
   "cell_type": "markdown",
   "metadata": {},
   "source": [
    "<a id='math:eq:007'></a><!--\\label{math:eq:007}-->$$\n",
    "\\begin{split}\\\n",
    "f(t) & = a\\,\\cos (\\omega t+\\phi) \\\\\n",
    "     & =  \\Re \\left ({z_a \\, e^{\\imath(\\omega t+\\phi)}}\\right)\\\\\n",
    "     & =  \\Re \\left ({a \\, e^{\\imath(\\omega t+\\phi)}}\\right)\\\\\n",
    "     & =  a \\Re \\left ({e^{\\imath(\\omega t+\\phi)}}\\right)\n",
    "\\end{split}\n",
    "\\qquad .\n",
    "$$"
   ]
  },
  {
   "cell_type": "markdown",
   "metadata": {},
   "source": [
    "This is the most common convention. "
   ]
  },
  {
   "cell_type": "markdown",
   "metadata": {},
   "source": [
    "To translate from one format to the other just use [equation](#math:eq:004) <!--\\ref{math:eq:004}-->:"
   ]
  },
  {
   "cell_type": "markdown",
   "metadata": {},
   "source": [
    "<a id='math:eq:008'></a><!--\\label{math:eq:008}-->$$\n",
    "\\begin{aligned}\n",
    "z     & = z_1 + \\imath\\,z_2  && \\\\\n",
    "z_1 & = \\frac{a}{2} \\cos \\phi && = \\frac{z_a}{2} \\cos \\phi  \\\\\n",
    "z_2 & = \\frac{a}{2} \\sin \\phi  && = \\frac{z_a}{2} \\sin \\phi \n",
    "\\end{aligned}\n",
    "\\qquad .\n",
    "$$"
   ]
  },
  {
   "cell_type": "markdown",
   "metadata": {},
   "source": [
    "The [converstion](#math:eq:007) <!--\\ref{math:eq:007}--> can be made more general, in that $a \\in \\mathbb{R}$ can be replaced by any complex number $\\widehat{z}$ with the same absolute value but different argument:"
   ]
  },
  {
   "cell_type": "markdown",
   "metadata": {},
   "source": [
    "<a id='math:eq:009'></a><!--\\label{math:eq:009}-->$$\n",
    "\\begin{split}\n",
    "f(t) & = a\\,\\cos (\\omega t+\\phi) \\\\\n",
    "     & =  \\Re \\left ({z \\, e^{\\imath(\\omega t+\\phi)}}\\right)\\\\\n",
    "   z &= z_1 + \\imath z_2\\\\\n",
    "                   &=x \\cdot a\\\\\n",
    "                   &= (x_1 + \\imath\\,x_2) \\cdot a\\\\\n",
    "\\lvert z \\rvert & = \\lvert a \\rvert  \\Rightarrow \\\\\n",
    "\\lvert x \\rvert & = 1 \\Rightarrow \\\\\n",
    "x &= e^{\\imath\\alpha}\\\\\n",
    "x_1 &= \\cos \\alpha\\\\\n",
    "x_2 &= \\imath\\,\\sin \\alpha\\\\\n",
    "z_1 &= a \\cdot \\cos \\alpha\\\\\n",
    "z_2 &= \\imath\\,a\\cdot\\sin \\alpha\n",
    "\\end{split}\n",
    "\\qquad .\n",
    "$$"
   ]
  },
  {
   "cell_type": "markdown",
   "metadata": {},
   "source": [
    "Again, to figure out $\\alpha$:"
   ]
  },
  {
   "cell_type": "markdown",
   "metadata": {},
   "source": [
    "<a id='math:eq:010'></a><!--\\label{math:eq:010}-->$$\n",
    "\\begin{split}\n",
    "a        & > 0 \\Rightarrow \\\\\n",
    "\\alpha & =  atan2(z_1,z_2) &= \\left \\{\n",
    "  \\begin{array}{lll}\n",
    "    \\arctan{\\frac{z_2}{z_1}}&,&z_1 > 0\\\\\n",
    "    \\arctan{\\frac{z_2}{z_1}} - sign(z_2)\\pi&,&z_1 < 0\\\\\n",
    "    sign(z_2)\\frac{\\pi}{2}&,&z_1 = 0 \\land z_2 \\neq 0\n",
    "\\end{array} \\right.\n",
    "\\end{split}\n",
    "\\qquad .\n",
    "$$"
   ]
  },
  {
   "cell_type": "markdown",
   "metadata": {},
   "source": [
    "Then, the [conversion](#math:eq:007) <!--\\ref{math:eq:007}--> becomes, by simply implementing the identity:"
   ]
  },
  {
   "cell_type": "markdown",
   "metadata": {},
   "source": [
    "\\begin{split}\n",
    "f(t) & = a\\,\\cos (\\omega t+\\phi) \\\\\n",
    "     & =  \\Re \\left ({a \\, e^{i(\\omega t+\\phi)}}\\right)\\\\\n",
    "     & =  \\Re \\left ({a \\cdot 1 \\cdot e^{i(\\omega t+\\phi)}}\\right)\\\\\n",
    "     & =  \\Re \\left ({a (\\, x \\, x^*) \\, e^{i(\\omega t+\\phi)}}\\right)\\\\\n",
    "     & =  \\Re \\left ({z \\left ({x^* \\, e^{i(\\omega t+\\phi)}}\\right)} \\right)\\\\\n",
    "     & =  \\Re \\left ({z \\left ({e^{-i\\,\\alpha} \\, e^{i(\\omega t+\\phi)}}\\right)} \\right)\\\\\n",
    "     & =  \\Re \\left ({z \\, e^{i(\\omega t+\\phi-\\alpha)}} \\right)\\\\\n",
    "     & =  \\Re \\left ({z \\, e^{i(\\omega t+\\widehat{\\phi})}} \\right)\n",
    "\\end{split}\n",
    "\\qquad .\n",
    "$$"
   ]
  },
  {
   "cell_type": "markdown",
   "metadata": {},
   "source": [
    "For any complex number $z$ with $\\lvert a \\rvert = \\lvert z \\rvert $, one can hence formulate:"
   ]
  },
  {
   "cell_type": "markdown",
   "metadata": {},
   "source": [
    "<a id='math:eq:012'></a><!--\\label{math:eq:012}-->$$\n",
    "\\begin{split}\n",
    "f(t) & = a\\,\\cos (\\omega t+\\phi) \\\\\n",
    "     & =  \\Re \\left ({z \\, e^{\\imath(\\omega t+\\widehat{\\phi})}}\\right)\n",
    "\\end{split}\n",
    "\\qquad ,\n",
    "$$"
   ]
  },
  {
   "cell_type": "markdown",
   "metadata": {},
   "source": [
    "with\n",
    "<a id='math:eq:013'></a><!--\\label{math:eq:013}-->$$\n",
    "\\begin{split}\n",
    "\\widehat{\\phi} & = \\phi - \\alpha \\\\\n",
    "\\end{split}\n",
    "\\qquad ,\n",
    "$$"
   ]
  },
  {
   "cell_type": "markdown",
   "metadata": {},
   "source": [
    "and $\\alpha$ calculated according to [equation](#math:eq:010) <!--\\ref{math:eq:010}-->. The most common convention is to enforce $\\Im\\widehat{z} = 0$, and hence [formulation](#math:eq:007) <!--\\ref{math:eq:007}-->."
   ]
  },
  {
   "cell_type": "markdown",
   "metadata": {},
   "source": [
    "In this section we used the conventional symbols $t$ and $\\omega$ usually employed for time and angular frequency for the case of an oscillation in time. This can of course be adapted to other periodic functions or other arguments. The equations above do not change when we replace the term $\\omega t$ with $2\\pi \\nu t$ or $2\\pi \\frac{t}{T}$ or $\\bf{k}\\cdot\\bf{x}-\\omega t$ or $2\\pi(\\frac{l}{\\lambda}x+\\frac{m}{\\lambda}y+\\frac{n}{\\lambda}z- \\nu t)$"
   ]
  },
  {
   "cell_type": "markdown",
   "metadata": {},
   "source": [
    "***\n",
    "* Next: [2.2 Special functions](2_2_special_functions.ipynb)\n",
    "***"
   ]
  },
  {
   "cell_type": "code",
   "execution_count": null,
   "metadata": {
    "collapsed": true
   },
   "outputs": [],
   "source": []
  }
 ],
 "metadata": {
  "kernelspec": {
   "display_name": "Python 2",
   "language": "python",
   "name": "python2"
  },
  "language_info": {
   "codemirror_mode": {
    "name": "ipython",
    "version": 2
   },
   "file_extension": ".py",
   "mimetype": "text/x-python",
   "name": "python",
   "nbconvert_exporter": "python",
   "pygments_lexer": "ipython2",
   "version": "2.7.6"
  }
 },
 "nbformat": 4,
 "nbformat_minor": 0
}
