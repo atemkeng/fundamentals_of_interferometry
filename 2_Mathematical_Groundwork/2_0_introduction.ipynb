{
 "cells": [
  {
   "cell_type": "markdown",
   "metadata": {},
   "source": [
    "***\n",
    "\n",
    "* [Outline](../0_Introduction/0_introduction.ipynb)\n",
    "* [Glossary](../0_Introduction/1_glossary.ipynb)\n",
    "* [2. Mathematical Groundwork](#)  \n",
    "    * Next: [2.1 Complex numbers](2_1_complex_numbers.ipynb)\n",
    "\n",
    "***"
   ]
  },
  {
   "cell_type": "markdown",
   "metadata": {},
   "source": [
    "# Chapter 2: Mathematical Groundwork<a id='math:sec:intro'></a>"
   ]
  },
  {
   "cell_type": "markdown",
   "metadata": {},
   "source": [
    "Radio interferometry requires a firm mathematical background. Luckily, this background is rather limited and well understandable if we assume some background in calculus and algebra. In this chapter, we attempt to give an overview of the mathematical definitions and formulae used further on in this book. Much of the approach taken here is based on the one assumed by Ulrich Klein und J&uuml;rgen Kerp in their Introductory Radio astronomy techniques script at AIfA (Univ. Bonn).\n",
    "\n",
    "It should be pointed out that learning the mathematics presented here is not in vain, even when interferometry will not turn up again in the reader's career. In any description of measurements and especially digitisation all the groundwork presented here will reoccur."
   ]
  },
  {
   "cell_type": "markdown",
   "metadata": {},
   "source": [
    "#### Chapter Outline"
   ]
  },
  {
   "cell_type": "markdown",
   "metadata": {},
   "source": [
    "1. [Complex Numbers](2_1_complex_numbers.ipynb)\n",
    "    1. [The field of complex numbers](2_1_complex_numbers.ipynb#math:sec:the_field_of_complex_numbers)\n",
    "    2. [Euler's formula](2_1_complex_numbers.ipynb#math:sec:eulers_formula)\n",
    "    3. [Periodic functions and complex numbers](2_2_special_functions.ipynb#math:sec:periodic_functions_and_complex_numbers)\n",
    "2. [Important functions](2_2_important_functions.ipynb)\n",
    "    1. [Gaussian function](2_2_important_functions.ipynb#math:sec:gaussian_function)\n",
    "    2. [Sinc function](2_2_important_functions.ipynb#math:sec:sinc_function)\n",
    "    3. [Dirac delta function](2_2_important_functions.ipynb#math:sec:dirac_delta_function)\n",
    "    4. [Shah function](2_2_important_functions.ipynb#math:sec:shah_function)\n",
    "    5. [Heavyside (step) function](2_2_important_functions.ipynb#math:sec:heavyside_function)\n",
    "    6. [Box function](2_2_important_functions.ipynb#math:sec:box_function)\n",
    "3. [Fourier Series](2_3_fourier_series.ipynb)\n",
    "4. [The Fourier Transform](2_4_the_fourier_transform.ipynb)\n",
    "    1. [Definition](2_4_the_fourier_transform.ipynb#math:sec:fourier_transform_definition)\n",
    "    2. [Examples](2_4_the_fourier_transform.ipynb#math:sec:fourier_transform_examples)\n",
    "5. [Convolution](2_5_convolution.ipynb)\n",
    "6. [Auto-correlation and cross-correlation](2_6_auto_correlation_and_cross_correlation.ipynb)\n",
    "7. [Fourier Theorems](2_7_fourier_theorems.ipynb)\n",
    "    1. [Similarity theorem](2_7_fourier_theorems.ipynb#math:sec:similarity_theorem)\n",
    "    2. [Shift theorem](2_7_fourier_theorems.ipynb#math:sec:shift_theorem)\n",
    "    3. [Convolution theorem](2_7_fourier_theorems.ipynb#math:sec:convolution_theorem)\n",
    "    4. [Auto-correlation theorem](2_7_fourier_theorems.ipynb#math:sec:auto_correlation_theorem)\n",
    "8. [The Discrete Fourier Transform (DFT) and the Fast Fourier Transform (FFT)](2_8_the_discrete_fourier_transform.ipynb)\n",
    "9. [Sampling Theory](2_9_sampling_theory.ipynb)\n",
    "10. [Linear Algrebra](2_10_linear_algebra.ipynb)\n",
    "    1. [Basic Properties and Relationships](2_10_linear_algebra.ipynb#math:sec:basic_properties_and_relationships)\n",
    "    2. [Jones Matricies and Polarization](2_10_linear_algebra.ipynb#math:sec:jones_matrices_and_polarization)\n",
    "    3. [Matrix Products](2_10_linear_algebra.ipynb#math:sec:matrix_products) (outer product, khatri-rao product, hadamard product and the relations between all these operators... (The three most used identities in calibration when expressing the RIME))\n",
    "    4. [Matrix Inversion](2_10_linear_algebra.ipynb#math:sec:matrix_inversion)\n",
    "    5. [Mueller Matricies](2_10_linear_algebra.ipynb#math:sec:mueller_matrices)\n",
    "11. [Least-squares Minimization](2_11_least_squares.ipynb)\n",
    "12. [Solid Angle](2_12_solid_angle.ipynb)\n",
    "13. [Further Reading and References](2_x_further_reading_and_references.ipynb)"
   ]
  },
  {
   "cell_type": "markdown",
   "metadata": {},
   "source": [
    "#### Chapter Editors\n",
    "\n",
    "#### Chapter Contributors\n",
    "\n",
    "* Griffin Foster"
   ]
  },
  {
   "cell_type": "markdown",
   "metadata": {},
   "source": [
    "***\n",
    "\n",
    "Next: [2.1 Complex Numbers](2_1_complex_numbers.ipynb)"
   ]
  }
 ],
 "metadata": {
  "kernelspec": {
   "display_name": "Python 2",
   "language": "python",
   "name": "python2"
  },
  "language_info": {
   "codemirror_mode": {
    "name": "ipython",
    "version": 2
   },
   "file_extension": ".py",
   "mimetype": "text/x-python",
   "name": "python",
   "nbconvert_exporter": "python",
   "pygments_lexer": "ipython2",
   "version": "2.7.6"
  }
 },
 "nbformat": 4,
 "nbformat_minor": 0
}
