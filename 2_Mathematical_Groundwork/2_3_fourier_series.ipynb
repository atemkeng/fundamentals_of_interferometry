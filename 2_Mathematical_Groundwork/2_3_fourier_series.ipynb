{
 "cells": [
  {
   "cell_type": "markdown",
   "metadata": {},
   "source": [
    "***\n",
    "\n",
    "* [Outline](../0_Introduction/0_introduction.ipynb)\n",
    "* [Glossary](../0_Introduction/1_glossary.ipynb)\n",
    "* [2. Mathematical Groundwork](2_0_introduction.ipynb)\n",
    "    * Previous: [2.2 Important functions](2_2_important_functions.ipynb)\n",
    "    * Next: [2.4 The Fourier Transform](2_4_the_fourier_transform.ipynb)\n",
    "\n",
    "***"
   ]
  },
  {
   "cell_type": "markdown",
   "metadata": {},
   "source": [
    "#### Chapter Editors\n",
    "\n",
    "#### Chapter Contributors\n",
    "\n",
    "* Gyula I. G. Józsa"
   ]
  },
  {
   "cell_type": "markdown",
   "metadata": {},
   "source": [
    "Import standard modules:"
   ]
  },
  {
   "cell_type": "code",
   "execution_count": null,
   "metadata": {
    "collapsed": true
   },
   "outputs": [],
   "source": [
    "import numpy as np\n",
    "import matplotlib.pyplot as plt\n",
    "%matplotlib inline"
   ]
  },
  {
   "cell_type": "markdown",
   "metadata": {},
   "source": [
    "Import section specific modules:"
   ]
  },
  {
   "cell_type": "code",
   "execution_count": null,
   "metadata": {
    "collapsed": true
   },
   "outputs": [],
   "source": [
    "pass"
   ]
  },
  {
   "cell_type": "markdown",
   "metadata": {},
   "source": [
    "## 2.3. Fourier series<a id='math:sec:fourier_series'></a>\n",
    "While Fourier series are not immediately required to understand the required calculus for this book, they are closely connected to the Fourier transform, which is an essential tool. Moreover, we noticed a few times that the principle of the harmonic analysis or harmonic decomposition is - despite its simplicity - often not fully understood. We hence give a very brief summary, not caring about existence questions."
   ]
  },
  {
   "cell_type": "markdown",
   "metadata": {},
   "source": [
    "<!-- 3. [Fourier series](#math:sec:fourier_series) -->"
   ]
  },
  {
   "cell_type": "markdown",
   "metadata": {},
   "source": [
    "The Fourier series of a function $f: \\mathbb{R} \\rightarrow \\mathbb{R}$ with real coefficients is defined as"
   ]
  },
  {
   "cell_type": "markdown",
   "metadata": {},
   "source": [
    "<a id='math:eq:3_001'></a><!--\\label{math:eq:3_001}-->$$\n",
    "    f_{\\rm F}(x) \\,=\\, \\frac{1}{2}c_0+\\sum_{m = 1}^{\\infty}c_m \\,\\cos(nx)+\\sum_{m = 1}^{\\infty}s_m \\,\\sin(nx)\n",
    "$$"
   ]
  },
  {
   "cell_type": "markdown",
   "metadata": {},
   "source": [
    "with the Fourier coefficients $c_i$ and $s_i$"
   ]
  },
  {
   "cell_type": "markdown",
   "metadata": {},
   "source": [
    "<a id='math:eq:3_002'></a><!--\\label{math:eq:3_002}-->$$\n",
    "    \\left( c_0 \\,=\\,\\frac{1}{\\pi}\\int_{-\\pi}^{\\pi}f(x)\\,dx \\right)\\\\\n",
    "    c_m \\,=\\,\\frac{1}{\\pi}\\int_{-\\pi}^{\\pi}f(x)\\,\\cos(mx)\\,dx \\qquad m \\in \\mathbb{N_0}\\\\\n",
    "    s_m \\,=\\,\\frac{1}{\\pi}\\int_{-\\pi}^{\\pi}f(x)\\,\\sin(mx)\\,dx \\qquad m \\in \\mathbb{N_0}\\\\\\qquad {\\rm .}\n",
    "$$"
   ]
  },
  {
   "cell_type": "markdown",
   "metadata": {},
   "source": [
    "If $f_{\\rm F}$ exists, it is identical to $f$ in all points of continuity. For functions which are periodic with a period of $2\\pi$ the Fourier series converges. Hence, for continuous periodic function with a period of $2\\pi$ the Fourier series converges and $f_{\\rm F}=f$."
   ]
  },
  {
   "cell_type": "markdown",
   "metadata": {},
   "source": [
    "The Fourier series of a function $f: \\mathbb{R} \\rightarrow \\mathbb{R}$ with imaginary coefficients is defined as"
   ]
  },
  {
   "cell_type": "markdown",
   "metadata": {},
   "source": [
    "<a id='math:eq:3_003'></a><!--\\label{math:eq:3_003}-->$$\n",
    "    f_{\\rm IF}(x) \\,=\\, \\sum_{m = -\\infty}^{\\infty}a_m \\,e^{\\imath mx}$$"
   ]
  },
  {
   "cell_type": "markdown",
   "metadata": {},
   "source": [
    "with the Fourier coefficients $a_m$"
   ]
  },
  {
   "cell_type": "markdown",
   "metadata": {},
   "source": [
    "<a id='math:eq:3_004'></a><!--\\label{math:eq:3_004}-->$$\n",
    "    \\forall m\\in\\mathbb{Z}\\qquad a_m \\,=\\, \\frac{1}{2\\pi}\\int_{-\\pi}^{\\pi}f(x)e^{-\\imath mx}\\,dx\\qquad .$$"
   ]
  },
  {
   "cell_type": "markdown",
   "metadata": {},
   "source": [
    "The same convergence criteria apply and one realisation can be transformed to the other. Making use of Euler's formula [EXREF](2_1_complex_numbers.ipynb#math:sec:eulers_formula) <!--\\ref{math:sec:eulers_formula}-->, one gets"
   ]
  },
  {
   "cell_type": "markdown",
   "metadata": {},
   "source": [
    "<a id='math:eq:2_005'></a><!--\\label{math:eq:2_005}-->$$\n",
    "\\begin{split}\n",
    "a_m   \\,&=\\, \\frac{1}{2\\pi}\\int_{-\\pi}^{\\pi}f(x)\\,[\\cos(mx)-\\imath \\,\\sin(mx)]\\,dx\n",
    "&=\\,\\left \\{\n",
    "     \\begin{array}{lll}\n",
    "    \\frac{1}{2} (c_{\\lvert m \\rvert}+\\imath\\,s_{\\lvert m\\rvert}) & {\\rm for} & m < 0\\\\\n",
    "    \\frac{1}{2} c_m & {\\rm for} & m = 0\\\\\n",
    "    \\frac{1}{2} (c_m-\\imath\\,s_m) & {\\rm for} & m > 0\\\\\n",
    "\\end{array} \\right. \n",
    "\\end{split}\\qquad ,\n",
    "$$"
   ]
  },
  {
   "cell_type": "markdown",
   "metadata": {},
   "source": [
    "and, accordingly,"
   ]
  },
  {
   "cell_type": "markdown",
   "metadata": {},
   "source": [
    "<a id='math:eq:2_006'></a><!--\\label{math:eq:2_006}-->$$\n",
    "\\forall m \\in \\mathbb{N_0}\\\\\n",
    "\\begin{split}\n",
    "c_m  \\,&=\\, a_m+a_{-m}\\\\\n",
    "s_m  \\,&=\\, \\imath\\,(a_m-a_{-m})\\\\\n",
    "\\end{split}\\qquad .\n",
    "$$"
   ]
  },
  {
   "cell_type": "markdown",
   "metadata": {},
   "source": [
    "The concept Fourier series can be expanded to a base interval of a period T instead of $2\\pi$ by substituting $x$ with $x = \\frac{2\\pi}{T}t$."
   ]
  },
  {
   "cell_type": "markdown",
   "metadata": {},
   "source": [
    "<a id='math:eq:3_007'></a><!--\\label{math:eq:3_007}-->$$\n",
    "    g_{\\rm F}(t) = f_{\\rm F}(\\frac{2\\pi}{T}t) \\,=\\, \\frac{1}{2}c_0+\\sum_{m = 1}^{\\infty}c_m \\,\\cos(m\\frac{2\\pi}{T}t)+\\sum_{m = 1}^{\\infty}s_m \\,\\sin(m\\frac{2\\pi}{T}t)\n",
    "$$"
   ]
  },
  {
   "cell_type": "markdown",
   "metadata": {},
   "source": [
    "<a id='math:eq:3_008'></a><!--\\label{math:eq:3_008}-->$$\n",
    "    \\left( c_0 \\,=\\,\\frac{1}{\\pi}\\int_{-\\pi}^{\\pi}f(\\frac{2\\pi}{T}t)\\,dx \\,=\\, \\frac{2}{T}\\int_{-\\frac{T}{2}}^{\\frac{T}{2}}g(t)\\,dt \\right)\\\\    \n",
    "c_m \\,=\\,\\frac{1}{\\pi}\\int_{-\\pi}^{\\pi}f(\\frac{2\\pi}{T}t)\\,\\cos(m\\frac{2\\pi}{T}t)\\,dx \\,=\\, \\frac{2}{T}\\int_{-\\frac{T}{2}}^{\\frac{T}{2}}g(t)\\,\\cos(m\\frac{2\\pi}{T}t)\\,dt \\qquad m \\in \\mathbb{N_0}\\\\\n",
    "s_m \\,=\\,\\frac{1}{\\pi}\\int_{-\\pi}^{\\pi}f(\\frac{2\\pi}{T}t)\\,\\sin(m\\frac{2\\pi}{T}t)\\,dx \\,=\\, \\frac{2}{T}\\int_{-\\frac{T}{2}}^{\\frac{T}{2}}g(t)\\,\\sin(m\\frac{2\\pi}{T}t)\\,dt \\qquad m \\in \\mathbb{N_0}\\\\\n",
    "$$"
   ]
  },
  {
   "cell_type": "markdown",
   "metadata": {},
   "source": [
    "or"
   ]
  },
  {
   "cell_type": "markdown",
   "metadata": {},
   "source": [
    "<a id='math:eq:3_009'></a><!--\\label{math:eq:3_010}-->$$\n",
    "    g_{\\rm IF}(t) = f_{\\rm IF}(\\frac{2\\pi}{T}t) \\,=\\, \\sum_{m = -\\infty}^{\\infty}a_m \\,e^{\\imath m\\frac{2\\pi}{T}t}\n",
    "$$"
   ]
  },
  {
   "cell_type": "markdown",
   "metadata": {},
   "source": [
    "<a id='math:eq:3_011'></a><!--\\label{math:eq:3_011}-->$$\n",
    "    \\forall m\\in\\mathbb{Z}\\qquad a_m \\,=\\, \\frac{1}{2\\pi}\\int_{-\\pi}^{\\pi}f(\\frac{2\\pi}{T}t)e^{-\\imath m\\frac{2\\pi}{T}t}\\,dx\\,=\\,\\frac{1}{T}\\int_{-\\frac{T}{2}}^{\\frac{T}{2}}g(t)e^{-\\imath m\\frac{2\\pi}{T}t}\\,dt\\qquad .$$"
   ]
  },
  {
   "cell_type": "markdown",
   "metadata": {},
   "source": [
    "The series again converges under the same criteria as before and the relations between the coefficients of the complex or real Fourier coefficients from equation [equation](#math:eq:3_006) <!--\\ref{math:eq:3_006}-->."
   ]
  },
  {
   "cell_type": "markdown",
   "metadata": {},
   "source": [
    "One nice example is the complex, scaled Fourier series of the scaled shah function [EXREF](2_2_important_functions.ipynb#math:sec:shah_function) <!--\\ref{math:sec:shah_function}--> $III_{T^{-1}}(x)\\,=III\\left(\\frac{x}{T}\\right)\\,=\\sum_{l=-\\infty}^{+\\infty} T \\delta\\left(x-l T\\right)$. Obviously, the period of this function is $T$. The Fourier coefficients (matched to a period of $T$) calculate as"
   ]
  },
  {
   "cell_type": "markdown",
   "metadata": {},
   "source": [
    "<a id='math:eq:3_012'></a><!--\\label{math:eq:3_012}-->$$\n",
    "\\begin{split}\n",
    "    \\forall m\\in\\mathbb{Z}\\qquad a_m \\,&= \\,\\frac{1}{T}\\int_{-\\frac{T}{2}}^{\\frac{T}{2}}\\left(\\sum_{l=-\\infty}^{+\\infty}T\\delta\\left(x-l T\\right)\\right)e^{-\\imath m \\frac{2\\pi}{T} x}\\,dx\\\\\n",
    "    &=\\,\\frac{1}{T} \\int_{-\\frac{T}{2}}^{\\frac{T}{2}} T \\delta\\left(x\\right)e^{-\\imath m \\frac{2\\pi}{T} x}\\,dx\\\\\n",
    "    &=\\,1\n",
    "    \\end{split}\n",
    "    \\qquad .$$"
   ]
  },
  {
   "cell_type": "markdown",
   "metadata": {},
   "source": [
    "It follows that"
   ]
  },
  {
   "cell_type": "markdown",
   "metadata": {},
   "source": [
    "<a id='math:eq:3_013'></a><!--\\label{math:eq:3_013}-->$$\n",
    "\\begin{split}\n",
    "    III_{T^{-1}}(x)\\,=III\\left(\\frac{x}{T}\\right)\\,=\\,\\sum_{m=-\\infty}^{+\\infty} e^{\\imath m\\frac{2\\pi}{T} x t}\n",
    "    \\end{split}\n",
    "    \\qquad .$$"
   ]
  },
  {
   "cell_type": "markdown",
   "metadata": {},
   "source": [
    "***\n",
    "* Next: [2.4 The Fourier Transform]\n",
    "***"
   ]
  }
 ],
 "metadata": {
  "kernelspec": {
   "display_name": "Python 2",
   "language": "python",
   "name": "python2"
  },
  "language_info": {
   "codemirror_mode": {
    "name": "ipython",
    "version": 2
   },
   "file_extension": ".py",
   "mimetype": "text/x-python",
   "name": "python",
   "nbconvert_exporter": "python",
   "pygments_lexer": "ipython2",
   "version": "2.7.6"
  }
 },
 "nbformat": 4,
 "nbformat_minor": 0
}
