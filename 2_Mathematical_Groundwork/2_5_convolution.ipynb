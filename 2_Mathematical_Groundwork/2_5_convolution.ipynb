{
 "cells": [
  {
   "cell_type": "markdown",
   "metadata": {},
   "source": [
    "***\n",
    "\n",
    "* [Outline](../0_Introduction/0_introduction.ipynb)\n",
    "* [Glossary](../0_Introduction/1_glossary.ipynb)\n",
    "* [2. Mathematical Groundwork](2_0_introduction.ipynb)\n",
    "    * Previous: [2.4 The Fourier Transform](2_4_the_fourier_transform.ipynb)\n",
    "    * Next: [2.6 Cross-correlation and auto-correlation](2_6_cross_correlation_and_auto_correlation.ipynb)\n",
    "\n",
    "***"
   ]
  },
  {
   "cell_type": "markdown",
   "metadata": {},
   "source": [
    "#### Chapter Editors\n",
    "\n",
    "#### Chapter Contributors\n",
    "\n",
    "* Gyula I. G. Józsa"
   ]
  },
  {
   "cell_type": "markdown",
   "metadata": {},
   "source": [
    "Import standard modules:"
   ]
  },
  {
   "cell_type": "code",
   "execution_count": null,
   "metadata": {
    "collapsed": true
   },
   "outputs": [],
   "source": [
    "import numpy as np\n",
    "import matplotlib.pyplot as plt\n",
    "%matplotlib inline"
   ]
  },
  {
   "cell_type": "markdown",
   "metadata": {
    "collapsed": true
   },
   "source": [
    "Import section specific modules:"
   ]
  },
  {
   "cell_type": "code",
   "execution_count": null,
   "metadata": {
    "collapsed": true
   },
   "outputs": [],
   "source": [
    "import math"
   ]
  },
  {
   "cell_type": "markdown",
   "metadata": {},
   "source": [
    "## 2.5. Convolution<a id='math:sec:convolution'></a>"
   ]
  },
  {
   "cell_type": "markdown",
   "metadata": {},
   "source": [
    "The convolution is the mathematical operation representing instrumental broadening of a signal. For any observation, the signal received is \"filtered\" by an instrumental function. The signal is smeared out. The mathematical equivalent for this is the convolution."
   ]
  },
  {
   "cell_type": "markdown",
   "metadata": {},
   "source": [
    "1. [Definition of the convolution](#math:sec:definition_of_the_convolution)\n",
    "2. [Properties of the convolution](#math:sec:properties_of_the_convolution)\n",
    "2. [Convolution examples](#math:sec:convolution_examples)"
   ]
  },
  {
   "cell_type": "markdown",
   "metadata": {},
   "source": [
    "### 2.5.1. Definition of the convolution<a id='math:sec:definition_of_the_convolution'></a>"
   ]
  },
  {
   "cell_type": "markdown",
   "metadata": {},
   "source": [
    "The convolution $\\circ$ is an operation acting on two complex-valued functions."
   ]
  },
  {
   "cell_type": "markdown",
   "metadata": {},
   "source": [
    "<a id='math:eq:5_001'></a><!--\\label{math:eq:5_001}-->$$\n",
    "\\circ: F(\\mathbb{R},\\mathbb{C})\\,\\times\\, F(\\mathbb{R},\\mathbb{C}) \\rightarrow F(\\mathbb{R},\\mathbb{C})\\\\\n",
    "(f\\circ g)(x) \\,=\\, \\int_{-\\infty}^{+\\infty} f(x-t)\\,g(t)\\,dt\\qquad \\text{,}\n",
    "$$"
   ]
  },
  {
   "cell_type": "markdown",
   "metadata": {},
   "source": [
    "or, in more than one dimension"
   ]
  },
  {
   "cell_type": "markdown",
   "metadata": {},
   "source": [
    "<a id='math:eq:5_002'></a><!--\\label{math:eq:5_002}-->$$\n",
    "\\circ: F(\\mathbb{R},\\mathbb{C}^{n})\\,\\times\\, F(\\mathbb{R},\\mathbb{C}^{n}) \\rightarrow F(\\mathbb{R},\\mathbb{C}^n)\\, \\quad n \\in \\mathbb{N} \\\\\n",
    "\\begin{align}\n",
    "(f\\circ g)(x_1,\\ldots,x_n ) \\,&=\\, (f\\circ g)({\\bf x})\\\\\n",
    "\\,&=\\, \\int_{-\\infty}^{+\\infty} \\ldots \\int_{-\\infty}^{+\\infty} f(x_1-t_1, \\ldots , x_n-t_n)\\,g(t_1, \\ldots, t_n) \\,d^nt\\\\\n",
    "\\,&=\\, \\int_{-\\infty}^{+\\infty} f({\\bf x}-{\\bf t})\\,g({\\bf t}) \\,d^nt\\end{align}\\qquad \\text{.}\n",
    "$$"
   ]
  },
  {
   "cell_type": "markdown",
   "metadata": {},
   "source": [
    "### 2.5.2. Properties of the convolution<a id='math:sec:properties_of_the_convolution'></a>"
   ]
  },
  {
   "cell_type": "markdown",
   "metadata": {},
   "source": [
    "The following rules apply:"
   ]
  },
  {
   "cell_type": "markdown",
   "metadata": {},
   "source": [
    "<a id='math:eq:5_003'></a><!--\\label{math:eq:5_003}-->$$\n",
    "\\forall\\,f,g\\in F(\\mathbb{R},\\mathbb{C}), \\quad a \\in \\mathbb{C}\\\\\n",
    "\\begin{align}\n",
    "f\\circ g \\,&=\\, g \\circ f&\\qquad (\\text{commutativity})\\\\\n",
    "(f\\circ g)\\circ h \\,&=\\, f \\circ (g\\circ h)&\\qquad (\\text{assiociativity})\\\\\n",
    "f \\circ (g + h) \\,&=\\, (f \\circ g) + (f\\circ h) &\\qquad (distributivity)\\\\\n",
    "(a\\, g)\\circ h \\,&=\\, a \\, (g\\circ h)&\\qquad (\\text{assiociativity with scalar multiplication})\\\\\n",
    "\\end{align}\n",
    "$$"
   ]
  },
  {
   "cell_type": "markdown",
   "metadata": {},
   "source": [
    "Because (in one dimenstion, to keep it short)"
   ]
  },
  {
   "cell_type": "markdown",
   "metadata": {},
   "source": [
    "<a id='math:eq:5_002'></a><!--\\label{math:eq:5_002}-->$$\n",
    "\\begin{split}\n",
    "(f\\circ g)(x) \\,&=\\, \\int_{-\\infty}^{+\\infty} f(x-t)\\,g(t)\\,dt\\\\\n",
    "&\\underset{t^{\\prime} = x - t}{=}\\, \\int_{\\infty}^{-\\infty} f(t^{\\prime})\\,g(x-t^{\\prime})\\,\\frac{dt}{dt^{\\prime}}dt^{\\prime}\\\\\n",
    "&=\\, - \\int_{-\\infty}^{+\\infty} f(t^{\\prime})\\,g(x-t^{\\prime})(-1)\\,dt\\\\\n",
    "&= (g\\circ f)(x)\\\\\n",
    "((f\\circ g)\\circ h)(x) \\,&=\\, \\int_{-\\infty}^{+\\infty} \\left[\\int_{-\\infty}^{+\\infty} f((x-t^{\\prime})-t)\\,g(t)\\,dt\\right]\\,h(t^\\prime)\\,dt^{\\prime}\\\\\n",
    "&=\\, \\int_{-\\infty}^{+\\infty} \\int_{-\\infty}^{+\\infty} f(x-t -t^{\\prime})\\,g(t)\\,h(t^\\prime)\\,dt\\,dt^{\\prime}\\\\\n",
    "&=\\, \\int_{-\\infty}^{+\\infty} \\int_{-\\infty}^{+\\infty} f((x-t) -t^{\\prime})\\,h(t^\\prime)\\,g(t)\\,dt^{\\prime}\\,dt\\\\\n",
    "&=\\, \\int_{-\\infty}^{+\\infty} \\left[\\int_{-\\infty}^{+\\infty} f((x-t) -t^{\\prime})\\,h(t^\\prime)\\,dt^{\\prime}\\right]\\,g(t)\\,dt\\\\\n",
    "&=\\, (f\\circ (g\\circ h))(x)\n",
    "\\end{split}\\qquad \\rm ,\n",
    "$$"
   ]
  },
  {
   "cell_type": "markdown",
   "metadata": {},
   "source": [
    "while the validity of the last two rules is really obvious."
   ]
  },
  {
   "cell_type": "markdown",
   "metadata": {},
   "source": [
    "### 2.5.3. Convolution examples<a id='math:sec:convolution_examples'></a>"
   ]
  },
  {
   "cell_type": "markdown",
   "metadata": {},
   "source": [
    "As said, the convolution is often used to represent an instrumental function. We want to demonstrate this. Let us assume a simple function, the triangle wave and a rectangle function (scaled to an area of 1). If we convolve them we get this:"
   ]
  },
  {
   "cell_type": "code",
   "execution_count": null,
   "metadata": {
    "collapsed": false
   },
   "outputs": [],
   "source": [
    "import math\n",
    "\n",
    "from matplotlib import rcParams\n",
    "rcParams['text.usetex'] = True\n",
    "\n",
    "#def trianglewave(x, T):\n",
    "#    \"\"\"\n",
    "#    This is a sawtooth, though\n",
    "#    \"\"\"\n",
    "#    return np.mod(x/T,1.)*np.logical_and(x>=0,x<=T)\n",
    "\n",
    "def trianglewave(x, T):\n",
    "    \"\"\"\n",
    "    T is the period.\n",
    "    \"\"\"\n",
    "    return np.abs(2.*(np.mod(x/T,1.)-0.5))-0.5\n",
    "\n",
    "def boxcar(x,a,b,amp):\n",
    "    return amp*np.logical_and(x>=a,x<=b)\n",
    "    \n",
    "def plottriboxconv(a, b, period):\n",
    "\n",
    "    # limits of boxcar Play arround with this\n",
    "#    a = -0.1\n",
    "#    b = 0.1\n",
    "    \n",
    "    # Plotting range\n",
    "    xrange = [-2., 2.]\n",
    "\n",
    "    # Create functions\n",
    "    xpoints = 1000\n",
    "   \n",
    "    # Resolution element\n",
    "    dx = (xrange[1]-xrange[0])/float(xpoints)\n",
    "\n",
    "    x = np.linspace(xrange[0], xrange[1], xpoints)\n",
    "    y = boxcar(x, a, b, 1.)\n",
    "\n",
    "    # boxcar will be normalised to 1. amp = 1./(b-a) works in the limit of many points, but here we do\n",
    "    # numberofpixelsinbox*dx*amplitude = y.sum *dx*amplitude = 1\n",
    "    # to take into account numerical effects\n",
    "    amp = float(xpoints)/((xrange[1]-xrange[0])* y.sum())\n",
    "    y = boxcar(x, a, b, 1./(b-a))\n",
    "    ycorr = boxcar(x, a, b, amp)\n",
    "    z = trianglewave(x, period)\n",
    "\n",
    "    result = np.convolve(ycorr,z,'same')\n",
    "    result = dx*result\n",
    "        \n",
    "    # Start the plot, create a figure instance and a subplot\n",
    "    fig = plt.figure()\n",
    "    ax1  = fig.add_subplot(311)\n",
    "    fig.tight_layout()\n",
    "    plt.subplots_adjust(hspace = 0.6)\n",
    "    \n",
    "    # Axis ranges\n",
    "    ax1.axis([xrange[0]+(b-a), xrange[1]-(b-a), z.min()-0.1*(z.max()-z.min()), z.max()+0.1*(z.max()-z.min())])\n",
    "\n",
    "    # Plot a grid\n",
    "    ax1.grid(True)\n",
    "\n",
    "    # Insert lines at x=0 and y=0\n",
    "    ax1.axhline(0.,linewidth=1, color = 'k', linestyle='dashed')\n",
    "    ax1.axvline(0.,linewidth=1, color = 'k', linestyle='dashed')\n",
    "    \n",
    "    # Plot function\n",
    "    ax1.plot(x,z,'b-')\n",
    "\n",
    "    plt.title(\"Triangle wave\", fontsize=14,color='black')\n",
    "    \n",
    "    ax2  = fig.add_subplot(312, sharex=ax1) \n",
    "\n",
    "    # Axis ranges\n",
    "    ax2.axis([xrange[0]+(b-a), xrange[1]-(b-a), ycorr.min()-0.1*(ycorr.max()-ycorr.min()), ycorr.max()+0.1*(ycorr.max()-ycorr.min())])\n",
    "\n",
    "    # Plot a grid\n",
    "    ax2.grid(True)\n",
    "\n",
    "    # Insert lines at x=0 and y=0\n",
    "    ax2.axhline(0.,linewidth=1, color = 'k', linestyle='dashed')\n",
    "    ax2.axvline(0.,linewidth=1, color = 'k', linestyle='dashed')\n",
    "    \n",
    "    # Plot function\n",
    "    e1 = int(math.ceil(xpoints*(a-xrange[0])/(xrange[1]-xrange[0])))\n",
    "    ax2.plot(x[:e1],y[:e1],'b-')\n",
    "    ax2.plot([a, a],[0., amp],'b--')\n",
    "    e2 = int(math.floor(xpoints*(b-xrange[0])/(xrange[1]-xrange[0])))\n",
    "    ax2.plot(x[e1:e2],y[e1:e2],'b-')\n",
    "    e3 = xpoints\n",
    "    ax2.plot(x[e2:],y[e2:],'b-')\n",
    "    ax2.plot([b, b],[0., amp],'b--')\n",
    "\n",
    "    plt.title(\"Rectangle function\", fontsize=14,color='black')\n",
    "    \n",
    "    # ax.text(-5., (np.sinc(0)-np.sinc(1.5))/2., r'$sinc(x) = \\frac{sin (\\pi\\,x)}{\\pi\\,x}$', fontsize = 16, horizontalalignment = 'left', verticalalignment = 'top', color = 'black')\n",
    "\n",
    "    ax3  = fig.add_subplot(313, sharex=ax2) \n",
    "\n",
    "    # Axis ranges: mask out border effects\n",
    "    rmin = result.min()\n",
    "    rmax = result.max()\n",
    "    \n",
    "    # Just to make the result a bit more beautiful if the function is very flat\n",
    "    if (rmax - rmin) < 0.1:\n",
    "        rmin=rmin-0.1\n",
    "        rmax=rmax+0.1\n",
    "\n",
    "    ax3.axis([xrange[0]+(b-a), xrange[1]-(b-a), rmin-0.1*(rmax-rmin), rmax+0.1*(rmax-rmin)])\n",
    "\n",
    "    # Plot a grid\n",
    "    ax3.grid(True)\n",
    "\n",
    "    # Insert lines at x=0 and y=0\n",
    "    ax3.axhline(0.,linewidth=1, color = 'k', linestyle='dashed')\n",
    "    ax3.axvline(0.,linewidth=1, color = 'k', linestyle='dashed')\n",
    "    \n",
    "    # Plot function\n",
    "    plr1 =  int(xpoints*(b-a)/(xrange[1]-xrange[0]))\n",
    "    plr2 =  int(xpoints*(1-(b-a)/(xrange[1]-xrange[0])))\n",
    "    \n",
    "    ax3.plot(x[plr1:plr2],result[plr1:plr2],'b-')\n",
    "\n",
    "    plt.title(\"Triangle wave filtered with rectangle function\", fontsize=14,color='black')\n",
    "    \n",
    "#    ax.text(-3.5, (np.sinc(0)-np.sinc(1.5))/2., r'$\\Pi(x) = \\left\\{ \\begin{array}{lll}0 & {\\rm for} & x < \\frac{1}{2} \\\\1 & {\\rm for} & -\\frac{1}{2} \\le x \\le +\\frac{1}{2}\\\\0 & {\\rm for} & x > \\frac{1}{2} \\end{array}\\right.$', fontsize = 14, horizontalalignment = 'left', verticalalignment = 'top', color = 'black')\n",
    "    \n",
    "# first two arguments give the position of the rectangle, third the period of the Triangle\n",
    "plottriboxconv(-0.1, 0.1, 1.0)"
   ]
  },
  {
   "cell_type": "markdown",
   "metadata": {},
   "source": [
    " One might assume that one is observing a (co-)sine function. But it can get worse: "
   ]
  },
  {
   "cell_type": "code",
   "execution_count": null,
   "metadata": {
    "collapsed": false
   },
   "outputs": [],
   "source": [
    "# first two arguments give the position of the rectangle, third the period of the Triangle\n",
    "plottriboxconv(-0.5, 0.5, 1.0)"
   ]
  },
  {
   "cell_type": "markdown",
   "metadata": {},
   "source": [
    "One has to be aware that by filtering, the signal of a function can be removed. But filtering, as the name says, can also have positive effects. Let us assume a noisy function, that gets filtered with, again, a rectangle function. While the signal is not evident from the noisy data, it is visible in the filtered data."
   ]
  },
  {
   "cell_type": "code",
   "execution_count": null,
   "metadata": {
    "collapsed": false
   },
   "outputs": [],
   "source": [
    "from matplotlib import rcParams\n",
    "rcParams['text.usetex'] = True\n",
    "\n",
    "def noisycosinewave(x, amplitude, T, sigma):\n",
    "    \"\"\"\n",
    "    T is the period, sigma is the dispersion, amplitude the amplitude\n",
    "    \"\"\"\n",
    "    return amplitude*np.cos(2.*math.pi*x/T)+np.random.normal(scale=sigma, size=x.size)\n",
    "\n",
    "def boxcar(x,a,b,amp):\n",
    "    return amp*np.logical_and(x>=a,x<=b)\n",
    "    \n",
    "def plotcosboxconv(a, b, period, sigma):\n",
    "\n",
    "    # limits of boxcar Play arround with this\n",
    "#    a = -0.1\n",
    "#    b = 0.1\n",
    "    \n",
    "    # Plotting range\n",
    "    xrange = [-2., 2.]\n",
    "\n",
    "    # Create functions\n",
    "    xpoints = 1000\n",
    "   \n",
    "    # Resolution element\n",
    "    dx = (xrange[1]-xrange[0])/float(xpoints)\n",
    "\n",
    "    x = np.linspace(xrange[0], xrange[1], xpoints)\n",
    "    y = boxcar(x, a, b, 1.)\n",
    "\n",
    "    # boxcar will be normalised to 1. amp = 1./(b-a) works in the limit of many points, but here we do\n",
    "    # numberofpixelsinbox*dx*amplitude = y.sum *dx*amplitude = 1\n",
    "    # to take into account numerical effects\n",
    "    amp = float(xpoints)/((xrange[1]-xrange[0])* y.sum())\n",
    "    y = boxcar(x, a, b, 1./(b-a))\n",
    "    ycorr = boxcar(x, a, b, amp)\n",
    "    z = noisycosinewave(x, 1., period, sigma)\n",
    "    c = np.cos(2.*math.pi*x/period)\n",
    "    \n",
    "    result = np.convolve(ycorr,z,'same')\n",
    "    result = dx*result\n",
    "        \n",
    "    # Start the plot, create a figure instance and a subplot\n",
    "    fig = plt.figure()\n",
    "    \n",
    "    ax1  = fig.add_subplot(411)\n",
    "    fig.tight_layout()\n",
    "    plt.subplots_adjust(hspace = 0.8)\n",
    "    \n",
    "    # Axis ranges\n",
    "    ax1.axis([xrange[0]+(b-a), xrange[1]-(b-a), c.min()-0.1*(c.max()-c.min()), c.max()+0.1*(c.max()-c.min())])\n",
    "\n",
    "    # Plot a grid\n",
    "    ax1.grid(True)\n",
    "\n",
    "    # Insert lines at x=0 and y=0\n",
    "    ax1.axhline(0.,linewidth=1, color = 'k', linestyle='dashed')\n",
    "    ax1.axvline(0.,linewidth=1, color = 'k', linestyle='dashed')\n",
    "    \n",
    "    # Plot function\n",
    "    ax1.plot(x,c,'b-')\n",
    "\n",
    "    plt.title(\"Original function (cos)\", fontsize=14,color='black')\n",
    "\n",
    "    ax1  = fig.add_subplot(412)\n",
    " \n",
    "    # Axis ranges\n",
    "    ax1.axis([xrange[0]+(b-a), xrange[1]-(b-a), z.min()-0.1*(z.max()-z.min()), z.max()+0.1*(z.max()-z.min())])\n",
    "\n",
    "    # Plot a grid\n",
    "    ax1.grid(True)\n",
    "\n",
    "    # Insert lines at x=0 and y=0\n",
    "    ax1.axhline(0.,linewidth=1, color = 'k', linestyle='dashed')\n",
    "    ax1.axvline(0.,linewidth=1, color = 'k', linestyle='dashed')\n",
    "    \n",
    "    # Plot function\n",
    "    ax1.plot(x,z,'b-')\n",
    "\n",
    "    plt.title(\"Noise added\", fontsize=14,color='black')\n",
    "    \n",
    "    ax2  = fig.add_subplot(413, sharex=ax1) \n",
    "\n",
    "    # Axis ranges\n",
    "    ax2.axis([xrange[0]+(b-a), xrange[1]-(b-a), ycorr.min()-0.1*(ycorr.max()-ycorr.min()), ycorr.max()+0.1*(ycorr.max()-ycorr.min())])\n",
    "\n",
    "    # Plot a grid\n",
    "    ax2.grid(True)\n",
    "\n",
    "    # Insert lines at x=0 and y=0\n",
    "    ax2.axhline(0.,linewidth=1, color = 'k', linestyle='dashed')\n",
    "    ax2.axvline(0.,linewidth=1, color = 'k', linestyle='dashed')\n",
    "    \n",
    "    # Plot function\n",
    "    e1 = int(math.ceil(xpoints*(a-xrange[0])/(xrange[1]-xrange[0])))\n",
    "    ax2.plot(x[:e1],y[:e1],'b-')\n",
    "    ax2.plot([a, a],[0., amp],'b--')\n",
    "    e2 = int(math.floor(xpoints*(b-xrange[0])/(xrange[1]-xrange[0])))\n",
    "    ax2.plot(x[e1:e2],y[e1:e2],'b-')\n",
    "    e3 = xpoints\n",
    "    ax2.plot(x[e2:],y[e2:],'b-')\n",
    "    ax2.plot([b, b],[0., amp],'b--')\n",
    "\n",
    "    plt.title(\"Rectangle function\", fontsize=14,color='black')\n",
    "    \n",
    "    # ax.text(-5., (np.sinc(0)-np.sinc(1.5))/2., r'$sinc(x) = \\frac{sin (\\pi\\,x)}{\\pi\\,x}$', fontsize = 16, horizontalalignment = 'left', verticalalignment = 'top', color = 'black')\n",
    "\n",
    "    ax3  = fig.add_subplot(414, sharex=ax2) \n",
    "\n",
    "    # Axis ranges: mask out border effects\n",
    "    rmin = result.min()\n",
    "    rmax = result.max()\n",
    "    \n",
    "    # Just to make the result a bit more beautiful if the function is very flat\n",
    "    if (rmax - rmin) < 0.1:\n",
    "        rmin=rmin-0.1\n",
    "        rmax=rmax+0.1\n",
    "\n",
    "    ax3.axis([xrange[0]+(b-a), xrange[1]-(b-a), rmin-0.1*(rmax-rmin), rmax+0.1*(rmax-rmin)])\n",
    "\n",
    "    # Plot a grid\n",
    "    ax3.grid(True)\n",
    "\n",
    "    # Insert lines at x=0 and y=0\n",
    "    ax3.axhline(0.,linewidth=1, color = 'k', linestyle='dashed')\n",
    "    ax3.axvline(0.,linewidth=1, color = 'k', linestyle='dashed')\n",
    "    \n",
    "    # Plot function\n",
    "    plr1 =  int(xpoints*(b-a)/(xrange[1]-xrange[0]))\n",
    "    plr2 =  int(xpoints*(1-(b-a)/(xrange[1]-xrange[0])))\n",
    "    \n",
    "    ax3.plot(x[plr1:plr2],result[plr1:plr2],'b-')\n",
    "\n",
    "    plt.title(\"Noisy function filtered with rectangle function\", fontsize=14,color='black')\n",
    "    \n",
    "#    ax.text(-3.5, (np.sinc(0)-np.sinc(1.5))/2., r'$\\Pi(x) = \\left\\{ \\begin{array}{lll}0 & {\\rm for} & x < \\frac{1}{2} \\\\1 & {\\rm for} & -\\frac{1}{2} \\le x \\le +\\frac{1}{2}\\\\0 & {\\rm for} & x > \\frac{1}{2} \\end{array}\\right.$', fontsize = 14, horizontalalignment = 'left', verticalalignment = 'top', color = 'black')\n",
    "    \n",
    "# first two arguments give the position of the rectangle, third the period of the Triangle\n",
    "plotcosboxconv(-0.1, 0.1, 1.0, 2.5)"
   ]
  },
  {
   "cell_type": "markdown",
   "metadata": {},
   "source": [
    "Using the convolution to describe an observation or a measurement, one has to take care to choose the right function as the instrumental function. The correct instrumental function is the image or measurement of a point source at the origin. This sometimes gets confused with the response function describing the sensitivity of the apparatus in a certain direction (at a certain delay), which is the point reflexion of the instrumental function to be used in a convolution. In a situation, where the instrumental function is symmetric with respect to point reflexion, this does not play a role. But if there are direction dependent gains breaking the symmetry, the situation changes. Let us consider a situation, where the instrumental function is a skewed Gaussian (introducing direction dependent gains) and the observed reality is two point sources (in our case two very narrow box functions)."
   ]
  },
  {
   "cell_type": "code",
   "execution_count": null,
   "metadata": {
    "collapsed": false
   },
   "outputs": [],
   "source": [
    "from matplotlib import rcParams\n",
    "rcParams['text.usetex'] = True\n",
    "\n",
    "def gausshermetian(x, amp, mu, sigma, h3, h4):\n",
    "    \"\"\"\n",
    "    T is the period, sigma is the dispersion, amplitude the amplitude\n",
    "    \"\"\"\n",
    "    y = (x-mu)/sigma\n",
    "    return amp*np.exp(-0.5*y**2)*(1+h3*(2*np.sqrt(2.)*y**3-3*np.sqrt(2.)*y)/np.sqrt(6.)+h4*(4*y**4-12*y**2+3)/np.sqrt(24))\n",
    "\n",
    "#amplitude*np.cos(2.*math.pi*x/T)+np.random.normal(scale=sigma, size=x.size)\n",
    "\n",
    "def boxcar(x,a,b,amp):\n",
    "    return amp*np.logical_and(x>=a,x<=b)\n",
    "    \n",
    "def plotskewedgaussobs(pos1, pos2, boxwidth, sigma, h3, h4):\n",
    "\n",
    "    # limits of boxcar Play arround with this\n",
    "#    a = -0.1\n",
    "#    b = 0.1\n",
    "    \n",
    "    # Plotting range\n",
    "    xrange = [-2., 2.]\n",
    "\n",
    "    # Create functions\n",
    "    xpoints = 1000\n",
    "   \n",
    "    # Resolution element\n",
    "    dx = (xrange[1]-xrange[0])/float(xpoints)\n",
    "\n",
    "    x = np.linspace(xrange[0], xrange[1], xpoints)\n",
    "    y = boxcar(x, pos1-boxwidth/2., pos1+boxwidth/2, 1./boxwidth)+0.5*boxcar(x, pos2-boxwidth/2., pos2+boxwidth/2, 1./boxwidth)\n",
    "\n",
    "    # boxcar will be normalised to 1. amp = 1./(b-a) works in the limit of many points, but here we do\n",
    "    # numberofpixelsinbox*dx*amplitude = y.sum *dx*amplitude = 1\n",
    "    # to take into account numerical effects\n",
    "    z = gausshermetian(x, 1., 0., sigma, h3, h4)\n",
    "    \n",
    "    result = np.convolve(y,z,'same')\n",
    "    result = dx*result\n",
    "        \n",
    "    # Start the plot, create a figure instance and a subplot\n",
    "    fig = plt.figure()\n",
    "      \n",
    "    ax1  = fig.add_subplot(311) \n",
    "    fig.tight_layout()\n",
    "    plt.subplots_adjust(hspace = 0.7)\n",
    " \n",
    "    # Axis ranges\n",
    "    ax1.axis([xrange[0]+boxwidth, xrange[1]-boxwidth, y.min()-0.1*(y.max()-y.min()), y.max()+0.1*(y.max()-y.min())])\n",
    "\n",
    "    # Plot a grid\n",
    "    ax1.grid(True)\n",
    "\n",
    "    # Insert lines at x=0 and y=0\n",
    "    ax1.axhline(0.,linewidth=1, color = 'k', linestyle='dashed')\n",
    "    ax1.axvline(0.,linewidth=1, color = 'k', linestyle='dashed')\n",
    "    \n",
    "    # Plot function\n",
    "    ax1.plot(x,y,'b-')\n",
    "\n",
    "    plt.title(\"Original function (reality, e.g. two stars)\", fontsize=14,color='black')\n",
    "    \n",
    "    # ax.text(-5., (np.sinc(0)-np.sinc(1.5))/2., r'$sinc(x) = \\frac{sin (\\pi\\,x)}{\\pi\\,x}$', fontsize = 16, horizontalalignment = 'left', verticalalignment = 'top', color = 'black')\n",
    "\n",
    "    ax2  = fig.add_subplot(312, sharex=ax1)\n",
    " \n",
    "    # Axis ranges\n",
    "    ax2.axis([xrange[0]+boxwidth, xrange[1]-boxwidth, z.min()-0.1*(z.max()-z.min()), z.max()+0.1*(z.max()-z.min())])\n",
    "\n",
    "    # Plot a grid\n",
    "    ax2.grid(True)\n",
    "\n",
    "    # Insert lines at x=0 and y=0\n",
    "    ax2.axhline(0.,linewidth=1, color = 'k', linestyle='dashed')\n",
    "    ax2.axvline(0.,linewidth=1, color = 'k', linestyle='dashed')\n",
    "    \n",
    "    # Plot function\n",
    "    ax2.plot(x,z,'b-')\n",
    "\n",
    "    plt.title(\"Instrumental function\", fontsize=14,color='black')\n",
    "\n",
    "    ax3  = fig.add_subplot(313, sharex=ax2) \n",
    "\n",
    "    # Axis ranges: mask out border effects\n",
    "    rmin = result.min()\n",
    "    rmax = result.max()\n",
    "    \n",
    "    ax3.axis([xrange[0]+boxwidth, xrange[1]-boxwidth, rmin-0.1*(rmax-rmin), rmax+0.1*(rmax-rmin)])\n",
    "\n",
    "    # Plot a grid\n",
    "    ax3.grid(True)\n",
    "\n",
    "    # Insert lines at x=0 and y=0\n",
    "    ax3.axhline(0.,linewidth=1, color = 'k', linestyle='dashed')\n",
    "    ax3.axvline(0.,linewidth=1, color = 'k', linestyle='dashed')\n",
    "    \n",
    "    # Plot function\n",
    "    plr1 =  int(xpoints*boxwidth/(xrange[1]-xrange[0]))\n",
    "    plr2 =  int(xpoints*(1-boxwidth/(xrange[1]-xrange[0])))\n",
    "    \n",
    "    ax3.plot(x[plr1:plr2],result[plr1:plr2],'b-')\n",
    "\n",
    "    plt.title(\"Image: original function filtered with instrumental function\", fontsize=14,color='black')\n",
    "    \n",
    "#    ax.text(-3.5, (np.sinc(0)-np.sinc(1.5))/2., r'$\\Pi(x) = \\left\\{ \\begin{array}{lll}0 & {\\rm for} & x < \\frac{1}{2} \\\\1 & {\\rm for} & -\\frac{1}{2} \\le x \\le +\\frac{1}{2}\\\\0 & {\\rm for} & x > \\frac{1}{2} \\end{array}\\right.$', fontsize = 14, horizontalalignment = 'left', verticalalignment = 'top', color = 'black')\n",
    "    \n",
    "# first two arguments give the position of the rectangle, third the period of the Triangle\n",
    "plotskewedgaussobs(0.0, 1.0, 0.01, 0.1, 0.2, 0.1)"
   ]
  },
  {
   "cell_type": "markdown",
   "metadata": {
    "collapsed": false
   },
   "source": [
    "Would it be the sensitivity at a certain position (in a certain direction) that the observational function reflects, like the beam pattern of a single dish, the convolution would *not* be  the appropriate operation to describe an observation. In that case (assuming real-valued functions), the cross-correlation would be the operation of choice."
   ]
  },
  {
   "cell_type": "markdown",
   "metadata": {},
   "source": [
    "***\n",
    "* Next [2.6 Cross-correlation and auto-correlation](2_6_cross_correlation_and_auto_correlation.ipynb)\n",
    "***"
   ]
  }
 ],
 "metadata": {
  "kernelspec": {
   "display_name": "Python 2",
   "language": "python",
   "name": "python2"
  },
  "language_info": {
   "codemirror_mode": {
    "name": "ipython",
    "version": 2
   },
   "file_extension": ".py",
   "mimetype": "text/x-python",
   "name": "python",
   "nbconvert_exporter": "python",
   "pygments_lexer": "ipython2",
   "version": "2.7.6"
  }
 },
 "nbformat": 4,
 "nbformat_minor": 0
}
