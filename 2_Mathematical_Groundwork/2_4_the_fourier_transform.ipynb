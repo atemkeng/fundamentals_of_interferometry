{
 "cells": [
  {
   "cell_type": "markdown",
   "metadata": {},
   "source": [
    "***\n",
    "\n",
    "* [Outline](../0_Introduction/0_introduction.ipynb)\n",
    "* [Glossary](../0_Introduction/1_glossary.ipynb)\n",
    "* [2. Mathematical Groundwork](2_0_introduction.ipynb)\n",
    "    * Previous: [2.3 Fourier Series](2_3_fourier_series.ipynb)\n",
    "    * Next: [2.5 Convolution](2_5_convolution.ipynb)\n",
    "\n",
    "***"
   ]
  },
  {
   "cell_type": "markdown",
   "metadata": {},
   "source": [
    "#### Chapter Editors\n",
    "\n",
    "#### Chapter Contributors\n",
    "\n",
    "* Gyula I. G. Józsa"
   ]
  },
  {
   "cell_type": "markdown",
   "metadata": {},
   "source": [
    "Import standard modules:"
   ]
  },
  {
   "cell_type": "code",
   "execution_count": null,
   "metadata": {
    "collapsed": true
   },
   "outputs": [],
   "source": [
    "import numpy as np\n",
    "import matplotlib.pyplot as plt\n",
    "%matplotlib inline"
   ]
  },
  {
   "cell_type": "markdown",
   "metadata": {},
   "source": [
    "Import section specific modules:"
   ]
  },
  {
   "cell_type": "code",
   "execution_count": null,
   "metadata": {
    "collapsed": true
   },
   "outputs": [],
   "source": [
    "pass"
   ]
  },
  {
   "cell_type": "markdown",
   "metadata": {},
   "source": [
    "## 2.4 The Fourier transform<a id='math:sec:the_fourier_transform'></a>"
   ]
  },
  {
   "cell_type": "markdown",
   "metadata": {},
   "source": [
    "The Fourier transform is one of the fundamental mathematical operations that is made use of in signal processing and interferomtry. It is introduced here."
   ]
  },
  {
   "cell_type": "markdown",
   "metadata": {},
   "source": [
    "1. [Definition of the Fourier transform](#math:sec:definition_of_the_fourier_transform)\n",
    "2. [Fourier transforms of odd and even functions](#math:sec:fourier_transforms_of_odd_and_even_functions)\n",
    "3. [Fourier transform of the Gaussian](#math:sec:fourier_transform_of_the_gaussian)\n",
    "4. [Fourier transform of Dirac's delta function](#math:sec:fourier_transform_of_diracs_delta_function)\n",
    "5. [Fourier transform of the comb function](#math:sec:fourier_transform_of_the_comb_function)\n",
    "6. [Fourier transform of the rectangle function](#math:sec:fourier_transform_of_the_rectangle_and_the_sinc_function)\n",
    "7. [Fourier transforms of real_valued_and_hermetian_functions](#math:sec:fourier_transforms_of_real_valued_and_hermetian_functions)\n",
    "8. [Fourier transforms of complex conjugate functions](#math:sec:fourier_transforms_of_complex_conjugate_functions)"
   ]
  },
  {
   "cell_type": "markdown",
   "metadata": {},
   "source": [
    "### 2.4.1 Definition of the Fourier transform and its inversion<a id='math:sec:definition_of_the_fourier_transform'></a>"
   ]
  },
  {
   "cell_type": "markdown",
   "metadata": {},
   "source": [
    "Let a function $f: \\mathbb{R} \\rightarrow \\mathbb{C}$ satisfy $\\int_{-\\infty}^{+\\infty} \\lvert f(x) \\rvert \\,dx$ (i.e. the function is Lesbeque-integrable). Then the Fourier transform $\\mathscr{F}$ is defined as:"
   ]
  },
  {
   "cell_type": "markdown",
   "metadata": {},
   "source": [
    "<a id='math:eq:4_001'></a><!--\\label{math:eq:4_001}-->$$\n",
    "\\mathscr{F}: [\\mathbb{R} \\rightarrow \\mathbb{C}] \\rightarrow [\\mathbb{R} \\rightarrow \\mathbb{C}]\\\\\n",
    "\\forall f:\\,\\mathbb{R} \\rightarrow \\mathbb{C}, \\int_{-\\infty}^{+\\infty} \\lvert f(x) \\rvert \\,dx \\in \\mathbb{R}\\\\\n",
    "\\mathscr{F}\\{f\\}(s) = \\int_{-\\infty}^{+\\infty}f(x)\\,e^{-\\imath 2\\pi xs}dx\n",
    "$$"
   ]
  },
  {
   "cell_type": "markdown",
   "metadata": {},
   "source": [
    "The Fourier transform is revertible with the inverse Fourier transform $\\mathscr{F}^{-1}$ defined as"
   ]
  },
  {
   "cell_type": "markdown",
   "metadata": {},
   "source": [
    "<a id='math:eq:4_002'></a><!--\\label{math:eq:4_002}-->$$\n",
    "\\forall f:\\,\\mathbb{R} \\rightarrow \\mathbb{C}, \\int_{-\\infty}^{+\\infty} \\lvert F(s) \\rvert \\,ds \\in \\mathbb{R}\\\\\n",
    "\\mathscr{F}^{-1}\\{F\\}(x) = \\int_{-\\infty}^{+\\infty}F(s)\\,e^{\\imath 2\\pi xs}ds\\\\\n",
    "\\Rightarrow\n",
    "\\mathscr{F}^{-1}\\{\\mathscr{F}{f}\\}(x) = f(x) \\land \\mathscr{F}\\{\\mathscr{F}^{-1}{F}\\}(s) = F(s)\\qquad .\n",
    "$$"
   ]
  },
  {
   "cell_type": "markdown",
   "metadata": {},
   "source": [
    "For the proof of above Fourier inversion therem we refer to e.g. <cite data-cite='wiki:fourier_inversion_theoreme'>this online article</cite> [CITE](https://en.wikipedia.org/wiki/Fourier_inversion_theorem). The Fourier transform is often referred to as the forward Fourier transform and the inverse Fourier transform is often referred to as the reverse Fourier transform."
   ]
  },
  {
   "cell_type": "markdown",
   "metadata": {},
   "source": [
    "Often the Fourier transform operator (and sloppily also its inverse) is abbrevated by a tilde"
   ]
  },
  {
   "cell_type": "markdown",
   "metadata": {},
   "source": [
    "<a id='math:eq:4_003'></a><!--\\label{math:eq:4_003}-->$$\n",
    "\\begin{align}\n",
    "\\mathscr{F}\\{f\\}(s) \\,&=\\, \\tilde{f}(s)\\\\\n",
    "\\mathscr{F}^{-1}\\{F\\}(x) \\,&= \\tilde{F}(x)\n",
    "\\end{align}\\qquad ,\n",
    "$$"
   ]
  },
  {
   "cell_type": "markdown",
   "metadata": {},
   "source": [
    "and the two domains are separated by using lower case letters in the original domain and capital letters in the fourier domain, the capitalized letter denoting the Fourier transform of the lower case letter. The fact that two functions are a Fourier pair is indicated by the $\\rightleftharpoons$ symbol"
   ]
  },
  {
   "cell_type": "markdown",
   "metadata": {},
   "source": [
    "<a id='math:eq:4_004'></a><!--\\label{math:eq:4_004}-->$$\n",
    "\\mathscr{F}\\{f\\}(s) = F(s) \\,\\Rightarrow\\, f \\rightleftharpoons F\\qquad .\n",
    "$$"
   ]
  },
  {
   "cell_type": "markdown",
   "metadata": {},
   "source": [
    "The inverse Fourier transform of a function is the reverse of the Fourier transform of a function and vice versa."
   ]
  },
  {
   "cell_type": "markdown",
   "metadata": {},
   "source": [
    "For any function $f$ define"
   ]
  },
  {
   "cell_type": "markdown",
   "metadata": {},
   "source": [
    "<a id='math:eq:4_003'></a><!--\\label{math:eq:4_003}-->$$\n",
    "f_{-}(x)=f(-x) \\qquad .\n",
    "$$"
   ]
  },
  {
   "cell_type": "markdown",
   "metadata": {},
   "source": [
    "Then"
   ]
  },
  {
   "cell_type": "markdown",
   "metadata": {},
   "source": [
    "<a id='math:eq:4_004'></a><!--\\label{math:eq:4_004}-->$$\n",
    "\\begin{align}\n",
    "\\mathscr{F}\\{f\\}(s)\\,&=\\, \\int_{-\\infty}^{+\\infty} f(x) e^{-\\imath xs}dx\\\\\n",
    "&\\underset{x^\\prime = -x}{=}\\,\\int_{+\\infty}^{-\\infty} f(-x^{\\prime}) e^{\\imath x^\\prime s} \\frac{dx}{dx^{\\prime}}\\,dx^\\prime\\\\\n",
    "& = \\, \\int_{+\\infty}^{-\\infty} f(-x^{\\prime}) e^{\\imath x^\\prime s}\\,dx^\\prime\\\\\n",
    "& = \\mathscr{F}^{-1}\\{f_-\\}(s)\n",
    "\\end{align}\n",
    "$$"
   ]
  },
  {
   "cell_type": "markdown",
   "metadata": {},
   "source": [
    "and"
   ]
  },
  {
   "cell_type": "markdown",
   "metadata": {},
   "source": [
    "<a id='math:eq:4_005'></a><!--\\label{math:eq:4_005}-->$$\n",
    "\\begin{align}\n",
    "\\mathscr{F}^{-1}\\{F\\}(x)\\,&=\\, \\int_{-\\infty}^{+\\infty} F(s) e^{\\imath sx}ds\\\\\n",
    "&\\underset{s^\\prime = -s}{=}\\,\\int_{+\\infty}^{-\\infty} F(-s^{\\prime}) e^{-\\imath s^\\prime x} \\frac{ds}{ds^{\\prime}}\\,ds^\\prime\\\\\n",
    "& = \\, \\int_{+\\infty}^{-\\infty} F(-s^{\\prime}) e^{\\imath s^\\prime x}\\,ds^\\prime\\\\\n",
    "& = \\mathscr{F}\\{F_-\\}(s)\n",
    "\\end{align}\\qquad .\n",
    "$$"
   ]
  },
  {
   "cell_type": "markdown",
   "metadata": {},
   "source": [
    "Therefore, a repeated application of the same transformation results in the reverse function"
   ]
  },
  {
   "cell_type": "markdown",
   "metadata": {},
   "source": [
    "<a id='math:eq:4_006'></a><!--\\label{math:eq:4_006}-->$$\n",
    "\\begin{align}\n",
    "\\mathscr{F}\\{\\mathscr{F}\\{f\\}\\}(x) \\,&=\\, f_-(x) \\,&=\\, f(-x)\\\\\n",
    "\\mathscr{F}^{-1}\\{\\mathscr{F}^{-1}\\{F\\}\\}(x) \\,&=\\, F_-(x) \\,&=\\, F(-x)\\\\\n",
    "\\end{align}\\qquad ,\n",
    "$$"
   ]
  },
  {
   "cell_type": "markdown",
   "metadata": {},
   "source": [
    "which is why one can in principle define the inverse Fourier transform as a triple forward Fourier transform. A corrolary is that a symmetric function with $f_- = f$ the Fourier transformation has the same effect as a backward transformation and for an antisymmetric function $f(x) = -f(-x)$ the result of a Fourier transformation is the negative of the reverse transformation. "
   ]
  },
  {
   "cell_type": "markdown",
   "metadata": {},
   "source": [
    "For a multi-dimensional function, the Fourier transform and its inverse are defined as"
   ]
  },
  {
   "cell_type": "markdown",
   "metadata": {},
   "source": [
    "<a id='math:eq:4_001'></a><!--\\label{math:eq:4_001}-->$$\n",
    "\\mathscr{F}: [\\mathbb{R}^n \\rightarrow \\mathbb{C}] \\rightarrow [\\mathbb{R}^n \\rightarrow \\mathbb{C}] \\,, \\quad n\\in \\mathbb{N}\\\\\n",
    "\\forall f:\\,\\mathbb{R}^n \\rightarrow \\mathbb{C}, \\int_{-\\infty}^{+\\infty} \\lvert f(x) \\rvert \\,d^nx = \\int_{-\\infty}^{+\\infty} \\ldots \\int_{-\\infty}^{+\\infty}\\lvert f(x) \\rvert \\,dx_1\\ldots dx_n\\in \\mathbb{R}\\\\\n",
    "\\begin{align}\n",
    "\\mathscr{F}\\{f\\}(s_1, \\ldots, s_n) \\,&=\\,\\mathscr{F}\\{f\\}({\\bf s})\\\\\n",
    "&=\\,\\int_{-\\infty}^{+\\infty}f(x)\\,e^{-\\imath 2\\pi( x_1s_1+\\ldots+x_ns_n)}d^nx\\\\\n",
    "&=\\,\\int_{-\\infty}^{+\\infty}f(x)\\,e^{-\\imath 2\\pi( {\\bf x}\\cdot{\\bf s})}d^nx\\\\\n",
    "\\mathscr{F}^{-1}\\{F\\}(x_1, \\ldots, x_n) \\,&=\\,\\mathscr{F}^{-1}\\{F\\}({\\bf x})\\\\\n",
    "&=\\, \\int_{-\\infty}^{+\\infty}F(s)\\,e^{\\imath 2\\pi (x_1s_1+\\ldots+x_ns_n)}d^ns\\\\\n",
    "&=\\, \\int_{-\\infty}^{+\\infty}F(s)\\,e^{\\imath 2\\pi ({\\bf x}\\cdot {\\bf s})}d^ns\\\\\n",
    "\\end{align}\n",
    "$$"
   ]
  },
  {
   "cell_type": "markdown",
   "metadata": {},
   "source": [
    "### 2.4.3 Fourier transform of the Gaussian<a id='math:sec:fourier_transform_of_the_gaussian'></a>\n",
    "Remember the Gaussian $f(x) = a e^{-\\frac{(x-\\mu)^2}{2\\sigma^2}}$ defined in Chapter [EXREF](2_2_important_functions.ipynb#math:sec:gaussian_function) <!--\\ref{math:sec:gaussian_function}-->. Its Fourier transform is"
   ]
  },
  {
   "cell_type": "markdown",
   "metadata": {},
   "source": [
    "<a id='math:eq:4_006'></a><!--\\label{math:eq:4_006}-->$$\n",
    "\\begin{align}\n",
    "\\mathscr{F}\\{f\\}(s) \\,&=\\, \\int_{-\\infty}^{+\\infty} a e^{-\\frac{(x-\\mu)^2}{2\\sigma^2}} e^{-\\imath 2\\pi x s} dx\\\\\n",
    "&=\\int_{-\\infty}^{+\\infty} a e^{-\\frac{(x-\\mu)^2}{2\\sigma^2}} e^{-\\imath 2\\pi (x-\\mu+\\mu) s} dx\\\\\n",
    "&\\underset{x^{\\prime} = x-\\mu}{=}\\,\\int_{-\\infty}^{+\\infty} a e^{-\\imath 2\\pi \\mu s} e^{-\\frac{{x^{\\prime}}^2}{2\\sigma^2}} e^{-\\imath 2\\pi x^\\prime s} dx^{\\prime}\\\\\n",
    "&=\\, a e^{-\\imath 2\\pi \\mu s} \\int_{-\\infty}^{+\\infty} e^{-\\left[\\left( \\frac{x^{\\prime}}{\\sqrt{2}\\sigma}+\\imath\\pi s\\sqrt{2}\\sigma\\right)^2+2\\pi^2s^2\\sigma^2\\right]}dx^{\\prime}\\\\\n",
    "&=\\, a e^{-\\imath 2\\pi \\mu s} e^{-2\\pi^2s^2\\sigma^2}\\int_{-\\infty}^{+\\infty} e^{-\\left( \\frac{x^{\\prime}}{\\sqrt{2}\\sigma}+\\imath\\pi s\\sqrt{2}\\sigma\\right)^2}dx^{\\prime}\\\\\n",
    "&\\underset{x^{\\prime\\prime} = \\,\\frac{x^{\\prime}}{\\sqrt{2}\\sigma}+\\imath\\pi s\\sqrt{2}\\sigma}{=}a e^{-\\imath 2\\pi \\mu s} e^{-2\\pi^2s^2\\sigma^2}\\int_{-\\infty}^{+\\infty}\\sqrt{2}\\sigma \\,e^{-{x^{\\prime\\prime}}^2}dx^{\\prime\\prime}\\\\\n",
    "&= e^{-\\imath 2\\pi \\mu s}\\, a\\sqrt{2\\pi}\\sigma\\,e^{-2\\pi^2s^2\\sigma^2}\n",
    "\\end{align}\n",
    "\\qquad .\n",
    "$$"
   ]
  },
  {
   "cell_type": "markdown",
   "metadata": {},
   "source": [
    "We made use of the fact that $\\int_{-\\infty}^{\\infty} e^{-x^2}dx = \\sqrt{\\pi}$, see chapter Chapter [EXREF](2_2_important_functions.ipynb#math:sec:gaussian_function) <!--\\ref{math:sec:gaussian_function}-->. For the normalised Gaussian this means"
   ]
  },
  {
   "cell_type": "markdown",
   "metadata": {},
   "source": [
    "<a id='math:eq:4_006'></a><!--\\label{math:eq:4_006}-->$$\n",
    "f(x) \\, = \\,\\frac{1}{\\sqrt{2\\pi}\\sigma} e^{-\\frac{x^2}{2\\sigma^2}}\\\\\n",
    "\\Rightarrow\\\\\n",
    "\\begin{align}\n",
    "\\mathscr{F}\\{f\\}(s) \\,&=\\, e^{-2\\pi^2\\sigma^2s^2}\\\\\n",
    "&\\underset{\\sigma_s\\,=\\,\\frac{1}{\\sqrt{2\\pi\\sigma}}}{=}\\, e^{-\\frac{s^2}{2\\sigma_s^2}}\\\\\n",
    "\\end{align}\n",
    "$$"
   ]
  },
  {
   "cell_type": "markdown",
   "metadata": {},
   "source": [
    "### 2.4.4 Fourier transform of Dirac's delta function<a id='math:sec:fourier_transform_of_diracs_delta_function'></a>"
   ]
  },
  {
   "cell_type": "markdown",
   "metadata": {},
   "source": [
    "The properties of the delta function $\\delta(x)$ are discussed in chapter [EXREF](2_2_important_functions.ipynb#math:sec:dirac_delta_function) <!--\\ref{math:sec:dirac_delta_function}-->. It's Fourier transform is given by:"
   ]
  },
  {
   "cell_type": "markdown",
   "metadata": {},
   "source": [
    "<a id='math:eq:4_006'></a><!--\\label{math:eq:4_006}-->$$\n",
    "\\begin{align}\n",
    "\\mathscr{F}\\{\\delta\\}(s) \\,&=\\, \\int_{-\\infty}^{+\\infty} \\delta(x)\\, e^{-\\imath 2\\pi x s} dx\\\\\n",
    "&=\\, e^{0}\\\\\n",
    "&=\\, 1\n",
    "\\end{align} \\qquad ,\n",
    "$$"
   ]
  },
  {
   "cell_type": "markdown",
   "metadata": {},
   "source": [
    "a constant (which is an even function), which means that the (inverse) Fourier transform of a constant is the delta-function. The shifted delta function has the Fourier transform"
   ]
  },
  {
   "cell_type": "markdown",
   "metadata": {},
   "source": [
    "<a id='math:eq:4_006'></a><!--\\label{math:eq:4_006}-->$$\n",
    "\\begin{align}\n",
    "\\mathscr{F}\\{\\delta_{x_0}\\}(s) \\,&=\\, \\int_{-\\infty}^{+\\infty} \\delta(x-x_0)\\, e^{-\\imath 2\\pi x s} dx\\\\\n",
    "&=\\, e^{-\\imath 2\\pi x_0 s}\n",
    "\\end{align} \\qquad .\n",
    "$$"
   ]
  },
  {
   "cell_type": "markdown",
   "metadata": {},
   "source": [
    "### 2.4.5 Fourier transform of the comb function<a id='math:sec:fourier_transform_of_the_comb_function'></a>"
   ]
  },
  {
   "cell_type": "markdown",
   "metadata": {},
   "source": [
    "If we remember the scaled shah function [EXREF](2_2_important_functions.ipynb#math:sec:shah_function) <!--\\ref{math:sec:shah_function}--> $III_{T^{-1}}(s)\\,=III\\left(\\frac{s}{T}\\right)\\,=\\sum_{m=-\\infty}^{+\\infty} T \\delta\\left(s-m T\\right)$ and its Fourier series $III_{T^{-1}}(s)\\,=\\sum_{m=-\\infty}^{+\\infty} e^{\\imath \\frac{2\\pi m}{T}s}$ ([EXREF](2_2_important_functions.ipynb#math:sec:shah_function) <!--\\ref{math:sec:shah_function}-->), the Fourier transform of the shah function is easily determined as"
   ]
  },
  {
   "cell_type": "markdown",
   "metadata": {},
   "source": [
    "<a id='math:eq:4_006'></a><!--\\label{math:eq:4_006}-->$$\n",
    "\\begin{align}\n",
    "\\mathscr{F}\\{III_T\\}(s) \\,&=\\, \\int_{-\\infty}^{+\\infty} \\left(\\sum_{m=-\\infty}^{+\\infty} \\frac{1}{T} \\delta\\left(x-\\frac{m}{T}\\right)\\right)\\, e^{-\\imath 2\\pi x s} dx\\\\\n",
    "&=\\, \\frac{1}{T}\\sum_{l=-\\infty}^{+\\infty} e^{-\\imath 2\\pi \\frac{m}{T} s}\\\\\n",
    "&\\underset{m^{\\prime} = -m}{=}\\, \\frac{1}{T}\\sum_{m^{\\prime}=-\\infty}^{+\\infty} e^{\\imath 2\\pi \\frac{m^{\\prime}}{T} s}\\\\\n",
    "&= \\frac{1}{T} III_{T^{-1}}(s)\n",
    "\\end{align} \\qquad .\n",
    "$$"
   ]
  },
  {
   "cell_type": "markdown",
   "metadata": {},
   "source": [
    "The Fourier transform of the shah function is hence a shah function with some normalisation. Since $III_T$ is an even function, we also have"
   ]
  },
  {
   "cell_type": "markdown",
   "metadata": {},
   "source": [
    "<a id='math:eq:4_007'></a><!--\\label{math:eq:4_007}-->$$\n",
    "\\mathscr{F}^{-1}\\{III_T\\}(x) \\,=\\,\\frac{1}{T} III_{T^{-1}}(x)\\qquad .\n",
    "$$"
   ]
  },
  {
   "cell_type": "markdown",
   "metadata": {},
   "source": [
    "### 2.4.6 Fourier transform of the rectangle and the sinc function<a id='math:sec:fourier_transform_of_the_rectangle_and_the_sinc_function'></a>"
   ]
  },
  {
   "cell_type": "markdown",
   "metadata": {},
   "source": [
    "Remember the rectangle function [EXREF](2_2_important_functions.ipynb#math:sec:Rectangle_function) <!--\\ref{math:sec:Rectangle_function}--> $\\Pi(x) = \n",
    "     \\left\\{ \\begin{array}{lll}\n",
    "    0 & {\\rm for} & x < -\\frac{1}{2} \\\\\n",
    "    1 & {\\rm for} & -\\frac{1}{2} \\le x \\le \\frac{1}{2} \\\\\n",
    "    0 & {\\rm for} & x > \\frac{1}{2} \\\\\n",
    "\\end{array}\\right. $. Then, also remembering Euler's formula [EXREF](2_1_complex_numbers.ipynb#math:sec:eulers_formula) <!--\\ref{math:sec:eulers_formula}-->, "
   ]
  },
  {
   "cell_type": "markdown",
   "metadata": {},
   "source": [
    "<a id='math:eq:4_008'></a><!--\\label{math:eq:4_008}-->$$\n",
    "\\begin{align}\n",
    "\\mathscr{F}\\{\\Pi\\}(s) \\,&=\\, \\int_{-\\frac{1}{2}}^{+\\frac{1}{2}}  e^{-\\imath 2\\pi x s}\\,dx\\\\\n",
    "&\\underset{s \\neq 0}{=}\\, \\left[\\frac{-1}{2\\pi\\imath s}e^{-\\imath 2\\pi x s}\\right]_{-\\frac{1}{2}}^{+\\frac{1}{2}}\\\\\n",
    "&=\\, \\frac{-1}{2\\pi\\imath s}\\left( e^{-\\imath \\pi s} - e^{+\\imath \\pi s} \\right)\\\\\n",
    "&=\\, \\frac{-1}{2\\pi\\imath s}\\left\\{\\left[ \\cos{(\\pi s)}-\\imath\\sin{(\\pi s)}\\right] - \\left[\\cos{(\\pi s)}+\\imath\\sin{(\\pi s)}\\right] \\right\\}\\\\\n",
    "&=\\,\\frac{\\sin{(\\pi s)}}{\\pi s}\\\\\n",
    "\\mathscr{F}\\{\\Pi\\}(s) \\,&=\\, \\int_{-\\frac{1}{2}}^{+\\frac{1}{2}}  e^{-\\imath 2\\pi x s}\\,dx\\\\\n",
    "&\\underset{s = 0}{=}\\, 1\\\\\n",
    "&\\Rightarrow\\\\\n",
    "\\mathscr{F}\\{\\Pi\\}(s) \\,&=\\,sinc(s)\n",
    "\\end{align} \\qquad .\n",
    "$$"
   ]
  },
  {
   "cell_type": "markdown",
   "metadata": {},
   "source": [
    "It's the sinc funtion! Again, because sinc- and rectangle function are even, we get"
   ]
  },
  {
   "cell_type": "markdown",
   "metadata": {},
   "source": [
    "<a id='math:eq:4_008'></a><!--\\label{math:eq:4_008}-->$$\n",
    "\\begin{align}\n",
    "\\mathscr{F}\\{\\Pi\\}(s) \\,&=\\,sinc(s)\\\\\n",
    "\\mathscr{F}^{-1}\\{\\Pi\\}(x) \\,&=\\,sinc(x)\\\\\n",
    "\\mathscr{F}\\{sinc\\}(s) \\,&=\\,\\Pi(s)\\\\\n",
    "\\mathscr{F}^{-1}\\{sinc\\}(x) \\,&=\\,\\Pi(x)\\\\\n",
    "\\end{align} \\qquad .\n",
    "$$"
   ]
  },
  {
   "cell_type": "markdown",
   "metadata": {},
   "source": [
    "With that, we've already walked a long way into signal processing."
   ]
  },
  {
   "cell_type": "markdown",
   "metadata": {},
   "source": [
    "### 2.4.7 Fourier transforms of real-valued and Hermetian functions<a id='math:sec:fourier_transforms_of_real_valued_and_hermetian_functions'></a>"
   ]
  },
  {
   "cell_type": "markdown",
   "metadata": {},
   "source": [
    "A complex-valued function $f: \\mathbb{R} \\rightarrow \\mathbb{C}$ is a Hermetian function, if, and only if"
   ]
  },
  {
   "cell_type": "markdown",
   "metadata": {},
   "source": [
    "<a id='math:eq:4_009'></a><!--\\label{math:eq:4_009}-->$$\n",
    "\\forall \\,x\\in\\mathbb{R}\\quad\n",
    "f^*(x) = f(-x)\n",
    "\\qquad .\n",
    "$$"
   ]
  },
  {
   "cell_type": "markdown",
   "metadata": {},
   "source": [
    "The (inverse) Fourier transform of a real-valued function is a Hermetian function (again making use of Euler's formula [EXREF](2_1_complex_numbers.ipynb#math:sec:eulers_formula) <!--\\ref{math:sec:eulers_formula}-->)):"
   ]
  },
  {
   "cell_type": "markdown",
   "metadata": {},
   "source": [
    "<a id='math:eq:4_009'></a><!--\\label{math:eq:4_009}-->$$\n",
    "f: \\mathbb{R} \\rightarrow \\mathbb{C}\\\\\n",
    "\\forall\\,x\\in\\mathbb{R} \\quad \\left[\\,f(x)\\in\\mathbb{R}\\quad\\Leftrightarrow \\quad f^*(x)=f(x)\\,\\right]\\\\\n",
    "\\begin{align}\n",
    "\\left(\\mathscr{F}\\{f\\}\\right)^*(s)\\,&=\\, \\left(\\int_{-\\infty}^{+\\infty}  f(x)\\,e^{-\\imath 2\\pi x s}\\,dx\\right)^*\\\\\n",
    "&=\\, \\int_{-\\infty}^{+\\infty}  f^*(x)\\,\\left[\\cos{( -2\\pi x s)}+\\imath\\sin{(- 2\\pi x s)}\\right]^*\\,dx\\\\\n",
    "&=\\, \\int_{-\\infty}^{+\\infty}  f^*(x)\\,\\left[\\cos{( 2\\pi x s)}-\\imath\\sin{( 2\\pi x s)}\\right]^*\\,dx\\\\\n",
    "&=\\, \\int_{-\\infty}^{+\\infty}  f(x)\\,\\left[\\cos{( 2\\pi x s)}+\\imath\\sin{( 2\\pi x s)}\\right]\\,dx\\\\\n",
    "&=\\, \\int_{-\\infty}^{+\\infty}  f(x)\\,\\left[\\cos{( 2\\pi x (-s))}-\\imath\\sin{( 2\\pi x (-s))}\\right]\\,dx\\\\\n",
    "&=\\,\\left(\\mathscr{F}\\{f\\}\\right)(-s)\n",
    "\\end{align}\n",
    "$$"
   ]
  },
  {
   "cell_type": "markdown",
   "metadata": {},
   "source": [
    "Likewise, the (inverse) Fourier transform of any Hermetian function is a real-valued function. The above also applies for multi-dimenstional Fourier transforms."
   ]
  },
  {
   "cell_type": "markdown",
   "metadata": {},
   "source": [
    "### 2.4.8 Fourier transforms of complex conjugate functions<a id='math:sec:fourier_transforms_of_complex_conjugate_functions'></a>"
   ]
  },
  {
   "cell_type": "markdown",
   "metadata": {},
   "source": [
    "The Fourier transform of a complex conjugate of the function is the complex conjugate of the reversed Fourier transform of the function."
   ]
  },
  {
   "cell_type": "markdown",
   "metadata": {},
   "source": [
    "<a id='math:eq:2_010'></a><!--\\label{math:eq:2_010}-->$$\n",
    "\\forall f,F,F_-:\\,\\mathbb{R} \\rightarrow \\mathbb{C}\\\\\n",
    "F_-(x) = F(-x) \\\\\n",
    "\\Rightarrow\\\\\n",
    "\\begin{split}\n",
    "\\mathscr{F}\\left\\{f^*\\right\\} \\,=\\, \\left(\\mathscr{F}\\left\\{f\\right\\}\\right)_-^*\n",
    "\\end{split}\n",
    "\\qquad ,\n",
    "$$"
   ]
  },
  {
   "cell_type": "markdown",
   "metadata": {},
   "source": [
    "because"
   ]
  },
  {
   "cell_type": "markdown",
   "metadata": {},
   "source": [
    "<a id='math:eq:2_011'></a><!--\\label{math:eq:7_011}-->$$\n",
    "\\begin{align}\n",
    "\\mathscr{F}\\left\\{f^*\\right\\}(s) \\,&= \\,\\int_{-\\infty}^{+\\infty}f^*(x)\\,e^{-\\imath 2\\pi xs}\\,dx\\\\\n",
    "&=\\,\\left[\\int_{-\\infty}^{+\\infty}f(x)\\,e^{\\imath 2\\pi xs}\\,dx\\right]^*\\\\\n",
    "&=\\,\\left[\\int_{-\\infty}^{+\\infty}f(x)\\,e^{-\\imath 2\\pi x(-s)}\\,dx\\right]^*\\\\\n",
    "&=\\,\\left(\\mathscr{F}\\left\\{f\\right\\}\\right)^*(-s)\\\\\n",
    "&=\\,\\left(\\mathscr{F}\\left\\{f\\right\\}\\right)_-^*(s)\\end{align}\\qquad .\n",
    "$$"
   ]
  },
  {
   "cell_type": "markdown",
   "metadata": {},
   "source": [
    "***\n",
    "* Next: [2.5 Convolution](2_5_convolution.ipynb)\n",
    "***"
   ]
  }
 ],
 "metadata": {
  "kernelspec": {
   "display_name": "Python 2",
   "language": "python",
   "name": "python2"
  },
  "language_info": {
   "codemirror_mode": {
    "name": "ipython",
    "version": 2
   },
   "file_extension": ".py",
   "mimetype": "text/x-python",
   "name": "python",
   "nbconvert_exporter": "python",
   "pygments_lexer": "ipython2",
   "version": "2.7.6"
  }
 },
 "nbformat": 4,
 "nbformat_minor": 0
}
