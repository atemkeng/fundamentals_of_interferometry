{
 "cells": [
  {
   "cell_type": "markdown",
   "metadata": {},
   "source": [
    "***\n",
    "\n",
    "* [Outline](../0_Introduction/0_introduction.ipynb)\n",
    "* [Glossary](../0_Introduction/1_glossary.ipynb)\n",
    "* [2. Mathematical Groundwork](2_0_introduction.ipynb)\n",
    "    * Previous: [2.6 Cross-correlation and auto-correlation](2_6_cross_correlation_and_auto_correlation.ipynb)\n",
    "    * Next: [2.8 The Discrete Fourier Transform (DFT) and the Fast Fourier Transform (FFT)](2_8_the_discrete_fourier_transform.ipynb)\n",
    "***"
   ]
  },
  {
   "cell_type": "markdown",
   "metadata": {},
   "source": [
    "#### Chapter Editors\n",
    "\n",
    "#### Chapter Contributors\n",
    "\n",
    "* Gyula I. G. Józsa"
   ]
  },
  {
   "cell_type": "markdown",
   "metadata": {},
   "source": [
    "Import standard modules:"
   ]
  },
  {
   "cell_type": "code",
   "execution_count": null,
   "metadata": {
    "collapsed": true
   },
   "outputs": [],
   "source": [
    "import numpy as np\n",
    "import matplotlib.pyplot as plt\n",
    "%matplotlib inline"
   ]
  },
  {
   "cell_type": "markdown",
   "metadata": {},
   "source": [
    "Import section specific modules:"
   ]
  },
  {
   "cell_type": "code",
   "execution_count": null,
   "metadata": {
    "collapsed": true
   },
   "outputs": [],
   "source": [
    "pass"
   ]
  },
  {
   "cell_type": "markdown",
   "metadata": {},
   "source": [
    "## 2.7. Fourier Theorems<a id='math:sec:fourier_theorems'></a>"
   ]
  },
  {
   "cell_type": "markdown",
   "metadata": {},
   "source": [
    "As Fourier theorems we denote a set of identities that will serve as an important tool box for the rest of the course. While they may be presented without much decoration at the beginning of our introduction, we hope that the reader will eventually realise their tremendous impact not only in radio interferometry (if you decide to read these chapters carefully, we assume that you have not yet been in touch with the Fourier transform much). In fact, would Fourier have lived a bit after the first dynamite explosion, he would probably have received 2-3 Nobel prices in a row. For all functions $ f:\\,\\mathbb{R} \\rightarrow \\mathbb{C} $ we assume that they are Lesbeque-integrable, i.e. $\\int_{-\\infty}^{+\\infty} \\lvert f(x) \\rvert \\,dx \\in \\mathbb{R}$ and that hence their Fourier transform \n",
    "$\\mathscr{F}\\{f\\} = F$ exists. The Fourier transform has been introduced in chapter [EXREF](2_4_the_fourier_transform.ipynb#math:sec:the_fourier_transform) <!--\\ref{math:sec:the_fourier_transform}-->. Functions in the \"Fourier domain\" are denoted by capital letters, funcions in the \"original domain\" by lower case letters."
   ]
  },
  {
   "cell_type": "markdown",
   "metadata": {},
   "source": [
    "1. [Linearity of the Fourier transform](#math:sec:linearity_of_the_fourier_transform)\n",
    "2. [Similarity theorem](#math:sec:similarity_theorem)\n",
    "3. [Shift theorem](#math:sec:shift_theorem)\n",
    "4. [Convolution theorem](#math:sec:convolution_theorem)\n",
    "5. [Modulation theorem](#math:sec:modulation_theorem)\n",
    "6. [Power theorem](#math:sec:power_theorem)\n",
    "7. [Rayleigh theorem](#math:sec:rayleigh_theorem)\n",
    "8. [Cross-correlation theorem](#math:sec:cross_correlation_theorem)\n",
    "9. [Auto-correlation theorem (Wiener-Khinchin theorem)](#math:sec:auto_correlation_theorem_wiener_khinchin_theorem)\n",
    "10. [Derivative theorem](#math:sec:derivative_theorem)\n"
   ]
  },
  {
   "cell_type": "markdown",
   "metadata": {},
   "source": [
    "### 2.7.1. Linearity of the Fourier transform<a id='math:sec:linearity_of_the_fourier_transform'></a>"
   ]
  },
  {
   "cell_type": "markdown",
   "metadata": {},
   "source": [
    "The Fourier transform is linear with respect to addition and with respect to multiplication with a complex number."
   ]
  },
  {
   "cell_type": "markdown",
   "metadata": {},
   "source": [
    "<a id='math:eq:7_001'></a><!--\\label{math:eq:7_001}-->$$\n",
    "\\forall f:\\,\\mathbb{R} \\rightarrow \\mathbb{C}, \\quad z \\in \\mathbb{C}\\\\\n",
    "\\mathscr{F}\\{zf\\} \\,=\\, z\\mathscr{F}\\{f\\}\\qquad ,\n",
    "$$"
   ]
  },
  {
   "cell_type": "markdown",
   "metadata": {},
   "source": [
    "because"
   ]
  },
  {
   "cell_type": "markdown",
   "metadata": {},
   "source": [
    "<a id='math:eq:7_002'></a><!--\\label{math:eq:7_002}-->$$\n",
    "\\begin{align}\n",
    "\\mathscr{F}\\{zf\\}(s) \\,&=\\, \\int_{-\\infty}^{+\\infty}zf(x)\\,e^{-\\imath 2\\pi xs}dx\\\\\n",
    "&=\\,z\\int_{-\\infty}^{+\\infty}f(x)\\,e^{-\\imath 2\\pi xs}dx\n",
    "\\end{align}\\qquad .\n",
    "$$"
   ]
  },
  {
   "cell_type": "markdown",
   "metadata": {},
   "source": [
    "<a id='math:eq:7_003'></a><!--\\label{math:eq:7_003}-->$$\n",
    "\\forall f,g:\\,\\mathbb{R} \\rightarrow \\mathbb{C}\\\\\n",
    "\\mathscr{F}\\{f + g\\} \\,=\\, \\mathscr{F}\\{f\\} + \\mathscr{F}\\{g\\} \\qquad ,\n",
    "$$"
   ]
  },
  {
   "cell_type": "markdown",
   "metadata": {},
   "source": [
    "because"
   ]
  },
  {
   "cell_type": "markdown",
   "metadata": {},
   "source": [
    "<a id='math:eq:7_003'></a><!--\\label{math:eq:7_003}-->$$\n",
    "\\begin{align}\n",
    "\\mathscr{F}\\{f + g\\}(s) \\,&= \\,\\int_{-\\infty}^{+\\infty}f(x)+g(x)\\,e^{-\\imath 2\\pi xs}dx\\\\\n",
    "&=\\int_{-\\infty}^{+\\infty}f(x)\\,e^{-\\imath 2\\pi xs}dx + \\int_{-\\infty}^{+\\infty}g(x)\\,e^{-\\imath 2\\pi xs}dx\n",
    "\\end{align}\\qquad .\n",
    "$$"
   ]
  },
  {
   "cell_type": "markdown",
   "metadata": {},
   "source": [
    "The same is true for the inverse Fourier transform and for the multi-dimensional Fourier transform. We leave the proof to the reader."
   ]
  },
  {
   "cell_type": "markdown",
   "metadata": {},
   "source": [
    "### 2.7.2. Similarity theorem<a id='math:sec:similarity_theorem'></a>"
   ]
  },
  {
   "cell_type": "markdown",
   "metadata": {},
   "source": [
    "The Fourier transform $\\mathscr{F}\\{f_{\\rm c}\\}$ of a compressed function $f_{\\rm c} = f(ax)$ is with respect to the Fourier transform of the original function $\\mathscr{F}\\{f\\}$ expanded by the inverse of the compression factor $a$ and normalised by its absolute value."
   ]
  },
  {
   "cell_type": "markdown",
   "metadata": {},
   "source": [
    " <a id='math:eq:7_004'></a><!--\\label{math:eq:7_004}-->$$\n",
    "\\forall f, f_{\\rm c}:\\,\\mathbb{R} \\rightarrow \\mathbb{C}, \\quad a,x,s \\in \\mathbb{R}\\\\\n",
    "f_{\\rm c}(x) \\,= \\,f(ax)\\\\\n",
    "\\Rightarrow\\\\\n",
    "\\mathscr{F}\\{f_{\\rm c}\\}(s) = \\frac{1}{\\lvert a\\rvert }\\mathscr{F}\\{f\\}(\\frac{s}{a})\\qquad ,\n",
    "$$"
   ]
  },
  {
   "cell_type": "markdown",
   "metadata": {},
   "source": [
    "because"
   ]
  },
  {
   "cell_type": "markdown",
   "metadata": {},
   "source": [
    "<a id='math:eq:7_005'></a><!--\\label{math:eq:7_005}-->$$\n",
    "\\begin{align}\n",
    "\\mathscr{F}\\{f_{\\rm c}\\}(s) \\,&= \\,\\int_{-\\infty}^{+\\infty}f_{\\rm c}(x)\\,e^{-\\imath 2\\pi xs}\\,dx\\\\\n",
    "&= \\,\\int_{-\\infty}^{+\\infty}f(ax)\\,e^{-\\imath 2\\pi xs}\\,dx\\\\\n",
    "&\\underset{x^\\prime = ax}{=}\\,\\int_{-sign(a)\\infty}^{+sign(a)\\infty}f(x^{\\prime})\\,e^{-\\imath 2\\pi \\frac{x^\\prime}{a} s}\\frac{dx}{dx^\\prime}\\,dx^\\prime\\\\\n",
    "&=\\,\\frac{1}{\\lvert a \\rvert}\\int_{-\\infty}^{+\\infty}f(x^\\prime)\\,e^{-\\imath 2\\pi x^\\prime \\frac{s}{a}}\\,dx\\\\\n",
    "&=\\, \\frac{1}{\\lvert a \\rvert}\\mathscr{F}\\{f\\}(\\frac{s}{a})\n",
    "\\end{align}\\qquad .\n",
    "$$"
   ]
  },
  {
   "cell_type": "markdown",
   "metadata": {},
   "source": [
    "The same is true for the inverse Fourier transform and for the multi-dimensional Fourier transform. We leave the proof to the reader."
   ]
  },
  {
   "cell_type": "markdown",
   "metadata": {},
   "source": [
    "### 2.7.3. Shift theorem<a id='math:sec:shift_theorem'></a>"
   ]
  },
  {
   "cell_type": "markdown",
   "metadata": {},
   "source": [
    "The Fourier transform $\\mathscr{F}\\{f_{\\rm t}\\}$ of a shifted function $f_{\\rm t} = f(x-a)$ is with respect to the Fourier transform of the original function $\\mathscr{F}\\{f\\}$ multiplied by the phase factor $e^{-2\\pi\\imath a s}$."
   ]
  },
  {
   "cell_type": "markdown",
   "metadata": {},
   "source": [
    "<a id='math:eq:7_006'></a><!--\\label{math:eq:7_006}-->$$\n",
    "\\forall f, f_{\\rm t}:\\,\\mathbb{R} \\rightarrow \\mathbb{C}, \\quad a,x,s \\in \\mathbb{R}\\\\\n",
    "f_{\\rm t}(x) \\,= \\,f(x-a)\\\\\n",
    "\\Rightarrow\\\\\n",
    "\\mathscr{F}\\{f_{\\rm t}\\}(s) \\,=\\, e^{-2\\pi\\imath a s}\\mathscr{F}\\{f\\}(s)\\qquad ,\n",
    "$$"
   ]
  },
  {
   "cell_type": "markdown",
   "metadata": {},
   "source": [
    "because"
   ]
  },
  {
   "cell_type": "markdown",
   "metadata": {},
   "source": [
    "<a id='math:eq:7_007'></a><!--\\label{math:eq:7_007}-->$$\n",
    "\\begin{align}\n",
    "\\mathscr{F}\\{f_{\\rm t}\\}(s) \\,&= \\,\\int_{-\\infty}^{+\\infty}f_{\\rm t}(x)\\,e^{-\\imath 2\\pi xs}\\,dx\\\\\n",
    "&= \\,\\int_{-\\infty}^{+\\infty}f(x-a)\\,e^{-\\imath 2\\pi xs}\\,dx\\\\\n",
    "&\\underset{x^\\prime = x-a}{=}\\,\\int_{-\\infty}^{+\\infty}f(x^{\\prime})\\,e^{-\\imath 2\\pi (x^\\prime + a) s}\\frac{dx}{dx^\\prime}\\,dx^\\prime\\\\\n",
    "&=\\,e^{-\\imath 2\\pi a s}\\int_{-\\infty}^{+\\infty}f(x^\\prime)\\,e^{-\\imath 2\\pi x^\\prime s}\\,dx\\\\\n",
    "&=\\, e^{-\\imath 2\\pi a s}\\,\\mathscr{F}\\{f\\}(s)\n",
    "\\end{align}\\qquad .\n",
    "$$"
   ]
  },
  {
   "cell_type": "markdown",
   "metadata": {},
   "source": [
    "The same is true for the inverse Fourier transform with a change of sign"
   ]
  },
  {
   "cell_type": "markdown",
   "metadata": {},
   "source": [
    "<a id='math:eq:7_008'></a><!--\\label{math:eq:7_008}-->$$\n",
    "\\forall F, F_{\\rm t}:\\,\\mathbb{R} \\rightarrow \\mathbb{C}, \\quad a,x,s \\in \\mathbb{R}\\\\\n",
    "F_{\\rm t}(s) \\,= \\,F(s-a)\\\\\n",
    "\\Rightarrow\\\\\n",
    "\\mathscr{F}^{-1}\\{F_{\\rm t}\\}(x) \\,=\\, e^{2\\pi\\imath a x}\\mathscr{F}^{-1}\\{F\\}(x)\\qquad ,\n",
    "$$"
   ]
  },
  {
   "cell_type": "markdown",
   "metadata": {},
   "source": [
    "and for the multi-dimensional Fourier transform. We leave the proof to the reader. Thus we have also"
   ]
  },
  {
   "cell_type": "markdown",
   "metadata": {},
   "source": [
    "<a id='math:eq:7_009'></a><!--\\label{math:eq:7_009}-->$$\n",
    "\\forall f:\\,\\mathbb{R} \\rightarrow \\mathbb{C}, \\quad a,x,s \\in \\mathbb{R}\\\\\n",
    "g(x) \\,= \\,e^{\\imath 2\\pi a x}\\\\\n",
    "\\Rightarrow\\\\\n",
    "\\mathscr{F}\\{g f\\}(s) \\,=\\, \\mathscr{F}\\{f\\}(s-a)\\qquad ,\n",
    "$$"
   ]
  },
  {
   "cell_type": "markdown",
   "metadata": {},
   "source": [
    "because"
   ]
  },
  {
   "cell_type": "markdown",
   "metadata": {},
   "source": [
    "<a id='math:eq:7_010'></a><!--\\label{math:eq:7_010}-->$$\n",
    "F_t (s) = \\mathscr{F}\\left\\{f\\right\\}(s-a)\\\\\n",
    "\\Rightarrow\\\\\n",
    "\\begin{split}\n",
    "F_t \\,&=\\, \\mathscr{F}\\left\\{\\mathscr{F}^{-1}\\{F_{\\rm t}\\}\\right\\} \\\\\n",
    "&=\\, \\mathscr{F}\\left\\{g\\mathscr{F}^{-1}\\{\\mathscr{F}\\left\\{f\\right\\}\\}\\right\\}\\\\\n",
    "&=\\,\\mathscr{F}\\left\\{gf\\right\\}\\\\\n",
    "\\end{split}\\qquad ,\n",
    "$$"
   ]
  },
  {
   "cell_type": "markdown",
   "metadata": {},
   "source": [
    "which again is also valid for the inverse Fourier transform"
   ]
  },
  {
   "cell_type": "markdown",
   "metadata": {},
   "source": [
    "<a id='math:eq:7_011'></a><!--\\label{math:eq:7_011}-->$$\n",
    "\\forall F:\\,\\mathbb{R} \\rightarrow \\mathbb{C}, \\quad a,x,s \\in \\mathbb{R}\\\\\n",
    "G(x) \\,= \\,e^{-\\imath 2\\pi a s}\\\\\n",
    "\\Rightarrow\\\\\n",
    "\\mathscr{F}^{-1}\\{G F\\}(x) \\,=\\, \\mathscr{F}^{-1}\\{f\\}(s-a)\\qquad .\n",
    "$$"
   ]
  },
  {
   "cell_type": "markdown",
   "metadata": {},
   "source": [
    "### 2.7.4. Convolution theorem<a id='math:sec:convolution_theorem'></a>"
   ]
  },
  {
   "cell_type": "markdown",
   "metadata": {},
   "source": [
    "The Fourier transform of the convolution of two functions is the product of the Fourier transforms of the single functions."
   ]
  },
  {
   "cell_type": "markdown",
   "metadata": {},
   "source": [
    "<a id='math:eq:7_012'></a><!--\\label{math:eq:7_012}-->$$\n",
    "\\forall f,g:\\,\\mathbb{R} \\rightarrow \\mathbb{C}\\\\\n",
    "\\mathscr{F}\\{f \\circ g\\} \\,=\\, \\mathscr{F}\\{f\\} \\cdot \\mathscr{F}\\{g\\} \\qquad ,\n",
    "$$"
   ]
  },
  {
   "cell_type": "markdown",
   "metadata": {},
   "source": [
    "because (use the shift theorem)"
   ]
  },
  {
   "cell_type": "markdown",
   "metadata": {},
   "source": [
    "<a id='math:eq:7_013'></a><!--\\label{math:eq:7_013}-->$$\n",
    "\\begin{align}\n",
    "\\mathscr{F}\\{f \\circ g\\}(s) \\,&= \\,\\int_{-\\infty}^{+\\infty}(f\\circ g)(x)\\,e^{-\\imath 2\\pi xs}\\,dx\\\\\n",
    "&=\\,\\int_{-\\infty}^{+\\infty}\\int_{-\\infty}^{+\\infty}f(x-t)g(t)\\,dt\\,e^{-\\imath 2\\pi xs}\\,dx\\\\\n",
    "&=\\,\\int_{-\\infty}^{+\\infty}\\int_{-\\infty}^{+\\infty}f(x-t)e^{-\\imath 2\\pi xs}\\,dx\\,g(t)\\,dt\\,\\\\\n",
    "&=\\,\\int_{-\\infty}^{+\\infty}e^{-\\imath 2\\pi ts}\\,\\mathscr{F}\\{f\\}(s)\\,g(t)\\,dt\\,\\\\\n",
    "&=\\,\\mathscr{F}\\{f\\}(s)\\,\\int_{-\\infty}^{+\\infty}g(t)\\,e^{-\\imath 2\\pi ts}\\,dt\\,\\\\\n",
    "&=\\, \\mathscr{F}\\{f\\}(s) \\cdot \\mathscr{F}\\{g\\}(s)\\\\\n",
    "&=\\, \\left(\\mathscr{F}\\{f\\} \\cdot \\mathscr{F}\\{g\\}\\right)(s)\n",
    "\\end{align}\\qquad .\n",
    "$$"
   ]
  },
  {
   "cell_type": "markdown",
   "metadata": {},
   "source": [
    "The same is true for the inverse Fourier transform:"
   ]
  },
  {
   "cell_type": "markdown",
   "metadata": {},
   "source": [
    "<a id='math:eq:7_014'></a><!--\\label{math:eq:7_014}-->$$\n",
    "\\forall F,G:\\,\\mathbb{R} \\rightarrow \\mathbb{C}\\\\\n",
    "\\mathscr{F}^{-1}\\{F \\circ G\\} \\,=\\, \\mathscr{F}^{-1}\\{F\\} \\cdot \\mathscr{F}^{-1}\\{G\\}  \\qquad .\n",
    "$$"
   ]
  },
  {
   "cell_type": "markdown",
   "metadata": {},
   "source": [
    "The proof is the same. Also the proof for the multi-dimensional case is left to the user. With that it follows that"
   ]
  },
  {
   "cell_type": "markdown",
   "metadata": {},
   "source": [
    "<a id='math:eq:7_015'></a><!--\\label{math:eq:7_015}-->$$\n",
    "\\forall f,g:\\,\\mathbb{R} \\rightarrow \\mathbb{C}\\\\\n",
    "\\mathscr{F}\\{f \\cdot g\\} \\,=\\, \\mathscr{F}\\{f\\} \\circ \\mathscr{F}\\{g\\} \\qquad ,\n",
    "$$"
   ]
  },
  {
   "cell_type": "markdown",
   "metadata": {},
   "source": [
    "because"
   ]
  },
  {
   "cell_type": "markdown",
   "metadata": {},
   "source": [
    "<a id='math:eq:7_016'></a><!--\\label{math:eq:7_016}-->$$\n",
    "\\begin{split}\n",
    "\\mathscr{F}\\{f\\} \\circ \\mathscr{F}\\{g\\} \\,&=\\,\\mathscr{F}\\left\\{ \\mathscr{F}^{-1}\\left\\{ \\mathscr{F}\\{f\\} \\circ \\mathscr{F}\\left\\{g\\right\\}\\right\\}\\right\\}\\\\\n",
    "&=\\, \\mathscr{F}\\left\\{  \\mathscr{F}^{-1}\\left\\{ \\mathscr{F}\\left\\{f\\right\\}\\right\\}\\cdot\\mathscr{F}^{-1}\\left\\{ \\mathscr{F}\\left\\{g\\right\\}\\right\\}\\right\\}\\\\\n",
    "&=\\, \\mathscr{F}\\left\\{f\\cdot g\\right\\}\n",
    "\\end{split}\\qquad .\n",
    "$$"
   ]
  },
  {
   "cell_type": "markdown",
   "metadata": {},
   "source": [
    "It is also true that"
   ]
  },
  {
   "cell_type": "markdown",
   "metadata": {},
   "source": [
    "<a id='math:eq:7_017'></a><!--\\label{math:eq:7_017}-->$$\n",
    "\\forall F,G:\\,\\mathbb{R} \\rightarrow \\mathbb{C}\\\\\n",
    "\\mathscr{F}^{-1}\\{F \\cdot G\\} \\,=\\, \\mathscr{F}\\{F\\} \\circ \\mathscr{F}\\{G\\} \\qquad ,\n",
    "$$"
   ]
  },
  {
   "cell_type": "markdown",
   "metadata": {},
   "source": [
    "while we leave the proof for this and for the multi-dimensional case to the reader."
   ]
  },
  {
   "cell_type": "markdown",
   "metadata": {},
   "source": [
    "### 2.7.5. Modulation theorem<a id='math:sec:rayleigh_theorem'></a>"
   ]
  },
  {
   "cell_type": "markdown",
   "metadata": {},
   "source": [
    "<a id='math:eq:7_018'></a><!--\\label{math:eq:7_018}-->$$\n",
    "\\forall f:\\,\\mathbb{R} \\rightarrow \\mathbb{C}\\\\\n",
    "g(x) \\,= \\,\\cos{(2\\pi s_0 x)}\\\\\n",
    "\\Rightarrow\\\\\n",
    "\\mathscr{F}\\{g\\cdot f\\}(s) \\,=\\, \\frac{1}{2}\\left[\\mathscr{F}\\left\\{f\\right\\}(s-s_0)+\\mathscr{F}\\left\\{f\\right\\}(s+s_0)\\right]\\qquad ,\n",
    "$$"
   ]
  },
  {
   "cell_type": "markdown",
   "metadata": {},
   "source": [
    "because (Euler equations [EXREF](2_1_complex_numbers.ipynb#math:sec:eulers_formula) <!--\\ref{math:sec:eulers_formula}-->, linearity [INREF](#math:sec:linearity_of_the_fourier_transform)<!--\\ref{math:sec:linearity_of_the_fourier_transform}-->, and shift theorem [INREF](#math:sec:shift_theorem)<!--\\ref{math:sec:shift_theorem}-->)"
   ]
  },
  {
   "cell_type": "markdown",
   "metadata": {},
   "source": [
    "<a id='math:eq:7_019'></a><!--\\label{math:eq:7_019}-->$$\n",
    "\\begin{split}\n",
    "g(x)\\,&=\\,\\cos{(2\\pi s_0 x)} \\\\\n",
    "&=\\, \\frac{1}{2}\\left(\\,e^{\\imath 2\\pi s_0 x}+e^{-\\imath 2\\pi s_0 x}\\right)\\\\\n",
    "&=\\,\\frac{1}{2}\\left(g_1(x)+g_2(x)\\right)\n",
    "\\end{split}\\\\\n",
    "\\begin{split}\n",
    "\\mathscr{F}\\{g\\cdot f\\}(s) \\,&=\\, \\frac{1}{2}\\left[\\mathscr{F}\\left\\{g_1\\cdot f\\right\\}+\\mathscr{F}\\left\\{g_2\\cdot f\\right\\}\\right]\\\\\n",
    "&=\\, \\frac{1}{2}\\left[\\mathscr{F}\\left\\{f\\right\\}(s-s_0)+\\mathscr{F}\\left\\{f\\right\\}(s+s_0)\\right]\n",
    "\\end{split}\\qquad .\n",
    "$$"
   ]
  },
  {
   "cell_type": "markdown",
   "metadata": {},
   "source": [
    "Occasionally, the inverse version of the shift theorem [INREF](#math:sec:shift_theorem)<!--\\ref{math:sec:shift_theorem}--> is also called the modulation theorem. As both are pretty much interlinked, this is to some extent justified. But here, we will call above version the shift theorem."
   ]
  },
  {
   "cell_type": "markdown",
   "metadata": {},
   "source": [
    "### 2.7.6. Power theorem<a id='math:sec:power_theorem'></a>"
   ]
  },
  {
   "cell_type": "markdown",
   "metadata": {},
   "source": [
    "<a id='math:eq:7_020'></a><!--\\label{math:eq:7_020}-->$$\n",
    "\\forall f:\\,\\mathbb{R} \\rightarrow \\mathbb{C}\\\\\n",
    "\\int_{-\\infty}^{+\\infty}f(x)\\,g^*(x) \\,dx \\,=\\, \\int_{-\\infty}^{+\\infty}\\mathscr{F}\\left\\{f\\right\\}(s)\\,\\left(\\mathscr{F}\\left\\{g\\right\\}\\right)^*(s)\\,ds\\qquad ,\n",
    "$$"
   ]
  },
  {
   "cell_type": "markdown",
   "metadata": {},
   "source": [
    "because (see Fourier transform of complex conjugate functions [EXREF](2_4_the_fourier_transform.ipynb#math:sec:fourier_transforms_of_complex_conjugate_functions) <!--\\ref{math:sec:fourier_transforms_of_complex_conjugate_functions}-->)"
   ]
  },
  {
   "cell_type": "markdown",
   "metadata": {},
   "source": [
    "<a id='math:eq:7_021'></a><!--\\label{math:eq:7_021}-->$$\n",
    "\\forall F:\\,\\mathbb{R} \\rightarrow \\mathbb{C}\\\\\n",
    "F_-(x) \\underset{\\rm def}{=} F(-x) \\\\\n",
    "\\begin{split}\n",
    "\\mathscr{F}\\left\\{fg^*\\right\\}(s) \\,&=\\,\\int_{-\\infty}^{+\\infty}f(x)\\,g^*(x)\\, e^{-\\imath 2\\pi s x}\\,dx\\\\\n",
    "&=\\,\\mathscr{F}\\left\\{f\\right\\}\\circ\\mathscr{F}\\left\\{g^*\\right\\}(s)\\\\\n",
    "&=\\,\\mathscr{F}\\left\\{f\\right\\}\\circ\\left(\\mathscr{F}\\left\\{g\\right\\}\\right)_-^*(s)\n",
    "\\end{split}\\\\\n",
    "\\Rightarrow\\\\\n",
    "\\begin{split}\n",
    "\\int_{-\\infty}^{+\\infty}f(x)\\,g^*(x)\\,dx \\,&=\\,\\int_{-\\infty}^{+\\infty}f(x)\\,g^*(x)\\, e^{-\\imath 2\\pi \\cdot 0\\cdot x}\\,dx\\\\\n",
    "&=\\,\\mathscr{F}\\left\\{fg^*\\right\\}(0)\\\\\n",
    "&=\\,\\mathscr{F}\\left\\{f\\right\\}\\circ\\left(\\mathscr{F}\\left\\{g\\right\\}\\right)_-^*(0)\\\\\n",
    "&=\\int_{-\\infty}^{+\\infty}\\mathscr{F}\\left\\{f\\right\\}(s)\\,\\left(\\mathscr{F}\\left\\{g\\right\\}\\right)_-^*(0-s)\\,ds\\\\\n",
    "&=\\int_{-\\infty}^{+\\infty}\\mathscr{F}\\left\\{f\\right\\}(s)\\,\\left(\\mathscr{F}\\left\\{g\\right\\}\\right)^*(s)\\,ds\n",
    "\\end{split}\n",
    "\\qquad .\n",
    "$$"
   ]
  },
  {
   "cell_type": "markdown",
   "metadata": {},
   "source": [
    "### 2.7.7. Rayleigh theorem<a id='math:sec:rayleigh_theorem'></a>"
   ]
  },
  {
   "cell_type": "markdown",
   "metadata": {},
   "source": [
    "The integral of the square of the absolute value of a function is the integral of the square of the absolute value of its Fourier transform."
   ]
  },
  {
   "cell_type": "markdown",
   "metadata": {},
   "source": [
    "<a id='math:eq:7_022'></a><!--\\label{math:eq:7_022}-->$$\n",
    "\\forall f:\\,\\mathbb{R} \\rightarrow \\mathbb{C}\\\\\n",
    "\\int_{-\\infty}^{+\\infty}\\lvert f(x) \\rvert^2\\,dx \\,=\\, \\int_{-\\infty}^{+\\infty}\\lvert \\mathscr{F}\\left\\{f\\right\\}(s) \\rvert^2\\,ds\\qquad ,\n",
    "$$"
   ]
  },
  {
   "cell_type": "markdown",
   "metadata": {},
   "source": [
    "because this is just a special case of the power theorem ([INREF](#math:sec:power_theorem)<!--\\ref{math:sec:power_theorem}-->)"
   ]
  },
  {
   "cell_type": "markdown",
   "metadata": {},
   "source": [
    "<a id='math:eq:7_023'></a><!--\\label{math:eq:7_023}-->$$\n",
    "\\begin{split}\n",
    "\\int_{-\\infty}^{+\\infty}\\lvert f(x) \\rvert^2\\,dx \\,&=\\, \\int_{-\\infty}^{+\\infty}f(x) \\,f^*(x) \\,dx\\\\\n",
    "&=\\, \\int_{-\\infty}^{+\\infty}\\mathscr{F}\\left\\{f\\right\\}(s) \\, \\left(\\mathscr{F}\\left\\{f\\right\\}\\right)^*(s)\\,ds\\\\\n",
    "&=\\, \\int_{-\\infty}^{+\\infty}\\lvert \\mathscr{F}\\left\\{f\\right\\}(s) \\rvert^2\\,ds\n",
    "\\end{split}\\qquad .\n",
    "$$"
   ]
  },
  {
   "cell_type": "markdown",
   "metadata": {},
   "source": [
    "### 2.7.8. Cross-correlation theorem<a id='#math:sec:cross_correlation_theorem'></a>"
   ]
  },
  {
   "cell_type": "markdown",
   "metadata": {},
   "source": [
    "The Fourier transform of the cross-correlation function [EXREF](2_6_cross_correlation_and_auto_correlation.ipynb#math:sec:cross_correlation) <!--\\ref{math:sec:cross_correlation}--> of the function $f$ with the function $g$ is the product of the Fourier transform $\\mathscr{F}\\left\\{ f \\right\\}$ of the function f and the complex conjugate of the Fourier transform $\\mathscr{F}\\left\\{ g \\right\\}$ of the function $g$."
   ]
  },
  {
   "cell_type": "markdown",
   "metadata": {},
   "source": [
    "<a id='math:eq:7_024'></a><!--\\label{math:eq:7_024}-->$$\n",
    "\\forall f,g:\\,\\mathbb{R} \\rightarrow \\mathbb{C}\\\\\n",
    "\\mathscr{F}\\left\\{f\\star g\\right\\} = \\left(\\mathscr{F}\\left\\{f\\right\\}\\right)^*  \\cdot \\mathscr{F}\\left\\{g\\right\\}\n",
    "$$"
   ]
  },
  {
   "cell_type": "markdown",
   "metadata": {},
   "source": [
    "because (use the convolution theorem [INREF](#math:sec:convolution_theorem)<!--\\ref{math:sec:convolution_theorem}--> and see Fourier transform of complex conjugate functions [EXREF](2_4_the_fourier_transform.ipynb#math:sec:fourier_transforms_of_complex_conjugate_functions)<!--\\ref{math:sec:fourier_transforms_of_complex_conjugate_functions}-->)"
   ]
  },
  {
   "cell_type": "markdown",
   "metadata": {},
   "source": [
    "<a id='math:eq:7_025'></a><!--\\label{math:eq:7_025}-->$$\n",
    "f_-(x) \\underset{\\rm def}{=} f(-x) \\\\\n",
    "\\begin{split}\n",
    "\\mathscr{F}\\left\\{f\\star g\\right\\} \\,&=\\, \\mathscr{F}\\left\\{{f_-}^* \\circ g\\right\\}\\\\\n",
    "&=\\,\\mathscr{F}\\left\\{{f_-}^*\\right\\} \\cdot \\mathscr{F}\\left\\{g\\right\\}\\\\\n",
    "&=\\,\\left(\\mathscr{F}\\left\\{{f}\\right\\}\\right)^* \\cdot \\mathscr{F}\\left\\{g\\right\\}\n",
    "\\end{split}\n",
    "$$"
   ]
  },
  {
   "cell_type": "markdown",
   "metadata": {},
   "source": [
    "### 2.7.9. Auto-correlation theorem (Wiener-Khinchin theorem)<a id='#math:sec:auto_correlation_theorem_wiener_khinchin_theorem'></a>"
   ]
  },
  {
   "cell_type": "markdown",
   "metadata": {},
   "source": [
    "The Fourier transform of the auto-correlation function [EXREF](2_6_cross_correlation_and_auto_correlation.ipynb#math:sec:eulers_formula) <!--\\ref{math:sec:eulers_formula}--> of a function $f$ is the absolute value squared of the Fourier transform $\\mathscr{F}\\left\\{ f \\right\\}$ of the function."
   ]
  },
  {
   "cell_type": "markdown",
   "metadata": {},
   "source": [
    "<a id='math:eq:7_026'></a><!--\\label{math:eq:7_026}-->$$\n",
    "\\forall f:\\,\\mathbb{R} \\rightarrow \\mathbb{C}\\\\\n",
    "\\mathscr{F}\\left\\{f \\star f\\right\\} \\,=\\,\\lvert \\mathscr{F}\\left\\{f\\right\\}\\rvert^2\n",
    "$$"
   ]
  },
  {
   "cell_type": "markdown",
   "metadata": {},
   "source": [
    "because this is just a special case of the cross-correlation theorem"
   ]
  },
  {
   "cell_type": "markdown",
   "metadata": {},
   "source": [
    "<a id='math:eq:7_027'></a><!--\\label{math:eq:7_027}-->$$\n",
    "\\begin{align}\\mathscr{F}\\left\\{f \\star f\\right\\} \\,&=\\,\\left(\\mathscr{F}\\left\\{f\\right\\}\\right)^*\\mathscr{F}\\left\\{f\\right\\}\\\\\n",
    "&=\\,\\lvert \\mathscr{F}\\left\\{f\\right\\}\\rvert^2\n",
    "\\end{align}\\qquad .\n",
    "$$"
   ]
  },
  {
   "cell_type": "markdown",
   "metadata": {},
   "source": [
    "### 2.7.10. Derivative theorem<a id='math:sec:derivative_theorem'></a>"
   ]
  },
  {
   "cell_type": "markdown",
   "metadata": {},
   "source": [
    "The Fourier transform $\\mathscr{F}\\left\\{\\frac{df}{dx}\\right\\}(s)$ of the derivative $\\frac{df}{dx}$ of a function $f(x)$ is the Fourier transform of the function multiplied by a phase factor $\\imath 2\\pi s$. "
   ]
  },
  {
   "cell_type": "markdown",
   "metadata": {},
   "source": [
    "<a id='math:eq:7_028'></a><!--\\label{math:eq:7_028}-->$$\n",
    "\\forall f:\\,\\mathbb{R} \\rightarrow \\mathbb{C}, \\quad x, s \\in \\mathbb{R}\\\\\n",
    "\\mathscr{F}\\left\\{\\frac{df}{dx}\\right\\}(s) \\,=\\, \\imath 2\\pi s \\mathscr{F}\\left\\{f\\right\\}(s)\\qquad ,\n",
    "$$"
   ]
  },
  {
   "cell_type": "markdown",
   "metadata": {},
   "source": [
    "because"
   ]
  },
  {
   "cell_type": "markdown",
   "metadata": {},
   "source": [
    "<a id='math:eq:7_029'></a><!--\\label{math:eq:7_029}-->$$\n",
    "\\begin{split}\n",
    "\\mathscr{F}\\left\\{\\ \\frac{d}{dx}\\mathscr{F}^{-1}\\left\\{\\ \\mathscr{F}\\left\\{\\ f \\right\\} \\right\\} \\right\\}(s) \\,&=\\, \\int_{-\\infty}^{+\\infty} \\frac{d}{dx}\\left[ \\int_{-\\infty}^{+\\infty} \\mathscr{F}\\left\\{f\\right\\}(s) e^{\\imath 2\\pi x s}\\,ds \\right] e^{-\\imath 2\\pi x s}\\,dx\\\\\n",
    "&=\\, \\int_{-\\infty}^{+\\infty} \\left[ \\int_{-\\infty}^{+\\infty} \\imath 2\\pi s\\mathscr{F}\\left\\{f\\right\\}(s) e^{\\imath 2\\pi x s}\\,ds\\, \\right] e^{-\\imath 2\\pi x s}\\,dx\\\\\n",
    "&=\\, \\int_{-\\infty}^{+\\infty} \\left[ \\mathscr{F}^{-1}\\left\\{\\imath 2\\pi s\\mathscr{F}\\left\\{f\\right\\}\\right\\}\\, \\right] e^{-\\imath 2\\pi x s}\\,dx\\\\\n",
    "&=\\, \\int_{-\\infty}^{+\\infty} \\left[ \\left(\\mathscr{F}^{-1}\\left\\{\\imath 2\\pi s\\right\\}\\right) \\circ f\\, \\right] e^{-\\imath 2\\pi x s}\\,dx\\\\\n",
    "&=\\, \\left[\\mathscr{F}\\left\\{\\mathscr{F}^{-1}\\left\\{\\imath 2\\pi s\\right\\}\\right\\} \\cdot \\mathscr{F}\\left\\{f\\right\\}(s)\\right]\\\\\n",
    "&=\\,\\imath 2\\pi s\\,\\mathscr{F}\\left\\{f\\right\\}(s)\n",
    "\\end{split}\\qquad .\n",
    "$$"
   ]
  },
  {
   "cell_type": "markdown",
   "metadata": {},
   "source": [
    "Again, the reverse works as well, without proof here, with a reversed signum."
   ]
  },
  {
   "cell_type": "markdown",
   "metadata": {},
   "source": [
    "<a id='math:eq:7_030'></a><!--\\label{math:eq:7_030}-->$$\n",
    "\\forall F:\\,\\mathbb{R} \\rightarrow \\mathbb{C}, \\quad x, s \\in \\mathbb{R}\\\\\n",
    "\\mathscr{F}^{-1}\\left\\{\\frac{dF}{ds}\\right\\}(x) \\,=\\, -\\imath 2\\pi s \\mathscr{F}^{-1}\\left\\{F\\right\\}(x)\\qquad ,\n",
    "$$"
   ]
  },
  {
   "cell_type": "markdown",
   "metadata": {},
   "source": [
    "***\n",
    "* Next: [2.8 The Discrete Fourier Transform (DFT) and the Fast Fourier Transform (FFT)](2_8_the_discrete_fourier_transform.ipynb)\n",
    "***"
   ]
  }
 ],
 "metadata": {
  "kernelspec": {
   "display_name": "Python 2",
   "language": "python",
   "name": "python2"
  },
  "language_info": {
   "codemirror_mode": {
    "name": "ipython",
    "version": 2
   },
   "file_extension": ".py",
   "mimetype": "text/x-python",
   "name": "python",
   "nbconvert_exporter": "python",
   "pygments_lexer": "ipython2",
   "version": "2.7.6"
  }
 },
 "nbformat": 4,
 "nbformat_minor": 0
}
