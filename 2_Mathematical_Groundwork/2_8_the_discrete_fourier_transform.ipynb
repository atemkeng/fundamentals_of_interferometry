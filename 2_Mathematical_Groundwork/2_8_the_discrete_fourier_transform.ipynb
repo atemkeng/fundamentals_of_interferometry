{
 "cells": [
  {
   "cell_type": "markdown",
   "metadata": {},
   "source": [
    "***\n",
    "\n",
    "* [Outline](../0_Introduction/0_introduction.ipynb)\n",
    "* [Glossary](../0_Introduction/1_glossary.ipynb)\n",
    "* [2. Mathematical Groundwork](2_0_introduction.ipynb)\n",
    "    * Previous: [2.7 Fourier Theorems](2_7_fourier_theorems.ipynb)\n",
    "    * Next: [2.9 Sampling Theory](2_9_sampling_theory.ipynb)\n",
    "\n",
    "***"
   ]
  },
  {
   "cell_type": "markdown",
   "metadata": {},
   "source": [
    "## 2.8. The Discrete Fourier Transform (DFT) and the Fast Fourier Transform (FFT)<a id='math:sec:the_discrete_fourier_transform'></a>\n",
    "Jones notation, or ***Jones calculus***, forms the foundation of the  **calibration**"
   ]
  },
  {
   "cell_type": "markdown",
   "metadata": {},
   "source": [
    "### 7.1.1. Electromagnetic plane waves & polarization\n",
    "Pick a coordinate frame $xyz$, where $z$ points along the direction of propagation. In general, any electric field at point $(x,y,z)$ and time $t$ can be described by a complex 3-vector:"
   ]
  },
  {
   "cell_type": "markdown",
   "metadata": {},
   "source": [
    "$$\\mathbf{e}(x,y,z,t) = \\left[ \\begin{array}{c}e_x\\\\e_y\\\\e_z\\end{array} \\right].$$"
   ]
  },
  {
   "cell_type": "markdown",
   "metadata": {},
   "source": [
    "\n",
    " "
   ]
  },
  {
   "cell_type": "markdown",
   "metadata": {},
   "source": [
    "The images below (courtesy of https://en.wikipedia.org/wiki/Plane_wave) schematically show two very special kinds of ***coherent*** plane waves: perfectly ***linearly*** and ***circularly*** polarized, and both ***monochromatic***. Note that this only shows the complex amplitude of the $e_x$ and $e_y$ components.\n",
    "<TABLE>\n",
    "<TR><TD><img width=20 src=\"figures/7_1_1_planewave_circular.png\"></TD></TR>\n",
    "<TR><TD>circularly polarized plane wave</TD></TR>\n",
    "</TABLE>"
   ]
  },
  {
   "cell_type": "markdown",
   "metadata": {},
   "source": [
    "***\n",
    "* Next: [2.9 Sampling Theory](2_9_sampling_theory.ipynb)\n",
    "***"
   ]
  }
 ],
 "metadata": {
  "kernelspec": {
   "display_name": "Python 2",
   "language": "python",
   "name": "python2"
  },
  "language_info": {
   "codemirror_mode": {
    "name": "ipython",
    "version": 2
   },
   "file_extension": ".py",
   "mimetype": "text/x-python",
   "name": "python",
   "nbconvert_exporter": "python",
   "pygments_lexer": "ipython2",
   "version": "2.7.6"
  }
 },
 "nbformat": 4,
 "nbformat_minor": 0
}
