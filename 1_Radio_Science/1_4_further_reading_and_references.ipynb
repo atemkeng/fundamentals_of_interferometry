{
 "cells": [
  {
   "cell_type": "code",
   "execution_count": null,
   "metadata": {
    "collapsed": false
   },
   "outputs": [],
   "source": [
    "import numpy as np\n",
    "import matplotlib.pyplot as plt\n",
    "%matplotlib inline"
   ]
  },
  {
   "cell_type": "markdown",
   "metadata": {
    "collapsed": true
   },
   "source": [
    "***\n",
    "\n",
    "* [Outline](../0_Introduction/0_introduction.ipynb)\n",
    "* [Glossary](../0_Introduction/1_glossary.ipynb)\n",
    "* [1. Radio Science using Interferometric Arrays](#)  \n",
    "    * Previous: [1.3 What arrays exist, what are they used for, and why so much diversity?](1_3_arrays_diversity_and_uses.ipynb)\n",
    "    * Next: [Chapter 2: Mathematical Groundwork](2_0_introduction.ipynb)\n",
    "\n",
    "***"
   ]
  },
  {
   "cell_type": "markdown",
   "metadata": {},
   "source": [
    "#### 1.4 Further Reading and References <a id='science:sec:refs'></a>"
   ]
  },
  {
   "cell_type": "markdown",
   "metadata": {},
   "source": [
    "The standard reference books for radio interferometry are <cite data-cite='1999ASPC..180.....T'>Synthesis Imaging in Radio Astronomy II</cite> [CITE](http://adsabs.harvard.edu/abs/1999ASPC..180.....T) (colloquially known as 'the white book') and <cite data-cite='2007isra.book.....T'>Interferometry and Synthesis in Radio Astronomy</cite> [CITE](http://adsabs.harvard.edu/abs/2007isra.book.....T).\n",
    "\n",
    "For technical aspects of this chapter, especially emission mechanisms, see *Radiative processes in astrophysics* </cite> [CITE](http://adsabs.harvard.edu/abs/1985rpa..book.....R) and *Tools of Radio Astronomy* </cite> [CITE](http://adsabs.harvard.edu/abs/2012tra..book.....W)."
   ]
  },
  {
   "cell_type": "markdown",
   "metadata": {},
   "source": [
    "***\n",
    "\n",
    "Next: [Chapter 2: Mathematical Groundwork](2_0_introduction.ipynb)"
   ]
  }
 ],
 "metadata": {
  "kernelspec": {
   "display_name": "Python 2",
   "language": "python",
   "name": "python2"
  },
  "language_info": {
   "codemirror_mode": {
    "name": "ipython",
    "version": 2
   },
   "file_extension": ".py",
   "mimetype": "text/x-python",
   "name": "python",
   "nbconvert_exporter": "python",
   "pygments_lexer": "ipython2",
   "version": "2.7.6"
  }
 },
 "nbformat": 4,
 "nbformat_minor": 0
}
