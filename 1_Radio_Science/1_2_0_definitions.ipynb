{
 "cells": [
  {
   "cell_type": "code",
   "execution_count": null,
   "metadata": {
    "collapsed": false
   },
   "outputs": [],
   "source": [
    "import numpy as np\n",
    "import matplotlib.pyplot as plt\n",
    "%matplotlib inline\n",
    "from astropy import units as u\n",
    "import glob,os\n",
    "from IPython.display import Image \n",
    "from scipy.constants import *"
   ]
  },
  {
   "cell_type": "markdown",
   "metadata": {},
   "source": [
    "***\n",
    "\n",
    "* [Outline](../0_Introduction/0_introduction.ipynb)\n",
    "* [Glossary](../0_Introduction/1_glossary.ipynb)\n",
    "* [1. Radio Science using Interferometric Arrays](#)  \n",
    "    * Previous:[1.2An Introduction to Basic Astrophysics](1_2_an_introduction_to_basic_astrophysics.ipynb) \n",
    "    * Next:[1.2.1 Electromagnetic radiation](1_2_1_electromagnetic_radiation.ipynb)\n",
    "\n",
    "***"
   ]
  },
  {
   "cell_type": "markdown",
   "metadata": {},
   "source": [
    "### 1.2.0 : Measurements of Source Properties"
   ]
  },
  {
   "cell_type": "markdown",
   "metadata": {
    "collapsed": true
   },
   "source": [
    "Astronomical observations are all about measuring the radiation from astronomical sources to get an idea about the physical properties of these sources. So we'll first discuss how measurement of radiation from astronomical sources is quantified.\n",
    "\n",
    "The total energy per unit time emitted by a source is it's luminosity, typically denoted as $L$. This has units of Watts per second - or ergs per second if you prefer CGS units. This is the energy added over all the frequnecies at which the source emitts radiation (no astronomical source emitts radiation at a single frequency). This is also known as the 'bolometric luminosity'. More often, however, the luminosity of a source at a frequncy is given. This is the 'spectral luminosity' of the source, denoted as $L_{\\nu}$. The suffix is to remind us that :\n",
    "$$L = \\int L_{\\nu}\\, d\\nu$$. \n",
    "\n",
    "The spectral luminosity gets an extra $Hz^{-1}$ (Hertz) unit, since it is power (energy per unit time) at a given frequency. \n",
    "\n",
    "Typically, astronomers can not measure the luminosity of the source (since only a part of the total energy is intercepted by any telescope), but infer it. The amount of power which we receive at the telescope can be characterized by flux, which can be written (naively) as : $$ F_{\\nu} = \\frac{L_{\\nu}}{4\\pi \\, D^{2}}$$,\n",
    "where $D$ is the distance to the source. This is basically a reflection of the inverse-square law and results in the 'dimming' of the source with increasing distances. Flux has units of $W m^{-2} Hz^{-1}$. Radio astronomers prefer to measure flux (also called flux density) in units of Jansky, denoted by the symbol 'Jy', with $$1 \\, Jy\\, =\\, 10^{-26}\\, W\\, m^{-2}\\, Hz^{-1} $$ ! This is due to radio signals from extragalactic sources being rather weak. \n",
    "\n",
    "A more useful quantity is the specific intensity, which is the flux per unit solid angle. Since this involves the solid angle in the definition itself, specific intensity has a remarkable property -  it does not change with distance (as long as the radiation is passing through vaccume). Specific intensity is also known as the brightness, spectral radiance, spectral intensity etc. The units of spectral intensity are $ W m^{-2} Hz^{-1} sr^{-1}$ or more usually in radio astronomy, $Jy sr^{-1}$ and it is denoted generally as $I_{\\nu}$.\n",
    "\n",
    "Specific intensity is the quantity which is *estimated* by radio interferometric images of radio sources. How exactly that is done is dicussed in Chapter XX. Here we can emphasize the fact that the units of $Jy/beam$ are used in radio images; this is equivalent to the units of specific intensity.\n"
   ]
  },
  {
   "cell_type": "markdown",
   "metadata": {
    "collapsed": true
   },
   "source": [
    "***\n",
    "\n",
    "Next: [1.2.1 Electromagnetic radiation](1_2_1_electromagnetic_radiation.ipynb)"
   ]
  }
 ],
 "metadata": {
  "kernelspec": {
   "display_name": "Python 2",
   "language": "python",
   "name": "python2"
  },
  "language_info": {
   "codemirror_mode": {
    "name": "ipython",
    "version": 2
   },
   "file_extension": ".py",
   "mimetype": "text/x-python",
   "name": "python",
   "nbconvert_exporter": "python",
   "pygments_lexer": "ipython2",
   "version": "2.7.6"
  }
 },
 "nbformat": 4,
 "nbformat_minor": 0
}
