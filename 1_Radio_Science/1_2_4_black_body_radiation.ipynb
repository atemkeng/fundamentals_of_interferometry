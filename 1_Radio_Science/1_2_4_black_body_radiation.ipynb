{
 "cells": [
  {
   "cell_type": "code",
   "execution_count": null,
   "metadata": {
    "collapsed": false
   },
   "outputs": [],
   "source": [
    "import numpy as np\n",
    "import matplotlib.pyplot as plt\n",
    "%matplotlib inline\n",
    "from IPython.display import Image \n",
    "from scipy.constants import *\n",
    "import glob,os\n"
   ]
  },
  {
   "cell_type": "markdown",
   "metadata": {},
   "source": [
    "***\n",
    "\n",
    "* [Outline](../0_Introduction/0_introduction.ipynb)\n",
    "* [Glossary](../0_Introduction/1_glossary.ipynb)\n",
    "* [1. Radio Science using Interferometric Arrays](#)  \n",
    "    * Previous: [1.2.3 Radio Regime](1_2_3_Radio_Regime.ipynb)\n",
    "    * Next: [1.2.5 Bremsstrahlung Radiation](1_2_5_bremsstrahlung_radiation.ipynb)\n",
    "\n",
    "***"
   ]
  },
  {
   "cell_type": "markdown",
   "metadata": {},
   "source": [
    "### 1.1.0 Thermal Emission:"
   ]
  },
  {
   "cell_type": "markdown",
   "metadata": {},
   "source": [
    "There are two main types of emission mechanism seen in astronomy, thermal and non-thermal. As the names suggest, the thermal emission depends on the *temperature* of the black body - non-thermal emission not. In the next few sections, we'll have an overview of the emission mechanisms and some examples of each in radio astronomy.\n",
    "\n",
    "We'll begin the overview with an example of one of the mechanisms of thermal emission, blackbody emission. "
   ]
  },
  {
   "cell_type": "markdown",
   "metadata": {},
   "source": [
    "### 1.1.1 Blackbody Emission:"
   ]
  },
  {
   "cell_type": "markdown",
   "metadata": {},
   "source": [
    "Blackbody emission or thermal emission is an important form of radiation in astronomy. This is in the cases when Thermodynamic Equilibrium exists between radiation and matter - where radiation and matter interact enough to produce the following distribution for the specific intensity to be:"
   ]
  },
  {
   "cell_type": "markdown",
   "metadata": {
    "collapsed": false
   },
   "source": [
    "\\begin{equation}\n",
    "B_{\\nu}(T)=\\frac{2h\\nu^{3}}{c^{2}} \\frac{1}{e^{\\frac{h\\nu}{kT}}-1}\n",
    "\\end{equation}\n",
    "\n",
    "also known as the Planck Spectrum."
   ]
  },
  {
   "cell_type": "markdown",
   "metadata": {},
   "source": [
    "From the equation above, it can be inferred that in a given frequncy interval, the brightness depends only on the *Temperature* of the body. Also, one can see that a body at a higher temperature will produce higher brightness *at all frequencies* - which means that a body at a higher temperature has higher energy output via thermal emission than that of a body at a lower temperature. Yet another consequence is that the frequency at which maximum brightness is produced is directly proportional to the temperature - this is known as Wien's displacement law:"
   ]
  },
  {
   "cell_type": "markdown",
   "metadata": {},
   "source": [
    "$$\\nu_{max} = 58.789  T $$ , where frequency is in GHz and temperature is in Kelvin."
   ]
  },
  {
   "cell_type": "markdown",
   "metadata": {},
   "source": [
    "At high frequencies so that $h\\nu >> kT$\n",
    " , this will reduce to Wien's approximation :"
   ]
  },
  {
   "cell_type": "markdown",
   "metadata": {
    "collapsed": true
   },
   "source": [
    "$$B_{\\nu}(T)= \\frac{2h\\nu^{3}}{c^{2}} e^{\\frac{-h\\nu}{kT}}$$ "
   ]
  },
  {
   "cell_type": "markdown",
   "metadata": {},
   "source": [
    "But in radio astronomy, a more typical situation is when the frequency of the radiation is so low that:  $h\\nu << kT$. In such a case, the Planck formula may be reduced to what is called the Rayleigh-Jeans approximation:"
   ]
  },
  {
   "cell_type": "markdown",
   "metadata": {},
   "source": [
    "$$B_{\\nu}(T)= \\frac{2\\nu^{2}}{c^{2}} kT $$"
   ]
  },
  {
   "cell_type": "code",
   "execution_count": null,
   "metadata": {
    "collapsed": false
   },
   "outputs": [],
   "source": [
    "def B_v(T):\n",
    "    '''Function to calculate specific intensity/brightness distribution of black\n",
    "    body radiation at a given temperature. T is in Kelvins and frequency \n",
    "    is in Hertz'''\n",
    "    #Use Wien's displacement law to find the frequency range for given Temperature.\n",
    "    # nu_max(in GHz) = 58.789*T(in Kelvin)\n",
    "    nu_max=58.79*T\n",
    "    freq=np.arange(1,2000,1)\n",
    "    freq=freq*nu_max/500.0\n",
    "    B = (2*h/c**2.0)*np.exp(-h*freq*10**9/(k*T))*(freq*10**9)**3\n",
    "    #Change units for plotting to Jansky\n",
    "    # 1 Jansky = 10^-26 W/m^2 Hz\n",
    "    B = B*10**26\n",
    "    return B\n",
    "        "
   ]
  },
  {
   "cell_type": "code",
   "execution_count": null,
   "metadata": {
    "collapsed": false
   },
   "outputs": [],
   "source": [
    "T = 2.275 #In Kelvin\n",
    "freq = np.arange(1,2000,1)\n",
    "freq = freq*58.79*T/500.0\n",
    "B_CMB = B_v(T)\n",
    "fig,ax = plt.subplots()\n",
    "ax.plot(freq,B_CMB)\n",
    "ax.set_xlabel(\"Frequency (GHz)\")\n",
    "ax.set_ylabel(\"Specific Intensity ($Jy/sr$)\")\n",
    "ax.set_title(\"Blackbody Spectral Distribution\")"
   ]
  },
  {
   "cell_type": "markdown",
   "metadata": {},
   "source": [
    "The above distribution is for a temperature of 2.725 K, approximately the same as that of the Cosmic Microwave Background. If 'T' in the above script is changed to $~ 5700$ (K), we would get the plot for the emission from the Sun. "
   ]
  },
  {
   "cell_type": "code",
   "execution_count": null,
   "metadata": {
    "collapsed": false
   },
   "outputs": [],
   "source": [
    "T = 4 #in Kelvin\n",
    "freq = np.arange(1,2000,1)\n",
    "freq = freq*58.79*T/500.0\n",
    "B_2 = B_v(T)\n",
    "B_3 = B_v(5)\n",
    "fig,ax = plt.subplots()\n",
    "ax.plot(freq,B_CMB)\n",
    "ax.plot(freq,B_2)\n",
    "ax.plot(freq,B_3)\n",
    "ax.set_xlabel(\"Frequency (GHz)\")\n",
    "ax.set_ylabel(\"Specific Intensity ($Jy/sr$)\")\n",
    "ax.set_title(\"Blackbody Spectral Distribution\")"
   ]
  },
  {
   "cell_type": "markdown",
   "metadata": {
    "collapsed": true
   },
   "source": [
    "As mentioned above, the brightness of the black body radiation depends only on the temperature of the body. This can be used to define a 'brightness temperature' for an object. Simply put, the brightness temperature for an object is given by : $$T_{b} = I_{\\nu} \\frac{c^{2}}{2k\\nu^{2}}$$. It should be noted here that the actual specific intensity of an object is used here, *even when it does not represent black body emission* - the brightness temperature is simply the temperature which the object would have if the specific intensity or brightness was from black body emission. This allows characterization of any object in terms of a single parameter.   "
   ]
  },
  {
   "cell_type": "markdown",
   "metadata": {
    "collapsed": true
   },
   "source": [
    "***\n",
    "\n",
    "Next: [1.2.5 Bremsstrahlung Radiation](1_2_5_bremsstrahlung_radiation.ipynb)\n"
   ]
  },
  {
   "cell_type": "code",
   "execution_count": null,
   "metadata": {
    "collapsed": true
   },
   "outputs": [],
   "source": []
  }
 ],
 "metadata": {
  "kernelspec": {
   "display_name": "Python 2",
   "language": "python",
   "name": "python2"
  },
  "language_info": {
   "codemirror_mode": {
    "name": "ipython",
    "version": 2
   },
   "file_extension": ".py",
   "mimetype": "text/x-python",
   "name": "python",
   "nbconvert_exporter": "python",
   "pygments_lexer": "ipython2",
   "version": "2.7.6"
  }
 },
 "nbformat": 4,
 "nbformat_minor": 0
}
